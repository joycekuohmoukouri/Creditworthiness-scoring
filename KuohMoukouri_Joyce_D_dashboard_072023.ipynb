{
  "nbformat": 4,
  "nbformat_minor": 0,
  "metadata": {
    "colab": {
      "provenance": [],
      "collapsed_sections": [
        "S5XyKS8ldMnZ",
        "_00SEAoIfAzq"
      ],
      "authorship_tag": "ABX9TyOwL1qKS0xryKicke8GbkuK",
      "include_colab_link": true
    },
    "kernelspec": {
      "name": "python3",
      "display_name": "Python 3"
    },
    "language_info": {
      "name": "python"
    }
  },
  "cells": [
    {
      "cell_type": "markdown",
      "metadata": {
        "id": "view-in-github",
        "colab_type": "text"
      },
      "source": [
        "<a href=\"https://colab.research.google.com/github/joycekuohmoukouri/creditworthiness-scoring/blob/main/KuohMoukouri_Joyce_D_dashboard_072023.ipynb\" target=\"_parent\"><img src=\"https://colab.research.google.com/assets/colab-badge.svg\" alt=\"Open In Colab\"/></a>"
      ]
    },
    {
      "cell_type": "markdown",
      "source": [
        "# Projet 7 : Implémentez un modèle de scoring\n",
        "\n",
        "## NB D : Dashboard\n",
        "\n",
        "- <a href=\"#C1\"> 1. Importation des données</a>\n",
        "\n",
        "- <a href=\"#C2\"> 2. Préparation du dataset </a>\n",
        "\n",
        "- <a href=\"#C3\"> 3. Intégration du modèle </a>\n",
        "\n",
        "- <a href=\"#C4\"> 4. Dashboard </a>\n",
        "  -  <a href=\"#C41\"> 4.1 Dashboard layout <a>\n",
        "  -  <a href=\"#C42\"> 4.2 Visualisation <a>\n",
        "  -  <a href=\"#C43\"> 4.3 Intéractivité <a>\n",
        "  -  <a href=\"#C44\"> 4.4 Outils d'interprétation <a>\n"
      ],
      "metadata": {
        "id": "S5XyKS8ldMnZ"
      }
    },
    {
      "cell_type": "code",
      "execution_count": 18,
      "metadata": {
        "id": "JJERlKYy-jOh",
        "colab": {
          "base_uri": "https://localhost:8080/"
        },
        "outputId": "30afe38e-e06b-4f92-e2a2-8a578275f4e3"
      },
      "outputs": [
        {
          "output_type": "stream",
          "name": "stdout",
          "text": [
            "Requirement already satisfied: flask in /usr/local/lib/python3.10/dist-packages (2.2.5)\n",
            "Requirement already satisfied: Werkzeug>=2.2.2 in /usr/local/lib/python3.10/dist-packages (from flask) (2.2.3)\n",
            "Requirement already satisfied: Jinja2>=3.0 in /usr/local/lib/python3.10/dist-packages (from flask) (3.1.2)\n",
            "Requirement already satisfied: itsdangerous>=2.0 in /usr/local/lib/python3.10/dist-packages (from flask) (2.1.2)\n",
            "Requirement already satisfied: click>=8.0 in /usr/local/lib/python3.10/dist-packages (from flask) (8.1.6)\n",
            "Requirement already satisfied: MarkupSafe>=2.0 in /usr/local/lib/python3.10/dist-packages (from Jinja2>=3.0->flask) (2.1.3)\n"
          ]
        }
      ],
      "source": [
        "import pandas as pd\n",
        "import numpy as np\n",
        "import scipy.stats as stats\n",
        "import matplotlib.pyplot as plt\n",
        "import re\n",
        "import seaborn as sns\n",
        "import missingno as msno\n",
        "import clean #mon module de fontions qui me permettent de nettoyer un dataframe\n",
        "import plot_\n",
        "import joblib\n",
        "import os\n",
        "import MyModule_p7\n",
        "import requests\n",
        "\n",
        "#-------------------------Filter warnings-------------------------\n",
        "import warnings\n",
        "warnings.filterwarnings('ignore')\n",
        "! pip install dash --quiet\n",
        "! pip install category_encoders --quiet\n",
        "! pip install shap --quiet\n",
        "! pip install flask\n",
        "\n",
        "#---------------------------- Dash ------------------------------\n",
        "import dash\n",
        "import dash_core_components as dcc\n",
        "import dash_html_components as html\n",
        "from dash.dependencies import Input, Output\n",
        "import plotly.express as px\n",
        "import shap"
      ]
    },
    {
      "cell_type": "code",
      "source": [
        "!pip freeze > requirements.txt"
      ],
      "metadata": {
        "id": "5AtEiqLJN55a"
      },
      "execution_count": 2,
      "outputs": []
    },
    {
      "cell_type": "markdown",
      "source": [
        "# <a name=\"C1\"> 1. Chargement du preproccesing et du modèle de classification </a>"
      ],
      "metadata": {
        "id": "_00SEAoIfAzq"
      }
    },
    {
      "cell_type": "code",
      "source": [
        "from flask import Flask, request, jsonify\n",
        "df_train_org = pd.read_csv('df_train_set_1.csv',\n",
        "                 usecols=['SECTEUR_ACTIVITE'])\n",
        "\n",
        "freq_by_org_type = df_train_org['SECTEUR_ACTIVITE'].value_counts(normalize=True).to_dict()\n",
        "\n",
        "def frequency_encode(x):\n",
        "    return x.replace(freq_by_org_type)\n"
      ],
      "metadata": {
        "id": "rsuombmmBZIS"
      },
      "execution_count": 3,
      "outputs": []
    },
    {
      "cell_type": "code",
      "source": [
        "loaded_preprocess = MyModule_p7.preprocess_model()"
      ],
      "metadata": {
        "id": "CMObPE32MQwI"
      },
      "execution_count": 4,
      "outputs": []
    },
    {
      "cell_type": "code",
      "source": [
        "classification_model = joblib.load('LightGBM_bestmodel.pkl')"
      ],
      "metadata": {
        "id": "RXtiaLHhBp2I"
      },
      "execution_count": 5,
      "outputs": []
    },
    {
      "cell_type": "markdown",
      "source": [
        "# <a name=\"C2\"> 2. Création des fonctions pour l'API </a>"
      ],
      "metadata": {
        "id": "CECbtpaEhrUb"
      }
    },
    {
      "cell_type": "code",
      "source": [
        "def feat_local(df_client_pp):\n",
        "  # J'instancie le Shap explainer -----------------------------------\n",
        "  explainer = shap.Explainer(classification_model)\n",
        "\n",
        "  # Calculate SHAP values for the client's prediction\n",
        "  shap_values = explainer.shap_values(df_client_pp)\n",
        "  ##-------- df_pp\n",
        "  prefixes_to_remove = ['oneHot__', 'remainder__', 'frequency__']\n",
        "  new_column_names = [col.replace(prefix, '') for col in df_client_pp.columns for prefix in prefixes_to_remove if col.startswith(prefix)]\n",
        "  df_client_pp.columns = new_column_names\n",
        "  return shap_values, df_client_pp\n",
        "\n",
        "def prediction_credit():\n",
        "    client_id = str(input(\"Entrer id_clients\"))\n",
        "    print(client_id)\n",
        "    client_data = MyModule_p7.get_client_data(client_id)\n",
        "    df_client_pp = loaded_preprocess.transform(client_data)\n",
        "    prediction = classification_model.predict(df_client_pp)\n",
        "    proba = classification_model.predict_proba(df_client_pp)\n",
        "    score = int(round((1-proba[0][1])*100))\n",
        "    SV, df_client_pp = feat_local(df_client_pp)\n",
        "    return client_id, {'prediction': [prediction, proba]}, score, df_client_pp, SV\n"
      ],
      "metadata": {
        "id": "FZIMoYPPhjQJ"
      },
      "execution_count": 15,
      "outputs": []
    },
    {
      "cell_type": "code",
      "source": [
        "#test\n",
        "prediction_credit()"
      ],
      "metadata": {
        "id": "LhZUTg1AiQlm",
        "colab": {
          "base_uri": "https://localhost:8080/"
        },
        "outputId": "eb3a8fa8-f1c2-4d32-df8a-20661a66aeb1"
      },
      "execution_count": 19,
      "outputs": [
        {
          "output_type": "stream",
          "name": "stdout",
          "text": [
            "Entrer id_clients100005\n",
            "100005\n"
          ]
        },
        {
          "output_type": "execute_result",
          "data": {
            "text/plain": [
              "('100005',\n",
              " {'prediction': [array(['1'], dtype=object),\n",
              "   array([[0.49057614, 0.50942386]])]},\n",
              " 49,\n",
              "    PROPRIETAIRE_N  PROPRIETAIRE_Y  NIVEAU_ETUDE_ENS_SUP  NIVEAU_ETUDE_BAC  \\\n",
              " 1               0               1                     0                 1   \n",
              " \n",
              "    NIVEAU_ETUDE_COLLEGE  NBRE_J_RETARD  OCCUPATION_Working  \\\n",
              " 1                     0       0.111111                   1   \n",
              " \n",
              "    OCCUPATION_State servant  OCCUPATION_Commercial associate  \\\n",
              " 1                         0                                0   \n",
              " \n",
              "    OCCUPATION_Pensioner  ...  AGE  ANCIENNETE_EMPLOI  SCORE_REGION  HEURE_APP  \\\n",
              " 1                     0  ...   50                 12             2          9   \n",
              " \n",
              "    SCORE_2_EXT  RATIO_ENDETT(%)  NBRE_CONTRAT_ACTIFS  POS_PROGRESS_MAX_MIN  \\\n",
              " 1     0.291656             17.5                  2.0                 100.0   \n",
              " \n",
              "    CC_NOMBRE_RETRAIT_MOYEN  CB_SOMME_DUES_RETARD  \n",
              " 1                      0.0                   0.0  \n",
              " \n",
              " [1 rows x 31 columns],\n",
              " [array([[-0.40074433,  0.6096126 , -0.14866821,  0.20243106, -0.01396045,\n",
              "           0.00893876,  0.3875775 , -0.06381929, -0.11450732, -0.17979048,\n",
              "           0.        ,  0.        ,  0.        ,  0.        ,  0.18042154,\n",
              "          -0.01813047, -0.42936523,  0.04862335,  0.01990511,  0.08233411,\n",
              "           0.0690787 ,  0.052571  ,  0.27043084,  0.01502905,  0.03580288,\n",
              "          -0.43823714, -0.03206751,  0.28382525, -0.00707272,  0.01946725,\n",
              "           0.00470363]]),\n",
              "  array([[ 0.40074433, -0.6096126 ,  0.14866821, -0.20243106,  0.01396045,\n",
              "          -0.00893876, -0.3875775 ,  0.06381929,  0.11450732,  0.17979048,\n",
              "           0.        ,  0.        ,  0.        ,  0.        , -0.18042154,\n",
              "           0.01813047,  0.42936523, -0.04862335, -0.01990511, -0.08233411,\n",
              "          -0.0690787 , -0.052571  , -0.27043084, -0.01502905, -0.03580288,\n",
              "           0.43823714,  0.03206751, -0.28382525,  0.00707272, -0.01946725,\n",
              "          -0.00470363]])])"
            ]
          },
          "metadata": {},
          "execution_count": 19
        }
      ]
    },
    {
      "cell_type": "markdown",
      "source": [
        "# <a name=\"C3\"> 3. Création de l'API </a>"
      ],
      "metadata": {
        "id": "21V3wKKqY9Hk"
      }
    },
    {
      "cell_type": "code",
      "source": [
        "app = Flask(__name__)\n",
        "\n",
        "@app.route('/predict', methods=['POST'])\n",
        "def predict():\n",
        "    # Receive client ID from the request\n",
        "    data = request.get_json()\n",
        "    client_id = data.get('client_id')\n",
        "\n",
        "    client_data = MyModule_p7.get_client_data(client_id)\n",
        "    df_client_pp = loaded_preprocess.transform(client_data)\n",
        "\n",
        "    # Get prediction, score, SHAP values, etc.\n",
        "    result = prediction_credit(df_client_pp)\n",
        "\n",
        "    # Return the results as a JSON response\n",
        "    return jsonify({\n",
        "        'client_id': result[0],\n",
        "        'prediction': result[1][0],\n",
        "        'proba': result[1][1],\n",
        "        'score': result[2],\n",
        "        'df_client_pp': result[3].to_dict(),  # Convert DataFrame to dictionary\n",
        "        'shap_values': result[4].tolist()  # Convert SHAP values to list\n",
        "    })\n",
        "\n",
        "\n",
        "if __name__ == '__main__':\n",
        "    app.run(host='0.0.0.0', port=5000)\n"
      ],
      "metadata": {
        "colab": {
          "base_uri": "https://localhost:8080/"
        },
        "id": "Y-DuNKX3ZlMJ",
        "outputId": "b4f89801-9790-41ca-8f79-47584515010e"
      },
      "execution_count": 20,
      "outputs": [
        {
          "output_type": "stream",
          "name": "stdout",
          "text": [
            " * Serving Flask app '__main__'\n",
            " * Debug mode: off\n"
          ]
        },
        {
          "output_type": "stream",
          "name": "stderr",
          "text": [
            "INFO:werkzeug:\u001b[31m\u001b[1mWARNING: This is a development server. Do not use it in a production deployment. Use a production WSGI server instead.\u001b[0m\n",
            " * Running on all addresses (0.0.0.0)\n",
            " * Running on http://127.0.0.1:5000\n",
            " * Running on http://172.28.0.12:5000\n",
            "INFO:werkzeug:\u001b[33mPress CTRL+C to quit\u001b[0m\n"
          ]
        }
      ]
    }
  ]
}