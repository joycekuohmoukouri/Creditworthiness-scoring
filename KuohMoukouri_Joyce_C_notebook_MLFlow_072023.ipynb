{
  "cells": [
    {
      "cell_type": "markdown",
      "metadata": {
        "id": "0ARWyPSdW7qO"
      },
      "source": [
        "# Projet 7 : Implémentez un modèle de scoring\n",
        "\n",
        "## NB C : Essais de classification binaire et tracking via MLFlow\n",
        "\n",
        "\n",
        "\n",
        "- <a href=\"#C1\"> 1. Importation des données</a>\n",
        "\n",
        "- <a href=\"#C2\"> 2. Pre-processing </a>\n",
        "\n",
        "- <a href=\"#C3\"> 3. Entraînement du modèle et score métier </a>\n",
        "\n",
        "- <a href=\"#C4\"> 4. Score sur le jeu test </a>\n",
        "  -  <a href=\"#C41\"> 4.1 Matrice de confusion et rapport de classification <a>\n",
        "  -  <a href=\"#C42\"> 4.2 Courbe ROC <a>\n",
        "\n",
        "- <a href=\"#C5\"> 5. Feature importance </a>\n",
        "\n",
        "- <a href=\"#C6\"> 6. Téléchargement des expériences MLFlow </a>\n",
        "\n"
      ]
    },
    {
      "cell_type": "code",
      "execution_count": 11,
      "metadata": {
        "id": "WwqB0Ay7PLV5"
      },
      "outputs": [],
      "source": [
        "import pandas as pd\n",
        "import numpy as np\n",
        "import scipy.stats as stats\n",
        "import matplotlib.pyplot as plt\n",
        "import re\n",
        "import seaborn as sns\n",
        "import missingno as msno\n",
        "import clean #mon module de fontions qui me permettent de nettoyer un dataframe\n",
        "import plot_\n",
        "import joblib\n",
        "import os\n",
        "\n",
        "# Filter warnings\n",
        "import warnings\n",
        "warnings.filterwarnings('ignore')\n",
        "\n",
        "!pip install category_encoders --quiet\n",
        "!pip install mlflow==2.5.0 --quiet\n",
        "!pip install imbalanced-learn --quiet\n",
        "!pip install lightgbm --quiet\n",
        "!pip install shap --quiet\n",
        "!pip install xgboost --quiet"
      ]
    },
    {
      "cell_type": "code",
      "execution_count": 12,
      "metadata": {
        "id": "sUVRulJDEnhT"
      },
      "outputs": [],
      "source": [
        "from imblearn.over_sampling import SMOTE\n",
        "import sklearn\n",
        "from sklearn import model_selection\n",
        "from sklearn import metrics\n",
        "from sklearn import preprocessing\n",
        "from sklearn import linear_model\n",
        "from sklearn.pipeline import Pipeline\n",
        "from sklearn.preprocessing import MinMaxScaler, OrdinalEncoder, RobustScaler,  StandardScaler, FunctionTransformer\n",
        "from sklearn.preprocessing import StandardScaler\n",
        "from sklearn.compose import ColumnTransformer, TransformedTargetRegressor\n",
        "from sklearn import set_config\n",
        "from category_encoders import *\n",
        "set_config(display=\"diagram\")\n",
        "from sklearn.linear_model import LogisticRegression\n",
        "from sklearn.tree import DecisionTreeClassifier\n",
        "from sklearn.ensemble import RandomForestClassifier, GradientBoostingClassifier, AdaBoostClassifier, ExtraTreesClassifier\n",
        "from sklearn.svm import SVC\n",
        "from sklearn.neighbors import KNeighborsClassifier\n",
        "from sklearn.naive_bayes import GaussianNB\n",
        "from sklearn.discriminant_analysis import LinearDiscriminantAnalysis\n",
        "from sklearn.dummy import DummyClassifier\n",
        "from lightgbm import LGBMClassifier\n",
        "from xgboost import XGBClassifier\n",
        "import lightgbm as lgb"
      ]
    },
    {
      "cell_type": "code",
      "source": [
        "!pip show scikit-learn"
      ],
      "metadata": {
        "colab": {
          "base_uri": "https://localhost:8080/"
        },
        "id": "gj2JrdFY5F8o",
        "outputId": "36c42622-e885-497b-828f-9d7d1365e7e0"
      },
      "execution_count": 13,
      "outputs": [
        {
          "output_type": "stream",
          "name": "stdout",
          "text": [
            "Name: scikit-learn\n",
            "Version: 1.2.2\n",
            "Summary: A set of python modules for machine learning and data mining\n",
            "Home-page: http://scikit-learn.org\n",
            "Author: \n",
            "Author-email: \n",
            "License: new BSD\n",
            "Location: /usr/local/lib/python3.10/dist-packages\n",
            "Requires: joblib, numpy, scipy, threadpoolctl\n",
            "Required-by: category-encoders, fastai, imbalanced-learn, librosa, mlflow, mlxtend, qudida, shap, sklearn-pandas, yellowbrick\n"
          ]
        }
      ]
    },
    {
      "cell_type": "markdown",
      "metadata": {
        "id": "6BsOmVS7EoCh"
      },
      "source": [
        "# <a name=\"C1\"> 1. Importation des données</a>"
      ]
    },
    {
      "cell_type": "code",
      "execution_count": 14,
      "metadata": {
        "colab": {
          "base_uri": "https://localhost:8080/",
          "height": 241
        },
        "id": "Rnhvl3aSEmIo",
        "outputId": "35706074-1d34-486a-9b70-4eb6e37fb95a"
      },
      "outputs": [
        {
          "output_type": "execute_result",
          "data": {
            "text/plain": [
              "  PROPRIETAIRE  NBRE_ENFANT  REVENUS_TOT     OCCUPATION NIVEAU_ETUDE  AGE  \\\n",
              "0            Y            0     202500.0        Working          BAC   26   \n",
              "1            N            0     270000.0  State servant      ENS_SUP   47   \n",
              "2            Y            0      67500.0        Working          BAC   53   \n",
              "3            Y            0     135000.0        Working          BAC   53   \n",
              "4            Y            0     121500.0        Working          BAC   55   \n",
              "\n",
              "   ANCIENNETE_EMPLOI  SCORE_REGION  HEURE_APP                SECTEUR_ACTIVITE  \\\n",
              "0                  2             2         10                 Business Entity   \n",
              "1                  3             1         11                       Education   \n",
              "2                  1             2          9  Government and Public Services   \n",
              "3                  8             2         17                 Business Entity   \n",
              "4                  8             2         11                Other Categories   \n",
              "\n",
              "   SCORE_2_EXT  CC_NOMBRE_RETRAIT_MOYEN  POS_PROGRESS_MAX_MIN  \\\n",
              "0     0.262949                      0.0             75.000000   \n",
              "1     0.622246                      0.0             91.666667   \n",
              "2     0.555912                      0.0            100.000000   \n",
              "3     0.650442                      0.0             75.000000   \n",
              "4     0.322738                      0.0             45.833333   \n",
              "\n",
              "   CB_SOMME_DUES_RETARD  RATIO_CREDIT_REVENU  CC_RATIO_CREDIT  \\\n",
              "0                   0.0                 2.01              0.0   \n",
              "1                   0.0                 4.79              0.0   \n",
              "2                   0.0                 2.00              0.0   \n",
              "3                   0.0                 2.32              0.0   \n",
              "4                   0.0                 4.22              0.0   \n",
              "\n",
              "   NBRE_CONTRAT_ACTIFS  NBRE_J_RETARD  CHARGES_ANNUEL  ANCIENNETE_CREDIT  \n",
              "0                  3.0            0.0         24700.5               47.0  \n",
              "1                  1.0            0.0         35698.5               77.0  \n",
              "2                  0.0            0.0          6750.0               27.0  \n",
              "3                  2.0            0.0         29686.5               19.0  \n",
              "4                  2.0            1.0         21865.5               77.0  "
            ],
            "text/html": [
              "\n",
              "  <div id=\"df-35d25128-2a67-4ad9-8011-3f6e0494247c\" class=\"colab-df-container\">\n",
              "    <div>\n",
              "<style scoped>\n",
              "    .dataframe tbody tr th:only-of-type {\n",
              "        vertical-align: middle;\n",
              "    }\n",
              "\n",
              "    .dataframe tbody tr th {\n",
              "        vertical-align: top;\n",
              "    }\n",
              "\n",
              "    .dataframe thead th {\n",
              "        text-align: right;\n",
              "    }\n",
              "</style>\n",
              "<table border=\"1\" class=\"dataframe\">\n",
              "  <thead>\n",
              "    <tr style=\"text-align: right;\">\n",
              "      <th></th>\n",
              "      <th>PROPRIETAIRE</th>\n",
              "      <th>NBRE_ENFANT</th>\n",
              "      <th>REVENUS_TOT</th>\n",
              "      <th>OCCUPATION</th>\n",
              "      <th>NIVEAU_ETUDE</th>\n",
              "      <th>AGE</th>\n",
              "      <th>ANCIENNETE_EMPLOI</th>\n",
              "      <th>SCORE_REGION</th>\n",
              "      <th>HEURE_APP</th>\n",
              "      <th>SECTEUR_ACTIVITE</th>\n",
              "      <th>SCORE_2_EXT</th>\n",
              "      <th>CC_NOMBRE_RETRAIT_MOYEN</th>\n",
              "      <th>POS_PROGRESS_MAX_MIN</th>\n",
              "      <th>CB_SOMME_DUES_RETARD</th>\n",
              "      <th>RATIO_CREDIT_REVENU</th>\n",
              "      <th>CC_RATIO_CREDIT</th>\n",
              "      <th>NBRE_CONTRAT_ACTIFS</th>\n",
              "      <th>NBRE_J_RETARD</th>\n",
              "      <th>CHARGES_ANNUEL</th>\n",
              "      <th>ANCIENNETE_CREDIT</th>\n",
              "    </tr>\n",
              "  </thead>\n",
              "  <tbody>\n",
              "    <tr>\n",
              "      <th>0</th>\n",
              "      <td>Y</td>\n",
              "      <td>0</td>\n",
              "      <td>202500.0</td>\n",
              "      <td>Working</td>\n",
              "      <td>BAC</td>\n",
              "      <td>26</td>\n",
              "      <td>2</td>\n",
              "      <td>2</td>\n",
              "      <td>10</td>\n",
              "      <td>Business Entity</td>\n",
              "      <td>0.262949</td>\n",
              "      <td>0.0</td>\n",
              "      <td>75.000000</td>\n",
              "      <td>0.0</td>\n",
              "      <td>2.01</td>\n",
              "      <td>0.0</td>\n",
              "      <td>3.0</td>\n",
              "      <td>0.0</td>\n",
              "      <td>24700.5</td>\n",
              "      <td>47.0</td>\n",
              "    </tr>\n",
              "    <tr>\n",
              "      <th>1</th>\n",
              "      <td>N</td>\n",
              "      <td>0</td>\n",
              "      <td>270000.0</td>\n",
              "      <td>State servant</td>\n",
              "      <td>ENS_SUP</td>\n",
              "      <td>47</td>\n",
              "      <td>3</td>\n",
              "      <td>1</td>\n",
              "      <td>11</td>\n",
              "      <td>Education</td>\n",
              "      <td>0.622246</td>\n",
              "      <td>0.0</td>\n",
              "      <td>91.666667</td>\n",
              "      <td>0.0</td>\n",
              "      <td>4.79</td>\n",
              "      <td>0.0</td>\n",
              "      <td>1.0</td>\n",
              "      <td>0.0</td>\n",
              "      <td>35698.5</td>\n",
              "      <td>77.0</td>\n",
              "    </tr>\n",
              "    <tr>\n",
              "      <th>2</th>\n",
              "      <td>Y</td>\n",
              "      <td>0</td>\n",
              "      <td>67500.0</td>\n",
              "      <td>Working</td>\n",
              "      <td>BAC</td>\n",
              "      <td>53</td>\n",
              "      <td>1</td>\n",
              "      <td>2</td>\n",
              "      <td>9</td>\n",
              "      <td>Government and Public Services</td>\n",
              "      <td>0.555912</td>\n",
              "      <td>0.0</td>\n",
              "      <td>100.000000</td>\n",
              "      <td>0.0</td>\n",
              "      <td>2.00</td>\n",
              "      <td>0.0</td>\n",
              "      <td>0.0</td>\n",
              "      <td>0.0</td>\n",
              "      <td>6750.0</td>\n",
              "      <td>27.0</td>\n",
              "    </tr>\n",
              "    <tr>\n",
              "      <th>3</th>\n",
              "      <td>Y</td>\n",
              "      <td>0</td>\n",
              "      <td>135000.0</td>\n",
              "      <td>Working</td>\n",
              "      <td>BAC</td>\n",
              "      <td>53</td>\n",
              "      <td>8</td>\n",
              "      <td>2</td>\n",
              "      <td>17</td>\n",
              "      <td>Business Entity</td>\n",
              "      <td>0.650442</td>\n",
              "      <td>0.0</td>\n",
              "      <td>75.000000</td>\n",
              "      <td>0.0</td>\n",
              "      <td>2.32</td>\n",
              "      <td>0.0</td>\n",
              "      <td>2.0</td>\n",
              "      <td>0.0</td>\n",
              "      <td>29686.5</td>\n",
              "      <td>19.0</td>\n",
              "    </tr>\n",
              "    <tr>\n",
              "      <th>4</th>\n",
              "      <td>Y</td>\n",
              "      <td>0</td>\n",
              "      <td>121500.0</td>\n",
              "      <td>Working</td>\n",
              "      <td>BAC</td>\n",
              "      <td>55</td>\n",
              "      <td>8</td>\n",
              "      <td>2</td>\n",
              "      <td>11</td>\n",
              "      <td>Other Categories</td>\n",
              "      <td>0.322738</td>\n",
              "      <td>0.0</td>\n",
              "      <td>45.833333</td>\n",
              "      <td>0.0</td>\n",
              "      <td>4.22</td>\n",
              "      <td>0.0</td>\n",
              "      <td>2.0</td>\n",
              "      <td>1.0</td>\n",
              "      <td>21865.5</td>\n",
              "      <td>77.0</td>\n",
              "    </tr>\n",
              "  </tbody>\n",
              "</table>\n",
              "</div>\n",
              "    <div class=\"colab-df-buttons\">\n",
              "\n",
              "  <div class=\"colab-df-container\">\n",
              "    <button class=\"colab-df-convert\" onclick=\"convertToInteractive('df-35d25128-2a67-4ad9-8011-3f6e0494247c')\"\n",
              "            title=\"Convert this dataframe to an interactive table.\"\n",
              "            style=\"display:none;\">\n",
              "\n",
              "  <svg xmlns=\"http://www.w3.org/2000/svg\" height=\"24px\" viewBox=\"0 -960 960 960\">\n",
              "    <path d=\"M120-120v-720h720v720H120Zm60-500h600v-160H180v160Zm220 220h160v-160H400v160Zm0 220h160v-160H400v160ZM180-400h160v-160H180v160Zm440 0h160v-160H620v160ZM180-180h160v-160H180v160Zm440 0h160v-160H620v160Z\"/>\n",
              "  </svg>\n",
              "    </button>\n",
              "\n",
              "  <style>\n",
              "    .colab-df-container {\n",
              "      display:flex;\n",
              "      gap: 12px;\n",
              "    }\n",
              "\n",
              "    .colab-df-convert {\n",
              "      background-color: #E8F0FE;\n",
              "      border: none;\n",
              "      border-radius: 50%;\n",
              "      cursor: pointer;\n",
              "      display: none;\n",
              "      fill: #1967D2;\n",
              "      height: 32px;\n",
              "      padding: 0 0 0 0;\n",
              "      width: 32px;\n",
              "    }\n",
              "\n",
              "    .colab-df-convert:hover {\n",
              "      background-color: #E2EBFA;\n",
              "      box-shadow: 0px 1px 2px rgba(60, 64, 67, 0.3), 0px 1px 3px 1px rgba(60, 64, 67, 0.15);\n",
              "      fill: #174EA6;\n",
              "    }\n",
              "\n",
              "    .colab-df-buttons div {\n",
              "      margin-bottom: 4px;\n",
              "    }\n",
              "\n",
              "    [theme=dark] .colab-df-convert {\n",
              "      background-color: #3B4455;\n",
              "      fill: #D2E3FC;\n",
              "    }\n",
              "\n",
              "    [theme=dark] .colab-df-convert:hover {\n",
              "      background-color: #434B5C;\n",
              "      box-shadow: 0px 1px 3px 1px rgba(0, 0, 0, 0.15);\n",
              "      filter: drop-shadow(0px 1px 2px rgba(0, 0, 0, 0.3));\n",
              "      fill: #FFFFFF;\n",
              "    }\n",
              "  </style>\n",
              "\n",
              "    <script>\n",
              "      const buttonEl =\n",
              "        document.querySelector('#df-35d25128-2a67-4ad9-8011-3f6e0494247c button.colab-df-convert');\n",
              "      buttonEl.style.display =\n",
              "        google.colab.kernel.accessAllowed ? 'block' : 'none';\n",
              "\n",
              "      async function convertToInteractive(key) {\n",
              "        const element = document.querySelector('#df-35d25128-2a67-4ad9-8011-3f6e0494247c');\n",
              "        const dataTable =\n",
              "          await google.colab.kernel.invokeFunction('convertToInteractive',\n",
              "                                                    [key], {});\n",
              "        if (!dataTable) return;\n",
              "\n",
              "        const docLinkHtml = 'Like what you see? Visit the ' +\n",
              "          '<a target=\"_blank\" href=https://colab.research.google.com/notebooks/data_table.ipynb>data table notebook</a>'\n",
              "          + ' to learn more about interactive tables.';\n",
              "        element.innerHTML = '';\n",
              "        dataTable['output_type'] = 'display_data';\n",
              "        await google.colab.output.renderOutput(dataTable, element);\n",
              "        const docLink = document.createElement('div');\n",
              "        docLink.innerHTML = docLinkHtml;\n",
              "        element.appendChild(docLink);\n",
              "      }\n",
              "    </script>\n",
              "  </div>\n",
              "\n",
              "\n",
              "<div id=\"df-e4682c01-b553-49a4-9f8d-fdcb1f030fd7\">\n",
              "  <button class=\"colab-df-quickchart\" onclick=\"quickchart('df-e4682c01-b553-49a4-9f8d-fdcb1f030fd7')\"\n",
              "            title=\"Suggest charts.\"\n",
              "            style=\"display:none;\">\n",
              "\n",
              "<svg xmlns=\"http://www.w3.org/2000/svg\" height=\"24px\"viewBox=\"0 0 24 24\"\n",
              "     width=\"24px\">\n",
              "    <g>\n",
              "        <path d=\"M19 3H5c-1.1 0-2 .9-2 2v14c0 1.1.9 2 2 2h14c1.1 0 2-.9 2-2V5c0-1.1-.9-2-2-2zM9 17H7v-7h2v7zm4 0h-2V7h2v10zm4 0h-2v-4h2v4z\"/>\n",
              "    </g>\n",
              "</svg>\n",
              "  </button>\n",
              "\n",
              "<style>\n",
              "  .colab-df-quickchart {\n",
              "    background-color: #E8F0FE;\n",
              "    border: none;\n",
              "    border-radius: 50%;\n",
              "    cursor: pointer;\n",
              "    display: none;\n",
              "    fill: #1967D2;\n",
              "    height: 32px;\n",
              "    padding: 0 0 0 0;\n",
              "    width: 32px;\n",
              "  }\n",
              "\n",
              "  .colab-df-quickchart:hover {\n",
              "    background-color: #E2EBFA;\n",
              "    box-shadow: 0px 1px 2px rgba(60, 64, 67, 0.3), 0px 1px 3px 1px rgba(60, 64, 67, 0.15);\n",
              "    fill: #174EA6;\n",
              "  }\n",
              "\n",
              "  [theme=dark] .colab-df-quickchart {\n",
              "    background-color: #3B4455;\n",
              "    fill: #D2E3FC;\n",
              "  }\n",
              "\n",
              "  [theme=dark] .colab-df-quickchart:hover {\n",
              "    background-color: #434B5C;\n",
              "    box-shadow: 0px 1px 3px 1px rgba(0, 0, 0, 0.15);\n",
              "    filter: drop-shadow(0px 1px 2px rgba(0, 0, 0, 0.3));\n",
              "    fill: #FFFFFF;\n",
              "  }\n",
              "</style>\n",
              "\n",
              "  <script>\n",
              "    async function quickchart(key) {\n",
              "      const charts = await google.colab.kernel.invokeFunction(\n",
              "          'suggestCharts', [key], {});\n",
              "    }\n",
              "    (() => {\n",
              "      let quickchartButtonEl =\n",
              "        document.querySelector('#df-e4682c01-b553-49a4-9f8d-fdcb1f030fd7 button');\n",
              "      quickchartButtonEl.style.display =\n",
              "        google.colab.kernel.accessAllowed ? 'block' : 'none';\n",
              "    })();\n",
              "  </script>\n",
              "</div>\n",
              "    </div>\n",
              "  </div>\n"
            ]
          },
          "metadata": {},
          "execution_count": 14
        }
      ],
      "source": [
        "it = 2 # 1, 2 première itération pour le choix des features\n",
        "selected_features = [#'GENRE',\n",
        "                     'PROPRIETAIRE', 'NBRE_ENFANT',\n",
        "                     'ANCIENNETE_CREDIT', 'CHARGES_ANNUEL', 'REVENUS_TOT',\n",
        "                     'RATIO_CREDIT_REVENU',\n",
        "                     #'MONTANT_CREDIT',\n",
        "                     'OCCUPATION', 'CC_RATIO_CREDIT', 'NIVEAU_ETUDE', 'AGE',\n",
        "                     'ANCIENNETE_EMPLOI', 'SCORE_REGION', 'HEURE_APP', 'SECTEUR_ACTIVITE',\n",
        "                     'SCORE_2_EXT',\n",
        "                     #'RATIO_ENDETT(%)',\n",
        "                     'NBRE_CONTRAT_ACTIFS',\n",
        "                     'NBRE_J_RETARD', 'POS_PROGRESS_MAX_MIN', 'CC_NOMBRE_RETRAIT_MOYEN',\n",
        "                     'CB_SOMME_DUES_RETARD']\n",
        "df = pd.read_csv('/content/client_train_db.csv',\n",
        "                 usecols = selected_features,\n",
        "                 dtype={'GENRE': 'object'\n",
        "                      })\n",
        "id_clients = pd.read_csv('/content/client_train_db.csv',\n",
        "                 usecols = ['SK_ID_CURR'],\n",
        "                 dtype={'SK_ID_CURR' : 'object',\n",
        "                      })\n",
        "y_ = pd.read_csv('/content/client_train_db.csv',\n",
        "                 usecols = ['TARGET'],\n",
        "                dtype={'TARGET' :  'object'\n",
        "                      })\n",
        "df.head()"
      ]
    },
    {
      "cell_type": "code",
      "execution_count": 15,
      "metadata": {
        "colab": {
          "base_uri": "https://localhost:8080/",
          "height": 224
        },
        "id": "U9qxoPmX6lfb",
        "outputId": "94833cd6-7c16-455f-94fc-2876085e8b59"
      },
      "outputs": [
        {
          "output_type": "execute_result",
          "data": {
            "text/plain": [
              "  TARGET\n",
              "0      1\n",
              "1      0\n",
              "2      0\n",
              "3      0\n",
              "4      0"
            ],
            "text/html": [
              "\n",
              "  <div id=\"df-91bd2d44-8afc-4f02-a4df-c1f9d0cfdb96\" class=\"colab-df-container\">\n",
              "    <div>\n",
              "<style scoped>\n",
              "    .dataframe tbody tr th:only-of-type {\n",
              "        vertical-align: middle;\n",
              "    }\n",
              "\n",
              "    .dataframe tbody tr th {\n",
              "        vertical-align: top;\n",
              "    }\n",
              "\n",
              "    .dataframe thead th {\n",
              "        text-align: right;\n",
              "    }\n",
              "</style>\n",
              "<table border=\"1\" class=\"dataframe\">\n",
              "  <thead>\n",
              "    <tr style=\"text-align: right;\">\n",
              "      <th></th>\n",
              "      <th>TARGET</th>\n",
              "    </tr>\n",
              "  </thead>\n",
              "  <tbody>\n",
              "    <tr>\n",
              "      <th>0</th>\n",
              "      <td>1</td>\n",
              "    </tr>\n",
              "    <tr>\n",
              "      <th>1</th>\n",
              "      <td>0</td>\n",
              "    </tr>\n",
              "    <tr>\n",
              "      <th>2</th>\n",
              "      <td>0</td>\n",
              "    </tr>\n",
              "    <tr>\n",
              "      <th>3</th>\n",
              "      <td>0</td>\n",
              "    </tr>\n",
              "    <tr>\n",
              "      <th>4</th>\n",
              "      <td>0</td>\n",
              "    </tr>\n",
              "  </tbody>\n",
              "</table>\n",
              "</div>\n",
              "    <div class=\"colab-df-buttons\">\n",
              "\n",
              "  <div class=\"colab-df-container\">\n",
              "    <button class=\"colab-df-convert\" onclick=\"convertToInteractive('df-91bd2d44-8afc-4f02-a4df-c1f9d0cfdb96')\"\n",
              "            title=\"Convert this dataframe to an interactive table.\"\n",
              "            style=\"display:none;\">\n",
              "\n",
              "  <svg xmlns=\"http://www.w3.org/2000/svg\" height=\"24px\" viewBox=\"0 -960 960 960\">\n",
              "    <path d=\"M120-120v-720h720v720H120Zm60-500h600v-160H180v160Zm220 220h160v-160H400v160Zm0 220h160v-160H400v160ZM180-400h160v-160H180v160Zm440 0h160v-160H620v160ZM180-180h160v-160H180v160Zm440 0h160v-160H620v160Z\"/>\n",
              "  </svg>\n",
              "    </button>\n",
              "\n",
              "  <style>\n",
              "    .colab-df-container {\n",
              "      display:flex;\n",
              "      gap: 12px;\n",
              "    }\n",
              "\n",
              "    .colab-df-convert {\n",
              "      background-color: #E8F0FE;\n",
              "      border: none;\n",
              "      border-radius: 50%;\n",
              "      cursor: pointer;\n",
              "      display: none;\n",
              "      fill: #1967D2;\n",
              "      height: 32px;\n",
              "      padding: 0 0 0 0;\n",
              "      width: 32px;\n",
              "    }\n",
              "\n",
              "    .colab-df-convert:hover {\n",
              "      background-color: #E2EBFA;\n",
              "      box-shadow: 0px 1px 2px rgba(60, 64, 67, 0.3), 0px 1px 3px 1px rgba(60, 64, 67, 0.15);\n",
              "      fill: #174EA6;\n",
              "    }\n",
              "\n",
              "    .colab-df-buttons div {\n",
              "      margin-bottom: 4px;\n",
              "    }\n",
              "\n",
              "    [theme=dark] .colab-df-convert {\n",
              "      background-color: #3B4455;\n",
              "      fill: #D2E3FC;\n",
              "    }\n",
              "\n",
              "    [theme=dark] .colab-df-convert:hover {\n",
              "      background-color: #434B5C;\n",
              "      box-shadow: 0px 1px 3px 1px rgba(0, 0, 0, 0.15);\n",
              "      filter: drop-shadow(0px 1px 2px rgba(0, 0, 0, 0.3));\n",
              "      fill: #FFFFFF;\n",
              "    }\n",
              "  </style>\n",
              "\n",
              "    <script>\n",
              "      const buttonEl =\n",
              "        document.querySelector('#df-91bd2d44-8afc-4f02-a4df-c1f9d0cfdb96 button.colab-df-convert');\n",
              "      buttonEl.style.display =\n",
              "        google.colab.kernel.accessAllowed ? 'block' : 'none';\n",
              "\n",
              "      async function convertToInteractive(key) {\n",
              "        const element = document.querySelector('#df-91bd2d44-8afc-4f02-a4df-c1f9d0cfdb96');\n",
              "        const dataTable =\n",
              "          await google.colab.kernel.invokeFunction('convertToInteractive',\n",
              "                                                    [key], {});\n",
              "        if (!dataTable) return;\n",
              "\n",
              "        const docLinkHtml = 'Like what you see? Visit the ' +\n",
              "          '<a target=\"_blank\" href=https://colab.research.google.com/notebooks/data_table.ipynb>data table notebook</a>'\n",
              "          + ' to learn more about interactive tables.';\n",
              "        element.innerHTML = '';\n",
              "        dataTable['output_type'] = 'display_data';\n",
              "        await google.colab.output.renderOutput(dataTable, element);\n",
              "        const docLink = document.createElement('div');\n",
              "        docLink.innerHTML = docLinkHtml;\n",
              "        element.appendChild(docLink);\n",
              "      }\n",
              "    </script>\n",
              "  </div>\n",
              "\n",
              "\n",
              "<div id=\"df-15c8239d-258f-49cd-80a8-6242485bbe33\">\n",
              "  <button class=\"colab-df-quickchart\" onclick=\"quickchart('df-15c8239d-258f-49cd-80a8-6242485bbe33')\"\n",
              "            title=\"Suggest charts.\"\n",
              "            style=\"display:none;\">\n",
              "\n",
              "<svg xmlns=\"http://www.w3.org/2000/svg\" height=\"24px\"viewBox=\"0 0 24 24\"\n",
              "     width=\"24px\">\n",
              "    <g>\n",
              "        <path d=\"M19 3H5c-1.1 0-2 .9-2 2v14c0 1.1.9 2 2 2h14c1.1 0 2-.9 2-2V5c0-1.1-.9-2-2-2zM9 17H7v-7h2v7zm4 0h-2V7h2v10zm4 0h-2v-4h2v4z\"/>\n",
              "    </g>\n",
              "</svg>\n",
              "  </button>\n",
              "\n",
              "<style>\n",
              "  .colab-df-quickchart {\n",
              "    background-color: #E8F0FE;\n",
              "    border: none;\n",
              "    border-radius: 50%;\n",
              "    cursor: pointer;\n",
              "    display: none;\n",
              "    fill: #1967D2;\n",
              "    height: 32px;\n",
              "    padding: 0 0 0 0;\n",
              "    width: 32px;\n",
              "  }\n",
              "\n",
              "  .colab-df-quickchart:hover {\n",
              "    background-color: #E2EBFA;\n",
              "    box-shadow: 0px 1px 2px rgba(60, 64, 67, 0.3), 0px 1px 3px 1px rgba(60, 64, 67, 0.15);\n",
              "    fill: #174EA6;\n",
              "  }\n",
              "\n",
              "  [theme=dark] .colab-df-quickchart {\n",
              "    background-color: #3B4455;\n",
              "    fill: #D2E3FC;\n",
              "  }\n",
              "\n",
              "  [theme=dark] .colab-df-quickchart:hover {\n",
              "    background-color: #434B5C;\n",
              "    box-shadow: 0px 1px 3px 1px rgba(0, 0, 0, 0.15);\n",
              "    filter: drop-shadow(0px 1px 2px rgba(0, 0, 0, 0.3));\n",
              "    fill: #FFFFFF;\n",
              "  }\n",
              "</style>\n",
              "\n",
              "  <script>\n",
              "    async function quickchart(key) {\n",
              "      const charts = await google.colab.kernel.invokeFunction(\n",
              "          'suggestCharts', [key], {});\n",
              "    }\n",
              "    (() => {\n",
              "      let quickchartButtonEl =\n",
              "        document.querySelector('#df-15c8239d-258f-49cd-80a8-6242485bbe33 button');\n",
              "      quickchartButtonEl.style.display =\n",
              "        google.colab.kernel.accessAllowed ? 'block' : 'none';\n",
              "    })();\n",
              "  </script>\n",
              "</div>\n",
              "    </div>\n",
              "  </div>\n"
            ]
          },
          "metadata": {},
          "execution_count": 15
        }
      ],
      "source": [
        "y_.head()"
      ]
    },
    {
      "cell_type": "code",
      "execution_count": 16,
      "metadata": {
        "colab": {
          "base_uri": "https://localhost:8080/"
        },
        "id": "GoH6xhvhQWFY",
        "outputId": "15b2bc4b-0a38-458d-b9ca-f7a8fec3dfee"
      },
      "outputs": [
        {
          "output_type": "execute_result",
          "data": {
            "text/plain": [
              "array(['1', '0'], dtype=object)"
            ]
          },
          "metadata": {},
          "execution_count": 16
        }
      ],
      "source": [
        "y_['TARGET'].unique()"
      ]
    },
    {
      "cell_type": "markdown",
      "metadata": {
        "id": "zz6RO8m1KijP"
      },
      "source": [
        "# <a name=\"C1\"> 2. Pre-processing </a>\n",
        "\n"
      ]
    },
    {
      "cell_type": "markdown",
      "metadata": {
        "id": "8a_9hXctX2Rd"
      },
      "source": [
        "Quatre options :\n",
        "\n",
        "\n",
        "0.   Je garde le datasets tel qu'il est\n",
        "1.   Sous-échantillonnage\n",
        "2.   Sur-échantillonnage (SMOTE)\n",
        "3.   Class-weighting (fais dans le cas 0)\n"
      ]
    },
    {
      "cell_type": "code",
      "execution_count": 52,
      "metadata": {
        "colab": {
          "base_uri": "https://localhost:8080/"
        },
        "id": "fJbBOAXU5kOa",
        "outputId": "3f992778-6827-4f4d-f8ec-c92c436ac3ca"
      },
      "outputs": [
        {
          "output_type": "stream",
          "name": "stdout",
          "text": [
            "Entrer l'option d'échantillonnage 'option': \n",
            " 0 pour le class-weighting, 1 pour un sous-échantillonage et 2 pour la méthode SMOTE 2\n",
            "Entrer le modèle à tester: ex : Logistic Regression, LDA,  LightGBM\n",
            "Option: 2\n",
            "Model: LightGBM\n"
          ]
        }
      ],
      "source": [
        "option = int(input(\"Entrer l'option d'échantillonnage 'option': \\n 0 pour le class-weighting, 1 pour un sous-échantillonage et 2 pour la méthode SMOTE \"))\n",
        "model = input(\"Entrer le modèle à tester: ex : Logistic Regression, LDA,  \")\n",
        "\n",
        "print(\"Option:\", int(option))\n",
        "print(\"Model:\", model)\n"
      ]
    },
    {
      "cell_type": "code",
      "execution_count": 53,
      "metadata": {
        "colab": {
          "base_uri": "https://localhost:8080/"
        },
        "id": "1K1Lu0pympgi",
        "outputId": "7952fb16-79b2-4a94-8321-60dacdc30925"
      },
      "outputs": [
        {
          "output_type": "execute_result",
          "data": {
            "text/plain": [
              "Index(['PROPRIETAIRE', 'NBRE_ENFANT', 'REVENUS_TOT', 'OCCUPATION',\n",
              "       'NIVEAU_ETUDE', 'AGE', 'ANCIENNETE_EMPLOI', 'SCORE_REGION', 'HEURE_APP',\n",
              "       'SECTEUR_ACTIVITE', 'SCORE_2_EXT', 'CC_NOMBRE_RETRAIT_MOYEN',\n",
              "       'POS_PROGRESS_MAX_MIN', 'CB_SOMME_DUES_RETARD', 'RATIO_CREDIT_REVENU',\n",
              "       'CC_RATIO_CREDIT', 'NBRE_CONTRAT_ACTIFS', 'NBRE_J_RETARD',\n",
              "       'CHARGES_ANNUEL', 'ANCIENNETE_CREDIT'],\n",
              "      dtype='object')"
            ]
          },
          "metadata": {},
          "execution_count": 53
        }
      ],
      "source": [
        "df.columns"
      ]
    },
    {
      "cell_type": "code",
      "execution_count": 54,
      "metadata": {
        "id": "KAtFBcH_pXY3"
      },
      "outputs": [],
      "source": [
        "y = y_['TARGET']"
      ]
    },
    {
      "cell_type": "code",
      "execution_count": 55,
      "metadata": {
        "colab": {
          "base_uri": "https://localhost:8080/"
        },
        "id": "a1a5oJRhHIQL",
        "outputId": "8313aa96-5d3f-4694-950f-94dd1553e128"
      },
      "outputs": [
        {
          "output_type": "execute_result",
          "data": {
            "text/plain": [
              "array(['1', '0'], dtype=object)"
            ]
          },
          "metadata": {},
          "execution_count": 55
        }
      ],
      "source": [
        "y.unique()"
      ]
    },
    {
      "cell_type": "code",
      "execution_count": 56,
      "metadata": {
        "colab": {
          "base_uri": "https://localhost:8080/"
        },
        "id": "Q9WEt1c-SGNJ",
        "outputId": "085533ec-1acc-40f5-c95c-c585b7f0e1a8"
      },
      "outputs": [
        {
          "output_type": "execute_result",
          "data": {
            "text/plain": [
              "24747"
            ]
          },
          "metadata": {},
          "execution_count": 56
        }
      ],
      "source": [
        "len(y[y == '1'])"
      ]
    },
    {
      "cell_type": "code",
      "execution_count": 57,
      "metadata": {
        "colab": {
          "base_uri": "https://localhost:8080/"
        },
        "id": "1quOOMXX7kCC",
        "outputId": "2adc83c8-9532-4bad-c922-512f2173d07b"
      },
      "outputs": [
        {
          "output_type": "execute_result",
          "data": {
            "text/plain": [
              "0         1\n",
              "26        1\n",
              "40        1\n",
              "42        1\n",
              "81        1\n",
              "         ..\n",
              "306649    1\n",
              "306676    1\n",
              "306682    1\n",
              "306690    1\n",
              "306710    1\n",
              "Name: TARGET, Length: 24747, dtype: object"
            ]
          },
          "metadata": {},
          "execution_count": 57
        }
      ],
      "source": [
        "y[y == '1']"
      ]
    },
    {
      "cell_type": "code",
      "source": [
        "model"
      ],
      "metadata": {
        "colab": {
          "base_uri": "https://localhost:8080/",
          "height": 35
        },
        "id": "76RSQgv1iKXA",
        "outputId": "e5dfda07-c34c-42db-bb68-66389a1aa477"
      },
      "execution_count": 58,
      "outputs": [
        {
          "output_type": "execute_result",
          "data": {
            "text/plain": [
              "'LightGBM'"
            ],
            "application/vnd.google.colaboratory.intrinsic+json": {
              "type": "string"
            }
          },
          "metadata": {},
          "execution_count": 58
        }
      ]
    },
    {
      "cell_type": "code",
      "source": [
        "len(y)"
      ],
      "metadata": {
        "colab": {
          "base_uri": "https://localhost:8080/"
        },
        "id": "-DCRJM-vihgc",
        "outputId": "16f59477-0b63-4524-e869-7b1e644c1369"
      },
      "execution_count": 59,
      "outputs": [
        {
          "output_type": "execute_result",
          "data": {
            "text/plain": [
              "306712"
            ]
          },
          "metadata": {},
          "execution_count": 59
        }
      ]
    },
    {
      "cell_type": "code",
      "execution_count": 60,
      "metadata": {
        "id": "k2xcI7CcoVCH"
      },
      "outputs": [],
      "source": [
        "if option == 0:\n",
        "    Xtrain, Xtest, ytrain, ytest = model_selection.train_test_split(df, y, train_size=0.8, random_state=42, stratify = y)\n",
        "elif option == 1:\n",
        "    # Option 1 :  Sous-échantillonnage, Je récupère tous les '1' et je choisie un échantillon d'individu '0' de la même taille pour former un nouevau\n",
        "    # dataset concaténé.\n",
        "    len_target = len(y[y == '1'])\n",
        "    y_1 = y[y == '1']\n",
        "    ind_y1 = y[y == '1'].index\n",
        "    y_0 = y[y == '0'].sample(len_target, random_state=42)\n",
        "    ind_y0 = y_0.index\n",
        "    y_resampled = pd.concat([y_1, y_0])\n",
        "    ind_tot= y_resampled.index\n",
        "    Xtrain, Xtest, ytrain, ytest = model_selection.train_test_split(df.loc[ind_tot], y_resampled, train_size=0.8, random_state=42,\n",
        "                                                                    stratify =y_resampled)\n",
        "elif option == 2:\n",
        "    # Option 2 : Méthode mixte de sur-échantillonage de type smote et de sous-échantillonage, la méthode smote\n",
        "    # sera appliqué dans la recherche de grille durant la valisation croisée pour éviter le data leakage\n",
        "    len_target = len(y[y == '1'])\n",
        "    y_1 = y[y == '1']\n",
        "    ind_y1 = y[y == '1'].index\n",
        "    y_0 = y[y == '0'].sample(int(1.5*len_target), random_state=42)\n",
        "    ind_y0 = y_0.index\n",
        "    y_resampled = pd.concat([y_1, y_0])\n",
        "    ind_tot= y_resampled.index\n",
        "    Xtrain, Xtest, ytrain, ytest = model_selection.train_test_split(df.loc[ind_tot], y_resampled,\n",
        "                                                                    train_size=0.8, random_state=42, stratify =y_resampled)\n",
        "    smote = SMOTE(sampling_strategy='auto', random_state=42)\n",
        "elif option ==3:\n",
        "    len_target = len(y[y == '1'])\n",
        "    y_1 = y[y == '1']\n",
        "    ind_y1 = y[y == '1'].index\n",
        "    y_0 = y[y == '0'].sample(int(3*len_target), random_state=42)\n",
        "    ind_y0 = y_0.index\n",
        "    y_resampled = pd.concat([y_1, y_0])\n",
        "    ind_tot= y_resampled.index\n",
        "    Xtrain, Xtest, ytrain, ytest = model_selection.train_test_split(df.loc[ind_tot], y_resampled, train_size=0.8, random_state=42,\n",
        "                                                                    stratify =y_resampled)\n"
      ]
    },
    {
      "cell_type": "code",
      "execution_count": 61,
      "metadata": {
        "id": "f9TAs1JZo9uH"
      },
      "outputs": [],
      "source": [
        "len_target = len(y[y == '1'])\n",
        "len_non_target = len(y[y == '0'])\n",
        "class_weight_majority = len(y) / (len_non_target)\n",
        "class_weight_minority = len(y) / (len_target)\n",
        "class_weights = {'0': class_weight_majority, '1': class_weight_minority}\n",
        "\n",
        "\n",
        "# Ma liste de modèle\n",
        "models_dict = {'Dummy': [DummyClassifier(), 'non',\n",
        "                         {'strategy': ['stratified', 'uniform'],\n",
        "                          'random_state': [42],\n",
        "                         }, None], #Le troisième élément représente l'option de feat importance\n",
        "               'Logistic Regression': [LogisticRegression(), 'oui', #Oui car dans le calcul de la fonction d'hypothèse la fonction logistique est\n",
        "                            #foncton de la combinaison linaire des ppoids et du vecteur x de l'individu. Si toutes les composantes de x ne sont pas mis\n",
        "                            #à la même échelle certaines features auront d'avantage de poids que d'autre.\n",
        "                             {'solver' : ['lbfgs', 'liblinear', 'newton-cg', 'newton-cholesky', 'sag', 'saga'],\n",
        "                              'class_weight' : ['balanced', None],'penalty' : ['l2']\n",
        "                              } , 'coeff'],\n",
        "               'LDA' :  [LinearDiscriminantAnalysis(), 'oui',\n",
        "                {'solver' : ['svd','lsqr'],#'eigen'],\n",
        "                 'n_components' : [1]\n",
        "                 } , 'coeff'],\n",
        "               'Naive Bayes': [GaussianNB(), 'non',\n",
        "                {'var_smoothing': [1e-09, 1e-08, 1e-07, 1e-06, 1e-05]}, 'shap', 'other'],\n",
        "               'LightGBM': [LGBMClassifier(objective='binary', metric='binary_logloss'), 'non',\n",
        "                 {'learning_rate': [0.4], #[0.4, 0.5, 0.6],#0.7, 0.3, 0.1, 0.08,0.01, 0.001],\n",
        "                  'max_depth': [3], #2, 3, 4, 5, 7, 10, 20\n",
        "                  'n_estimators': [140], #150,160],#[10, 50, 70,100, 200, 250\n",
        "                  'random_state': [42],\n",
        "                  'class_weight': [None] # class_weights]\n",
        "                 }, 'shap', 'tree'],\n",
        "               'Decision Trees': [DecisionTreeClassifier(), 'non',\n",
        "                       {'criterion': ['gini', 'entropy'],\n",
        "                        'max_depth': [None, 3, 4, 5], #autre valeurs testé 100, 50, 20, 10\n",
        "                        #'max_features': ['auto', 'sqrt', 'log2', None],\n",
        "                        'class_weight': [None, 'balanced'],\n",
        "                        'splitter': ['best', 'random'],\n",
        "                        'random_state': [42]\n",
        "                       }, 'shap', 'tree'],\n",
        "\n",
        "}\n"
      ]
    },
    {
      "cell_type": "code",
      "execution_count": 62,
      "metadata": {
        "colab": {
          "base_uri": "https://localhost:8080/"
        },
        "id": "KUFEqGvzrwT2",
        "outputId": "42b9d112-ab2e-4fc4-c328-78a99d59ab99"
      },
      "outputs": [
        {
          "output_type": "execute_result",
          "data": {
            "text/plain": [
              "{'learning_rate': [0.4],\n",
              " 'max_depth': [3],\n",
              " 'n_estimators': [140],\n",
              " 'random_state': [42],\n",
              " 'class_weight': [None]}"
            ]
          },
          "metadata": {},
          "execution_count": 62
        }
      ],
      "source": [
        "models_dict[model][2]"
      ]
    },
    {
      "cell_type": "code",
      "execution_count": 63,
      "metadata": {
        "colab": {
          "base_uri": "https://localhost:8080/"
        },
        "id": "Wqr53fUCquX8",
        "outputId": "a2efd344-6632-4927-f5ad-9d37c1c49d99"
      },
      "outputs": [
        {
          "output_type": "execute_result",
          "data": {
            "text/plain": [
              "306712"
            ]
          },
          "metadata": {},
          "execution_count": 63
        }
      ],
      "source": [
        "len(df)"
      ]
    },
    {
      "cell_type": "code",
      "execution_count": 64,
      "metadata": {
        "id": "nurZ1sE_EdTR"
      },
      "outputs": [],
      "source": [
        "#### Fonctions ----------------------------\n",
        "from sklearn.preprocessing import FunctionTransformer\n",
        "\n",
        "\n",
        "# Calcul de la fréquence d'occurence pour le secteur d'activité\n",
        "freq_by_org_type = df['SECTEUR_ACTIVITE'].value_counts(normalize=True).to_dict()\n",
        "def frequency_encode(x):\n",
        "    return x.replace(freq_by_org_type)\n",
        "\n",
        "# Creation du FunctionTransformer pour la fréquence d'occurence par secteur d'activité\n",
        "freq_encoder = FunctionTransformer(frequency_encode)\n",
        "\n",
        "cat_features = df.dtypes[df.dtypes == 'object'].index.tolist()\n",
        "cat_features = [feature for feature in cat_features if feature not in ['SK_ID_CURR', 'TARGET']]\n",
        "num_features = df.dtypes[df.dtypes != 'object'].index.tolist()\n",
        "\n",
        "\n",
        "####--------- Les transformations\n",
        "OneHot_transformer = OneHotEncoder(use_cat_names= True)\n",
        "#target_transformer = TargetEncoder(smoothing=0.2) data leakage et résultat imprévisible\n",
        "\n",
        "####---------Création de mon pipeline\n",
        "if models_dict[model][1] == 'oui':\n",
        "    # Scale features and handle skewed distributions\n",
        "    numeric_transformer = MinMaxScaler()\n",
        "    preprocessor = ColumnTransformer(transformers=[\n",
        "        ('oneHot', OneHot_transformer, [#'GENRE',\n",
        "                                        'PROPRIETAIRE', 'NIVEAU_ETUDE' , 'OCCUPATION']),\n",
        "        #('target', target_transformer, cat_features[2]),\n",
        "        ('frequency', freq_encoder, ['SECTEUR_ACTIVITE']),  # Add the Frequency Encoder here\n",
        "        ('numeric', numeric_transformer, num_features),\n",
        "        #('log_transform', FunctionTransformer(log_transform, validate=False), log_feature)\n",
        "    ], remainder='passthrough')\n",
        "else:\n",
        "    # Do not apply MinMaxScaler but still include the log transformation\n",
        "    preprocessor = ColumnTransformer(transformers=[\n",
        "        ('oneHot', OneHot_transformer, [#'GENRE',\n",
        "                                        'PROPRIETAIRE', 'NIVEAU_ETUDE' ,'OCCUPATION']),\n",
        "        #('target', target_transformer, cat_features[2]),\n",
        "        ('frequency', freq_encoder, ['SECTEUR_ACTIVITE']),  # Add the Frequency Encoder here\n",
        "    ], remainder='passthrough')"
      ]
    },
    {
      "cell_type": "code",
      "execution_count": 65,
      "metadata": {
        "colab": {
          "base_uri": "https://localhost:8080/"
        },
        "id": "83XdnrrtEvcE",
        "outputId": "6ab0ae70-2dfd-4f22-c425-5afd181eee8a"
      },
      "outputs": [
        {
          "output_type": "execute_result",
          "data": {
            "text/plain": [
              "{'Business Entity': 0.27488979889929316,\n",
              " 'Inactive': 0.1799603536868463,\n",
              " 'Self-Employed and Professional Services': 0.127151855812619,\n",
              " 'Other Categories': 0.11879222201935366,\n",
              " 'Industry and Trade': 0.09309058660893607,\n",
              " 'Government and Public Services': 0.07581379274368137,\n",
              " 'Education': 0.055641774694175646,\n",
              " 'Healthcare and Medicine': 0.0364054878843997,\n",
              " 'Utilities and Services': 0.01647799890450977,\n",
              " 'Hospitality and Entertainment': 0.011678708364850413,\n",
              " 'Financial and Insurance': 0.010097420381334933}"
            ]
          },
          "metadata": {},
          "execution_count": 65
        }
      ],
      "source": [
        "freq_by_org_type"
      ]
    },
    {
      "cell_type": "code",
      "execution_count": 66,
      "metadata": {
        "colab": {
          "base_uri": "https://localhost:8080/",
          "height": 74
        },
        "id": "IeIZ8NM7E0p3",
        "outputId": "14d3170a-271b-4911-9e76-e57049373f33"
      },
      "outputs": [
        {
          "output_type": "execute_result",
          "data": {
            "text/plain": [
              "LGBMClassifier(metric='binary_logloss', objective='binary')"
            ],
            "text/html": [
              "<style>#sk-container-id-3 {color: black;background-color: white;}#sk-container-id-3 pre{padding: 0;}#sk-container-id-3 div.sk-toggleable {background-color: white;}#sk-container-id-3 label.sk-toggleable__label {cursor: pointer;display: block;width: 100%;margin-bottom: 0;padding: 0.3em;box-sizing: border-box;text-align: center;}#sk-container-id-3 label.sk-toggleable__label-arrow:before {content: \"▸\";float: left;margin-right: 0.25em;color: #696969;}#sk-container-id-3 label.sk-toggleable__label-arrow:hover:before {color: black;}#sk-container-id-3 div.sk-estimator:hover label.sk-toggleable__label-arrow:before {color: black;}#sk-container-id-3 div.sk-toggleable__content {max-height: 0;max-width: 0;overflow: hidden;text-align: left;background-color: #f0f8ff;}#sk-container-id-3 div.sk-toggleable__content pre {margin: 0.2em;color: black;border-radius: 0.25em;background-color: #f0f8ff;}#sk-container-id-3 input.sk-toggleable__control:checked~div.sk-toggleable__content {max-height: 200px;max-width: 100%;overflow: auto;}#sk-container-id-3 input.sk-toggleable__control:checked~label.sk-toggleable__label-arrow:before {content: \"▾\";}#sk-container-id-3 div.sk-estimator input.sk-toggleable__control:checked~label.sk-toggleable__label {background-color: #d4ebff;}#sk-container-id-3 div.sk-label input.sk-toggleable__control:checked~label.sk-toggleable__label {background-color: #d4ebff;}#sk-container-id-3 input.sk-hidden--visually {border: 0;clip: rect(1px 1px 1px 1px);clip: rect(1px, 1px, 1px, 1px);height: 1px;margin: -1px;overflow: hidden;padding: 0;position: absolute;width: 1px;}#sk-container-id-3 div.sk-estimator {font-family: monospace;background-color: #f0f8ff;border: 1px dotted black;border-radius: 0.25em;box-sizing: border-box;margin-bottom: 0.5em;}#sk-container-id-3 div.sk-estimator:hover {background-color: #d4ebff;}#sk-container-id-3 div.sk-parallel-item::after {content: \"\";width: 100%;border-bottom: 1px solid gray;flex-grow: 1;}#sk-container-id-3 div.sk-label:hover label.sk-toggleable__label {background-color: #d4ebff;}#sk-container-id-3 div.sk-serial::before {content: \"\";position: absolute;border-left: 1px solid gray;box-sizing: border-box;top: 0;bottom: 0;left: 50%;z-index: 0;}#sk-container-id-3 div.sk-serial {display: flex;flex-direction: column;align-items: center;background-color: white;padding-right: 0.2em;padding-left: 0.2em;position: relative;}#sk-container-id-3 div.sk-item {position: relative;z-index: 1;}#sk-container-id-3 div.sk-parallel {display: flex;align-items: stretch;justify-content: center;background-color: white;position: relative;}#sk-container-id-3 div.sk-item::before, #sk-container-id-3 div.sk-parallel-item::before {content: \"\";position: absolute;border-left: 1px solid gray;box-sizing: border-box;top: 0;bottom: 0;left: 50%;z-index: -1;}#sk-container-id-3 div.sk-parallel-item {display: flex;flex-direction: column;z-index: 1;position: relative;background-color: white;}#sk-container-id-3 div.sk-parallel-item:first-child::after {align-self: flex-end;width: 50%;}#sk-container-id-3 div.sk-parallel-item:last-child::after {align-self: flex-start;width: 50%;}#sk-container-id-3 div.sk-parallel-item:only-child::after {width: 0;}#sk-container-id-3 div.sk-dashed-wrapped {border: 1px dashed gray;margin: 0 0.4em 0.5em 0.4em;box-sizing: border-box;padding-bottom: 0.4em;background-color: white;}#sk-container-id-3 div.sk-label label {font-family: monospace;font-weight: bold;display: inline-block;line-height: 1.2em;}#sk-container-id-3 div.sk-label-container {text-align: center;}#sk-container-id-3 div.sk-container {/* jupyter's `normalize.less` sets `[hidden] { display: none; }` but bootstrap.min.css set `[hidden] { display: none !important; }` so we also need the `!important` here to be able to override the default hidden behavior on the sphinx rendered scikit-learn.org. See: https://github.com/scikit-learn/scikit-learn/issues/21755 */display: inline-block !important;position: relative;}#sk-container-id-3 div.sk-text-repr-fallback {display: none;}</style><div id=\"sk-container-id-3\" class=\"sk-top-container\"><div class=\"sk-text-repr-fallback\"><pre>LGBMClassifier(metric=&#x27;binary_logloss&#x27;, objective=&#x27;binary&#x27;)</pre><b>In a Jupyter environment, please rerun this cell to show the HTML representation or trust the notebook. <br />On GitHub, the HTML representation is unable to render, please try loading this page with nbviewer.org.</b></div><div class=\"sk-container\" hidden><div class=\"sk-item\"><div class=\"sk-estimator sk-toggleable\"><input class=\"sk-toggleable__control sk-hidden--visually\" id=\"sk-estimator-id-9\" type=\"checkbox\" checked><label for=\"sk-estimator-id-9\" class=\"sk-toggleable__label sk-toggleable__label-arrow\">LGBMClassifier</label><div class=\"sk-toggleable__content\"><pre>LGBMClassifier(metric=&#x27;binary_logloss&#x27;, objective=&#x27;binary&#x27;)</pre></div></div></div></div></div>"
            ]
          },
          "metadata": {},
          "execution_count": 66
        }
      ],
      "source": [
        "models_dict[model][0]"
      ]
    },
    {
      "cell_type": "code",
      "execution_count": 67,
      "metadata": {
        "colab": {
          "base_uri": "https://localhost:8080/",
          "height": 541
        },
        "id": "UQMjjELf5Uiw",
        "outputId": "f1cf285a-c5de-443f-c73a-15a865830b6f"
      },
      "outputs": [
        {
          "output_type": "execute_result",
          "data": {
            "text/plain": [
              "       PROPRIETAIRE  NBRE_ENFANT  REVENUS_TOT            OCCUPATION  \\\n",
              "174485            N            0     450000.0         State servant   \n",
              "215961            N            0     180000.0         State servant   \n",
              "128803            N            2     135000.0               Working   \n",
              "207088            Y            1     180000.0               Working   \n",
              "139343            N            0     202500.0               Working   \n",
              "...             ...          ...          ...                   ...   \n",
              "84116             N            0     135000.0               Working   \n",
              "237621            N            0      90000.0  Commercial associate   \n",
              "23541             Y            2      54000.0               Working   \n",
              "62035             N            0     135000.0             Pensioner   \n",
              "84793             Y            0     157500.0             Pensioner   \n",
              "\n",
              "       NIVEAU_ETUDE  AGE  ANCIENNETE_EMPLOI  SCORE_REGION  HEURE_APP  \\\n",
              "174485      ENS_SUP   51                  6             2          6   \n",
              "215961      ENS_SUP   35                  7             2          6   \n",
              "128803          BAC   38                  1             1         12   \n",
              "207088      ENS_SUP   37                 18             3          7   \n",
              "139343          BAC   28                  1             2         15   \n",
              "...             ...  ...                ...           ...        ...   \n",
              "84116           BAC   54                  2             2          6   \n",
              "237621      ENS_SUP   30                  2             3         18   \n",
              "23541           BAC   31                 13             2         13   \n",
              "62035           BAC   69                  0             2         17   \n",
              "84793           BAC   58                  0             3         10   \n",
              "\n",
              "                               SECTEUR_ACTIVITE  SCORE_2_EXT  \\\n",
              "174485           Government and Public Services     0.757026   \n",
              "215961           Government and Public Services     0.758876   \n",
              "128803                          Business Entity     0.682737   \n",
              "207088           Government and Public Services     0.094467   \n",
              "139343  Self-Employed and Professional Services     0.712459   \n",
              "...                                         ...          ...   \n",
              "84116                        Industry and Trade     0.618362   \n",
              "237621                         Other Categories     0.563478   \n",
              "23541                                 Education     0.270747   \n",
              "62035                                  Inactive     0.292709   \n",
              "84793                                  Inactive     0.330438   \n",
              "\n",
              "        CC_NOMBRE_RETRAIT_MOYEN  POS_PROGRESS_MAX_MIN  CB_SOMME_DUES_RETARD  \\\n",
              "174485                 0.000000             66.666667                   0.0   \n",
              "215961                 0.045455            100.000000                   0.0   \n",
              "128803                 0.714286            100.000000                   0.0   \n",
              "207088                 0.000000             75.000000                   0.0   \n",
              "139343                 0.000000            100.000000                   0.0   \n",
              "...                         ...                   ...                   ...   \n",
              "84116                  0.000000            100.000000                   0.0   \n",
              "237621                 6.727273              0.000000                   0.0   \n",
              "23541                  0.000000             88.888889                   0.0   \n",
              "62035                  0.000000             91.666667                   0.0   \n",
              "84793                  0.000000             33.333333                   0.0   \n",
              "\n",
              "        RATIO_CREDIT_REVENU  CC_RATIO_CREDIT  NBRE_CONTRAT_ACTIFS  \\\n",
              "174485                 1.62             0.00                  2.0   \n",
              "215961                 4.20            48.64                  1.0   \n",
              "128803                 4.39            48.23                  2.0   \n",
              "207088                 8.16             0.00                  2.0   \n",
              "139343                 2.40             0.00                  0.0   \n",
              "...                     ...              ...                  ...   \n",
              "84116                  4.17             0.00                  1.0   \n",
              "237621                 4.35            58.44                  1.0   \n",
              "23541                  0.89             0.00                  3.0   \n",
              "62035                  1.83             0.00                  1.0   \n",
              "84793                  3.46             0.00                  1.0   \n",
              "\n",
              "        NBRE_J_RETARD  CHARGES_ANNUEL  ANCIENNETE_CREDIT  \n",
              "174485       0.600000    54463.500000               80.0  \n",
              "215961       1.358703    39783.980455               96.0  \n",
              "128803       0.081967    20423.449286               88.0  \n",
              "207088       0.040000    43074.000000               95.0  \n",
              "139343       0.000000    41544.000000               24.0  \n",
              "...               ...             ...                ...  \n",
              "84116        0.000000    20349.000000                6.0  \n",
              "237621       0.000000    41733.638182               11.0  \n",
              "23541        1.617647     5823.000000               89.0  \n",
              "62035        2.260870    15988.500000               93.0  \n",
              "84793        0.000000    25537.500000                5.0  \n",
              "\n",
              "[49493 rows x 20 columns]"
            ],
            "text/html": [
              "\n",
              "  <div id=\"df-8d82433c-582c-4866-a94c-88fbfa85ac66\" class=\"colab-df-container\">\n",
              "    <div>\n",
              "<style scoped>\n",
              "    .dataframe tbody tr th:only-of-type {\n",
              "        vertical-align: middle;\n",
              "    }\n",
              "\n",
              "    .dataframe tbody tr th {\n",
              "        vertical-align: top;\n",
              "    }\n",
              "\n",
              "    .dataframe thead th {\n",
              "        text-align: right;\n",
              "    }\n",
              "</style>\n",
              "<table border=\"1\" class=\"dataframe\">\n",
              "  <thead>\n",
              "    <tr style=\"text-align: right;\">\n",
              "      <th></th>\n",
              "      <th>PROPRIETAIRE</th>\n",
              "      <th>NBRE_ENFANT</th>\n",
              "      <th>REVENUS_TOT</th>\n",
              "      <th>OCCUPATION</th>\n",
              "      <th>NIVEAU_ETUDE</th>\n",
              "      <th>AGE</th>\n",
              "      <th>ANCIENNETE_EMPLOI</th>\n",
              "      <th>SCORE_REGION</th>\n",
              "      <th>HEURE_APP</th>\n",
              "      <th>SECTEUR_ACTIVITE</th>\n",
              "      <th>SCORE_2_EXT</th>\n",
              "      <th>CC_NOMBRE_RETRAIT_MOYEN</th>\n",
              "      <th>POS_PROGRESS_MAX_MIN</th>\n",
              "      <th>CB_SOMME_DUES_RETARD</th>\n",
              "      <th>RATIO_CREDIT_REVENU</th>\n",
              "      <th>CC_RATIO_CREDIT</th>\n",
              "      <th>NBRE_CONTRAT_ACTIFS</th>\n",
              "      <th>NBRE_J_RETARD</th>\n",
              "      <th>CHARGES_ANNUEL</th>\n",
              "      <th>ANCIENNETE_CREDIT</th>\n",
              "    </tr>\n",
              "  </thead>\n",
              "  <tbody>\n",
              "    <tr>\n",
              "      <th>174485</th>\n",
              "      <td>N</td>\n",
              "      <td>0</td>\n",
              "      <td>450000.0</td>\n",
              "      <td>State servant</td>\n",
              "      <td>ENS_SUP</td>\n",
              "      <td>51</td>\n",
              "      <td>6</td>\n",
              "      <td>2</td>\n",
              "      <td>6</td>\n",
              "      <td>Government and Public Services</td>\n",
              "      <td>0.757026</td>\n",
              "      <td>0.000000</td>\n",
              "      <td>66.666667</td>\n",
              "      <td>0.0</td>\n",
              "      <td>1.62</td>\n",
              "      <td>0.00</td>\n",
              "      <td>2.0</td>\n",
              "      <td>0.600000</td>\n",
              "      <td>54463.500000</td>\n",
              "      <td>80.0</td>\n",
              "    </tr>\n",
              "    <tr>\n",
              "      <th>215961</th>\n",
              "      <td>N</td>\n",
              "      <td>0</td>\n",
              "      <td>180000.0</td>\n",
              "      <td>State servant</td>\n",
              "      <td>ENS_SUP</td>\n",
              "      <td>35</td>\n",
              "      <td>7</td>\n",
              "      <td>2</td>\n",
              "      <td>6</td>\n",
              "      <td>Government and Public Services</td>\n",
              "      <td>0.758876</td>\n",
              "      <td>0.045455</td>\n",
              "      <td>100.000000</td>\n",
              "      <td>0.0</td>\n",
              "      <td>4.20</td>\n",
              "      <td>48.64</td>\n",
              "      <td>1.0</td>\n",
              "      <td>1.358703</td>\n",
              "      <td>39783.980455</td>\n",
              "      <td>96.0</td>\n",
              "    </tr>\n",
              "    <tr>\n",
              "      <th>128803</th>\n",
              "      <td>N</td>\n",
              "      <td>2</td>\n",
              "      <td>135000.0</td>\n",
              "      <td>Working</td>\n",
              "      <td>BAC</td>\n",
              "      <td>38</td>\n",
              "      <td>1</td>\n",
              "      <td>1</td>\n",
              "      <td>12</td>\n",
              "      <td>Business Entity</td>\n",
              "      <td>0.682737</td>\n",
              "      <td>0.714286</td>\n",
              "      <td>100.000000</td>\n",
              "      <td>0.0</td>\n",
              "      <td>4.39</td>\n",
              "      <td>48.23</td>\n",
              "      <td>2.0</td>\n",
              "      <td>0.081967</td>\n",
              "      <td>20423.449286</td>\n",
              "      <td>88.0</td>\n",
              "    </tr>\n",
              "    <tr>\n",
              "      <th>207088</th>\n",
              "      <td>Y</td>\n",
              "      <td>1</td>\n",
              "      <td>180000.0</td>\n",
              "      <td>Working</td>\n",
              "      <td>ENS_SUP</td>\n",
              "      <td>37</td>\n",
              "      <td>18</td>\n",
              "      <td>3</td>\n",
              "      <td>7</td>\n",
              "      <td>Government and Public Services</td>\n",
              "      <td>0.094467</td>\n",
              "      <td>0.000000</td>\n",
              "      <td>75.000000</td>\n",
              "      <td>0.0</td>\n",
              "      <td>8.16</td>\n",
              "      <td>0.00</td>\n",
              "      <td>2.0</td>\n",
              "      <td>0.040000</td>\n",
              "      <td>43074.000000</td>\n",
              "      <td>95.0</td>\n",
              "    </tr>\n",
              "    <tr>\n",
              "      <th>139343</th>\n",
              "      <td>N</td>\n",
              "      <td>0</td>\n",
              "      <td>202500.0</td>\n",
              "      <td>Working</td>\n",
              "      <td>BAC</td>\n",
              "      <td>28</td>\n",
              "      <td>1</td>\n",
              "      <td>2</td>\n",
              "      <td>15</td>\n",
              "      <td>Self-Employed and Professional Services</td>\n",
              "      <td>0.712459</td>\n",
              "      <td>0.000000</td>\n",
              "      <td>100.000000</td>\n",
              "      <td>0.0</td>\n",
              "      <td>2.40</td>\n",
              "      <td>0.00</td>\n",
              "      <td>0.0</td>\n",
              "      <td>0.000000</td>\n",
              "      <td>41544.000000</td>\n",
              "      <td>24.0</td>\n",
              "    </tr>\n",
              "    <tr>\n",
              "      <th>...</th>\n",
              "      <td>...</td>\n",
              "      <td>...</td>\n",
              "      <td>...</td>\n",
              "      <td>...</td>\n",
              "      <td>...</td>\n",
              "      <td>...</td>\n",
              "      <td>...</td>\n",
              "      <td>...</td>\n",
              "      <td>...</td>\n",
              "      <td>...</td>\n",
              "      <td>...</td>\n",
              "      <td>...</td>\n",
              "      <td>...</td>\n",
              "      <td>...</td>\n",
              "      <td>...</td>\n",
              "      <td>...</td>\n",
              "      <td>...</td>\n",
              "      <td>...</td>\n",
              "      <td>...</td>\n",
              "      <td>...</td>\n",
              "    </tr>\n",
              "    <tr>\n",
              "      <th>84116</th>\n",
              "      <td>N</td>\n",
              "      <td>0</td>\n",
              "      <td>135000.0</td>\n",
              "      <td>Working</td>\n",
              "      <td>BAC</td>\n",
              "      <td>54</td>\n",
              "      <td>2</td>\n",
              "      <td>2</td>\n",
              "      <td>6</td>\n",
              "      <td>Industry and Trade</td>\n",
              "      <td>0.618362</td>\n",
              "      <td>0.000000</td>\n",
              "      <td>100.000000</td>\n",
              "      <td>0.0</td>\n",
              "      <td>4.17</td>\n",
              "      <td>0.00</td>\n",
              "      <td>1.0</td>\n",
              "      <td>0.000000</td>\n",
              "      <td>20349.000000</td>\n",
              "      <td>6.0</td>\n",
              "    </tr>\n",
              "    <tr>\n",
              "      <th>237621</th>\n",
              "      <td>N</td>\n",
              "      <td>0</td>\n",
              "      <td>90000.0</td>\n",
              "      <td>Commercial associate</td>\n",
              "      <td>ENS_SUP</td>\n",
              "      <td>30</td>\n",
              "      <td>2</td>\n",
              "      <td>3</td>\n",
              "      <td>18</td>\n",
              "      <td>Other Categories</td>\n",
              "      <td>0.563478</td>\n",
              "      <td>6.727273</td>\n",
              "      <td>0.000000</td>\n",
              "      <td>0.0</td>\n",
              "      <td>4.35</td>\n",
              "      <td>58.44</td>\n",
              "      <td>1.0</td>\n",
              "      <td>0.000000</td>\n",
              "      <td>41733.638182</td>\n",
              "      <td>11.0</td>\n",
              "    </tr>\n",
              "    <tr>\n",
              "      <th>23541</th>\n",
              "      <td>Y</td>\n",
              "      <td>2</td>\n",
              "      <td>54000.0</td>\n",
              "      <td>Working</td>\n",
              "      <td>BAC</td>\n",
              "      <td>31</td>\n",
              "      <td>13</td>\n",
              "      <td>2</td>\n",
              "      <td>13</td>\n",
              "      <td>Education</td>\n",
              "      <td>0.270747</td>\n",
              "      <td>0.000000</td>\n",
              "      <td>88.888889</td>\n",
              "      <td>0.0</td>\n",
              "      <td>0.89</td>\n",
              "      <td>0.00</td>\n",
              "      <td>3.0</td>\n",
              "      <td>1.617647</td>\n",
              "      <td>5823.000000</td>\n",
              "      <td>89.0</td>\n",
              "    </tr>\n",
              "    <tr>\n",
              "      <th>62035</th>\n",
              "      <td>N</td>\n",
              "      <td>0</td>\n",
              "      <td>135000.0</td>\n",
              "      <td>Pensioner</td>\n",
              "      <td>BAC</td>\n",
              "      <td>69</td>\n",
              "      <td>0</td>\n",
              "      <td>2</td>\n",
              "      <td>17</td>\n",
              "      <td>Inactive</td>\n",
              "      <td>0.292709</td>\n",
              "      <td>0.000000</td>\n",
              "      <td>91.666667</td>\n",
              "      <td>0.0</td>\n",
              "      <td>1.83</td>\n",
              "      <td>0.00</td>\n",
              "      <td>1.0</td>\n",
              "      <td>2.260870</td>\n",
              "      <td>15988.500000</td>\n",
              "      <td>93.0</td>\n",
              "    </tr>\n",
              "    <tr>\n",
              "      <th>84793</th>\n",
              "      <td>Y</td>\n",
              "      <td>0</td>\n",
              "      <td>157500.0</td>\n",
              "      <td>Pensioner</td>\n",
              "      <td>BAC</td>\n",
              "      <td>58</td>\n",
              "      <td>0</td>\n",
              "      <td>3</td>\n",
              "      <td>10</td>\n",
              "      <td>Inactive</td>\n",
              "      <td>0.330438</td>\n",
              "      <td>0.000000</td>\n",
              "      <td>33.333333</td>\n",
              "      <td>0.0</td>\n",
              "      <td>3.46</td>\n",
              "      <td>0.00</td>\n",
              "      <td>1.0</td>\n",
              "      <td>0.000000</td>\n",
              "      <td>25537.500000</td>\n",
              "      <td>5.0</td>\n",
              "    </tr>\n",
              "  </tbody>\n",
              "</table>\n",
              "<p>49493 rows × 20 columns</p>\n",
              "</div>\n",
              "    <div class=\"colab-df-buttons\">\n",
              "\n",
              "  <div class=\"colab-df-container\">\n",
              "    <button class=\"colab-df-convert\" onclick=\"convertToInteractive('df-8d82433c-582c-4866-a94c-88fbfa85ac66')\"\n",
              "            title=\"Convert this dataframe to an interactive table.\"\n",
              "            style=\"display:none;\">\n",
              "\n",
              "  <svg xmlns=\"http://www.w3.org/2000/svg\" height=\"24px\" viewBox=\"0 -960 960 960\">\n",
              "    <path d=\"M120-120v-720h720v720H120Zm60-500h600v-160H180v160Zm220 220h160v-160H400v160Zm0 220h160v-160H400v160ZM180-400h160v-160H180v160Zm440 0h160v-160H620v160ZM180-180h160v-160H180v160Zm440 0h160v-160H620v160Z\"/>\n",
              "  </svg>\n",
              "    </button>\n",
              "\n",
              "  <style>\n",
              "    .colab-df-container {\n",
              "      display:flex;\n",
              "      gap: 12px;\n",
              "    }\n",
              "\n",
              "    .colab-df-convert {\n",
              "      background-color: #E8F0FE;\n",
              "      border: none;\n",
              "      border-radius: 50%;\n",
              "      cursor: pointer;\n",
              "      display: none;\n",
              "      fill: #1967D2;\n",
              "      height: 32px;\n",
              "      padding: 0 0 0 0;\n",
              "      width: 32px;\n",
              "    }\n",
              "\n",
              "    .colab-df-convert:hover {\n",
              "      background-color: #E2EBFA;\n",
              "      box-shadow: 0px 1px 2px rgba(60, 64, 67, 0.3), 0px 1px 3px 1px rgba(60, 64, 67, 0.15);\n",
              "      fill: #174EA6;\n",
              "    }\n",
              "\n",
              "    .colab-df-buttons div {\n",
              "      margin-bottom: 4px;\n",
              "    }\n",
              "\n",
              "    [theme=dark] .colab-df-convert {\n",
              "      background-color: #3B4455;\n",
              "      fill: #D2E3FC;\n",
              "    }\n",
              "\n",
              "    [theme=dark] .colab-df-convert:hover {\n",
              "      background-color: #434B5C;\n",
              "      box-shadow: 0px 1px 3px 1px rgba(0, 0, 0, 0.15);\n",
              "      filter: drop-shadow(0px 1px 2px rgba(0, 0, 0, 0.3));\n",
              "      fill: #FFFFFF;\n",
              "    }\n",
              "  </style>\n",
              "\n",
              "    <script>\n",
              "      const buttonEl =\n",
              "        document.querySelector('#df-8d82433c-582c-4866-a94c-88fbfa85ac66 button.colab-df-convert');\n",
              "      buttonEl.style.display =\n",
              "        google.colab.kernel.accessAllowed ? 'block' : 'none';\n",
              "\n",
              "      async function convertToInteractive(key) {\n",
              "        const element = document.querySelector('#df-8d82433c-582c-4866-a94c-88fbfa85ac66');\n",
              "        const dataTable =\n",
              "          await google.colab.kernel.invokeFunction('convertToInteractive',\n",
              "                                                    [key], {});\n",
              "        if (!dataTable) return;\n",
              "\n",
              "        const docLinkHtml = 'Like what you see? Visit the ' +\n",
              "          '<a target=\"_blank\" href=https://colab.research.google.com/notebooks/data_table.ipynb>data table notebook</a>'\n",
              "          + ' to learn more about interactive tables.';\n",
              "        element.innerHTML = '';\n",
              "        dataTable['output_type'] = 'display_data';\n",
              "        await google.colab.output.renderOutput(dataTable, element);\n",
              "        const docLink = document.createElement('div');\n",
              "        docLink.innerHTML = docLinkHtml;\n",
              "        element.appendChild(docLink);\n",
              "      }\n",
              "    </script>\n",
              "  </div>\n",
              "\n",
              "\n",
              "<div id=\"df-de9a60cf-0334-4d89-a1ff-7f0136253b1d\">\n",
              "  <button class=\"colab-df-quickchart\" onclick=\"quickchart('df-de9a60cf-0334-4d89-a1ff-7f0136253b1d')\"\n",
              "            title=\"Suggest charts.\"\n",
              "            style=\"display:none;\">\n",
              "\n",
              "<svg xmlns=\"http://www.w3.org/2000/svg\" height=\"24px\"viewBox=\"0 0 24 24\"\n",
              "     width=\"24px\">\n",
              "    <g>\n",
              "        <path d=\"M19 3H5c-1.1 0-2 .9-2 2v14c0 1.1.9 2 2 2h14c1.1 0 2-.9 2-2V5c0-1.1-.9-2-2-2zM9 17H7v-7h2v7zm4 0h-2V7h2v10zm4 0h-2v-4h2v4z\"/>\n",
              "    </g>\n",
              "</svg>\n",
              "  </button>\n",
              "\n",
              "<style>\n",
              "  .colab-df-quickchart {\n",
              "    background-color: #E8F0FE;\n",
              "    border: none;\n",
              "    border-radius: 50%;\n",
              "    cursor: pointer;\n",
              "    display: none;\n",
              "    fill: #1967D2;\n",
              "    height: 32px;\n",
              "    padding: 0 0 0 0;\n",
              "    width: 32px;\n",
              "  }\n",
              "\n",
              "  .colab-df-quickchart:hover {\n",
              "    background-color: #E2EBFA;\n",
              "    box-shadow: 0px 1px 2px rgba(60, 64, 67, 0.3), 0px 1px 3px 1px rgba(60, 64, 67, 0.15);\n",
              "    fill: #174EA6;\n",
              "  }\n",
              "\n",
              "  [theme=dark] .colab-df-quickchart {\n",
              "    background-color: #3B4455;\n",
              "    fill: #D2E3FC;\n",
              "  }\n",
              "\n",
              "  [theme=dark] .colab-df-quickchart:hover {\n",
              "    background-color: #434B5C;\n",
              "    box-shadow: 0px 1px 3px 1px rgba(0, 0, 0, 0.15);\n",
              "    filter: drop-shadow(0px 1px 2px rgba(0, 0, 0, 0.3));\n",
              "    fill: #FFFFFF;\n",
              "  }\n",
              "</style>\n",
              "\n",
              "  <script>\n",
              "    async function quickchart(key) {\n",
              "      const charts = await google.colab.kernel.invokeFunction(\n",
              "          'suggestCharts', [key], {});\n",
              "    }\n",
              "    (() => {\n",
              "      let quickchartButtonEl =\n",
              "        document.querySelector('#df-de9a60cf-0334-4d89-a1ff-7f0136253b1d button');\n",
              "      quickchartButtonEl.style.display =\n",
              "        google.colab.kernel.accessAllowed ? 'block' : 'none';\n",
              "    })();\n",
              "  </script>\n",
              "</div>\n",
              "    </div>\n",
              "  </div>\n"
            ]
          },
          "metadata": {},
          "execution_count": 67
        }
      ],
      "source": [
        "Xtrain"
      ]
    },
    {
      "cell_type": "code",
      "execution_count": 68,
      "metadata": {
        "colab": {
          "base_uri": "https://localhost:8080/",
          "height": 115
        },
        "id": "4Yv3wMuA5-VD",
        "outputId": "75f03716-7947-40d3-b6cd-e18387aa97a8"
      },
      "outputs": [
        {
          "output_type": "execute_result",
          "data": {
            "text/plain": [
              "ColumnTransformer(remainder='passthrough',\n",
              "                  transformers=[('oneHot', OneHotEncoder(use_cat_names=True),\n",
              "                                 ['PROPRIETAIRE', 'NIVEAU_ETUDE',\n",
              "                                  'OCCUPATION']),\n",
              "                                ('frequency',\n",
              "                                 FunctionTransformer(func=<function frequency_encode at 0x7c2e3ea928c0>),\n",
              "                                 ['SECTEUR_ACTIVITE'])])"
            ],
            "text/html": [
              "<style>#sk-container-id-4 {color: black;background-color: white;}#sk-container-id-4 pre{padding: 0;}#sk-container-id-4 div.sk-toggleable {background-color: white;}#sk-container-id-4 label.sk-toggleable__label {cursor: pointer;display: block;width: 100%;margin-bottom: 0;padding: 0.3em;box-sizing: border-box;text-align: center;}#sk-container-id-4 label.sk-toggleable__label-arrow:before {content: \"▸\";float: left;margin-right: 0.25em;color: #696969;}#sk-container-id-4 label.sk-toggleable__label-arrow:hover:before {color: black;}#sk-container-id-4 div.sk-estimator:hover label.sk-toggleable__label-arrow:before {color: black;}#sk-container-id-4 div.sk-toggleable__content {max-height: 0;max-width: 0;overflow: hidden;text-align: left;background-color: #f0f8ff;}#sk-container-id-4 div.sk-toggleable__content pre {margin: 0.2em;color: black;border-radius: 0.25em;background-color: #f0f8ff;}#sk-container-id-4 input.sk-toggleable__control:checked~div.sk-toggleable__content {max-height: 200px;max-width: 100%;overflow: auto;}#sk-container-id-4 input.sk-toggleable__control:checked~label.sk-toggleable__label-arrow:before {content: \"▾\";}#sk-container-id-4 div.sk-estimator input.sk-toggleable__control:checked~label.sk-toggleable__label {background-color: #d4ebff;}#sk-container-id-4 div.sk-label input.sk-toggleable__control:checked~label.sk-toggleable__label {background-color: #d4ebff;}#sk-container-id-4 input.sk-hidden--visually {border: 0;clip: rect(1px 1px 1px 1px);clip: rect(1px, 1px, 1px, 1px);height: 1px;margin: -1px;overflow: hidden;padding: 0;position: absolute;width: 1px;}#sk-container-id-4 div.sk-estimator {font-family: monospace;background-color: #f0f8ff;border: 1px dotted black;border-radius: 0.25em;box-sizing: border-box;margin-bottom: 0.5em;}#sk-container-id-4 div.sk-estimator:hover {background-color: #d4ebff;}#sk-container-id-4 div.sk-parallel-item::after {content: \"\";width: 100%;border-bottom: 1px solid gray;flex-grow: 1;}#sk-container-id-4 div.sk-label:hover label.sk-toggleable__label {background-color: #d4ebff;}#sk-container-id-4 div.sk-serial::before {content: \"\";position: absolute;border-left: 1px solid gray;box-sizing: border-box;top: 0;bottom: 0;left: 50%;z-index: 0;}#sk-container-id-4 div.sk-serial {display: flex;flex-direction: column;align-items: center;background-color: white;padding-right: 0.2em;padding-left: 0.2em;position: relative;}#sk-container-id-4 div.sk-item {position: relative;z-index: 1;}#sk-container-id-4 div.sk-parallel {display: flex;align-items: stretch;justify-content: center;background-color: white;position: relative;}#sk-container-id-4 div.sk-item::before, #sk-container-id-4 div.sk-parallel-item::before {content: \"\";position: absolute;border-left: 1px solid gray;box-sizing: border-box;top: 0;bottom: 0;left: 50%;z-index: -1;}#sk-container-id-4 div.sk-parallel-item {display: flex;flex-direction: column;z-index: 1;position: relative;background-color: white;}#sk-container-id-4 div.sk-parallel-item:first-child::after {align-self: flex-end;width: 50%;}#sk-container-id-4 div.sk-parallel-item:last-child::after {align-self: flex-start;width: 50%;}#sk-container-id-4 div.sk-parallel-item:only-child::after {width: 0;}#sk-container-id-4 div.sk-dashed-wrapped {border: 1px dashed gray;margin: 0 0.4em 0.5em 0.4em;box-sizing: border-box;padding-bottom: 0.4em;background-color: white;}#sk-container-id-4 div.sk-label label {font-family: monospace;font-weight: bold;display: inline-block;line-height: 1.2em;}#sk-container-id-4 div.sk-label-container {text-align: center;}#sk-container-id-4 div.sk-container {/* jupyter's `normalize.less` sets `[hidden] { display: none; }` but bootstrap.min.css set `[hidden] { display: none !important; }` so we also need the `!important` here to be able to override the default hidden behavior on the sphinx rendered scikit-learn.org. See: https://github.com/scikit-learn/scikit-learn/issues/21755 */display: inline-block !important;position: relative;}#sk-container-id-4 div.sk-text-repr-fallback {display: none;}</style><div id=\"sk-container-id-4\" class=\"sk-top-container\"><div class=\"sk-text-repr-fallback\"><pre>ColumnTransformer(remainder=&#x27;passthrough&#x27;,\n",
              "                  transformers=[(&#x27;oneHot&#x27;, OneHotEncoder(use_cat_names=True),\n",
              "                                 [&#x27;PROPRIETAIRE&#x27;, &#x27;NIVEAU_ETUDE&#x27;,\n",
              "                                  &#x27;OCCUPATION&#x27;]),\n",
              "                                (&#x27;frequency&#x27;,\n",
              "                                 FunctionTransformer(func=&lt;function frequency_encode at 0x7c2e3ea928c0&gt;),\n",
              "                                 [&#x27;SECTEUR_ACTIVITE&#x27;])])</pre><b>In a Jupyter environment, please rerun this cell to show the HTML representation or trust the notebook. <br />On GitHub, the HTML representation is unable to render, please try loading this page with nbviewer.org.</b></div><div class=\"sk-container\" hidden><div class=\"sk-item sk-dashed-wrapped\"><div class=\"sk-label-container\"><div class=\"sk-label sk-toggleable\"><input class=\"sk-toggleable__control sk-hidden--visually\" id=\"sk-estimator-id-10\" type=\"checkbox\" ><label for=\"sk-estimator-id-10\" class=\"sk-toggleable__label sk-toggleable__label-arrow\">ColumnTransformer</label><div class=\"sk-toggleable__content\"><pre>ColumnTransformer(remainder=&#x27;passthrough&#x27;,\n",
              "                  transformers=[(&#x27;oneHot&#x27;, OneHotEncoder(use_cat_names=True),\n",
              "                                 [&#x27;PROPRIETAIRE&#x27;, &#x27;NIVEAU_ETUDE&#x27;,\n",
              "                                  &#x27;OCCUPATION&#x27;]),\n",
              "                                (&#x27;frequency&#x27;,\n",
              "                                 FunctionTransformer(func=&lt;function frequency_encode at 0x7c2e3ea928c0&gt;),\n",
              "                                 [&#x27;SECTEUR_ACTIVITE&#x27;])])</pre></div></div></div><div class=\"sk-parallel\"><div class=\"sk-parallel-item\"><div class=\"sk-item\"><div class=\"sk-label-container\"><div class=\"sk-label sk-toggleable\"><input class=\"sk-toggleable__control sk-hidden--visually\" id=\"sk-estimator-id-11\" type=\"checkbox\" ><label for=\"sk-estimator-id-11\" class=\"sk-toggleable__label sk-toggleable__label-arrow\">oneHot</label><div class=\"sk-toggleable__content\"><pre>[&#x27;PROPRIETAIRE&#x27;, &#x27;NIVEAU_ETUDE&#x27;, &#x27;OCCUPATION&#x27;]</pre></div></div></div><div class=\"sk-serial\"><div class=\"sk-item\"><div class=\"sk-estimator sk-toggleable\"><input class=\"sk-toggleable__control sk-hidden--visually\" id=\"sk-estimator-id-12\" type=\"checkbox\" ><label for=\"sk-estimator-id-12\" class=\"sk-toggleable__label sk-toggleable__label-arrow\">OneHotEncoder</label><div class=\"sk-toggleable__content\"><pre>OneHotEncoder(use_cat_names=True)</pre></div></div></div></div></div></div><div class=\"sk-parallel-item\"><div class=\"sk-item\"><div class=\"sk-label-container\"><div class=\"sk-label sk-toggleable\"><input class=\"sk-toggleable__control sk-hidden--visually\" id=\"sk-estimator-id-13\" type=\"checkbox\" ><label for=\"sk-estimator-id-13\" class=\"sk-toggleable__label sk-toggleable__label-arrow\">frequency</label><div class=\"sk-toggleable__content\"><pre>[&#x27;SECTEUR_ACTIVITE&#x27;]</pre></div></div></div><div class=\"sk-serial\"><div class=\"sk-item\"><div class=\"sk-estimator sk-toggleable\"><input class=\"sk-toggleable__control sk-hidden--visually\" id=\"sk-estimator-id-14\" type=\"checkbox\" ><label for=\"sk-estimator-id-14\" class=\"sk-toggleable__label sk-toggleable__label-arrow\">FunctionTransformer</label><div class=\"sk-toggleable__content\"><pre>FunctionTransformer(func=&lt;function frequency_encode at 0x7c2e3ea928c0&gt;)</pre></div></div></div></div></div></div><div class=\"sk-parallel-item\"><div class=\"sk-item\"><div class=\"sk-label-container\"><div class=\"sk-label sk-toggleable\"><input class=\"sk-toggleable__control sk-hidden--visually\" id=\"sk-estimator-id-15\" type=\"checkbox\" ><label for=\"sk-estimator-id-15\" class=\"sk-toggleable__label sk-toggleable__label-arrow\">remainder</label><div class=\"sk-toggleable__content\"><pre>[&#x27;NBRE_ENFANT&#x27;, &#x27;REVENUS_TOT&#x27;, &#x27;AGE&#x27;, &#x27;ANCIENNETE_EMPLOI&#x27;, &#x27;SCORE_REGION&#x27;, &#x27;HEURE_APP&#x27;, &#x27;SCORE_2_EXT&#x27;, &#x27;CC_NOMBRE_RETRAIT_MOYEN&#x27;, &#x27;POS_PROGRESS_MAX_MIN&#x27;, &#x27;CB_SOMME_DUES_RETARD&#x27;, &#x27;RATIO_CREDIT_REVENU&#x27;, &#x27;CC_RATIO_CREDIT&#x27;, &#x27;NBRE_CONTRAT_ACTIFS&#x27;, &#x27;NBRE_J_RETARD&#x27;, &#x27;CHARGES_ANNUEL&#x27;, &#x27;ANCIENNETE_CREDIT&#x27;]</pre></div></div></div><div class=\"sk-serial\"><div class=\"sk-item\"><div class=\"sk-estimator sk-toggleable\"><input class=\"sk-toggleable__control sk-hidden--visually\" id=\"sk-estimator-id-16\" type=\"checkbox\" ><label for=\"sk-estimator-id-16\" class=\"sk-toggleable__label sk-toggleable__label-arrow\">passthrough</label><div class=\"sk-toggleable__content\"><pre>passthrough</pre></div></div></div></div></div></div></div></div></div></div>"
            ]
          },
          "metadata": {},
          "execution_count": 68
        }
      ],
      "source": [
        "#Vérification du feature engineering\n",
        "ct = preprocessor.fit(Xtrain,ytrain)\n",
        "ct.set_output(transform=\"pandas\")"
      ]
    },
    {
      "cell_type": "code",
      "execution_count": 69,
      "metadata": {
        "colab": {
          "base_uri": "https://localhost:8080/"
        },
        "id": "x6LrW74FmPA6",
        "outputId": "5f89cb5f-b12a-4aa8-f234-7597e1b1c99a"
      },
      "outputs": [
        {
          "output_type": "execute_result",
          "data": {
            "text/plain": [
              "['preprocessing_2.pkl']"
            ]
          },
          "metadata": {},
          "execution_count": 69
        }
      ],
      "source": [
        "import joblib\n",
        "\n",
        "# Importation du pré-traitement.\n",
        "joblib.dump(ct,'preprocessing_2.pkl')"
      ]
    },
    {
      "cell_type": "code",
      "execution_count": 70,
      "metadata": {
        "colab": {
          "base_uri": "https://localhost:8080/",
          "height": 456
        },
        "id": "mUgd9-Sa6PQF",
        "outputId": "abc051f5-91b3-4218-f853-daedfb5bdf32"
      },
      "outputs": [
        {
          "output_type": "execute_result",
          "data": {
            "text/plain": [
              "        oneHot__PROPRIETAIRE_N  oneHot__PROPRIETAIRE_Y  \\\n",
              "174485                       1                       0   \n",
              "215961                       1                       0   \n",
              "128803                       1                       0   \n",
              "207088                       0                       1   \n",
              "139343                       1                       0   \n",
              "...                        ...                     ...   \n",
              "84116                        1                       0   \n",
              "237621                       1                       0   \n",
              "23541                        0                       1   \n",
              "62035                        1                       0   \n",
              "84793                        0                       1   \n",
              "\n",
              "        oneHot__NIVEAU_ETUDE_ENS_SUP  oneHot__NIVEAU_ETUDE_BAC  \\\n",
              "174485                             1                         0   \n",
              "215961                             1                         0   \n",
              "128803                             0                         1   \n",
              "207088                             1                         0   \n",
              "139343                             0                         1   \n",
              "...                              ...                       ...   \n",
              "84116                              0                         1   \n",
              "237621                             1                         0   \n",
              "23541                              0                         1   \n",
              "62035                              0                         1   \n",
              "84793                              0                         1   \n",
              "\n",
              "        oneHot__NIVEAU_ETUDE_COLLEGE  oneHot__OCCUPATION_State servant  \\\n",
              "174485                             0                                 1   \n",
              "215961                             0                                 1   \n",
              "128803                             0                                 0   \n",
              "207088                             0                                 0   \n",
              "139343                             0                                 0   \n",
              "...                              ...                               ...   \n",
              "84116                              0                                 0   \n",
              "237621                             0                                 0   \n",
              "23541                              0                                 0   \n",
              "62035                              0                                 0   \n",
              "84793                              0                                 0   \n",
              "\n",
              "        oneHot__OCCUPATION_Working  oneHot__OCCUPATION_Commercial associate  \\\n",
              "174485                           0                                        0   \n",
              "215961                           0                                        0   \n",
              "128803                           1                                        0   \n",
              "207088                           1                                        0   \n",
              "139343                           1                                        0   \n",
              "...                            ...                                      ...   \n",
              "84116                            1                                        0   \n",
              "237621                           0                                        1   \n",
              "23541                            1                                        0   \n",
              "62035                            0                                        0   \n",
              "84793                            0                                        0   \n",
              "\n",
              "        oneHot__OCCUPATION_Pensioner  oneHot__OCCUPATION_Unemployed  ...  \\\n",
              "174485                             0                              0  ...   \n",
              "215961                             0                              0  ...   \n",
              "128803                             0                              0  ...   \n",
              "207088                             0                              0  ...   \n",
              "139343                             0                              0  ...   \n",
              "...                              ...                            ...  ...   \n",
              "84116                              0                              0  ...   \n",
              "237621                             0                              0  ...   \n",
              "23541                              0                              0  ...   \n",
              "62035                              1                              0  ...   \n",
              "84793                              1                              0  ...   \n",
              "\n",
              "        remainder__SCORE_2_EXT  remainder__CC_NOMBRE_RETRAIT_MOYEN  \\\n",
              "174485                0.757026                            0.000000   \n",
              "215961                0.758876                            0.045455   \n",
              "128803                0.682737                            0.714286   \n",
              "207088                0.094467                            0.000000   \n",
              "139343                0.712459                            0.000000   \n",
              "...                        ...                                 ...   \n",
              "84116                 0.618362                            0.000000   \n",
              "237621                0.563478                            6.727273   \n",
              "23541                 0.270747                            0.000000   \n",
              "62035                 0.292709                            0.000000   \n",
              "84793                 0.330438                            0.000000   \n",
              "\n",
              "        remainder__POS_PROGRESS_MAX_MIN  remainder__CB_SOMME_DUES_RETARD  \\\n",
              "174485                        66.666667                              0.0   \n",
              "215961                       100.000000                              0.0   \n",
              "128803                       100.000000                              0.0   \n",
              "207088                        75.000000                              0.0   \n",
              "139343                       100.000000                              0.0   \n",
              "...                                 ...                              ...   \n",
              "84116                        100.000000                              0.0   \n",
              "237621                         0.000000                              0.0   \n",
              "23541                         88.888889                              0.0   \n",
              "62035                         91.666667                              0.0   \n",
              "84793                         33.333333                              0.0   \n",
              "\n",
              "        remainder__RATIO_CREDIT_REVENU  remainder__CC_RATIO_CREDIT  \\\n",
              "174485                            1.62                        0.00   \n",
              "215961                            4.20                       48.64   \n",
              "128803                            4.39                       48.23   \n",
              "207088                            8.16                        0.00   \n",
              "139343                            2.40                        0.00   \n",
              "...                                ...                         ...   \n",
              "84116                             4.17                        0.00   \n",
              "237621                            4.35                       58.44   \n",
              "23541                             0.89                        0.00   \n",
              "62035                             1.83                        0.00   \n",
              "84793                             3.46                        0.00   \n",
              "\n",
              "        remainder__NBRE_CONTRAT_ACTIFS  remainder__NBRE_J_RETARD  \\\n",
              "174485                             2.0                  0.600000   \n",
              "215961                             1.0                  1.358703   \n",
              "128803                             2.0                  0.081967   \n",
              "207088                             2.0                  0.040000   \n",
              "139343                             0.0                  0.000000   \n",
              "...                                ...                       ...   \n",
              "84116                              1.0                  0.000000   \n",
              "237621                             1.0                  0.000000   \n",
              "23541                              3.0                  1.617647   \n",
              "62035                              1.0                  2.260870   \n",
              "84793                              1.0                  0.000000   \n",
              "\n",
              "        remainder__CHARGES_ANNUEL  remainder__ANCIENNETE_CREDIT  \n",
              "174485               54463.500000                          80.0  \n",
              "215961               39783.980455                          96.0  \n",
              "128803               20423.449286                          88.0  \n",
              "207088               43074.000000                          95.0  \n",
              "139343               41544.000000                          24.0  \n",
              "...                           ...                           ...  \n",
              "84116                20349.000000                           6.0  \n",
              "237621               41733.638182                          11.0  \n",
              "23541                 5823.000000                          89.0  \n",
              "62035                15988.500000                          93.0  \n",
              "84793                25537.500000                           5.0  \n",
              "\n",
              "[49493 rows x 29 columns]"
            ],
            "text/html": [
              "\n",
              "  <div id=\"df-a8c4f699-51d7-4ec8-b450-ef65aabd15b4\" class=\"colab-df-container\">\n",
              "    <div>\n",
              "<style scoped>\n",
              "    .dataframe tbody tr th:only-of-type {\n",
              "        vertical-align: middle;\n",
              "    }\n",
              "\n",
              "    .dataframe tbody tr th {\n",
              "        vertical-align: top;\n",
              "    }\n",
              "\n",
              "    .dataframe thead th {\n",
              "        text-align: right;\n",
              "    }\n",
              "</style>\n",
              "<table border=\"1\" class=\"dataframe\">\n",
              "  <thead>\n",
              "    <tr style=\"text-align: right;\">\n",
              "      <th></th>\n",
              "      <th>oneHot__PROPRIETAIRE_N</th>\n",
              "      <th>oneHot__PROPRIETAIRE_Y</th>\n",
              "      <th>oneHot__NIVEAU_ETUDE_ENS_SUP</th>\n",
              "      <th>oneHot__NIVEAU_ETUDE_BAC</th>\n",
              "      <th>oneHot__NIVEAU_ETUDE_COLLEGE</th>\n",
              "      <th>oneHot__OCCUPATION_State servant</th>\n",
              "      <th>oneHot__OCCUPATION_Working</th>\n",
              "      <th>oneHot__OCCUPATION_Commercial associate</th>\n",
              "      <th>oneHot__OCCUPATION_Pensioner</th>\n",
              "      <th>oneHot__OCCUPATION_Unemployed</th>\n",
              "      <th>...</th>\n",
              "      <th>remainder__SCORE_2_EXT</th>\n",
              "      <th>remainder__CC_NOMBRE_RETRAIT_MOYEN</th>\n",
              "      <th>remainder__POS_PROGRESS_MAX_MIN</th>\n",
              "      <th>remainder__CB_SOMME_DUES_RETARD</th>\n",
              "      <th>remainder__RATIO_CREDIT_REVENU</th>\n",
              "      <th>remainder__CC_RATIO_CREDIT</th>\n",
              "      <th>remainder__NBRE_CONTRAT_ACTIFS</th>\n",
              "      <th>remainder__NBRE_J_RETARD</th>\n",
              "      <th>remainder__CHARGES_ANNUEL</th>\n",
              "      <th>remainder__ANCIENNETE_CREDIT</th>\n",
              "    </tr>\n",
              "  </thead>\n",
              "  <tbody>\n",
              "    <tr>\n",
              "      <th>174485</th>\n",
              "      <td>1</td>\n",
              "      <td>0</td>\n",
              "      <td>1</td>\n",
              "      <td>0</td>\n",
              "      <td>0</td>\n",
              "      <td>1</td>\n",
              "      <td>0</td>\n",
              "      <td>0</td>\n",
              "      <td>0</td>\n",
              "      <td>0</td>\n",
              "      <td>...</td>\n",
              "      <td>0.757026</td>\n",
              "      <td>0.000000</td>\n",
              "      <td>66.666667</td>\n",
              "      <td>0.0</td>\n",
              "      <td>1.62</td>\n",
              "      <td>0.00</td>\n",
              "      <td>2.0</td>\n",
              "      <td>0.600000</td>\n",
              "      <td>54463.500000</td>\n",
              "      <td>80.0</td>\n",
              "    </tr>\n",
              "    <tr>\n",
              "      <th>215961</th>\n",
              "      <td>1</td>\n",
              "      <td>0</td>\n",
              "      <td>1</td>\n",
              "      <td>0</td>\n",
              "      <td>0</td>\n",
              "      <td>1</td>\n",
              "      <td>0</td>\n",
              "      <td>0</td>\n",
              "      <td>0</td>\n",
              "      <td>0</td>\n",
              "      <td>...</td>\n",
              "      <td>0.758876</td>\n",
              "      <td>0.045455</td>\n",
              "      <td>100.000000</td>\n",
              "      <td>0.0</td>\n",
              "      <td>4.20</td>\n",
              "      <td>48.64</td>\n",
              "      <td>1.0</td>\n",
              "      <td>1.358703</td>\n",
              "      <td>39783.980455</td>\n",
              "      <td>96.0</td>\n",
              "    </tr>\n",
              "    <tr>\n",
              "      <th>128803</th>\n",
              "      <td>1</td>\n",
              "      <td>0</td>\n",
              "      <td>0</td>\n",
              "      <td>1</td>\n",
              "      <td>0</td>\n",
              "      <td>0</td>\n",
              "      <td>1</td>\n",
              "      <td>0</td>\n",
              "      <td>0</td>\n",
              "      <td>0</td>\n",
              "      <td>...</td>\n",
              "      <td>0.682737</td>\n",
              "      <td>0.714286</td>\n",
              "      <td>100.000000</td>\n",
              "      <td>0.0</td>\n",
              "      <td>4.39</td>\n",
              "      <td>48.23</td>\n",
              "      <td>2.0</td>\n",
              "      <td>0.081967</td>\n",
              "      <td>20423.449286</td>\n",
              "      <td>88.0</td>\n",
              "    </tr>\n",
              "    <tr>\n",
              "      <th>207088</th>\n",
              "      <td>0</td>\n",
              "      <td>1</td>\n",
              "      <td>1</td>\n",
              "      <td>0</td>\n",
              "      <td>0</td>\n",
              "      <td>0</td>\n",
              "      <td>1</td>\n",
              "      <td>0</td>\n",
              "      <td>0</td>\n",
              "      <td>0</td>\n",
              "      <td>...</td>\n",
              "      <td>0.094467</td>\n",
              "      <td>0.000000</td>\n",
              "      <td>75.000000</td>\n",
              "      <td>0.0</td>\n",
              "      <td>8.16</td>\n",
              "      <td>0.00</td>\n",
              "      <td>2.0</td>\n",
              "      <td>0.040000</td>\n",
              "      <td>43074.000000</td>\n",
              "      <td>95.0</td>\n",
              "    </tr>\n",
              "    <tr>\n",
              "      <th>139343</th>\n",
              "      <td>1</td>\n",
              "      <td>0</td>\n",
              "      <td>0</td>\n",
              "      <td>1</td>\n",
              "      <td>0</td>\n",
              "      <td>0</td>\n",
              "      <td>1</td>\n",
              "      <td>0</td>\n",
              "      <td>0</td>\n",
              "      <td>0</td>\n",
              "      <td>...</td>\n",
              "      <td>0.712459</td>\n",
              "      <td>0.000000</td>\n",
              "      <td>100.000000</td>\n",
              "      <td>0.0</td>\n",
              "      <td>2.40</td>\n",
              "      <td>0.00</td>\n",
              "      <td>0.0</td>\n",
              "      <td>0.000000</td>\n",
              "      <td>41544.000000</td>\n",
              "      <td>24.0</td>\n",
              "    </tr>\n",
              "    <tr>\n",
              "      <th>...</th>\n",
              "      <td>...</td>\n",
              "      <td>...</td>\n",
              "      <td>...</td>\n",
              "      <td>...</td>\n",
              "      <td>...</td>\n",
              "      <td>...</td>\n",
              "      <td>...</td>\n",
              "      <td>...</td>\n",
              "      <td>...</td>\n",
              "      <td>...</td>\n",
              "      <td>...</td>\n",
              "      <td>...</td>\n",
              "      <td>...</td>\n",
              "      <td>...</td>\n",
              "      <td>...</td>\n",
              "      <td>...</td>\n",
              "      <td>...</td>\n",
              "      <td>...</td>\n",
              "      <td>...</td>\n",
              "      <td>...</td>\n",
              "      <td>...</td>\n",
              "    </tr>\n",
              "    <tr>\n",
              "      <th>84116</th>\n",
              "      <td>1</td>\n",
              "      <td>0</td>\n",
              "      <td>0</td>\n",
              "      <td>1</td>\n",
              "      <td>0</td>\n",
              "      <td>0</td>\n",
              "      <td>1</td>\n",
              "      <td>0</td>\n",
              "      <td>0</td>\n",
              "      <td>0</td>\n",
              "      <td>...</td>\n",
              "      <td>0.618362</td>\n",
              "      <td>0.000000</td>\n",
              "      <td>100.000000</td>\n",
              "      <td>0.0</td>\n",
              "      <td>4.17</td>\n",
              "      <td>0.00</td>\n",
              "      <td>1.0</td>\n",
              "      <td>0.000000</td>\n",
              "      <td>20349.000000</td>\n",
              "      <td>6.0</td>\n",
              "    </tr>\n",
              "    <tr>\n",
              "      <th>237621</th>\n",
              "      <td>1</td>\n",
              "      <td>0</td>\n",
              "      <td>1</td>\n",
              "      <td>0</td>\n",
              "      <td>0</td>\n",
              "      <td>0</td>\n",
              "      <td>0</td>\n",
              "      <td>1</td>\n",
              "      <td>0</td>\n",
              "      <td>0</td>\n",
              "      <td>...</td>\n",
              "      <td>0.563478</td>\n",
              "      <td>6.727273</td>\n",
              "      <td>0.000000</td>\n",
              "      <td>0.0</td>\n",
              "      <td>4.35</td>\n",
              "      <td>58.44</td>\n",
              "      <td>1.0</td>\n",
              "      <td>0.000000</td>\n",
              "      <td>41733.638182</td>\n",
              "      <td>11.0</td>\n",
              "    </tr>\n",
              "    <tr>\n",
              "      <th>23541</th>\n",
              "      <td>0</td>\n",
              "      <td>1</td>\n",
              "      <td>0</td>\n",
              "      <td>1</td>\n",
              "      <td>0</td>\n",
              "      <td>0</td>\n",
              "      <td>1</td>\n",
              "      <td>0</td>\n",
              "      <td>0</td>\n",
              "      <td>0</td>\n",
              "      <td>...</td>\n",
              "      <td>0.270747</td>\n",
              "      <td>0.000000</td>\n",
              "      <td>88.888889</td>\n",
              "      <td>0.0</td>\n",
              "      <td>0.89</td>\n",
              "      <td>0.00</td>\n",
              "      <td>3.0</td>\n",
              "      <td>1.617647</td>\n",
              "      <td>5823.000000</td>\n",
              "      <td>89.0</td>\n",
              "    </tr>\n",
              "    <tr>\n",
              "      <th>62035</th>\n",
              "      <td>1</td>\n",
              "      <td>0</td>\n",
              "      <td>0</td>\n",
              "      <td>1</td>\n",
              "      <td>0</td>\n",
              "      <td>0</td>\n",
              "      <td>0</td>\n",
              "      <td>0</td>\n",
              "      <td>1</td>\n",
              "      <td>0</td>\n",
              "      <td>...</td>\n",
              "      <td>0.292709</td>\n",
              "      <td>0.000000</td>\n",
              "      <td>91.666667</td>\n",
              "      <td>0.0</td>\n",
              "      <td>1.83</td>\n",
              "      <td>0.00</td>\n",
              "      <td>1.0</td>\n",
              "      <td>2.260870</td>\n",
              "      <td>15988.500000</td>\n",
              "      <td>93.0</td>\n",
              "    </tr>\n",
              "    <tr>\n",
              "      <th>84793</th>\n",
              "      <td>0</td>\n",
              "      <td>1</td>\n",
              "      <td>0</td>\n",
              "      <td>1</td>\n",
              "      <td>0</td>\n",
              "      <td>0</td>\n",
              "      <td>0</td>\n",
              "      <td>0</td>\n",
              "      <td>1</td>\n",
              "      <td>0</td>\n",
              "      <td>...</td>\n",
              "      <td>0.330438</td>\n",
              "      <td>0.000000</td>\n",
              "      <td>33.333333</td>\n",
              "      <td>0.0</td>\n",
              "      <td>3.46</td>\n",
              "      <td>0.00</td>\n",
              "      <td>1.0</td>\n",
              "      <td>0.000000</td>\n",
              "      <td>25537.500000</td>\n",
              "      <td>5.0</td>\n",
              "    </tr>\n",
              "  </tbody>\n",
              "</table>\n",
              "<p>49493 rows × 29 columns</p>\n",
              "</div>\n",
              "    <div class=\"colab-df-buttons\">\n",
              "\n",
              "  <div class=\"colab-df-container\">\n",
              "    <button class=\"colab-df-convert\" onclick=\"convertToInteractive('df-a8c4f699-51d7-4ec8-b450-ef65aabd15b4')\"\n",
              "            title=\"Convert this dataframe to an interactive table.\"\n",
              "            style=\"display:none;\">\n",
              "\n",
              "  <svg xmlns=\"http://www.w3.org/2000/svg\" height=\"24px\" viewBox=\"0 -960 960 960\">\n",
              "    <path d=\"M120-120v-720h720v720H120Zm60-500h600v-160H180v160Zm220 220h160v-160H400v160Zm0 220h160v-160H400v160ZM180-400h160v-160H180v160Zm440 0h160v-160H620v160ZM180-180h160v-160H180v160Zm440 0h160v-160H620v160Z\"/>\n",
              "  </svg>\n",
              "    </button>\n",
              "\n",
              "  <style>\n",
              "    .colab-df-container {\n",
              "      display:flex;\n",
              "      gap: 12px;\n",
              "    }\n",
              "\n",
              "    .colab-df-convert {\n",
              "      background-color: #E8F0FE;\n",
              "      border: none;\n",
              "      border-radius: 50%;\n",
              "      cursor: pointer;\n",
              "      display: none;\n",
              "      fill: #1967D2;\n",
              "      height: 32px;\n",
              "      padding: 0 0 0 0;\n",
              "      width: 32px;\n",
              "    }\n",
              "\n",
              "    .colab-df-convert:hover {\n",
              "      background-color: #E2EBFA;\n",
              "      box-shadow: 0px 1px 2px rgba(60, 64, 67, 0.3), 0px 1px 3px 1px rgba(60, 64, 67, 0.15);\n",
              "      fill: #174EA6;\n",
              "    }\n",
              "\n",
              "    .colab-df-buttons div {\n",
              "      margin-bottom: 4px;\n",
              "    }\n",
              "\n",
              "    [theme=dark] .colab-df-convert {\n",
              "      background-color: #3B4455;\n",
              "      fill: #D2E3FC;\n",
              "    }\n",
              "\n",
              "    [theme=dark] .colab-df-convert:hover {\n",
              "      background-color: #434B5C;\n",
              "      box-shadow: 0px 1px 3px 1px rgba(0, 0, 0, 0.15);\n",
              "      filter: drop-shadow(0px 1px 2px rgba(0, 0, 0, 0.3));\n",
              "      fill: #FFFFFF;\n",
              "    }\n",
              "  </style>\n",
              "\n",
              "    <script>\n",
              "      const buttonEl =\n",
              "        document.querySelector('#df-a8c4f699-51d7-4ec8-b450-ef65aabd15b4 button.colab-df-convert');\n",
              "      buttonEl.style.display =\n",
              "        google.colab.kernel.accessAllowed ? 'block' : 'none';\n",
              "\n",
              "      async function convertToInteractive(key) {\n",
              "        const element = document.querySelector('#df-a8c4f699-51d7-4ec8-b450-ef65aabd15b4');\n",
              "        const dataTable =\n",
              "          await google.colab.kernel.invokeFunction('convertToInteractive',\n",
              "                                                    [key], {});\n",
              "        if (!dataTable) return;\n",
              "\n",
              "        const docLinkHtml = 'Like what you see? Visit the ' +\n",
              "          '<a target=\"_blank\" href=https://colab.research.google.com/notebooks/data_table.ipynb>data table notebook</a>'\n",
              "          + ' to learn more about interactive tables.';\n",
              "        element.innerHTML = '';\n",
              "        dataTable['output_type'] = 'display_data';\n",
              "        await google.colab.output.renderOutput(dataTable, element);\n",
              "        const docLink = document.createElement('div');\n",
              "        docLink.innerHTML = docLinkHtml;\n",
              "        element.appendChild(docLink);\n",
              "      }\n",
              "    </script>\n",
              "  </div>\n",
              "\n",
              "\n",
              "<div id=\"df-7d3c9645-0631-4a6b-b331-98ba76183a8a\">\n",
              "  <button class=\"colab-df-quickchart\" onclick=\"quickchart('df-7d3c9645-0631-4a6b-b331-98ba76183a8a')\"\n",
              "            title=\"Suggest charts.\"\n",
              "            style=\"display:none;\">\n",
              "\n",
              "<svg xmlns=\"http://www.w3.org/2000/svg\" height=\"24px\"viewBox=\"0 0 24 24\"\n",
              "     width=\"24px\">\n",
              "    <g>\n",
              "        <path d=\"M19 3H5c-1.1 0-2 .9-2 2v14c0 1.1.9 2 2 2h14c1.1 0 2-.9 2-2V5c0-1.1-.9-2-2-2zM9 17H7v-7h2v7zm4 0h-2V7h2v10zm4 0h-2v-4h2v4z\"/>\n",
              "    </g>\n",
              "</svg>\n",
              "  </button>\n",
              "\n",
              "<style>\n",
              "  .colab-df-quickchart {\n",
              "    background-color: #E8F0FE;\n",
              "    border: none;\n",
              "    border-radius: 50%;\n",
              "    cursor: pointer;\n",
              "    display: none;\n",
              "    fill: #1967D2;\n",
              "    height: 32px;\n",
              "    padding: 0 0 0 0;\n",
              "    width: 32px;\n",
              "  }\n",
              "\n",
              "  .colab-df-quickchart:hover {\n",
              "    background-color: #E2EBFA;\n",
              "    box-shadow: 0px 1px 2px rgba(60, 64, 67, 0.3), 0px 1px 3px 1px rgba(60, 64, 67, 0.15);\n",
              "    fill: #174EA6;\n",
              "  }\n",
              "\n",
              "  [theme=dark] .colab-df-quickchart {\n",
              "    background-color: #3B4455;\n",
              "    fill: #D2E3FC;\n",
              "  }\n",
              "\n",
              "  [theme=dark] .colab-df-quickchart:hover {\n",
              "    background-color: #434B5C;\n",
              "    box-shadow: 0px 1px 3px 1px rgba(0, 0, 0, 0.15);\n",
              "    filter: drop-shadow(0px 1px 2px rgba(0, 0, 0, 0.3));\n",
              "    fill: #FFFFFF;\n",
              "  }\n",
              "</style>\n",
              "\n",
              "  <script>\n",
              "    async function quickchart(key) {\n",
              "      const charts = await google.colab.kernel.invokeFunction(\n",
              "          'suggestCharts', [key], {});\n",
              "    }\n",
              "    (() => {\n",
              "      let quickchartButtonEl =\n",
              "        document.querySelector('#df-7d3c9645-0631-4a6b-b331-98ba76183a8a button');\n",
              "      quickchartButtonEl.style.display =\n",
              "        google.colab.kernel.accessAllowed ? 'block' : 'none';\n",
              "    })();\n",
              "  </script>\n",
              "</div>\n",
              "    </div>\n",
              "  </div>\n"
            ]
          },
          "metadata": {},
          "execution_count": 70
        }
      ],
      "source": [
        "X_new_transformed = preprocessor.transform(Xtrain)\n",
        "X_new_transformed"
      ]
    },
    {
      "cell_type": "markdown",
      "metadata": {
        "id": "KGDnaV8sYJtZ"
      },
      "source": [
        "# <a name=\"C3\"> 3. Entraînement du modèle et score métier </a>"
      ]
    },
    {
      "cell_type": "code",
      "execution_count": 71,
      "metadata": {
        "id": "bTW8WJL8ahpW"
      },
      "outputs": [],
      "source": [
        "from sklearn.metrics import make_scorer, precision_score, recall_score, roc_auc_score\n",
        "from sklearn.metrics import confusion_matrix\n",
        "\n",
        "def recall_seuil(y_true, y_prob):\n",
        "    y_pred = ((y_prob >= threshold).astype(int)).astype(str)\n",
        "    return recall_score(y_true, y_pred,  pos_label = '1')\n",
        "\n",
        "def precision_seuil(y_true, y_prob):\n",
        "    y_pred = ((y_prob >= threshold).astype(int)).astype(str)\n",
        "    return precision_score(y_true, y_pred,  pos_label = '1')\n",
        "\n",
        "def fonction_cout(y_true, y_prob):\n",
        "    y_pred = ((y_prob >= threshold).astype(int)).astype(str)\n",
        "    cm = confusion_matrix(y_true, y_pred)\n",
        "    fn = cm[1, 0]  # Faux négatifs\n",
        "    fp = cm[0, 1]  # Faux positifs\n",
        "    cost = 10*fn + fp\n",
        "    return cost\n"
      ]
    },
    {
      "cell_type": "code",
      "execution_count": 72,
      "metadata": {
        "colab": {
          "base_uri": "https://localhost:8080/"
        },
        "id": "0IxHbmGmm5-G",
        "outputId": "4d0bb5ea-a977-4a30-da62-96111a90ee4c"
      },
      "outputs": [
        {
          "name": "stdout",
          "output_type": "stream",
          "text": [
            "Entrer le seuil de classification à tester :  0.45\n"
          ]
        }
      ],
      "source": [
        "threshold = float(input(\"Entrer le seuil de classification à tester :  \"))"
      ]
    },
    {
      "cell_type": "code",
      "execution_count": 73,
      "metadata": {
        "id": "GTnyN7l_zpS2"
      },
      "outputs": [],
      "source": [
        "from imblearn.pipeline import make_pipeline\n",
        "cv = 10\n",
        "\n",
        "#threshold = 0.4 # 0.4, 0.42, 0.43, 0.2\n",
        "\n",
        "score = {'accuracy': 'accuracy',\n",
        "         #'precision': metrics.make_scorer(precision_score, pos_label='1'),\n",
        "         #'recall' : metrics.make_scorer(recall_score, pos_label='1'),\n",
        "         'roc_auc' : metrics.make_scorer(roc_auc_score, needs_proba=True),\n",
        "         'recall': metrics.make_scorer(recall_seuil, needs_proba=True),\n",
        "         'precision': metrics.make_scorer(precision_seuil, needs_proba=True),\n",
        "         'score_metier': metrics.make_scorer(fonction_cout, greater_is_better=False, needs_proba=True),\n",
        "         }\n",
        "\n",
        "param_grid = models_dict[model][2]\n",
        "estimator = models_dict[model][0]\n",
        "\n",
        "if option == 2:\n",
        "  Pipe_smote = make_pipeline(\n",
        "      smote,\n",
        "      models_dict[model][0])\n",
        "  id_model = str(models_dict[model][0]).split('(')[0].lower()\n",
        "  param_grid_bis= {\n",
        "        id_model+'__' + k: v for k, v in param_grid.items()\n",
        "    }\n",
        "  Pipe_0 = make_pipeline(\n",
        "        preprocessor,\n",
        "        smote,\n",
        "        model_selection.GridSearchCV(\n",
        "            estimator=Pipe_smote,\n",
        "            param_grid=param_grid_bis,\n",
        "            cv=cv,\n",
        "            scoring=score,\n",
        "            refit='score_metier',\n",
        "            error_score='raise',\n",
        "            n_jobs=-1\n",
        "        ))\n",
        "else :\n",
        "  Pipe_0 = Pipeline([\n",
        "    ('preprocessor', preprocessor),\n",
        "    ('grid_search_'+model, model_selection.GridSearchCV(estimator=estimator,\n",
        "                                        param_grid=param_grid,\n",
        "                                        cv=cv,\n",
        "                                        scoring=score,\n",
        "                                        refit='score_metier',\n",
        "                                        error_score='raise',\n",
        "                                        n_jobs=-1))])"
      ]
    },
    {
      "cell_type": "code",
      "execution_count": 74,
      "metadata": {
        "colab": {
          "base_uri": "https://localhost:8080/"
        },
        "id": "Q8e0DnwUY3wR",
        "outputId": "370d67dd-dcf5-4532-ae18-5d1bd8d762e7"
      },
      "outputs": [
        {
          "output_type": "stream",
          "name": "stdout",
          "text": [
            "{'lgbmclassifier__learning_rate': [0.4], 'lgbmclassifier__max_depth': [3], 'lgbmclassifier__n_estimators': [140], 'lgbmclassifier__random_state': [42], 'lgbmclassifier__class_weight': [None]}\n"
          ]
        }
      ],
      "source": [
        "if option == 2: #vérification\n",
        "  print(param_grid_bis)\n",
        "else :\n",
        "  print(param_grid)"
      ]
    },
    {
      "cell_type": "code",
      "source": [
        "id_model"
      ],
      "metadata": {
        "colab": {
          "base_uri": "https://localhost:8080/",
          "height": 35
        },
        "id": "WX_g0V4vpUlG",
        "outputId": "13e4bdbf-7b61-48bd-935e-d491252004bf"
      },
      "execution_count": 75,
      "outputs": [
        {
          "output_type": "execute_result",
          "data": {
            "text/plain": [
              "'lgbmclassifier'"
            ],
            "application/vnd.google.colaboratory.intrinsic+json": {
              "type": "string"
            }
          },
          "metadata": {},
          "execution_count": 75
        }
      ]
    },
    {
      "cell_type": "code",
      "source": [
        "mlflow.active_run()"
      ],
      "metadata": {
        "id": "ismC3IDo_xS4"
      },
      "execution_count": 78,
      "outputs": []
    },
    {
      "cell_type": "code",
      "execution_count": 79,
      "metadata": {
        "colab": {
          "base_uri": "https://localhost:8080/"
        },
        "id": "OIBYjlzGyCRP",
        "outputId": "3dbd665c-31ec-418c-ff98-d9bcbed684d9"
      },
      "outputs": [
        {
          "output_type": "stream",
          "name": "stdout",
          "text": [
            "Starting model training...\n",
            "[LightGBM] [Warning] Found whitespace in feature_names, replace with underlines\n",
            "[LightGBM] [Info] Number of positive: 29696, number of negative: 29696\n",
            "[LightGBM] [Warning] Auto-choosing row-wise multi-threading, the overhead of testing was 0.010074 seconds.\n",
            "You can set `force_row_wise=true` to remove the overhead.\n",
            "And if memory is not enough, you can set `force_col_wise=true`.\n",
            "[LightGBM] [Info] Total Bins 3172\n",
            "[LightGBM] [Info] Number of data points in the train set: 59392, number of used features: 26\n",
            "[LightGBM] [Info] [binary:BoostFromScore]: pavg=0.500000 -> initscore=0.000000\n",
            "[LightGBM] [Warning] No further splits with positive gain, best gain: -inf\n",
            "[LightGBM] [Warning] No further splits with positive gain, best gain: -inf\n",
            "[LightGBM] [Warning] No further splits with positive gain, best gain: -inf\n",
            "[LightGBM] [Warning] No further splits with positive gain, best gain: -inf\n",
            "[LightGBM] [Warning] No further splits with positive gain, best gain: -inf\n",
            "[LightGBM] [Warning] No further splits with positive gain, best gain: -inf\n",
            "[LightGBM] [Warning] No further splits with positive gain, best gain: -inf\n",
            "[LightGBM] [Warning] No further splits with positive gain, best gain: -inf\n",
            "[LightGBM] [Warning] No further splits with positive gain, best gain: -inf\n",
            "[LightGBM] [Warning] No further splits with positive gain, best gain: -inf\n",
            "[LightGBM] [Warning] No further splits with positive gain, best gain: -inf\n",
            "[LightGBM] [Warning] No further splits with positive gain, best gain: -inf\n",
            "[LightGBM] [Warning] No further splits with positive gain, best gain: -inf\n",
            "[LightGBM] [Warning] No further splits with positive gain, best gain: -inf\n",
            "Model training completed in 69.99 seconds.\n"
          ]
        }
      ],
      "source": [
        "import mlflow\n",
        "import mlflow.sklearn\n",
        "import time\n",
        "\n",
        "# Set the experiment name for MLflow\n",
        "experiment_name = 'Classification_'+model.split()[0]\n",
        "\n",
        "# Start the MLflow experiment\n",
        "\n",
        "mlflow.set_experiment(experiment_name)\n",
        "mlflow.start_run()\n",
        "\n",
        "ls_features = X_new_transformed.columns.tolist()\n",
        "ls_features_string = ', '.join(ls_features)\n",
        "mlflow.log_text(ls_features_string, \"features_list.txt\")\n",
        "\n",
        "print(\"Starting model training...\")\n",
        "start_time = time.time()  # Record the start time\n",
        "\n",
        "# Fit the pipeline with GridSearchCV\n",
        "Pipe_0.fit(Xtrain, ytrain)\n",
        "\n",
        "end_time = time.time()  # Record the end time\n",
        "print(\"Model training completed in {:.2f} seconds.\".format(end_time - start_time))\n"
      ]
    },
    {
      "cell_type": "code",
      "execution_count": 80,
      "metadata": {
        "id": "l6zJYWyeJzib",
        "colab": {
          "base_uri": "https://localhost:8080/",
          "height": 320
        },
        "outputId": "3fff9215-b240-4316-9e1f-44bffdeff5cc"
      },
      "outputs": [
        {
          "output_type": "execute_result",
          "data": {
            "text/plain": [
              "Pipeline(steps=[('columntransformer',\n",
              "                 ColumnTransformer(remainder='passthrough',\n",
              "                                   transformers=[('oneHot',\n",
              "                                                  OneHotEncoder(use_cat_names=True),\n",
              "                                                  ['PROPRIETAIRE',\n",
              "                                                   'NIVEAU_ETUDE',\n",
              "                                                   'OCCUPATION']),\n",
              "                                                 ('frequency',\n",
              "                                                  FunctionTransformer(func=<function frequency_encode at 0x7c2e3ea928c0>),\n",
              "                                                  ['SECTEUR_ACTIVITE'])])),\n",
              "                ('smote', SMOTE(random_state=42)),\n",
              "                ('gridsearchcv',\n",
              "                 GridSearchC...\n",
              "                                          'lgbmclassifier__n_estimators': [140],\n",
              "                                          'lgbmclassifier__random_state': [42]},\n",
              "                              refit='score_metier',\n",
              "                              scoring={'accuracy': 'accuracy',\n",
              "                                       'precision': make_scorer(precision_seuil, needs_proba=True),\n",
              "                                       'recall': make_scorer(recall_seuil, needs_proba=True),\n",
              "                                       'roc_auc': make_scorer(roc_auc_score, needs_proba=True),\n",
              "                                       'score_metier': make_scorer(fonction_cout, greater_is_better=False, needs_proba=True)}))])"
            ],
            "text/html": [
              "<style>#sk-container-id-5 {color: black;background-color: white;}#sk-container-id-5 pre{padding: 0;}#sk-container-id-5 div.sk-toggleable {background-color: white;}#sk-container-id-5 label.sk-toggleable__label {cursor: pointer;display: block;width: 100%;margin-bottom: 0;padding: 0.3em;box-sizing: border-box;text-align: center;}#sk-container-id-5 label.sk-toggleable__label-arrow:before {content: \"▸\";float: left;margin-right: 0.25em;color: #696969;}#sk-container-id-5 label.sk-toggleable__label-arrow:hover:before {color: black;}#sk-container-id-5 div.sk-estimator:hover label.sk-toggleable__label-arrow:before {color: black;}#sk-container-id-5 div.sk-toggleable__content {max-height: 0;max-width: 0;overflow: hidden;text-align: left;background-color: #f0f8ff;}#sk-container-id-5 div.sk-toggleable__content pre {margin: 0.2em;color: black;border-radius: 0.25em;background-color: #f0f8ff;}#sk-container-id-5 input.sk-toggleable__control:checked~div.sk-toggleable__content {max-height: 200px;max-width: 100%;overflow: auto;}#sk-container-id-5 input.sk-toggleable__control:checked~label.sk-toggleable__label-arrow:before {content: \"▾\";}#sk-container-id-5 div.sk-estimator input.sk-toggleable__control:checked~label.sk-toggleable__label {background-color: #d4ebff;}#sk-container-id-5 div.sk-label input.sk-toggleable__control:checked~label.sk-toggleable__label {background-color: #d4ebff;}#sk-container-id-5 input.sk-hidden--visually {border: 0;clip: rect(1px 1px 1px 1px);clip: rect(1px, 1px, 1px, 1px);height: 1px;margin: -1px;overflow: hidden;padding: 0;position: absolute;width: 1px;}#sk-container-id-5 div.sk-estimator {font-family: monospace;background-color: #f0f8ff;border: 1px dotted black;border-radius: 0.25em;box-sizing: border-box;margin-bottom: 0.5em;}#sk-container-id-5 div.sk-estimator:hover {background-color: #d4ebff;}#sk-container-id-5 div.sk-parallel-item::after {content: \"\";width: 100%;border-bottom: 1px solid gray;flex-grow: 1;}#sk-container-id-5 div.sk-label:hover label.sk-toggleable__label {background-color: #d4ebff;}#sk-container-id-5 div.sk-serial::before {content: \"\";position: absolute;border-left: 1px solid gray;box-sizing: border-box;top: 0;bottom: 0;left: 50%;z-index: 0;}#sk-container-id-5 div.sk-serial {display: flex;flex-direction: column;align-items: center;background-color: white;padding-right: 0.2em;padding-left: 0.2em;position: relative;}#sk-container-id-5 div.sk-item {position: relative;z-index: 1;}#sk-container-id-5 div.sk-parallel {display: flex;align-items: stretch;justify-content: center;background-color: white;position: relative;}#sk-container-id-5 div.sk-item::before, #sk-container-id-5 div.sk-parallel-item::before {content: \"\";position: absolute;border-left: 1px solid gray;box-sizing: border-box;top: 0;bottom: 0;left: 50%;z-index: -1;}#sk-container-id-5 div.sk-parallel-item {display: flex;flex-direction: column;z-index: 1;position: relative;background-color: white;}#sk-container-id-5 div.sk-parallel-item:first-child::after {align-self: flex-end;width: 50%;}#sk-container-id-5 div.sk-parallel-item:last-child::after {align-self: flex-start;width: 50%;}#sk-container-id-5 div.sk-parallel-item:only-child::after {width: 0;}#sk-container-id-5 div.sk-dashed-wrapped {border: 1px dashed gray;margin: 0 0.4em 0.5em 0.4em;box-sizing: border-box;padding-bottom: 0.4em;background-color: white;}#sk-container-id-5 div.sk-label label {font-family: monospace;font-weight: bold;display: inline-block;line-height: 1.2em;}#sk-container-id-5 div.sk-label-container {text-align: center;}#sk-container-id-5 div.sk-container {/* jupyter's `normalize.less` sets `[hidden] { display: none; }` but bootstrap.min.css set `[hidden] { display: none !important; }` so we also need the `!important` here to be able to override the default hidden behavior on the sphinx rendered scikit-learn.org. See: https://github.com/scikit-learn/scikit-learn/issues/21755 */display: inline-block !important;position: relative;}#sk-container-id-5 div.sk-text-repr-fallback {display: none;}</style><div id=\"sk-container-id-5\" class=\"sk-top-container\"><div class=\"sk-text-repr-fallback\"><pre>Pipeline(steps=[(&#x27;columntransformer&#x27;,\n",
              "                 ColumnTransformer(remainder=&#x27;passthrough&#x27;,\n",
              "                                   transformers=[(&#x27;oneHot&#x27;,\n",
              "                                                  OneHotEncoder(use_cat_names=True),\n",
              "                                                  [&#x27;PROPRIETAIRE&#x27;,\n",
              "                                                   &#x27;NIVEAU_ETUDE&#x27;,\n",
              "                                                   &#x27;OCCUPATION&#x27;]),\n",
              "                                                 (&#x27;frequency&#x27;,\n",
              "                                                  FunctionTransformer(func=&lt;function frequency_encode at 0x7c2e3ea928c0&gt;),\n",
              "                                                  [&#x27;SECTEUR_ACTIVITE&#x27;])])),\n",
              "                (&#x27;smote&#x27;, SMOTE(random_state=42)),\n",
              "                (&#x27;gridsearchcv&#x27;,\n",
              "                 GridSearchC...\n",
              "                                          &#x27;lgbmclassifier__n_estimators&#x27;: [140],\n",
              "                                          &#x27;lgbmclassifier__random_state&#x27;: [42]},\n",
              "                              refit=&#x27;score_metier&#x27;,\n",
              "                              scoring={&#x27;accuracy&#x27;: &#x27;accuracy&#x27;,\n",
              "                                       &#x27;precision&#x27;: make_scorer(precision_seuil, needs_proba=True),\n",
              "                                       &#x27;recall&#x27;: make_scorer(recall_seuil, needs_proba=True),\n",
              "                                       &#x27;roc_auc&#x27;: make_scorer(roc_auc_score, needs_proba=True),\n",
              "                                       &#x27;score_metier&#x27;: make_scorer(fonction_cout, greater_is_better=False, needs_proba=True)}))])</pre><b>In a Jupyter environment, please rerun this cell to show the HTML representation or trust the notebook. <br />On GitHub, the HTML representation is unable to render, please try loading this page with nbviewer.org.</b></div><div class=\"sk-container\" hidden><div class=\"sk-item sk-dashed-wrapped\"><div class=\"sk-label-container\"><div class=\"sk-label sk-toggleable\"><input class=\"sk-toggleable__control sk-hidden--visually\" id=\"sk-estimator-id-17\" type=\"checkbox\" ><label for=\"sk-estimator-id-17\" class=\"sk-toggleable__label sk-toggleable__label-arrow\">Pipeline</label><div class=\"sk-toggleable__content\"><pre>Pipeline(steps=[(&#x27;columntransformer&#x27;,\n",
              "                 ColumnTransformer(remainder=&#x27;passthrough&#x27;,\n",
              "                                   transformers=[(&#x27;oneHot&#x27;,\n",
              "                                                  OneHotEncoder(use_cat_names=True),\n",
              "                                                  [&#x27;PROPRIETAIRE&#x27;,\n",
              "                                                   &#x27;NIVEAU_ETUDE&#x27;,\n",
              "                                                   &#x27;OCCUPATION&#x27;]),\n",
              "                                                 (&#x27;frequency&#x27;,\n",
              "                                                  FunctionTransformer(func=&lt;function frequency_encode at 0x7c2e3ea928c0&gt;),\n",
              "                                                  [&#x27;SECTEUR_ACTIVITE&#x27;])])),\n",
              "                (&#x27;smote&#x27;, SMOTE(random_state=42)),\n",
              "                (&#x27;gridsearchcv&#x27;,\n",
              "                 GridSearchC...\n",
              "                                          &#x27;lgbmclassifier__n_estimators&#x27;: [140],\n",
              "                                          &#x27;lgbmclassifier__random_state&#x27;: [42]},\n",
              "                              refit=&#x27;score_metier&#x27;,\n",
              "                              scoring={&#x27;accuracy&#x27;: &#x27;accuracy&#x27;,\n",
              "                                       &#x27;precision&#x27;: make_scorer(precision_seuil, needs_proba=True),\n",
              "                                       &#x27;recall&#x27;: make_scorer(recall_seuil, needs_proba=True),\n",
              "                                       &#x27;roc_auc&#x27;: make_scorer(roc_auc_score, needs_proba=True),\n",
              "                                       &#x27;score_metier&#x27;: make_scorer(fonction_cout, greater_is_better=False, needs_proba=True)}))])</pre></div></div></div><div class=\"sk-serial\"><div class=\"sk-item sk-dashed-wrapped\"><div class=\"sk-label-container\"><div class=\"sk-label sk-toggleable\"><input class=\"sk-toggleable__control sk-hidden--visually\" id=\"sk-estimator-id-18\" type=\"checkbox\" ><label for=\"sk-estimator-id-18\" class=\"sk-toggleable__label sk-toggleable__label-arrow\">columntransformer: ColumnTransformer</label><div class=\"sk-toggleable__content\"><pre>ColumnTransformer(remainder=&#x27;passthrough&#x27;,\n",
              "                  transformers=[(&#x27;oneHot&#x27;, OneHotEncoder(use_cat_names=True),\n",
              "                                 [&#x27;PROPRIETAIRE&#x27;, &#x27;NIVEAU_ETUDE&#x27;,\n",
              "                                  &#x27;OCCUPATION&#x27;]),\n",
              "                                (&#x27;frequency&#x27;,\n",
              "                                 FunctionTransformer(func=&lt;function frequency_encode at 0x7c2e3ea928c0&gt;),\n",
              "                                 [&#x27;SECTEUR_ACTIVITE&#x27;])])</pre></div></div></div><div class=\"sk-parallel\"><div class=\"sk-parallel-item\"><div class=\"sk-item\"><div class=\"sk-label-container\"><div class=\"sk-label sk-toggleable\"><input class=\"sk-toggleable__control sk-hidden--visually\" id=\"sk-estimator-id-19\" type=\"checkbox\" ><label for=\"sk-estimator-id-19\" class=\"sk-toggleable__label sk-toggleable__label-arrow\">oneHot</label><div class=\"sk-toggleable__content\"><pre>[&#x27;PROPRIETAIRE&#x27;, &#x27;NIVEAU_ETUDE&#x27;, &#x27;OCCUPATION&#x27;]</pre></div></div></div><div class=\"sk-serial\"><div class=\"sk-item\"><div class=\"sk-estimator sk-toggleable\"><input class=\"sk-toggleable__control sk-hidden--visually\" id=\"sk-estimator-id-20\" type=\"checkbox\" ><label for=\"sk-estimator-id-20\" class=\"sk-toggleable__label sk-toggleable__label-arrow\">OneHotEncoder</label><div class=\"sk-toggleable__content\"><pre>OneHotEncoder(use_cat_names=True)</pre></div></div></div></div></div></div><div class=\"sk-parallel-item\"><div class=\"sk-item\"><div class=\"sk-label-container\"><div class=\"sk-label sk-toggleable\"><input class=\"sk-toggleable__control sk-hidden--visually\" id=\"sk-estimator-id-21\" type=\"checkbox\" ><label for=\"sk-estimator-id-21\" class=\"sk-toggleable__label sk-toggleable__label-arrow\">frequency</label><div class=\"sk-toggleable__content\"><pre>[&#x27;SECTEUR_ACTIVITE&#x27;]</pre></div></div></div><div class=\"sk-serial\"><div class=\"sk-item\"><div class=\"sk-estimator sk-toggleable\"><input class=\"sk-toggleable__control sk-hidden--visually\" id=\"sk-estimator-id-22\" type=\"checkbox\" ><label for=\"sk-estimator-id-22\" class=\"sk-toggleable__label sk-toggleable__label-arrow\">FunctionTransformer</label><div class=\"sk-toggleable__content\"><pre>FunctionTransformer(func=&lt;function frequency_encode at 0x7c2e3ea928c0&gt;)</pre></div></div></div></div></div></div><div class=\"sk-parallel-item\"><div class=\"sk-item\"><div class=\"sk-label-container\"><div class=\"sk-label sk-toggleable\"><input class=\"sk-toggleable__control sk-hidden--visually\" id=\"sk-estimator-id-23\" type=\"checkbox\" ><label for=\"sk-estimator-id-23\" class=\"sk-toggleable__label sk-toggleable__label-arrow\">remainder</label><div class=\"sk-toggleable__content\"><pre>[&#x27;NBRE_ENFANT&#x27;, &#x27;REVENUS_TOT&#x27;, &#x27;AGE&#x27;, &#x27;ANCIENNETE_EMPLOI&#x27;, &#x27;SCORE_REGION&#x27;, &#x27;HEURE_APP&#x27;, &#x27;SCORE_2_EXT&#x27;, &#x27;CC_NOMBRE_RETRAIT_MOYEN&#x27;, &#x27;POS_PROGRESS_MAX_MIN&#x27;, &#x27;CB_SOMME_DUES_RETARD&#x27;, &#x27;RATIO_CREDIT_REVENU&#x27;, &#x27;CC_RATIO_CREDIT&#x27;, &#x27;NBRE_CONTRAT_ACTIFS&#x27;, &#x27;NBRE_J_RETARD&#x27;, &#x27;CHARGES_ANNUEL&#x27;, &#x27;ANCIENNETE_CREDIT&#x27;]</pre></div></div></div><div class=\"sk-serial\"><div class=\"sk-item\"><div class=\"sk-estimator sk-toggleable\"><input class=\"sk-toggleable__control sk-hidden--visually\" id=\"sk-estimator-id-24\" type=\"checkbox\" ><label for=\"sk-estimator-id-24\" class=\"sk-toggleable__label sk-toggleable__label-arrow\">passthrough</label><div class=\"sk-toggleable__content\"><pre>passthrough</pre></div></div></div></div></div></div></div></div><div class=\"sk-item\"><div class=\"sk-estimator sk-toggleable\"><input class=\"sk-toggleable__control sk-hidden--visually\" id=\"sk-estimator-id-25\" type=\"checkbox\" ><label for=\"sk-estimator-id-25\" class=\"sk-toggleable__label sk-toggleable__label-arrow\">SMOTE</label><div class=\"sk-toggleable__content\"><pre>SMOTE(random_state=42)</pre></div></div></div><div class=\"sk-item sk-dashed-wrapped\"><div class=\"sk-label-container\"><div class=\"sk-label sk-toggleable\"><input class=\"sk-toggleable__control sk-hidden--visually\" id=\"sk-estimator-id-26\" type=\"checkbox\" ><label for=\"sk-estimator-id-26\" class=\"sk-toggleable__label sk-toggleable__label-arrow\">gridsearchcv: GridSearchCV</label><div class=\"sk-toggleable__content\"><pre>GridSearchCV(cv=10, error_score=&#x27;raise&#x27;,\n",
              "             estimator=Pipeline(steps=[(&#x27;smote&#x27;, SMOTE(random_state=42)),\n",
              "                                       (&#x27;lgbmclassifier&#x27;,\n",
              "                                        LGBMClassifier(metric=&#x27;binary_logloss&#x27;,\n",
              "                                                       objective=&#x27;binary&#x27;))]),\n",
              "             n_jobs=-1,\n",
              "             param_grid={&#x27;lgbmclassifier__class_weight&#x27;: [None],\n",
              "                         &#x27;lgbmclassifier__learning_rate&#x27;: [0.4],\n",
              "                         &#x27;lgbmclassifier__max_depth&#x27;: [3],\n",
              "                         &#x27;lgbmclassifier__n_estimators&#x27;: [140],\n",
              "                         &#x27;lgbmclassifier__random_state&#x27;: [42]},\n",
              "             refit=&#x27;score_metier&#x27;,\n",
              "             scoring={&#x27;accuracy&#x27;: &#x27;accuracy&#x27;,\n",
              "                      &#x27;precision&#x27;: make_scorer(precision_seuil, needs_proba=True),\n",
              "                      &#x27;recall&#x27;: make_scorer(recall_seuil, needs_proba=True),\n",
              "                      &#x27;roc_auc&#x27;: make_scorer(roc_auc_score, needs_proba=True),\n",
              "                      &#x27;score_metier&#x27;: make_scorer(fonction_cout, greater_is_better=False, needs_proba=True)})</pre></div></div></div><div class=\"sk-parallel\"><div class=\"sk-parallel-item\"><div class=\"sk-item\"><div class=\"sk-label-container\"><div class=\"sk-label sk-toggleable\"><input class=\"sk-toggleable__control sk-hidden--visually\" id=\"sk-estimator-id-27\" type=\"checkbox\" ><label for=\"sk-estimator-id-27\" class=\"sk-toggleable__label sk-toggleable__label-arrow\">estimator: Pipeline</label><div class=\"sk-toggleable__content\"><pre>Pipeline(steps=[(&#x27;smote&#x27;, SMOTE(random_state=42)),\n",
              "                (&#x27;lgbmclassifier&#x27;,\n",
              "                 LGBMClassifier(metric=&#x27;binary_logloss&#x27;, objective=&#x27;binary&#x27;))])</pre></div></div></div><div class=\"sk-serial\"><div class=\"sk-item\"><div class=\"sk-serial\"><div class=\"sk-item\"><div class=\"sk-estimator sk-toggleable\"><input class=\"sk-toggleable__control sk-hidden--visually\" id=\"sk-estimator-id-28\" type=\"checkbox\" ><label for=\"sk-estimator-id-28\" class=\"sk-toggleable__label sk-toggleable__label-arrow\">SMOTE</label><div class=\"sk-toggleable__content\"><pre>SMOTE(random_state=42)</pre></div></div></div><div class=\"sk-item\"><div class=\"sk-estimator sk-toggleable\"><input class=\"sk-toggleable__control sk-hidden--visually\" id=\"sk-estimator-id-29\" type=\"checkbox\" ><label for=\"sk-estimator-id-29\" class=\"sk-toggleable__label sk-toggleable__label-arrow\">LGBMClassifier</label><div class=\"sk-toggleable__content\"><pre>LGBMClassifier(metric=&#x27;binary_logloss&#x27;, objective=&#x27;binary&#x27;)</pre></div></div></div></div></div></div></div></div></div></div></div></div></div></div>"
            ]
          },
          "metadata": {},
          "execution_count": 80
        }
      ],
      "source": [
        "Pipe_0"
      ]
    },
    {
      "cell_type": "code",
      "execution_count": 81,
      "metadata": {
        "id": "BExHh-sHKEQD"
      },
      "outputs": [],
      "source": [
        "#TRACKING\n",
        "if option !=2 :\n",
        "  mlflow.log_params(Pipe_0['grid_search_' + model].best_params_)\n",
        "  best_index = Pipe_0['grid_search_' + model].best_index_\n",
        "  cv_results = Pipe_0['grid_search_' + model].cv_results_\n",
        "  metrics_to_log = {key: value[best_index] for key, value in cv_results.items() if key.startswith('mean_test_')}\n",
        "  metrics_to_log['data_sampling'] = option\n",
        "  metrics_to_log['threshold'] = threshold\n",
        "  mlflow.log_metrics(metrics_to_log)\n",
        "else :\n",
        "  mlflow.log_params(Pipe_0['gridsearchcv'].best_params_)\n",
        "  best_index = Pipe_0['gridsearchcv'].best_index_\n",
        "  cv_results = Pipe_0['gridsearchcv'].cv_results_\n",
        "  metrics_to_log = {key: value[best_index] for key, value in cv_results.items() if key.startswith('mean_test_')}\n",
        "  metrics_to_log['threshold'] = threshold\n",
        "  metrics_to_log['data_sampling'] = option\n",
        "  mlflow.log_metrics(metrics_to_log)"
      ]
    },
    {
      "cell_type": "code",
      "execution_count": 82,
      "metadata": {
        "id": "Vkm1c677L9me",
        "colab": {
          "base_uri": "https://localhost:8080/"
        },
        "outputId": "5cdb1588-001a-4ff4-f475-4b081b5c4f91"
      },
      "outputs": [
        {
          "output_type": "execute_result",
          "data": {
            "text/plain": [
              "{'mean_test_accuracy': 0.7254201185679549,\n",
              " 'mean_test_roc_auc': 0.811845111285175,\n",
              " 'mean_test_recall': 0.7063374624203187,\n",
              " 'mean_test_precision': 0.7198533052063256,\n",
              " 'mean_test_score_metier': -9507.0,\n",
              " 'threshold': 0.45,\n",
              " 'data_sampling': 2}"
            ]
          },
          "metadata": {},
          "execution_count": 82
        }
      ],
      "source": [
        "metrics_to_log"
      ]
    },
    {
      "cell_type": "code",
      "execution_count": 83,
      "metadata": {
        "id": "jrLn2pRW2x5E",
        "colab": {
          "base_uri": "https://localhost:8080/"
        },
        "outputId": "58a39734-0aa2-45e3-af2b-fc024e7a558e"
      },
      "outputs": [
        {
          "output_type": "execute_result",
          "data": {
            "text/plain": [
              "{'mean_fit_time': array([11.74834104]),\n",
              " 'std_fit_time': array([5.93179333]),\n",
              " 'mean_score_time': array([0.59583435]),\n",
              " 'std_score_time': array([0.21569878]),\n",
              " 'param_lgbmclassifier__class_weight': masked_array(data=[None],\n",
              "              mask=[False],\n",
              "        fill_value='?',\n",
              "             dtype=object),\n",
              " 'param_lgbmclassifier__learning_rate': masked_array(data=[0.4],\n",
              "              mask=[False],\n",
              "        fill_value='?',\n",
              "             dtype=object),\n",
              " 'param_lgbmclassifier__max_depth': masked_array(data=[3],\n",
              "              mask=[False],\n",
              "        fill_value='?',\n",
              "             dtype=object),\n",
              " 'param_lgbmclassifier__n_estimators': masked_array(data=[140],\n",
              "              mask=[False],\n",
              "        fill_value='?',\n",
              "             dtype=object),\n",
              " 'param_lgbmclassifier__random_state': masked_array(data=[42],\n",
              "              mask=[False],\n",
              "        fill_value='?',\n",
              "             dtype=object),\n",
              " 'params': [{'lgbmclassifier__class_weight': None,\n",
              "   'lgbmclassifier__learning_rate': 0.4,\n",
              "   'lgbmclassifier__max_depth': 3,\n",
              "   'lgbmclassifier__n_estimators': 140,\n",
              "   'lgbmclassifier__random_state': 42}],\n",
              " 'split0_test_accuracy': array([0.64461279]),\n",
              " 'split1_test_accuracy': array([0.65454545]),\n",
              " 'split2_test_accuracy': array([0.6512881]),\n",
              " 'split3_test_accuracy': array([0.64943593]),\n",
              " 'split4_test_accuracy': array([0.64118538]),\n",
              " 'split5_test_accuracy': array([0.63882809]),\n",
              " 'split6_test_accuracy': array([0.73413032]),\n",
              " 'split7_test_accuracy': array([0.88112477]),\n",
              " 'split8_test_accuracy': array([0.88028288]),\n",
              " 'split9_test_accuracy': array([0.87876747]),\n",
              " 'mean_test_accuracy': array([0.72542012]),\n",
              " 'std_test_accuracy': array([0.10451486]),\n",
              " 'rank_test_accuracy': array([1], dtype=int32),\n",
              " 'split0_test_roc_auc': array([0.71235656]),\n",
              " 'split1_test_roc_auc': array([0.729185]),\n",
              " 'split2_test_roc_auc': array([0.72791165]),\n",
              " 'split3_test_roc_auc': array([0.72277938]),\n",
              " 'split4_test_roc_auc': array([0.71975532]),\n",
              " 'split5_test_roc_auc': array([0.71481516]),\n",
              " 'split6_test_roc_auc': array([0.81354252]),\n",
              " 'split7_test_roc_auc': array([0.99150969]),\n",
              " 'split8_test_roc_auc': array([0.99351197]),\n",
              " 'split9_test_roc_auc': array([0.99308386]),\n",
              " 'mean_test_roc_auc': array([0.81184511]),\n",
              " 'std_test_roc_auc': array([0.12154674]),\n",
              " 'rank_test_roc_auc': array([1], dtype=int32),\n",
              " 'split0_test_recall': array([0.57171717]),\n",
              " 'split1_test_recall': array([0.56060606]),\n",
              " 'split2_test_recall': array([0.5685416]),\n",
              " 'split3_test_recall': array([0.55742674]),\n",
              " 'split4_test_recall': array([0.55405861]),\n",
              " 'split5_test_recall': array([0.54260694]),\n",
              " 'split6_test_recall': array([0.72659933]),\n",
              " 'split7_test_recall': array([0.99191919]),\n",
              " 'split8_test_recall': array([0.99427609]),\n",
              " 'split9_test_recall': array([0.9956229]),\n",
              " 'mean_test_recall': array([0.70633746]),\n",
              " 'std_test_recall': array([0.19470005]),\n",
              " 'rank_test_recall': array([1], dtype=int32),\n",
              " 'split0_test_precision': array([0.68661545]),\n",
              " 'split1_test_precision': array([0.70640645]),\n",
              " 'split2_test_precision': array([0.7018711]),\n",
              " 'split3_test_precision': array([0.69362951]),\n",
              " 'split4_test_precision': array([0.68857262]),\n",
              " 'split5_test_precision': array([0.68964041]),\n",
              " 'split6_test_precision': array([0.73152542]),\n",
              " 'split7_test_precision': array([0.76479751]),\n",
              " 'split8_test_precision': array([0.7654225]),\n",
              " 'split9_test_precision': array([0.77005208]),\n",
              " 'mean_test_precision': array([0.71985331]),\n",
              " 'std_test_precision': array([0.03307659]),\n",
              " 'rank_test_precision': array([1], dtype=int32),\n",
              " 'split0_test_score_metier': array([-13495.]),\n",
              " 'split1_test_score_metier': array([-13742.]),\n",
              " 'split2_test_score_metier': array([-13527.]),\n",
              " 'split3_test_score_metier': array([-13871.]),\n",
              " 'split4_test_score_metier': array([-13984.]),\n",
              " 'split5_test_score_metier': array([-14305.]),\n",
              " 'split6_test_score_metier': array([-8912.]),\n",
              " 'split7_test_score_metier': array([-1146.]),\n",
              " 'split8_test_score_metier': array([-1075.]),\n",
              " 'split9_test_score_metier': array([-1013.]),\n",
              " 'mean_test_score_metier': array([-9507.]),\n",
              " 'std_test_score_metier': array([5706.27377542]),\n",
              " 'rank_test_score_metier': array([1], dtype=int32)}"
            ]
          },
          "metadata": {},
          "execution_count": 83
        }
      ],
      "source": [
        "cv_results"
      ]
    },
    {
      "cell_type": "code",
      "execution_count": 84,
      "metadata": {
        "id": "wUWR7msz4V_F"
      },
      "outputs": [],
      "source": [
        "if option != 2:\n",
        "  best_model = Pipe_0['grid_search_' + model].best_estimator_\n",
        "else :\n",
        "  best_model = Pipe_0['gridsearchcv'].best_estimator_\n"
      ]
    },
    {
      "cell_type": "code",
      "execution_count": 85,
      "metadata": {
        "id": "iuV3dca7qUiX",
        "colab": {
          "base_uri": "https://localhost:8080/"
        },
        "outputId": "d91ddeef-7d55-48c0-f43e-3c65fd90fa2d"
      },
      "outputs": [
        {
          "output_type": "stream",
          "name": "stderr",
          "text": [
            "2023/08/28 16:36:09 WARNING mlflow.utils.environment: Encountered an unexpected error while inferring pip requirements (model URI: /tmp/tmpte_ljd8e/model/model.pkl, flavor: sklearn), fall back to return ['scikit-learn==1.2.2', 'cloudpickle==2.2.1']. Set logging level to DEBUG to see the full traceback.\n"
          ]
        }
      ],
      "source": [
        "if option !=2:\n",
        "  mlflow.sklearn.log_model(best_model, 'model_classification_credit')\n",
        "else :\n",
        "  mlflow.sklearn.log_model(best_model[id_model], 'model_classification_credit')"
      ]
    },
    {
      "cell_type": "markdown",
      "metadata": {
        "id": "EjDAjciTqrRQ"
      },
      "source": [
        "\n",
        "OU\n",
        "```\n",
        "if option != 2:\n",
        "  best_model = Pipe_0['grid_search_' + model].best_estimator_\n",
        "else :\n",
        "  best_model = Pipe_0['gridsearchcv'].best_estimator_\n",
        "\n",
        "model_path = \"/content/P7_NC/best_model.pkl\"\n",
        "joblib.dump(best_model, model_path)\n",
        "\n",
        "mlflow.log_artifact(model_path, artifact_path=\"my_model\")\n",
        "```\n",
        "\n"
      ]
    },
    {
      "cell_type": "markdown",
      "metadata": {
        "id": "V_rAViA9YVgF"
      },
      "source": [
        "# <a name=\"C4\"> 4. Score sur le jeu test </a>"
      ]
    },
    {
      "cell_type": "markdown",
      "metadata": {
        "id": "DbUPo79_fjj7"
      },
      "source": [
        "## <a name=\"C41\"> 4.1 Matrice de confusion et rapport de classification <a>"
      ]
    },
    {
      "cell_type": "code",
      "execution_count": 88,
      "metadata": {
        "id": "JfMcQxZPpxiS"
      },
      "outputs": [],
      "source": [
        "y_pred_proba = Pipe_0.predict_proba(Xtest)\n",
        "y_pred = ((y_pred_proba[:,1] >= threshold).astype(int)).astype(str)"
      ]
    },
    {
      "cell_type": "code",
      "execution_count": 89,
      "metadata": {
        "id": "e9aKw28I5uN9",
        "colab": {
          "base_uri": "https://localhost:8080/",
          "height": 54
        },
        "outputId": "d86ab20f-540c-4ba0-c343-52c18708b07b"
      },
      "outputs": [
        {
          "output_type": "display_data",
          "data": {
            "text/plain": [
              "<Figure size 600x400 with 2 Axes>"
            ],
            "image/png": "[encoded data removed]"
          },
          "metadata": {}
        }
      ],
      "source": [
        "# Assuming 'ytest' is the true target labels and 'y_pred' are the predicted labels\n",
        "cf = confusion_matrix(ytest, y_pred)\n",
        "df_cm = pd.DataFrame(cf, index = [label for label in ['Sans risque', 'Risqué']],\n",
        "                  columns = [i for i in \"01\"])\n",
        "\n",
        "\n",
        "def format_confusion_matrix(value):\n",
        "    return str(int(np.round(value)))\n",
        "df_annot = df_cm.applymap(format_confusion_matrix)\n",
        "\n",
        "plt.figure(figsize = (6,4))\n",
        "sns.heatmap(df_cm, cmap='coolwarm', annot=df_annot, fmt='', linewidth=1)\n",
        "plt.title('Matrice de confusion \\n modèle '+str(option)+'_'+model.split()[0])\n",
        "plt.savefig('/content/P7_NC/CF_Option'+str(option)+'_'+model.split()[0]+'_itération'+str(it)+'.png',  bbox_inches = 'tight')\n",
        "mlflow.log_artifact('/content/P7_NC/CF_Option'+str(option)+'_'+model.split()[0]+'_itération'+str(it)+'.png')\n"
      ]
    },
    {
      "cell_type": "code",
      "execution_count": 90,
      "metadata": {
        "id": "pFFqnv5D6Bx0",
        "colab": {
          "base_uri": "https://localhost:8080/"
        },
        "outputId": "e848f99f-7d61-4e75-9c5f-01399ff59c9d"
      },
      "outputs": [
        {
          "output_type": "stream",
          "name": "stdout",
          "text": [
            "Classification Report:\n",
            "              precision    recall  f1-score   support\n",
            "\n",
            "           0       0.73      0.73      0.73      7424\n",
            "           1       0.59      0.59      0.59      4950\n",
            "\n",
            "    accuracy                           0.68     12374\n",
            "   macro avg       0.66      0.66      0.66     12374\n",
            "weighted avg       0.67      0.68      0.67     12374\n",
            "\n"
          ]
        }
      ],
      "source": [
        "class_report = metrics.classification_report(ytest, y_pred)\n",
        "\n",
        "print(\"Classification Report:\")\n",
        "print(class_report)\n",
        "mlflow.log_text(class_report, \"classification_report.txt\")\n",
        "mlflow.log_metrics({'score_metier' : fonction_cout(ytest, y_pred_proba[:,1])})"
      ]
    },
    {
      "cell_type": "markdown",
      "metadata": {
        "id": "nXeizqiQfwnN"
      },
      "source": [
        "## <a name=\"C42\"> 4.2 Courbe ROC <a>"
      ]
    },
    {
      "cell_type": "code",
      "execution_count": 91,
      "metadata": {
        "id": "FOt6syWg5nBR",
        "colab": {
          "base_uri": "https://localhost:8080/"
        },
        "outputId": "81ff4c93-a0b7-4a35-de79-dae012268e06"
      },
      "outputs": [
        {
          "output_type": "execute_result",
          "data": {
            "text/plain": [
              "array([0.31081639, 0.28348484, 0.34059303, ..., 0.82792532, 0.39785732,\n",
              "       0.8380044 ])"
            ]
          },
          "metadata": {},
          "execution_count": 91
        }
      ],
      "source": [
        "y_pred_proba[:, 1] #Pour chaque individus testés, la probabilités d'appartenir à la classe 1"
      ]
    },
    {
      "cell_type": "code",
      "execution_count": 92,
      "metadata": {
        "id": "Wil9C-XTeWsg",
        "colab": {
          "base_uri": "https://localhost:8080/",
          "height": 54
        },
        "outputId": "7237546e-bed5-448b-8105-49ef19bad521"
      },
      "outputs": [
        {
          "output_type": "display_data",
          "data": {
            "text/plain": [
              "<Figure size 800x600 with 1 Axes>"
            ],
            "image/png": "[encoded data removed]"
          },
          "metadata": {}
        }
      ],
      "source": [
        "# Calcul de la  ROC curve\n",
        "fpr, tpr, thresholds = metrics.roc_curve(ytest,y_pred_proba[:, 1], pos_label = '1')\n",
        "\n",
        "# AUC\n",
        "auc = metrics.roc_auc_score(ytest, y_pred_proba[:, 1])\n",
        "mlflow.log_metrics({'AUC' : auc})\n",
        "\n",
        "#ROC CURVE\n",
        "fig, ax = plt.subplots(figsize=(8, 6))\n",
        "sns.lineplot(x=fpr, y=tpr, lw=2, label=f'ROC Curve (AUC = {auc:.2f})')\n",
        "sns.lineplot(x=[0, 1], y=[0, 1], color='gray', linestyle='--')\n",
        "ax.set_xlabel('False Positive Rate (FPR)')\n",
        "ax.set_ylabel('True Positive Rate (TPR)')\n",
        "plt.title('Receiver Operating Characteristic (ROC) Curve \\n modèle '+str(option)+'_'+model.split()[0])\n",
        "plt.legend(loc='lower right')\n",
        "plt.savefig('/content/P7_NC/P7_NC_ROC_CURVE'+str(option)+'_'+model.split()[0]+'.png')\n",
        "mlflow.log_artifact('/content/P7_NC/P7_NC_ROC_CURVE'+str(option)+'_'+model.split()[0]+'.png')"
      ]
    },
    {
      "cell_type": "code",
      "execution_count": 93,
      "metadata": {
        "id": "3p844b4XqJ7n"
      },
      "outputs": [],
      "source": [
        "mlflow.log_artifact('/content/P7_NC/P7_NC_ROC_CURVE'+str(option)+'_'+model.split()[0]+'.png')"
      ]
    },
    {
      "cell_type": "markdown",
      "metadata": {
        "id": "arB_d8Vcmtvv"
      },
      "source": [
        "la courbe ROC semble désigné un seuil optimal de classification à 0.42."
      ]
    },
    {
      "cell_type": "markdown",
      "metadata": {
        "id": "b-X7SMD2PhbM"
      },
      "source": [
        "Dans notre cas les faux positif pour la classe 0 coûtent cher. Les prêts qu'on accorde alors qu'ils ne seront pas remboursé. On veut que la précision de la classe 1 soit la plus élevé possible."
      ]
    },
    {
      "cell_type": "markdown",
      "metadata": {
        "id": "ocnB5PyPgQAA"
      },
      "source": [
        "Dans le cas du sous-échantillonage (option 1) : j'aimerais vérifier la performance du modèle validé sur les individus mis de côté. (Tous TARGET 0)"
      ]
    },
    {
      "cell_type": "code",
      "execution_count": 94,
      "metadata": {
        "id": "2WzuoR8ce6ny",
        "colab": {
          "base_uri": "https://localhost:8080/",
          "height": 71
        },
        "outputId": "c67726bb-db81-48a7-9967-476e5f87ad42"
      },
      "outputs": [
        {
          "output_type": "stream",
          "name": "stdout",
          "text": [
            "True\n"
          ]
        },
        {
          "output_type": "display_data",
          "data": {
            "text/plain": [
              "<Figure size 600x400 with 2 Axes>"
            ],
            "image/png": "[encoded data removed]"
          },
          "metadata": {}
        }
      ],
      "source": [
        "if (option == 1) | (option ==2):\n",
        "  ind_restant = df.index.difference(ind_tot)\n",
        "  #Vérification\n",
        "  print(len(ind_restant) +len(ind_tot) == len(df))\n",
        "  y_pred_proba_opt1 = Pipe_0.predict_proba(df.loc[ind_restant])\n",
        "  y_pred_opt1 = ((y_pred_proba_opt1[:,1] >= threshold).astype(int)).astype(str)\n",
        "  # Matrice de confusion\n",
        "  ytest_opt1 = y_['TARGET'].loc[ind_restant]\n",
        "  cf = confusion_matrix(ytest_opt1, y_pred_opt1)\n",
        "  df_cm = pd.DataFrame(cf, index = [label for label in ['Sans risque', 'Risqué']],\n",
        "                  columns = [i for i in \"01\"])\n",
        "  df_annot = df_cm.applymap(format_confusion_matrix)\n",
        "  plt.figure(figsize = (6,4))\n",
        "  sns.heatmap(df_cm, cmap='coolwarm', annot=df_annot, fmt='', linewidth=1)\n",
        "  plt.title('Matrice de confusion \\n modèle '+str(option)+'_'+model.split()[0]+',dataset restant')\n",
        "  plt.savefig('/content/P7_NC/CF_Option'+str(option)+'_'+model.split()[0]+'_itération'+str(it)+'data_restant.png',  bbox_inches = 'tight')\n",
        "  mlflow.log_artifact('/content/P7_NC/CF_Option'+str(option)+'_'+model.split()[0]+'_itération'+str(it)+'data_restant.png')"
      ]
    },
    {
      "cell_type": "code",
      "execution_count": 95,
      "metadata": {
        "id": "GR8KsUKJe_T-",
        "colab": {
          "base_uri": "https://localhost:8080/"
        },
        "outputId": "2d0b373e-a1de-4994-c9ea-f723d1abb8fc"
      },
      "outputs": [
        {
          "output_type": "stream",
          "name": "stdout",
          "text": [
            "Classification Report:\n",
            "              precision    recall  f1-score   support\n",
            "\n",
            "           0       1.00      0.73      0.85    244845\n",
            "           1       0.00      0.00      0.00         0\n",
            "\n",
            "    accuracy                           0.73    244845\n",
            "   macro avg       0.50      0.37      0.42    244845\n",
            "weighted avg       1.00      0.73      0.85    244845\n",
            "\n"
          ]
        }
      ],
      "source": [
        "if (option == 1) | (option ==2):\n",
        "  class_report = metrics.classification_report(ytest_opt1, y_pred_opt1)\n",
        "  print(\"Classification Report:\")\n",
        "  print(class_report)\n",
        "  fonction_cout(ytest_opt1, y_pred_proba_opt1[:,1])\n",
        "  mlflow.log_text(class_report, \"classification_report_dataset_restant.txt\")\n",
        "  mlflow.log_metrics({'score_metier_dataset_restant' : fonction_cout(ytest, y_pred_proba[:,1])})"
      ]
    },
    {
      "cell_type": "markdown",
      "metadata": {
        "id": "BTPwkhq0o46I"
      },
      "source": [
        "# <a name=\"C5\"> 5. Feature importance </a>"
      ]
    },
    {
      "cell_type": "code",
      "execution_count": 96,
      "metadata": {
        "id": "7imTK1WR_2nQ"
      },
      "outputs": [],
      "source": [
        "import shap"
      ]
    },
    {
      "cell_type": "code",
      "execution_count": 97,
      "metadata": {
        "id": "tYh_8sCF_Hv4"
      },
      "outputs": [],
      "source": [
        "models_dict[model][3]\n",
        "if models_dict[model][3] == 'coeff':\n",
        "  if option !=2:\n",
        "    weight_feat = Pipe_0['grid_search_' + model].best_estimator_.coef_\n",
        "    weight_feat\n",
        "  else :\n",
        "    best_estimator = Pipe_0['gridsearchcv'].best_estimator_\n",
        "    weight_feat = best_estimator[id_model].coef_\n",
        "    weight_feat\n",
        "  new_col = X_new_transformed.columns\n",
        "  feat_imp = pd.DataFrame(columns =new_col,\n",
        "                        data = weight_feat)\n",
        "  feat_imp.index = [model.split()[0]+'_option'+str(option)]\n",
        "  feat_imp\n",
        "  fig, ax = plt.subplots(figsize = (10,8))\n",
        "  sns.set()\n",
        "  sns.barplot(data = feat_imp, orient= 'h')\n",
        "  ax.set_xlabel('\\u03b8 (vecteur poids)')  # Unicode representation for theta symbol\n",
        "  ax.set_ylabel('Variables')\n",
        "  plt.title('Étude de feature importance pour le modèle: \\n'+'Option'+str(option)+'_'+model.split()[0]+'_itération'+str(it) )\n",
        "  plt.tight_layout()  # Adjust the layout to prevent label overlapping\n",
        "  plt.savefig('/content/P7_NC/Feat_Option'+str(option)+'_'+model.split()[0]+'_itération'+str(it)+'.png', bbox_inches = 'tight')\n",
        "  mlflow.log_artifact('/content/P7_NC/Feat_Option'+str(option)+'_'+model.split()[0]+'_itération'+str(it)+'.png')"
      ]
    },
    {
      "cell_type": "code",
      "execution_count": 98,
      "metadata": {
        "id": "3HBruqAU_NHW",
        "colab": {
          "base_uri": "https://localhost:8080/",
          "height": 54
        },
        "outputId": "eff063ad-c96a-49d8-adf3-54deed3a6e99"
      },
      "outputs": [
        {
          "output_type": "display_data",
          "data": {
            "text/plain": [
              "<Figure size 800x550 with 2 Axes>"
            ],
            "image/png": "[encoded data removed]"
          },
          "metadata": {}
        }
      ],
      "source": [
        "if models_dict[model][3] == 'shap':\n",
        "  Xtest_transformed = preprocessor.transform(Xtest)\n",
        "  if models_dict[model][4] == 'tree':\n",
        "    if option == 2:\n",
        "      explainer = shap.TreeExplainer(best_model[id_model])\n",
        "    else :\n",
        "      explainer = shap.TreeExplainer(best_model)\n",
        "    shap_values = explainer(Xtest_transformed)\n",
        "    shap.summary_plot(shap_values[:, :, 1],  max_display=10, show = False)\n",
        "    plt.title('Analyse de feature importance \\n modèle '+model)\n",
        "    plt.savefig('/content/P7_NC/Feat_Option'+str(option)+'_'+model.split()[0]+'_itération'+str(it)+'.png', bbox_inches = 'tight')\n",
        "\n",
        "  else :\n",
        "    explainer = shap.Explainer(best_model)\n",
        "    shap_values = explainer.shap_values(Xtest_transformed)\n",
        "    shap.plots.bar(shap_values[1], max_display=10, show = False)\n",
        "    plt.title('Analyse de feature importance \\n modèle '+model)\n",
        "    plt.savefig('/content/P7_NC/Feat_Option'+str(option)+'_'+model.split()[0]+'_itération'+str(it)+'.png', bbox_inches='tight')\n",
        "\n",
        "\n",
        "mlflow.log_artifact('/content/P7_NC/Feat_Option'+str(option)+'_'+model.split()[0]+'_itération'+str(it)+'.png')\n"
      ]
    },
    {
      "cell_type": "code",
      "source": [
        "if models_dict[model][3] == 'shap':\n",
        "  Xtest_transformed = preprocessor.transform(Xtest)\n",
        "  if models_dict[model][4] == 'tree':\n",
        "    if option == 2:\n",
        "      explainer = shap.TreeExplainer(best_model[id_model])\n",
        "    else :\n",
        "      explainer = shap.TreeExplainer(best_model)\n",
        "    shap_values = explainer(Xtest_transformed)\n",
        "    shap.plots.bar(shap_values[:, :, 1],  max_display=34, show = False)\n",
        "    plt.title('Analyse de feature importance \\n modèle '+model)\n",
        "    plt.savefig('/content/P7_NC/Feat_Option'+str(option)+'_'+model.split()[0]+'_itération'+str(it)+'_bar.png', bbox_inches = 'tight')\n",
        "\n",
        "  else :\n",
        "    explainer = shap.Explainer(best_model)\n",
        "    shap_values = explainer.shap_values(Xtest_transformed)\n",
        "    shap.plots.bar(shap_values[1], max_display=10, show = False)\n",
        "    plt.title('Analyse de feature importance \\n modèle '+model)\n",
        "    plt.savefig('/content/P7_NC/Feat_Option'+str(option)+'_'+model.split()[0]+'_itération'+str(it)+'_bar.png', bbox_inches='tight')\n",
        "\n",
        "\n",
        "mlflow.log_artifact('/content/P7_NC/Feat_Option'+str(option)+'_'+model.split()[0]+'_itération'+str(it)+'_bar.png')"
      ],
      "metadata": {
        "id": "stOLFA0az5bN",
        "colab": {
          "base_uri": "https://localhost:8080/",
          "height": 54
        },
        "outputId": "e31c896f-89c9-4b0a-a04a-ee6e6fc6a603"
      },
      "execution_count": 99,
      "outputs": [
        {
          "output_type": "display_data",
          "data": {
            "text/plain": [
              "<Figure size 800x1600 with 1 Axes>"
            ],
            "image/png": "[encoded data removed]"
          },
          "metadata": {}
        }
      ]
    },
    {
      "cell_type": "markdown",
      "metadata": {
        "id": "5vatOUG_IPfE"
      },
      "source": [
        "**Itération 1** :\n",
        "\n",
        "Je choisie d'éliminer les features : REMB_ANNUEL, Je garde le one-hot encoding sur le NAME_INCOME_TYPE mais je supprimerait les features inutile : 'working', 'commercial associate'.\n",
        "\n",
        "\n",
        "---\n",
        "\n",
        "**Itération 2** :\n",
        "*   Pour la logistic regression : les features les plus pertinentes sont les RATIO_ENDETT(%), NOMBRE_CONTRAT_ACTIFS, CC NOMBRE RETRAIT MOYENCB_SOMMES_DUES_RETARD, CHARGES_ANNUELLES, CC_RATIO_CREDIT.\n",
        "\n",
        "À envisager : la suppression des features : Working, Commercial Associate.\n",
        "HEURE_APP, NBRE_ENFANT, GENRE.\n",
        "\n",
        "\n"
      ]
    },
    {
      "cell_type": "code",
      "execution_count": 100,
      "metadata": {
        "id": "r7yUTqTLIhkB"
      },
      "outputs": [],
      "source": [
        "mlflow.end_run()"
      ]
    },
    {
      "cell_type": "markdown",
      "metadata": {
        "id": "MgblHDsFpWnW"
      },
      "source": [
        "# <a name=\"C6\"> 6. Traitement pour MLFlow ui  </a>"
      ]
    },
    {
      "cell_type": "markdown",
      "metadata": {
        "id": "h_hvZ7scQ8Fq"
      },
      "source": [
        " - ## Téléchargement du meilleur modèle : LightGBM"
      ]
    },
    {
      "cell_type": "code",
      "execution_count": 101,
      "metadata": {
        "id": "UZjUfqmRYhD9"
      },
      "outputs": [],
      "source": [
        "import joblib\n",
        "\n",
        "if option !=2 :\n",
        "  joblib.dump(best_model, 'LightGBM_bestmodel.pkl')\n",
        "else :\n",
        "  joblib.dump(best_model[id_model], 'LightGBM_bestmodel.pkl')\n",
        "\n"
      ]
    },
    {
      "cell_type": "markdown",
      "metadata": {
        "id": "gauWCmS-pF1g"
      },
      "source": [
        "## Modifier les fichiers meta.yaml (chemin des artifacts à modifier)"
      ]
    },
    {
      "cell_type": "code",
      "execution_count": 421,
      "metadata": {
        "id": "bRt3VpfFpR91"
      },
      "outputs": [],
      "source": [
        "import os\n",
        "import yaml\n",
        "import shutil\n",
        "\n",
        "\n",
        "# Mon chemin en local\n",
        "local_folder_path = \"/Users/JoycyRobert/Documents/JUPYTER/OPC/PROJET_7/P7/\"\n",
        "\n",
        "# Le chemin du dossier mlruns sur google colab\n",
        "mlruns_path_on_drive = \"/content/mlruns\"\n",
        "\n",
        "# Modification des chemins au sein des fichiers meta.yaml\n",
        "for root, dirs, files in os.walk(mlruns_path_on_drive):\n",
        "    for file in files:\n",
        "        if file == \"meta.yaml\":\n",
        "            meta_yaml_path = os.path.join(root, file)\n",
        "            with open(meta_yaml_path, \"r\") as f:\n",
        "                meta_yaml_content = yaml.safe_load(f)\n",
        "\n",
        "            # Update 'artifact_location' if present\n",
        "            if 'artifact_location' in meta_yaml_content:\n",
        "                artifact_location = meta_yaml_content['artifact_location']\n",
        "                # Extract the partial path from the artifact_location\n",
        "                partial_path = artifact_location.split(\"/content/\")[-1]\n",
        "                # Combine with the local_folder_path to get the new artifact_location\n",
        "                new_artifact_location = os.path.join(local_folder_path, partial_path)\n",
        "                meta_yaml_content['artifact_location'] = new_artifact_location\n",
        "\n",
        "            # Update 'artifact_uri' if present\n",
        "            if 'artifact_uri' in meta_yaml_content:\n",
        "                artifact_uri = meta_yaml_content['artifact_uri']\n",
        "                # Extract the partial path from the artifact_uri\n",
        "                partial_path = artifact_uri.split(\"/content/\")[-1]\n",
        "                # Combine with the local_folder_path to get the new artifact_uri\n",
        "                new_artifact_uri = os.path.join(local_folder_path, partial_path)\n",
        "                meta_yaml_content['artifact_uri'] = new_artifact_uri\n",
        "\n",
        "            with open(meta_yaml_path, \"w\") as f:\n",
        "                yaml.dump(meta_yaml_content, f)\n"
      ]
    },
    {
      "cell_type": "markdown",
      "metadata": {
        "id": "Kj74Q3CXoklO"
      },
      "source": [
        "## Téléchargement du dossier"
      ]
    },
    {
      "cell_type": "code",
      "execution_count": 422,
      "metadata": {
        "colab": {
          "base_uri": "https://localhost:8080/",
          "height": 37
        },
        "id": "sFw5ESyYz_KF",
        "outputId": "ac0ae34b-ef9c-4d20-a2e8-3056c5c4c694"
      },
      "outputs": [
        {
          "output_type": "display_data",
          "data": {
            "text/plain": [
              "<IPython.core.display.Javascript object>"
            ],
            "application/javascript": [
              "\n",
              "    async function download(id, filename, size) {\n",
              "      if (!google.colab.kernel.accessAllowed) {\n",
              "        return;\n",
              "      }\n",
              "      const div = document.createElement('div');\n",
              "      const label = document.createElement('label');\n",
              "      label.textContent = `Downloading \"${filename}\": `;\n",
              "      div.appendChild(label);\n",
              "      const progress = document.createElement('progress');\n",
              "      progress.max = size;\n",
              "      div.appendChild(progress);\n",
              "      document.body.appendChild(div);\n",
              "\n",
              "      const buffers = [];\n",
              "      let downloaded = 0;\n",
              "\n",
              "      const channel = await google.colab.kernel.comms.open(id);\n",
              "      // Send a message to notify the kernel that we're ready.\n",
              "      channel.send({})\n",
              "\n",
              "      for await (const message of channel.messages) {\n",
              "        // Send a message to notify the kernel that we're ready.\n",
              "        channel.send({})\n",
              "        if (message.buffers) {\n",
              "          for (const buffer of message.buffers) {\n",
              "            buffers.push(buffer);\n",
              "            downloaded += buffer.byteLength;\n",
              "            progress.value = downloaded;\n",
              "          }\n",
              "        }\n",
              "      }\n",
              "      const blob = new Blob(buffers, {type: 'application/binary'});\n",
              "      const a = document.createElement('a');\n",
              "      a.href = window.URL.createObjectURL(blob);\n",
              "      a.download = filename;\n",
              "      div.appendChild(a);\n",
              "      a.click();\n",
              "      div.remove();\n",
              "    }\n",
              "  "
            ]
          },
          "metadata": {}
        },
        {
          "output_type": "display_data",
          "data": {
            "text/plain": [
              "<IPython.core.display.Javascript object>"
            ],
            "application/javascript": [
              "download(\"download_c993ef44-5f50-440e-9862-5a99730523af\", \"mlruns.zip\", 2828836)"
            ]
          },
          "metadata": {}
        }
      ],
      "source": [
        "import shutil\n",
        "\n",
        "# Replace 'folder_name' with the name of the folder you want to zip\n",
        "folder_name = 'mlruns'\n",
        "\n",
        "# Zip the folder\n",
        "shutil.make_archive(folder_name, 'zip', folder_name)\n",
        "\n",
        "# Download the zipped folder\n",
        "from google.colab import files\n",
        "files.download(f'{folder_name}.zip')"
      ]
    },
    {
      "cell_type": "markdown",
      "metadata": {
        "id": "4X6RDkg0om89"
      },
      "source": [
        "## Suppression du dossier mlruns"
      ]
    },
    {
      "cell_type": "code",
      "execution_count": null,
      "metadata": {
        "colab": {
          "base_uri": "https://localhost:8080/"
        },
        "id": "XHDEb_TLU5Mu",
        "outputId": "bb48dbd0-2a0d-4f01-9cb6-aa0b7f001f20"
      },
      "outputs": [
        {
          "output_type": "stream",
          "name": "stdout",
          "text": [
            "/content\n"
          ]
        }
      ],
      "source": [
        "import shutil\n",
        "import os\n",
        "print(os.getcwd())\n",
        "# Specify the path to the 'mlruns' directory\n",
        "mlruns_directory = './mlruns'\n",
        "\n",
        "# Delete the 'mlruns' directory and its contents\n",
        "shutil.rmtree(mlruns_directory, ignore_errors=True)\n",
        "\n",
        "#os.rmdir('/content/mlruns')"
      ]
    }
  ],
  "metadata": {
    "colab": {
      "collapsed_sections": [
        "0ARWyPSdW7qO",
        "6BsOmVS7EoCh",
        "zz6RO8m1KijP",
        "V_rAViA9YVgF",
        "DbUPo79_fjj7",
        "nXeizqiQfwnN",
        "BTPwkhq0o46I",
        "gauWCmS-pF1g",
        "Kj74Q3CXoklO",
        "4X6RDkg0om89"
      ],
      "provenance": []
    },
    "kernelspec": {
      "display_name": "Python 3",
      "name": "python3"
    },
    "language_info": {
      "name": "python"
    }
  },
  "nbformat": 4,
  "nbformat_minor": 0
}