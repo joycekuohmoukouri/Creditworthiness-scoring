{
  "cells": [
    {
      "cell_type": "markdown",
      "metadata": {
        "id": "0ARWyPSdW7qO"
      },
      "source": [
        "# Projet 7 : Implémentez un modèle de scoring\n",
        "\n",
        "## NB C : Essais de classification binaire et tracking via MLFlow\n",
        "\n",
        "\n",
        "\n",
        "- <a href=\"#C1\"> 1. Importation des données</a>\n",
        "\n",
        "- <a href=\"#C2\"> 2. Pre-processing </a>\n",
        "\n",
        "- <a href=\"#C3\"> 3. Entraînement du modèle et score métier </a>\n",
        "\n",
        "- <a href=\"#C4\"> 4. Score sur le jeu test </a>\n",
        "  -  <a href=\"#C41\"> 4.1 Matrice de confusion et rapport de classification <a>\n",
        "  -  <a href=\"#C42\"> 4.2 Courbe ROC <a>\n",
        "\n",
        "- <a href=\"#C5\"> 5. Feature importance </a>\n",
        "\n",
        "- <a href=\"#C6\"> 6. Téléchargement des expériences MLFlow </a>\n",
        "\n"
      ]
    },
    {
      "cell_type": "code",
      "execution_count": 46,
      "metadata": {
        "id": "WwqB0Ay7PLV5",
        "colab": {
          "base_uri": "https://localhost:8080/"
        },
        "outputId": "92e9b65c-8fdf-4484-f93e-bd3191b2c266"
      },
      "outputs": [
        {
          "output_type": "stream",
          "name": "stdout",
          "text": [
            "\u001b[2K     \u001b[90m━━━━━━━━━━━━━━━━━━━━━━━━━━━━━━━━━━━━━━━━\u001b[0m \u001b[32m18.2/18.2 MB\u001b[0m \u001b[31m38.8 MB/s\u001b[0m eta \u001b[36m0:00:00\u001b[0m\n",
            "\u001b[2K     \u001b[90m━━━━━━━━━━━━━━━━━━━━━━━━━━━━━━━━━━━━━━━━\u001b[0m \u001b[32m79.5/79.5 kB\u001b[0m \u001b[31m7.6 MB/s\u001b[0m eta \u001b[36m0:00:00\u001b[0m\n",
            "\u001b[?25h"
          ]
        }
      ],
      "source": [
        "import pandas as pd\n",
        "import numpy as np\n",
        "import scipy.stats as stats\n",
        "import matplotlib.pyplot as plt\n",
        "import re\n",
        "import seaborn as sns\n",
        "import missingno as msno\n",
        "import clean #mon module de fontions qui me permettent de nettoyer un dataframe\n",
        "import plot_\n",
        "import joblib\n",
        "import os\n",
        "\n",
        "# Filter warnings\n",
        "import warnings\n",
        "warnings.filterwarnings('ignore')\n",
        "\n",
        "!pip install category_encoders --quiet\n",
        "!pip install mlflow==2.5.0 --quiet\n",
        "!pip install imbalanced-learn --quiet\n",
        "!pip install lightgbm --quiet\n",
        "!pip install shap --quiet\n",
        "!pip install xgboost --quiet"
      ]
    },
    {
      "cell_type": "code",
      "execution_count": 225,
      "metadata": {
        "id": "sUVRulJDEnhT"
      },
      "outputs": [],
      "source": [
        "from imblearn.over_sampling import SMOTE\n",
        "import sklearn\n",
        "from sklearn import model_selection\n",
        "from sklearn import metrics\n",
        "from sklearn import preprocessing\n",
        "from sklearn import linear_model\n",
        "from sklearn.pipeline import Pipeline\n",
        "from sklearn.preprocessing import MinMaxScaler, OrdinalEncoder, RobustScaler,  StandardScaler, FunctionTransformer\n",
        "from sklearn.preprocessing import StandardScaler\n",
        "from sklearn.compose import ColumnTransformer, TransformedTargetRegressor\n",
        "from sklearn import set_config\n",
        "from category_encoders import *\n",
        "set_config(display=\"diagram\")\n",
        "from sklearn.linear_model import LogisticRegression\n",
        "from sklearn.tree import DecisionTreeClassifier\n",
        "from sklearn.ensemble import RandomForestClassifier, GradientBoostingClassifier, AdaBoostClassifier, ExtraTreesClassifier\n",
        "from sklearn.svm import SVC\n",
        "from sklearn.neighbors import KNeighborsClassifier\n",
        "from sklearn.naive_bayes import GaussianNB\n",
        "from sklearn.discriminant_analysis import LinearDiscriminantAnalysis\n",
        "from sklearn.dummy import DummyClassifier\n",
        "from lightgbm import LGBMClassifier\n",
        "from xgboost import XGBClassifier\n",
        "import lightgbm as lgb"
      ]
    },
    {
      "cell_type": "markdown",
      "metadata": {
        "id": "6BsOmVS7EoCh"
      },
      "source": [
        "# <a name=\"C1\"> 1. Importation des données</a>"
      ]
    },
    {
      "cell_type": "code",
      "execution_count": 3,
      "metadata": {
        "colab": {
          "base_uri": "https://localhost:8080/",
          "height": 253
        },
        "id": "Rnhvl3aSEmIo",
        "outputId": "2784690f-658f-4901-81c2-b33251b2695b"
      },
      "outputs": [
        {
          "output_type": "execute_result",
          "data": {
            "text/plain": [
              "  PROPRIETAIRE  NBRE_ENFANT  REVENUS_TOT  MONTANT_CREDIT     OCCUPATION  \\\n",
              "0            Y            0     202500.0        406597.5        Working   \n",
              "1            N            0     270000.0       1293502.5  State servant   \n",
              "2            Y            0      67500.0        135000.0        Working   \n",
              "3            Y            0     135000.0        312682.5        Working   \n",
              "4            Y            0     121500.0        513000.0        Working   \n",
              "\n",
              "  NIVEAU_ETUDE  AGE  ANCIENNETE_EMPLOI  SCORE_REGION  HEURE_APP  ...  \\\n",
              "0          BAC   26                  2             2         10  ...   \n",
              "1      ENS_SUP   47                  3             1         11  ...   \n",
              "2          BAC   53                  1             2          9  ...   \n",
              "3          BAC   53                  8             2         17  ...   \n",
              "4          BAC   55                  8             2         11  ...   \n",
              "\n",
              "  SCORE_2_EXT  RATIO_ENDETT(%)  CC_NOMBRE_RETRAIT_MOYEN  POS_PROGRESS_MAX_MIN  \\\n",
              "0    0.262949             12.2                      0.0             75.000000   \n",
              "1    0.622246             13.2                      0.0             91.666667   \n",
              "2    0.555912             10.0                      0.0            100.000000   \n",
              "3    0.650442             22.0                      0.0             75.000000   \n",
              "4    0.322738             18.0                      0.0             45.833333   \n",
              "\n",
              "   CB_SOMME_DUES_RETARD  CC_RATIO_CREDIT  NBRE_CONTRAT_ACTIFS  NBRE_J_RETARD  \\\n",
              "0                   0.0              0.0                  3.0            0.0   \n",
              "1                   0.0              0.0                  1.0            0.0   \n",
              "2                   0.0              0.0                  0.0            0.0   \n",
              "3                   0.0              0.0                  2.0            0.0   \n",
              "4                   0.0              0.0                  2.0            1.0   \n",
              "\n",
              "   CHARGES_ANNUEL  ANCIENNETE_CREDIT  \n",
              "0         24700.5               47.0  \n",
              "1         35698.5               77.0  \n",
              "2          6750.0               27.0  \n",
              "3         29686.5               19.0  \n",
              "4         21865.5               77.0  \n",
              "\n",
              "[5 rows x 21 columns]"
            ],
            "text/html": [
              "\n",
              "  <div id=\"df-671086be-7b1f-4740-a43b-cbd6e67cc649\" class=\"colab-df-container\">\n",
              "    <div>\n",
              "<style scoped>\n",
              "    .dataframe tbody tr th:only-of-type {\n",
              "        vertical-align: middle;\n",
              "    }\n",
              "\n",
              "    .dataframe tbody tr th {\n",
              "        vertical-align: top;\n",
              "    }\n",
              "\n",
              "    .dataframe thead th {\n",
              "        text-align: right;\n",
              "    }\n",
              "</style>\n",
              "<table border=\"1\" class=\"dataframe\">\n",
              "  <thead>\n",
              "    <tr style=\"text-align: right;\">\n",
              "      <th></th>\n",
              "      <th>PROPRIETAIRE</th>\n",
              "      <th>NBRE_ENFANT</th>\n",
              "      <th>REVENUS_TOT</th>\n",
              "      <th>MONTANT_CREDIT</th>\n",
              "      <th>OCCUPATION</th>\n",
              "      <th>NIVEAU_ETUDE</th>\n",
              "      <th>AGE</th>\n",
              "      <th>ANCIENNETE_EMPLOI</th>\n",
              "      <th>SCORE_REGION</th>\n",
              "      <th>HEURE_APP</th>\n",
              "      <th>...</th>\n",
              "      <th>SCORE_2_EXT</th>\n",
              "      <th>RATIO_ENDETT(%)</th>\n",
              "      <th>CC_NOMBRE_RETRAIT_MOYEN</th>\n",
              "      <th>POS_PROGRESS_MAX_MIN</th>\n",
              "      <th>CB_SOMME_DUES_RETARD</th>\n",
              "      <th>CC_RATIO_CREDIT</th>\n",
              "      <th>NBRE_CONTRAT_ACTIFS</th>\n",
              "      <th>NBRE_J_RETARD</th>\n",
              "      <th>CHARGES_ANNUEL</th>\n",
              "      <th>ANCIENNETE_CREDIT</th>\n",
              "    </tr>\n",
              "  </thead>\n",
              "  <tbody>\n",
              "    <tr>\n",
              "      <th>0</th>\n",
              "      <td>Y</td>\n",
              "      <td>0</td>\n",
              "      <td>202500.0</td>\n",
              "      <td>406597.5</td>\n",
              "      <td>Working</td>\n",
              "      <td>BAC</td>\n",
              "      <td>26</td>\n",
              "      <td>2</td>\n",
              "      <td>2</td>\n",
              "      <td>10</td>\n",
              "      <td>...</td>\n",
              "      <td>0.262949</td>\n",
              "      <td>12.2</td>\n",
              "      <td>0.0</td>\n",
              "      <td>75.000000</td>\n",
              "      <td>0.0</td>\n",
              "      <td>0.0</td>\n",
              "      <td>3.0</td>\n",
              "      <td>0.0</td>\n",
              "      <td>24700.5</td>\n",
              "      <td>47.0</td>\n",
              "    </tr>\n",
              "    <tr>\n",
              "      <th>1</th>\n",
              "      <td>N</td>\n",
              "      <td>0</td>\n",
              "      <td>270000.0</td>\n",
              "      <td>1293502.5</td>\n",
              "      <td>State servant</td>\n",
              "      <td>ENS_SUP</td>\n",
              "      <td>47</td>\n",
              "      <td>3</td>\n",
              "      <td>1</td>\n",
              "      <td>11</td>\n",
              "      <td>...</td>\n",
              "      <td>0.622246</td>\n",
              "      <td>13.2</td>\n",
              "      <td>0.0</td>\n",
              "      <td>91.666667</td>\n",
              "      <td>0.0</td>\n",
              "      <td>0.0</td>\n",
              "      <td>1.0</td>\n",
              "      <td>0.0</td>\n",
              "      <td>35698.5</td>\n",
              "      <td>77.0</td>\n",
              "    </tr>\n",
              "    <tr>\n",
              "      <th>2</th>\n",
              "      <td>Y</td>\n",
              "      <td>0</td>\n",
              "      <td>67500.0</td>\n",
              "      <td>135000.0</td>\n",
              "      <td>Working</td>\n",
              "      <td>BAC</td>\n",
              "      <td>53</td>\n",
              "      <td>1</td>\n",
              "      <td>2</td>\n",
              "      <td>9</td>\n",
              "      <td>...</td>\n",
              "      <td>0.555912</td>\n",
              "      <td>10.0</td>\n",
              "      <td>0.0</td>\n",
              "      <td>100.000000</td>\n",
              "      <td>0.0</td>\n",
              "      <td>0.0</td>\n",
              "      <td>0.0</td>\n",
              "      <td>0.0</td>\n",
              "      <td>6750.0</td>\n",
              "      <td>27.0</td>\n",
              "    </tr>\n",
              "    <tr>\n",
              "      <th>3</th>\n",
              "      <td>Y</td>\n",
              "      <td>0</td>\n",
              "      <td>135000.0</td>\n",
              "      <td>312682.5</td>\n",
              "      <td>Working</td>\n",
              "      <td>BAC</td>\n",
              "      <td>53</td>\n",
              "      <td>8</td>\n",
              "      <td>2</td>\n",
              "      <td>17</td>\n",
              "      <td>...</td>\n",
              "      <td>0.650442</td>\n",
              "      <td>22.0</td>\n",
              "      <td>0.0</td>\n",
              "      <td>75.000000</td>\n",
              "      <td>0.0</td>\n",
              "      <td>0.0</td>\n",
              "      <td>2.0</td>\n",
              "      <td>0.0</td>\n",
              "      <td>29686.5</td>\n",
              "      <td>19.0</td>\n",
              "    </tr>\n",
              "    <tr>\n",
              "      <th>4</th>\n",
              "      <td>Y</td>\n",
              "      <td>0</td>\n",
              "      <td>121500.0</td>\n",
              "      <td>513000.0</td>\n",
              "      <td>Working</td>\n",
              "      <td>BAC</td>\n",
              "      <td>55</td>\n",
              "      <td>8</td>\n",
              "      <td>2</td>\n",
              "      <td>11</td>\n",
              "      <td>...</td>\n",
              "      <td>0.322738</td>\n",
              "      <td>18.0</td>\n",
              "      <td>0.0</td>\n",
              "      <td>45.833333</td>\n",
              "      <td>0.0</td>\n",
              "      <td>0.0</td>\n",
              "      <td>2.0</td>\n",
              "      <td>1.0</td>\n",
              "      <td>21865.5</td>\n",
              "      <td>77.0</td>\n",
              "    </tr>\n",
              "  </tbody>\n",
              "</table>\n",
              "<p>5 rows × 21 columns</p>\n",
              "</div>\n",
              "    <div class=\"colab-df-buttons\">\n",
              "\n",
              "  <div class=\"colab-df-container\">\n",
              "    <button class=\"colab-df-convert\" onclick=\"convertToInteractive('df-671086be-7b1f-4740-a43b-cbd6e67cc649')\"\n",
              "            title=\"Convert this dataframe to an interactive table.\"\n",
              "            style=\"display:none;\">\n",
              "\n",
              "  <svg xmlns=\"http://www.w3.org/2000/svg\" height=\"24px\" viewBox=\"0 -960 960 960\">\n",
              "    <path d=\"M120-120v-720h720v720H120Zm60-500h600v-160H180v160Zm220 220h160v-160H400v160Zm0 220h160v-160H400v160ZM180-400h160v-160H180v160Zm440 0h160v-160H620v160ZM180-180h160v-160H180v160Zm440 0h160v-160H620v160Z\"/>\n",
              "  </svg>\n",
              "    </button>\n",
              "\n",
              "  <style>\n",
              "    .colab-df-container {\n",
              "      display:flex;\n",
              "      gap: 12px;\n",
              "    }\n",
              "\n",
              "    .colab-df-convert {\n",
              "      background-color: #E8F0FE;\n",
              "      border: none;\n",
              "      border-radius: 50%;\n",
              "      cursor: pointer;\n",
              "      display: none;\n",
              "      fill: #1967D2;\n",
              "      height: 32px;\n",
              "      padding: 0 0 0 0;\n",
              "      width: 32px;\n",
              "    }\n",
              "\n",
              "    .colab-df-convert:hover {\n",
              "      background-color: #E2EBFA;\n",
              "      box-shadow: 0px 1px 2px rgba(60, 64, 67, 0.3), 0px 1px 3px 1px rgba(60, 64, 67, 0.15);\n",
              "      fill: #174EA6;\n",
              "    }\n",
              "\n",
              "    .colab-df-buttons div {\n",
              "      margin-bottom: 4px;\n",
              "    }\n",
              "\n",
              "    [theme=dark] .colab-df-convert {\n",
              "      background-color: #3B4455;\n",
              "      fill: #D2E3FC;\n",
              "    }\n",
              "\n",
              "    [theme=dark] .colab-df-convert:hover {\n",
              "      background-color: #434B5C;\n",
              "      box-shadow: 0px 1px 3px 1px rgba(0, 0, 0, 0.15);\n",
              "      filter: drop-shadow(0px 1px 2px rgba(0, 0, 0, 0.3));\n",
              "      fill: #FFFFFF;\n",
              "    }\n",
              "  </style>\n",
              "\n",
              "    <script>\n",
              "      const buttonEl =\n",
              "        document.querySelector('#df-671086be-7b1f-4740-a43b-cbd6e67cc649 button.colab-df-convert');\n",
              "      buttonEl.style.display =\n",
              "        google.colab.kernel.accessAllowed ? 'block' : 'none';\n",
              "\n",
              "      async function convertToInteractive(key) {\n",
              "        const element = document.querySelector('#df-671086be-7b1f-4740-a43b-cbd6e67cc649');\n",
              "        const dataTable =\n",
              "          await google.colab.kernel.invokeFunction('convertToInteractive',\n",
              "                                                    [key], {});\n",
              "        if (!dataTable) return;\n",
              "\n",
              "        const docLinkHtml = 'Like what you see? Visit the ' +\n",
              "          '<a target=\"_blank\" href=https://colab.research.google.com/notebooks/data_table.ipynb>data table notebook</a>'\n",
              "          + ' to learn more about interactive tables.';\n",
              "        element.innerHTML = '';\n",
              "        dataTable['output_type'] = 'display_data';\n",
              "        await google.colab.output.renderOutput(dataTable, element);\n",
              "        const docLink = document.createElement('div');\n",
              "        docLink.innerHTML = docLinkHtml;\n",
              "        element.appendChild(docLink);\n",
              "      }\n",
              "    </script>\n",
              "  </div>\n",
              "\n",
              "\n",
              "<div id=\"df-40265280-6f32-45b3-a0c4-0e3bc86e1b27\">\n",
              "  <button class=\"colab-df-quickchart\" onclick=\"quickchart('df-40265280-6f32-45b3-a0c4-0e3bc86e1b27')\"\n",
              "            title=\"Suggest charts.\"\n",
              "            style=\"display:none;\">\n",
              "\n",
              "<svg xmlns=\"http://www.w3.org/2000/svg\" height=\"24px\"viewBox=\"0 0 24 24\"\n",
              "     width=\"24px\">\n",
              "    <g>\n",
              "        <path d=\"M19 3H5c-1.1 0-2 .9-2 2v14c0 1.1.9 2 2 2h14c1.1 0 2-.9 2-2V5c0-1.1-.9-2-2-2zM9 17H7v-7h2v7zm4 0h-2V7h2v10zm4 0h-2v-4h2v4z\"/>\n",
              "    </g>\n",
              "</svg>\n",
              "  </button>\n",
              "\n",
              "<style>\n",
              "  .colab-df-quickchart {\n",
              "    background-color: #E8F0FE;\n",
              "    border: none;\n",
              "    border-radius: 50%;\n",
              "    cursor: pointer;\n",
              "    display: none;\n",
              "    fill: #1967D2;\n",
              "    height: 32px;\n",
              "    padding: 0 0 0 0;\n",
              "    width: 32px;\n",
              "  }\n",
              "\n",
              "  .colab-df-quickchart:hover {\n",
              "    background-color: #E2EBFA;\n",
              "    box-shadow: 0px 1px 2px rgba(60, 64, 67, 0.3), 0px 1px 3px 1px rgba(60, 64, 67, 0.15);\n",
              "    fill: #174EA6;\n",
              "  }\n",
              "\n",
              "  [theme=dark] .colab-df-quickchart {\n",
              "    background-color: #3B4455;\n",
              "    fill: #D2E3FC;\n",
              "  }\n",
              "\n",
              "  [theme=dark] .colab-df-quickchart:hover {\n",
              "    background-color: #434B5C;\n",
              "    box-shadow: 0px 1px 3px 1px rgba(0, 0, 0, 0.15);\n",
              "    filter: drop-shadow(0px 1px 2px rgba(0, 0, 0, 0.3));\n",
              "    fill: #FFFFFF;\n",
              "  }\n",
              "</style>\n",
              "\n",
              "  <script>\n",
              "    async function quickchart(key) {\n",
              "      const charts = await google.colab.kernel.invokeFunction(\n",
              "          'suggestCharts', [key], {});\n",
              "    }\n",
              "    (() => {\n",
              "      let quickchartButtonEl =\n",
              "        document.querySelector('#df-40265280-6f32-45b3-a0c4-0e3bc86e1b27 button');\n",
              "      quickchartButtonEl.style.display =\n",
              "        google.colab.kernel.accessAllowed ? 'block' : 'none';\n",
              "    })();\n",
              "  </script>\n",
              "</div>\n",
              "    </div>\n",
              "  </div>\n"
            ]
          },
          "metadata": {},
          "execution_count": 3
        }
      ],
      "source": [
        "it = 2 # 1, 2 première itération pour le choix des features\n",
        "selected_features = [#'GENRE',\n",
        "                     'PROPRIETAIRE', 'NBRE_ENFANT',\n",
        "       'ANCIENNETE_CREDIT', 'CHARGES_ANNUEL', 'REVENUS_TOT', 'MONTANT_CREDIT',\n",
        "       'OCCUPATION', 'CC_RATIO_CREDIT', 'NIVEAU_ETUDE', 'AGE',\n",
        "       'ANCIENNETE_EMPLOI', 'SCORE_REGION', 'HEURE_APP', 'SECTEUR_ACTIVITE',\n",
        "       'SCORE_2_EXT', 'RATIO_ENDETT(%)', 'NBRE_CONTRAT_ACTIFS',\n",
        "       'NBRE_J_RETARD', 'POS_PROGRESS_MAX_MIN', 'CC_NOMBRE_RETRAIT_MOYEN',\n",
        "       'CB_SOMME_DUES_RETARD']\n",
        "df = pd.read_csv('/content/client_train_db.csv',\n",
        "                 usecols = selected_features,\n",
        "                 dtype={'GENRE': 'object'\n",
        "                      })\n",
        "id_clients = pd.read_csv('/content/client_train_db.csv',\n",
        "                 usecols = ['SK_ID_CURR'],\n",
        "                 dtype={'SK_ID_CURR' : 'object',\n",
        "                      })\n",
        "y_ = pd.read_csv('/content/client_train_db.csv',\n",
        "                 usecols = ['TARGET'],\n",
        "                dtype={'TARGET' :  'object'\n",
        "                      })\n",
        "df.head()"
      ]
    },
    {
      "cell_type": "code",
      "execution_count": 4,
      "metadata": {
        "colab": {
          "base_uri": "https://localhost:8080/",
          "height": 204
        },
        "id": "U9qxoPmX6lfb",
        "outputId": "d2390f82-cac5-4be9-bb99-8763713c01fa"
      },
      "outputs": [
        {
          "output_type": "execute_result",
          "data": {
            "text/plain": [
              "  TARGET\n",
              "0      1\n",
              "1      0\n",
              "2      0\n",
              "3      0\n",
              "4      0"
            ],
            "text/html": [
              "\n",
              "  <div id=\"df-800642ff-a98d-4043-ac76-72e2527f159a\" class=\"colab-df-container\">\n",
              "    <div>\n",
              "<style scoped>\n",
              "    .dataframe tbody tr th:only-of-type {\n",
              "        vertical-align: middle;\n",
              "    }\n",
              "\n",
              "    .dataframe tbody tr th {\n",
              "        vertical-align: top;\n",
              "    }\n",
              "\n",
              "    .dataframe thead th {\n",
              "        text-align: right;\n",
              "    }\n",
              "</style>\n",
              "<table border=\"1\" class=\"dataframe\">\n",
              "  <thead>\n",
              "    <tr style=\"text-align: right;\">\n",
              "      <th></th>\n",
              "      <th>TARGET</th>\n",
              "    </tr>\n",
              "  </thead>\n",
              "  <tbody>\n",
              "    <tr>\n",
              "      <th>0</th>\n",
              "      <td>1</td>\n",
              "    </tr>\n",
              "    <tr>\n",
              "      <th>1</th>\n",
              "      <td>0</td>\n",
              "    </tr>\n",
              "    <tr>\n",
              "      <th>2</th>\n",
              "      <td>0</td>\n",
              "    </tr>\n",
              "    <tr>\n",
              "      <th>3</th>\n",
              "      <td>0</td>\n",
              "    </tr>\n",
              "    <tr>\n",
              "      <th>4</th>\n",
              "      <td>0</td>\n",
              "    </tr>\n",
              "  </tbody>\n",
              "</table>\n",
              "</div>\n",
              "    <div class=\"colab-df-buttons\">\n",
              "\n",
              "  <div class=\"colab-df-container\">\n",
              "    <button class=\"colab-df-convert\" onclick=\"convertToInteractive('df-800642ff-a98d-4043-ac76-72e2527f159a')\"\n",
              "            title=\"Convert this dataframe to an interactive table.\"\n",
              "            style=\"display:none;\">\n",
              "\n",
              "  <svg xmlns=\"http://www.w3.org/2000/svg\" height=\"24px\" viewBox=\"0 -960 960 960\">\n",
              "    <path d=\"M120-120v-720h720v720H120Zm60-500h600v-160H180v160Zm220 220h160v-160H400v160Zm0 220h160v-160H400v160ZM180-400h160v-160H180v160Zm440 0h160v-160H620v160ZM180-180h160v-160H180v160Zm440 0h160v-160H620v160Z\"/>\n",
              "  </svg>\n",
              "    </button>\n",
              "\n",
              "  <style>\n",
              "    .colab-df-container {\n",
              "      display:flex;\n",
              "      gap: 12px;\n",
              "    }\n",
              "\n",
              "    .colab-df-convert {\n",
              "      background-color: #E8F0FE;\n",
              "      border: none;\n",
              "      border-radius: 50%;\n",
              "      cursor: pointer;\n",
              "      display: none;\n",
              "      fill: #1967D2;\n",
              "      height: 32px;\n",
              "      padding: 0 0 0 0;\n",
              "      width: 32px;\n",
              "    }\n",
              "\n",
              "    .colab-df-convert:hover {\n",
              "      background-color: #E2EBFA;\n",
              "      box-shadow: 0px 1px 2px rgba(60, 64, 67, 0.3), 0px 1px 3px 1px rgba(60, 64, 67, 0.15);\n",
              "      fill: #174EA6;\n",
              "    }\n",
              "\n",
              "    .colab-df-buttons div {\n",
              "      margin-bottom: 4px;\n",
              "    }\n",
              "\n",
              "    [theme=dark] .colab-df-convert {\n",
              "      background-color: #3B4455;\n",
              "      fill: #D2E3FC;\n",
              "    }\n",
              "\n",
              "    [theme=dark] .colab-df-convert:hover {\n",
              "      background-color: #434B5C;\n",
              "      box-shadow: 0px 1px 3px 1px rgba(0, 0, 0, 0.15);\n",
              "      filter: drop-shadow(0px 1px 2px rgba(0, 0, 0, 0.3));\n",
              "      fill: #FFFFFF;\n",
              "    }\n",
              "  </style>\n",
              "\n",
              "    <script>\n",
              "      const buttonEl =\n",
              "        document.querySelector('#df-800642ff-a98d-4043-ac76-72e2527f159a button.colab-df-convert');\n",
              "      buttonEl.style.display =\n",
              "        google.colab.kernel.accessAllowed ? 'block' : 'none';\n",
              "\n",
              "      async function convertToInteractive(key) {\n",
              "        const element = document.querySelector('#df-800642ff-a98d-4043-ac76-72e2527f159a');\n",
              "        const dataTable =\n",
              "          await google.colab.kernel.invokeFunction('convertToInteractive',\n",
              "                                                    [key], {});\n",
              "        if (!dataTable) return;\n",
              "\n",
              "        const docLinkHtml = 'Like what you see? Visit the ' +\n",
              "          '<a target=\"_blank\" href=https://colab.research.google.com/notebooks/data_table.ipynb>data table notebook</a>'\n",
              "          + ' to learn more about interactive tables.';\n",
              "        element.innerHTML = '';\n",
              "        dataTable['output_type'] = 'display_data';\n",
              "        await google.colab.output.renderOutput(dataTable, element);\n",
              "        const docLink = document.createElement('div');\n",
              "        docLink.innerHTML = docLinkHtml;\n",
              "        element.appendChild(docLink);\n",
              "      }\n",
              "    </script>\n",
              "  </div>\n",
              "\n",
              "\n",
              "<div id=\"df-dacaeee9-6d79-4e2f-8d5c-7f452c18930c\">\n",
              "  <button class=\"colab-df-quickchart\" onclick=\"quickchart('df-dacaeee9-6d79-4e2f-8d5c-7f452c18930c')\"\n",
              "            title=\"Suggest charts.\"\n",
              "            style=\"display:none;\">\n",
              "\n",
              "<svg xmlns=\"http://www.w3.org/2000/svg\" height=\"24px\"viewBox=\"0 0 24 24\"\n",
              "     width=\"24px\">\n",
              "    <g>\n",
              "        <path d=\"M19 3H5c-1.1 0-2 .9-2 2v14c0 1.1.9 2 2 2h14c1.1 0 2-.9 2-2V5c0-1.1-.9-2-2-2zM9 17H7v-7h2v7zm4 0h-2V7h2v10zm4 0h-2v-4h2v4z\"/>\n",
              "    </g>\n",
              "</svg>\n",
              "  </button>\n",
              "\n",
              "<style>\n",
              "  .colab-df-quickchart {\n",
              "    background-color: #E8F0FE;\n",
              "    border: none;\n",
              "    border-radius: 50%;\n",
              "    cursor: pointer;\n",
              "    display: none;\n",
              "    fill: #1967D2;\n",
              "    height: 32px;\n",
              "    padding: 0 0 0 0;\n",
              "    width: 32px;\n",
              "  }\n",
              "\n",
              "  .colab-df-quickchart:hover {\n",
              "    background-color: #E2EBFA;\n",
              "    box-shadow: 0px 1px 2px rgba(60, 64, 67, 0.3), 0px 1px 3px 1px rgba(60, 64, 67, 0.15);\n",
              "    fill: #174EA6;\n",
              "  }\n",
              "\n",
              "  [theme=dark] .colab-df-quickchart {\n",
              "    background-color: #3B4455;\n",
              "    fill: #D2E3FC;\n",
              "  }\n",
              "\n",
              "  [theme=dark] .colab-df-quickchart:hover {\n",
              "    background-color: #434B5C;\n",
              "    box-shadow: 0px 1px 3px 1px rgba(0, 0, 0, 0.15);\n",
              "    filter: drop-shadow(0px 1px 2px rgba(0, 0, 0, 0.3));\n",
              "    fill: #FFFFFF;\n",
              "  }\n",
              "</style>\n",
              "\n",
              "  <script>\n",
              "    async function quickchart(key) {\n",
              "      const charts = await google.colab.kernel.invokeFunction(\n",
              "          'suggestCharts', [key], {});\n",
              "    }\n",
              "    (() => {\n",
              "      let quickchartButtonEl =\n",
              "        document.querySelector('#df-dacaeee9-6d79-4e2f-8d5c-7f452c18930c button');\n",
              "      quickchartButtonEl.style.display =\n",
              "        google.colab.kernel.accessAllowed ? 'block' : 'none';\n",
              "    })();\n",
              "  </script>\n",
              "</div>\n",
              "    </div>\n",
              "  </div>\n"
            ]
          },
          "metadata": {},
          "execution_count": 4
        }
      ],
      "source": [
        "y_.head()"
      ]
    },
    {
      "cell_type": "code",
      "execution_count": 5,
      "metadata": {
        "colab": {
          "base_uri": "https://localhost:8080/"
        },
        "id": "GoH6xhvhQWFY",
        "outputId": "bdeb84c2-687e-437d-da86-372237d87739"
      },
      "outputs": [
        {
          "output_type": "execute_result",
          "data": {
            "text/plain": [
              "array(['1', '0'], dtype=object)"
            ]
          },
          "metadata": {},
          "execution_count": 5
        }
      ],
      "source": [
        "y_['TARGET'].unique()"
      ]
    },
    {
      "cell_type": "markdown",
      "metadata": {
        "id": "zz6RO8m1KijP"
      },
      "source": [
        "# <a name=\"C1\"> 2. Pre-processing </a>\n",
        "\n"
      ]
    },
    {
      "cell_type": "markdown",
      "metadata": {
        "id": "8a_9hXctX2Rd"
      },
      "source": [
        "Quatre options :\n",
        "\n",
        "\n",
        "0.   Je garde le datasets tel qu'il est\n",
        "1.   Sous-échantillonnage\n",
        "2.   Sur-échantillonnage (SMOTE)\n",
        "3.   Class-weighting (fais dans le cas 0)\n"
      ]
    },
    {
      "cell_type": "code",
      "execution_count": 377,
      "metadata": {
        "colab": {
          "base_uri": "https://localhost:8080/"
        },
        "id": "fJbBOAXU5kOa",
        "outputId": "b036d537-57e6-4695-bf6d-bda324935456"
      },
      "outputs": [
        {
          "output_type": "stream",
          "name": "stdout",
          "text": [
            "Entrer l'option d'échantillonnage 'option': \n",
            " 0 pour le class-weighting, 1 pour un sous-échantillonage et 2 pour la méthode SMOTE 3\n",
            "Entrer le modèle à tester: ex : Logistic Regression, LDA,  LightGBM\n",
            "Option: 3\n",
            "Model: LightGBM\n"
          ]
        }
      ],
      "source": [
        "option = int(input(\"Entrer l'option d'échantillonnage 'option': \\n 0 pour le class-weighting, 1 pour un sous-échantillonage et 2 pour la méthode SMOTE \"))\n",
        "model = input(\"Entrer le modèle à tester: ex : Logistic Regression, LDA,  \")\n",
        "\n",
        "print(\"Option:\", int(option))\n",
        "print(\"Model:\", model)\n"
      ]
    },
    {
      "cell_type": "code",
      "execution_count": 378,
      "metadata": {
        "colab": {
          "base_uri": "https://localhost:8080/"
        },
        "id": "1K1Lu0pympgi",
        "outputId": "a255f6fb-689a-4ef1-f8a2-f2fe31463cfa"
      },
      "outputs": [
        {
          "output_type": "execute_result",
          "data": {
            "text/plain": [
              "Index(['PROPRIETAIRE', 'NBRE_ENFANT', 'REVENUS_TOT', 'MONTANT_CREDIT',\n",
              "       'OCCUPATION', 'NIVEAU_ETUDE', 'AGE', 'ANCIENNETE_EMPLOI',\n",
              "       'SCORE_REGION', 'HEURE_APP', 'SECTEUR_ACTIVITE', 'SCORE_2_EXT',\n",
              "       'RATIO_ENDETT(%)', 'CC_NOMBRE_RETRAIT_MOYEN', 'POS_PROGRESS_MAX_MIN',\n",
              "       'CB_SOMME_DUES_RETARD', 'CC_RATIO_CREDIT', 'NBRE_CONTRAT_ACTIFS',\n",
              "       'NBRE_J_RETARD', 'CHARGES_ANNUEL', 'ANCIENNETE_CREDIT'],\n",
              "      dtype='object')"
            ]
          },
          "metadata": {},
          "execution_count": 378
        }
      ],
      "source": [
        "df.columns"
      ]
    },
    {
      "cell_type": "code",
      "execution_count": 379,
      "metadata": {
        "id": "KAtFBcH_pXY3"
      },
      "outputs": [],
      "source": [
        "y = y_['TARGET']"
      ]
    },
    {
      "cell_type": "code",
      "execution_count": 380,
      "metadata": {
        "colab": {
          "base_uri": "https://localhost:8080/"
        },
        "id": "a1a5oJRhHIQL",
        "outputId": "b2db98c1-ed5c-4311-d0ea-a18f1d176c97"
      },
      "outputs": [
        {
          "output_type": "execute_result",
          "data": {
            "text/plain": [
              "array(['1', '0'], dtype=object)"
            ]
          },
          "metadata": {},
          "execution_count": 380
        }
      ],
      "source": [
        "y.unique()"
      ]
    },
    {
      "cell_type": "code",
      "execution_count": 381,
      "metadata": {
        "colab": {
          "base_uri": "https://localhost:8080/"
        },
        "id": "Q9WEt1c-SGNJ",
        "outputId": "3ff236d6-b2fc-47f6-dc50-da2d6e9c648d"
      },
      "outputs": [
        {
          "output_type": "execute_result",
          "data": {
            "text/plain": [
              "24747"
            ]
          },
          "metadata": {},
          "execution_count": 381
        }
      ],
      "source": [
        "len(y[y == '1'])"
      ]
    },
    {
      "cell_type": "code",
      "execution_count": 382,
      "metadata": {
        "colab": {
          "base_uri": "https://localhost:8080/"
        },
        "id": "1quOOMXX7kCC",
        "outputId": "51e4ea3d-b651-48d2-864c-f069be2b784d"
      },
      "outputs": [
        {
          "output_type": "execute_result",
          "data": {
            "text/plain": [
              "0         1\n",
              "26        1\n",
              "40        1\n",
              "42        1\n",
              "81        1\n",
              "         ..\n",
              "306649    1\n",
              "306676    1\n",
              "306682    1\n",
              "306690    1\n",
              "306710    1\n",
              "Name: TARGET, Length: 24747, dtype: object"
            ]
          },
          "metadata": {},
          "execution_count": 382
        }
      ],
      "source": [
        "y[y == '1']"
      ]
    },
    {
      "cell_type": "code",
      "source": [
        "model"
      ],
      "metadata": {
        "colab": {
          "base_uri": "https://localhost:8080/",
          "height": 35
        },
        "id": "76RSQgv1iKXA",
        "outputId": "3d5c5373-0237-40d6-9abf-d46972d77ccc"
      },
      "execution_count": 383,
      "outputs": [
        {
          "output_type": "execute_result",
          "data": {
            "text/plain": [
              "'LightGBM'"
            ],
            "application/vnd.google.colaboratory.intrinsic+json": {
              "type": "string"
            }
          },
          "metadata": {},
          "execution_count": 383
        }
      ]
    },
    {
      "cell_type": "code",
      "source": [
        "len(y)"
      ],
      "metadata": {
        "colab": {
          "base_uri": "https://localhost:8080/"
        },
        "id": "-DCRJM-vihgc",
        "outputId": "a0f712d1-0f5d-4d5e-d26e-0d05d40f9ab9"
      },
      "execution_count": 384,
      "outputs": [
        {
          "output_type": "execute_result",
          "data": {
            "text/plain": [
              "306712"
            ]
          },
          "metadata": {},
          "execution_count": 384
        }
      ]
    },
    {
      "cell_type": "code",
      "execution_count": 385,
      "metadata": {
        "id": "k2xcI7CcoVCH"
      },
      "outputs": [],
      "source": [
        "if option == 0:\n",
        "    Xtrain, Xtest, ytrain, ytest = model_selection.train_test_split(df, y, train_size=0.8, random_state=42, stratify = y)\n",
        "elif option == 1:\n",
        "    # Option 1 :  Sous-échantillonnage, Je récupère tous les '1' et je choisie un échantillon d'individu '0' de la même taille pour former un nouevau\n",
        "    # dataset concaténé.\n",
        "    len_target = len(y[y == '1'])\n",
        "    y_1 = y[y == '1']\n",
        "    ind_y1 = y[y == '1'].index\n",
        "    y_0 = y[y == '0'].sample(len_target, random_state=42)\n",
        "    ind_y0 = y_0.index\n",
        "    y_resampled = pd.concat([y_1, y_0])\n",
        "    ind_tot= y_resampled.index\n",
        "    Xtrain, Xtest, ytrain, ytest = model_selection.train_test_split(df.loc[ind_tot], y_resampled, train_size=0.8, random_state=42,\n",
        "                                                                    stratify =y_resampled)\n",
        "elif option == 2:\n",
        "    # Option 2 : Méthode mixte de sur-échantillonage de type smote et de sous-échantillonage, la méthode smote\n",
        "    # sera appliqué dans la recherche de grille durant la valisation croisée pour éviter le data leakage\n",
        "    len_target = len(y[y == '1'])\n",
        "    y_1 = y[y == '1']\n",
        "    ind_y1 = y[y == '1'].index\n",
        "    y_0 = y[y == '0'].sample(int(1.5*len_target), random_state=42)\n",
        "    ind_y0 = y_0.index\n",
        "    y_resampled = pd.concat([y_1, y_0])\n",
        "    ind_tot= y_resampled.index\n",
        "    Xtrain, Xtest, ytrain, ytest = model_selection.train_test_split(df.loc[ind_tot], y_resampled,\n",
        "                                                                    train_size=0.8, random_state=42, stratify =y_resampled)\n",
        "    smote = SMOTE(sampling_strategy='auto', random_state=42)\n",
        "elif option ==3:\n",
        "    len_target = len(y[y == '1'])\n",
        "    y_1 = y[y == '1']\n",
        "    ind_y1 = y[y == '1'].index\n",
        "    y_0 = y[y == '0'].sample(int(3*len_target), random_state=42)\n",
        "    ind_y0 = y_0.index\n",
        "    y_resampled = pd.concat([y_1, y_0])\n",
        "    ind_tot= y_resampled.index\n",
        "    Xtrain, Xtest, ytrain, ytest = model_selection.train_test_split(df.loc[ind_tot], y_resampled, train_size=0.8, random_state=42,\n",
        "                                                                    stratify =y_resampled)\n"
      ]
    },
    {
      "cell_type": "code",
      "execution_count": 386,
      "metadata": {
        "id": "f9TAs1JZo9uH"
      },
      "outputs": [],
      "source": [
        "len_target = len(y[y == '1'])\n",
        "len_non_target = len(y[y == '0'])\n",
        "class_weight_majority = len(y) / (len_non_target)\n",
        "class_weight_minority = len(y) / (len_target)\n",
        "class_weights = {'0': class_weight_majority, '1': class_weight_minority}\n",
        "\n",
        "\n",
        "# Ma liste de modèle\n",
        "models_dict = {'Dummy': [DummyClassifier(), 'non',\n",
        "                         {'strategy': ['stratified', 'uniform'],\n",
        "                          'random_state': [42],\n",
        "                         }, None], #Le troisième élément représente l'option de feat importance\n",
        "               'Logistic Regression': [LogisticRegression(), 'oui', #Oui car dans le calcul de la fonction d'hypothèse la fonction logistique est\n",
        "                            #foncton de la combinaison linaire des ppoids et du vecteur x de l'individu. Si toutes les composantes de x ne sont pas mis\n",
        "                            #à la même échelle certaines features auront d'avantage de poids que d'autre.\n",
        "                             {'solver' : ['lbfgs', 'liblinear', 'newton-cg', 'newton-cholesky', 'sag', 'saga'],\n",
        "                              'class_weight' : ['balanced', None],'penalty' : ['l2']\n",
        "                              } , 'coeff'],\n",
        "               'LDA' :  [LinearDiscriminantAnalysis(), 'oui',\n",
        "                {'solver' : ['svd','lsqr'],#'eigen'],\n",
        "                 'n_components' : [1]\n",
        "                 } , 'coeff'],\n",
        "               'Naive Bayes': [GaussianNB(), 'non',\n",
        "                {'var_smoothing': [1e-09, 1e-08, 1e-07, 1e-06, 1e-05]}, 'shap', 'other'],\n",
        "               'LightGBM': [LGBMClassifier(objective='binary', metric='binary_logloss'), 'non',\n",
        "                 {'learning_rate': [0.4, 0.5, 0.6],#0.7, 0.3, 0.1, 0.08,0.01, 0.001],\n",
        "                  'max_depth': [3], #2, 4, 5, 7, 10, 20\n",
        "                  'n_estimators': [140,150,160],#[10, 50, 70,100, 200, 250\n",
        "                  'random_state': [42],\n",
        "                  'class_weight': [#None,\n",
        "                                   class_weights]\n",
        "                 }, 'shap', 'tree'],\n",
        "               'Decision Trees': [DecisionTreeClassifier(), 'non',\n",
        "                       {'criterion': ['gini', 'entropy'],\n",
        "                        'max_depth': [None, 3, 4, 5], #autre valeurs testé 100, 50, 20, 10\n",
        "                        #'max_features': ['auto', 'sqrt', 'log2', None],\n",
        "                        'class_weight': [None, 'balanced'],\n",
        "                        'splitter': ['best', 'random'],\n",
        "                        'random_state': [42]\n",
        "                       }, 'shap', 'tree'],\n",
        "\n",
        "}\n"
      ]
    },
    {
      "cell_type": "code",
      "execution_count": 387,
      "metadata": {
        "colab": {
          "base_uri": "https://localhost:8080/"
        },
        "id": "KUFEqGvzrwT2",
        "outputId": "172db72d-af50-441e-cb66-46e00c10605b"
      },
      "outputs": [
        {
          "output_type": "execute_result",
          "data": {
            "text/plain": [
              "{'learning_rate': [0.4, 0.5, 0.6],\n",
              " 'max_depth': [3],\n",
              " 'n_estimators': [140, 150, 160],\n",
              " 'random_state': [42],\n",
              " 'class_weight': [{'0': 1.0877662121185254, '1': 12.393906332080656}]}"
            ]
          },
          "metadata": {},
          "execution_count": 387
        }
      ],
      "source": [
        "models_dict[model][2]"
      ]
    },
    {
      "cell_type": "code",
      "execution_count": 388,
      "metadata": {
        "colab": {
          "base_uri": "https://localhost:8080/"
        },
        "id": "Wqr53fUCquX8",
        "outputId": "ce582d8d-a0c4-4a39-af56-22db7f19bf8d"
      },
      "outputs": [
        {
          "output_type": "execute_result",
          "data": {
            "text/plain": [
              "306712"
            ]
          },
          "metadata": {},
          "execution_count": 388
        }
      ],
      "source": [
        "len(df)"
      ]
    },
    {
      "cell_type": "code",
      "execution_count": 389,
      "metadata": {
        "id": "nurZ1sE_EdTR"
      },
      "outputs": [],
      "source": [
        "#### Fonctions ----------------------------\n",
        "from sklearn.preprocessing import FunctionTransformer\n",
        "\n",
        "\n",
        "# Calcul de la fréquence d'occurence pour le secteur d'activité\n",
        "freq_by_org_type = df['SECTEUR_ACTIVITE'].value_counts(normalize=True).to_dict()\n",
        "def frequency_encode(x):\n",
        "    return x.replace(freq_by_org_type)\n",
        "\n",
        "# Creation du FunctionTransformer pour la fréquence d'occurence par secteur d'activité\n",
        "freq_encoder = FunctionTransformer(frequency_encode)\n",
        "\n",
        "cat_features = df.dtypes[df.dtypes == 'object'].index.tolist()\n",
        "cat_features = [feature for feature in cat_features if feature not in ['SK_ID_CURR', 'TARGET']]\n",
        "num_features = df.dtypes[df.dtypes != 'object'].index.tolist()\n",
        "\n",
        "\n",
        "####--------- Les transformations\n",
        "OneHot_transformer = OneHotEncoder(use_cat_names= True)\n",
        "#target_transformer = TargetEncoder(smoothing=0.2) data leakage et résultat imprévisible\n",
        "\n",
        "####---------Création de mon pipeline\n",
        "if models_dict[model][1] == 'oui':\n",
        "    # Scale features and handle skewed distributions\n",
        "    numeric_transformer = MinMaxScaler()\n",
        "    preprocessor = ColumnTransformer(transformers=[\n",
        "        ('oneHot', OneHot_transformer, [#'GENRE',\n",
        "                                        'PROPRIETAIRE', 'NIVEAU_ETUDE' , 'OCCUPATION']),\n",
        "        #('target', target_transformer, cat_features[2]),\n",
        "        ('frequency', freq_encoder, ['SECTEUR_ACTIVITE']),  # Add the Frequency Encoder here\n",
        "        ('numeric', numeric_transformer, num_features),\n",
        "        #('log_transform', FunctionTransformer(log_transform, validate=False), log_feature)\n",
        "    ], remainder='passthrough')\n",
        "else:\n",
        "    # Do not apply MinMaxScaler but still include the log transformation\n",
        "    preprocessor = ColumnTransformer(transformers=[\n",
        "        ('oneHot', OneHot_transformer, [#'GENRE',\n",
        "                                        'PROPRIETAIRE', 'NIVEAU_ETUDE' ,'OCCUPATION']),\n",
        "        #('target', target_transformer, cat_features[2]),\n",
        "        ('frequency', freq_encoder, ['SECTEUR_ACTIVITE']),  # Add the Frequency Encoder here\n",
        "    ], remainder='passthrough')"
      ]
    },
    {
      "cell_type": "code",
      "execution_count": 390,
      "metadata": {
        "colab": {
          "base_uri": "https://localhost:8080/"
        },
        "id": "83XdnrrtEvcE",
        "outputId": "a09740ee-68ab-4987-d2fc-b6d14e7c25fe"
      },
      "outputs": [
        {
          "output_type": "execute_result",
          "data": {
            "text/plain": [
              "{'Business Entity': 0.27488979889929316,\n",
              " 'Inactive': 0.1799603536868463,\n",
              " 'Self-Employed and Professional Services': 0.127151855812619,\n",
              " 'Other Categories': 0.11879222201935366,\n",
              " 'Industry and Trade': 0.09309058660893607,\n",
              " 'Government and Public Services': 0.07581379274368137,\n",
              " 'Education': 0.055641774694175646,\n",
              " 'Healthcare and Medicine': 0.0364054878843997,\n",
              " 'Utilities and Services': 0.01647799890450977,\n",
              " 'Hospitality and Entertainment': 0.011678708364850413,\n",
              " 'Financial and Insurance': 0.010097420381334933}"
            ]
          },
          "metadata": {},
          "execution_count": 390
        }
      ],
      "source": [
        "freq_by_org_type"
      ]
    },
    {
      "cell_type": "code",
      "execution_count": 391,
      "metadata": {
        "colab": {
          "base_uri": "https://localhost:8080/",
          "height": 74
        },
        "id": "IeIZ8NM7E0p3",
        "outputId": "14d75549-fba5-47f5-abc4-5c0e55794d84"
      },
      "outputs": [
        {
          "output_type": "execute_result",
          "data": {
            "text/plain": [
              "LGBMClassifier(metric='binary_logloss', objective='binary')"
            ],
            "text/html": [
              "<style>#sk-container-id-24 {color: black;background-color: white;}#sk-container-id-24 pre{padding: 0;}#sk-container-id-24 div.sk-toggleable {background-color: white;}#sk-container-id-24 label.sk-toggleable__label {cursor: pointer;display: block;width: 100%;margin-bottom: 0;padding: 0.3em;box-sizing: border-box;text-align: center;}#sk-container-id-24 label.sk-toggleable__label-arrow:before {content: \"▸\";float: left;margin-right: 0.25em;color: #696969;}#sk-container-id-24 label.sk-toggleable__label-arrow:hover:before {color: black;}#sk-container-id-24 div.sk-estimator:hover label.sk-toggleable__label-arrow:before {color: black;}#sk-container-id-24 div.sk-toggleable__content {max-height: 0;max-width: 0;overflow: hidden;text-align: left;background-color: #f0f8ff;}#sk-container-id-24 div.sk-toggleable__content pre {margin: 0.2em;color: black;border-radius: 0.25em;background-color: #f0f8ff;}#sk-container-id-24 input.sk-toggleable__control:checked~div.sk-toggleable__content {max-height: 200px;max-width: 100%;overflow: auto;}#sk-container-id-24 input.sk-toggleable__control:checked~label.sk-toggleable__label-arrow:before {content: \"▾\";}#sk-container-id-24 div.sk-estimator input.sk-toggleable__control:checked~label.sk-toggleable__label {background-color: #d4ebff;}#sk-container-id-24 div.sk-label input.sk-toggleable__control:checked~label.sk-toggleable__label {background-color: #d4ebff;}#sk-container-id-24 input.sk-hidden--visually {border: 0;clip: rect(1px 1px 1px 1px);clip: rect(1px, 1px, 1px, 1px);height: 1px;margin: -1px;overflow: hidden;padding: 0;position: absolute;width: 1px;}#sk-container-id-24 div.sk-estimator {font-family: monospace;background-color: #f0f8ff;border: 1px dotted black;border-radius: 0.25em;box-sizing: border-box;margin-bottom: 0.5em;}#sk-container-id-24 div.sk-estimator:hover {background-color: #d4ebff;}#sk-container-id-24 div.sk-parallel-item::after {content: \"\";width: 100%;border-bottom: 1px solid gray;flex-grow: 1;}#sk-container-id-24 div.sk-label:hover label.sk-toggleable__label {background-color: #d4ebff;}#sk-container-id-24 div.sk-serial::before {content: \"\";position: absolute;border-left: 1px solid gray;box-sizing: border-box;top: 0;bottom: 0;left: 50%;z-index: 0;}#sk-container-id-24 div.sk-serial {display: flex;flex-direction: column;align-items: center;background-color: white;padding-right: 0.2em;padding-left: 0.2em;position: relative;}#sk-container-id-24 div.sk-item {position: relative;z-index: 1;}#sk-container-id-24 div.sk-parallel {display: flex;align-items: stretch;justify-content: center;background-color: white;position: relative;}#sk-container-id-24 div.sk-item::before, #sk-container-id-24 div.sk-parallel-item::before {content: \"\";position: absolute;border-left: 1px solid gray;box-sizing: border-box;top: 0;bottom: 0;left: 50%;z-index: -1;}#sk-container-id-24 div.sk-parallel-item {display: flex;flex-direction: column;z-index: 1;position: relative;background-color: white;}#sk-container-id-24 div.sk-parallel-item:first-child::after {align-self: flex-end;width: 50%;}#sk-container-id-24 div.sk-parallel-item:last-child::after {align-self: flex-start;width: 50%;}#sk-container-id-24 div.sk-parallel-item:only-child::after {width: 0;}#sk-container-id-24 div.sk-dashed-wrapped {border: 1px dashed gray;margin: 0 0.4em 0.5em 0.4em;box-sizing: border-box;padding-bottom: 0.4em;background-color: white;}#sk-container-id-24 div.sk-label label {font-family: monospace;font-weight: bold;display: inline-block;line-height: 1.2em;}#sk-container-id-24 div.sk-label-container {text-align: center;}#sk-container-id-24 div.sk-container {/* jupyter's `normalize.less` sets `[hidden] { display: none; }` but bootstrap.min.css set `[hidden] { display: none !important; }` so we also need the `!important` here to be able to override the default hidden behavior on the sphinx rendered scikit-learn.org. See: https://github.com/scikit-learn/scikit-learn/issues/21755 */display: inline-block !important;position: relative;}#sk-container-id-24 div.sk-text-repr-fallback {display: none;}</style><div id=\"sk-container-id-24\" class=\"sk-top-container\"><div class=\"sk-text-repr-fallback\"><pre>LGBMClassifier(metric=&#x27;binary_logloss&#x27;, objective=&#x27;binary&#x27;)</pre><b>In a Jupyter environment, please rerun this cell to show the HTML representation or trust the notebook. <br />On GitHub, the HTML representation is unable to render, please try loading this page with nbviewer.org.</b></div><div class=\"sk-container\" hidden><div class=\"sk-item\"><div class=\"sk-estimator sk-toggleable\"><input class=\"sk-toggleable__control sk-hidden--visually\" id=\"sk-estimator-id-152\" type=\"checkbox\" checked><label for=\"sk-estimator-id-152\" class=\"sk-toggleable__label sk-toggleable__label-arrow\">LGBMClassifier</label><div class=\"sk-toggleable__content\"><pre>LGBMClassifier(metric=&#x27;binary_logloss&#x27;, objective=&#x27;binary&#x27;)</pre></div></div></div></div></div>"
            ]
          },
          "metadata": {},
          "execution_count": 391
        }
      ],
      "source": [
        "models_dict[model][0]"
      ]
    },
    {
      "cell_type": "code",
      "execution_count": 392,
      "metadata": {
        "colab": {
          "base_uri": "https://localhost:8080/",
          "height": 456
        },
        "id": "UQMjjELf5Uiw",
        "outputId": "f33ac7c1-b5e2-4af4-f2ce-43da94f0feb6"
      },
      "outputs": [
        {
          "output_type": "execute_result",
          "data": {
            "text/plain": [
              "       PROPRIETAIRE  NBRE_ENFANT  REVENUS_TOT  MONTANT_CREDIT  \\\n",
              "54982             Y            0     202500.0        592560.0   \n",
              "251613            Y            0     157500.0        540000.0   \n",
              "187344            N            0    4500000.0        835380.0   \n",
              "108134            Y            0     108000.0        254700.0   \n",
              "244680            Y            0     135000.0       1219437.0   \n",
              "...             ...          ...          ...             ...   \n",
              "70376             Y            0     247500.0        640080.0   \n",
              "225338            N            3     157500.0       1350000.0   \n",
              "17531             N            1     112500.0        314100.0   \n",
              "284960            Y            0     135000.0        450000.0   \n",
              "291798            Y            0     135000.0        975456.0   \n",
              "\n",
              "                  OCCUPATION NIVEAU_ETUDE  AGE  ANCIENNETE_EMPLOI  \\\n",
              "54982                Working          BAC   44                  3   \n",
              "251613               Working          BAC   52                  6   \n",
              "187344               Working          BAC   52                  9   \n",
              "108134             Pensioner          BAC   62                  0   \n",
              "244680               Working          BAC   39                  1   \n",
              "...                      ...          ...  ...                ...   \n",
              "70376   Commercial associate      ENS_SUP   33                  1   \n",
              "225338               Working          BAC   38                  5   \n",
              "17531                Working          BAC   30                  2   \n",
              "284960               Working          BAC   34                 12   \n",
              "291798               Working          BAC   52                  2   \n",
              "\n",
              "        SCORE_REGION  HEURE_APP  ... SCORE_2_EXT  RATIO_ENDETT(%)  \\\n",
              "54982              3          7  ...    0.260241             19.8   \n",
              "251613             2         10  ...    0.444011             16.6   \n",
              "187344             2         13  ...    0.748822              0.9   \n",
              "108134             2         10  ...    0.374100             18.6   \n",
              "244680             2         12  ...    0.536347             38.4   \n",
              "...              ...        ...  ...         ...              ...   \n",
              "70376              1         17  ...    0.761896             12.1   \n",
              "225338             2         16  ...    0.452675             25.1   \n",
              "17531              2         13  ...    0.456177             14.7   \n",
              "284960             2         17  ...    0.610150              9.3   \n",
              "291798             3          6  ...    0.391181             34.9   \n",
              "\n",
              "        CC_NOMBRE_RETRAIT_MOYEN  POS_PROGRESS_MAX_MIN  CB_SOMME_DUES_RETARD  \\\n",
              "54982                       0.0             16.666667                   0.0   \n",
              "251613                      0.0             91.666667                   0.0   \n",
              "187344                      0.0            100.000000                   0.0   \n",
              "108134                      0.0             83.333333                   0.0   \n",
              "244680                      0.0            100.000000                   0.0   \n",
              "...                         ...                   ...                   ...   \n",
              "70376                       0.0             58.333333                   0.0   \n",
              "225338                      0.0            100.000000                   0.0   \n",
              "17531                       0.0            100.000000                   0.0   \n",
              "284960                      0.0             33.333333                   0.0   \n",
              "291798                      0.0             37.500000                   0.0   \n",
              "\n",
              "        CC_RATIO_CREDIT  NBRE_CONTRAT_ACTIFS  NBRE_J_RETARD  CHARGES_ANNUEL  \\\n",
              "54982               0.0                  1.0       0.291667       27403.470   \n",
              "251613              0.0                  3.0       0.063492       26109.000   \n",
              "187344              0.0                  0.0       1.142857     -445286.790   \n",
              "108134              0.0                  1.0      10.941620      -77006.880   \n",
              "244680              0.0                  3.0       0.000000       51795.000   \n",
              "...                 ...                  ...            ...             ...   \n",
              "70376               0.0                  1.0       0.730392       29970.000   \n",
              "225338              0.0                  1.0       0.000000       39604.500   \n",
              "17531               0.0                  0.0       0.000000       16573.500   \n",
              "284960              0.0                  1.0       0.250000       17933.220   \n",
              "291798              0.0                  2.0       0.294118       -3575.565   \n",
              "\n",
              "        ANCIENNETE_CREDIT  \n",
              "54982                23.0  \n",
              "251613               67.0  \n",
              "187344               20.0  \n",
              "108134               85.0  \n",
              "244680               92.0  \n",
              "...                   ...  \n",
              "70376                93.0  \n",
              "225338               36.0  \n",
              "17531                18.0  \n",
              "284960               34.0  \n",
              "291798               83.0  \n",
              "\n",
              "[79190 rows x 21 columns]"
            ],
            "text/html": [
              "\n",
              "  <div id=\"df-2b012890-b154-4a33-a64c-c866c64f7492\" class=\"colab-df-container\">\n",
              "    <div>\n",
              "<style scoped>\n",
              "    .dataframe tbody tr th:only-of-type {\n",
              "        vertical-align: middle;\n",
              "    }\n",
              "\n",
              "    .dataframe tbody tr th {\n",
              "        vertical-align: top;\n",
              "    }\n",
              "\n",
              "    .dataframe thead th {\n",
              "        text-align: right;\n",
              "    }\n",
              "</style>\n",
              "<table border=\"1\" class=\"dataframe\">\n",
              "  <thead>\n",
              "    <tr style=\"text-align: right;\">\n",
              "      <th></th>\n",
              "      <th>PROPRIETAIRE</th>\n",
              "      <th>NBRE_ENFANT</th>\n",
              "      <th>REVENUS_TOT</th>\n",
              "      <th>MONTANT_CREDIT</th>\n",
              "      <th>OCCUPATION</th>\n",
              "      <th>NIVEAU_ETUDE</th>\n",
              "      <th>AGE</th>\n",
              "      <th>ANCIENNETE_EMPLOI</th>\n",
              "      <th>SCORE_REGION</th>\n",
              "      <th>HEURE_APP</th>\n",
              "      <th>...</th>\n",
              "      <th>SCORE_2_EXT</th>\n",
              "      <th>RATIO_ENDETT(%)</th>\n",
              "      <th>CC_NOMBRE_RETRAIT_MOYEN</th>\n",
              "      <th>POS_PROGRESS_MAX_MIN</th>\n",
              "      <th>CB_SOMME_DUES_RETARD</th>\n",
              "      <th>CC_RATIO_CREDIT</th>\n",
              "      <th>NBRE_CONTRAT_ACTIFS</th>\n",
              "      <th>NBRE_J_RETARD</th>\n",
              "      <th>CHARGES_ANNUEL</th>\n",
              "      <th>ANCIENNETE_CREDIT</th>\n",
              "    </tr>\n",
              "  </thead>\n",
              "  <tbody>\n",
              "    <tr>\n",
              "      <th>54982</th>\n",
              "      <td>Y</td>\n",
              "      <td>0</td>\n",
              "      <td>202500.0</td>\n",
              "      <td>592560.0</td>\n",
              "      <td>Working</td>\n",
              "      <td>BAC</td>\n",
              "      <td>44</td>\n",
              "      <td>3</td>\n",
              "      <td>3</td>\n",
              "      <td>7</td>\n",
              "      <td>...</td>\n",
              "      <td>0.260241</td>\n",
              "      <td>19.8</td>\n",
              "      <td>0.0</td>\n",
              "      <td>16.666667</td>\n",
              "      <td>0.0</td>\n",
              "      <td>0.0</td>\n",
              "      <td>1.0</td>\n",
              "      <td>0.291667</td>\n",
              "      <td>27403.470</td>\n",
              "      <td>23.0</td>\n",
              "    </tr>\n",
              "    <tr>\n",
              "      <th>251613</th>\n",
              "      <td>Y</td>\n",
              "      <td>0</td>\n",
              "      <td>157500.0</td>\n",
              "      <td>540000.0</td>\n",
              "      <td>Working</td>\n",
              "      <td>BAC</td>\n",
              "      <td>52</td>\n",
              "      <td>6</td>\n",
              "      <td>2</td>\n",
              "      <td>10</td>\n",
              "      <td>...</td>\n",
              "      <td>0.444011</td>\n",
              "      <td>16.6</td>\n",
              "      <td>0.0</td>\n",
              "      <td>91.666667</td>\n",
              "      <td>0.0</td>\n",
              "      <td>0.0</td>\n",
              "      <td>3.0</td>\n",
              "      <td>0.063492</td>\n",
              "      <td>26109.000</td>\n",
              "      <td>67.0</td>\n",
              "    </tr>\n",
              "    <tr>\n",
              "      <th>187344</th>\n",
              "      <td>N</td>\n",
              "      <td>0</td>\n",
              "      <td>4500000.0</td>\n",
              "      <td>835380.0</td>\n",
              "      <td>Working</td>\n",
              "      <td>BAC</td>\n",
              "      <td>52</td>\n",
              "      <td>9</td>\n",
              "      <td>2</td>\n",
              "      <td>13</td>\n",
              "      <td>...</td>\n",
              "      <td>0.748822</td>\n",
              "      <td>0.9</td>\n",
              "      <td>0.0</td>\n",
              "      <td>100.000000</td>\n",
              "      <td>0.0</td>\n",
              "      <td>0.0</td>\n",
              "      <td>0.0</td>\n",
              "      <td>1.142857</td>\n",
              "      <td>-445286.790</td>\n",
              "      <td>20.0</td>\n",
              "    </tr>\n",
              "    <tr>\n",
              "      <th>108134</th>\n",
              "      <td>Y</td>\n",
              "      <td>0</td>\n",
              "      <td>108000.0</td>\n",
              "      <td>254700.0</td>\n",
              "      <td>Pensioner</td>\n",
              "      <td>BAC</td>\n",
              "      <td>62</td>\n",
              "      <td>0</td>\n",
              "      <td>2</td>\n",
              "      <td>10</td>\n",
              "      <td>...</td>\n",
              "      <td>0.374100</td>\n",
              "      <td>18.6</td>\n",
              "      <td>0.0</td>\n",
              "      <td>83.333333</td>\n",
              "      <td>0.0</td>\n",
              "      <td>0.0</td>\n",
              "      <td>1.0</td>\n",
              "      <td>10.941620</td>\n",
              "      <td>-77006.880</td>\n",
              "      <td>85.0</td>\n",
              "    </tr>\n",
              "    <tr>\n",
              "      <th>244680</th>\n",
              "      <td>Y</td>\n",
              "      <td>0</td>\n",
              "      <td>135000.0</td>\n",
              "      <td>1219437.0</td>\n",
              "      <td>Working</td>\n",
              "      <td>BAC</td>\n",
              "      <td>39</td>\n",
              "      <td>1</td>\n",
              "      <td>2</td>\n",
              "      <td>12</td>\n",
              "      <td>...</td>\n",
              "      <td>0.536347</td>\n",
              "      <td>38.4</td>\n",
              "      <td>0.0</td>\n",
              "      <td>100.000000</td>\n",
              "      <td>0.0</td>\n",
              "      <td>0.0</td>\n",
              "      <td>3.0</td>\n",
              "      <td>0.000000</td>\n",
              "      <td>51795.000</td>\n",
              "      <td>92.0</td>\n",
              "    </tr>\n",
              "    <tr>\n",
              "      <th>...</th>\n",
              "      <td>...</td>\n",
              "      <td>...</td>\n",
              "      <td>...</td>\n",
              "      <td>...</td>\n",
              "      <td>...</td>\n",
              "      <td>...</td>\n",
              "      <td>...</td>\n",
              "      <td>...</td>\n",
              "      <td>...</td>\n",
              "      <td>...</td>\n",
              "      <td>...</td>\n",
              "      <td>...</td>\n",
              "      <td>...</td>\n",
              "      <td>...</td>\n",
              "      <td>...</td>\n",
              "      <td>...</td>\n",
              "      <td>...</td>\n",
              "      <td>...</td>\n",
              "      <td>...</td>\n",
              "      <td>...</td>\n",
              "      <td>...</td>\n",
              "    </tr>\n",
              "    <tr>\n",
              "      <th>70376</th>\n",
              "      <td>Y</td>\n",
              "      <td>0</td>\n",
              "      <td>247500.0</td>\n",
              "      <td>640080.0</td>\n",
              "      <td>Commercial associate</td>\n",
              "      <td>ENS_SUP</td>\n",
              "      <td>33</td>\n",
              "      <td>1</td>\n",
              "      <td>1</td>\n",
              "      <td>17</td>\n",
              "      <td>...</td>\n",
              "      <td>0.761896</td>\n",
              "      <td>12.1</td>\n",
              "      <td>0.0</td>\n",
              "      <td>58.333333</td>\n",
              "      <td>0.0</td>\n",
              "      <td>0.0</td>\n",
              "      <td>1.0</td>\n",
              "      <td>0.730392</td>\n",
              "      <td>29970.000</td>\n",
              "      <td>93.0</td>\n",
              "    </tr>\n",
              "    <tr>\n",
              "      <th>225338</th>\n",
              "      <td>N</td>\n",
              "      <td>3</td>\n",
              "      <td>157500.0</td>\n",
              "      <td>1350000.0</td>\n",
              "      <td>Working</td>\n",
              "      <td>BAC</td>\n",
              "      <td>38</td>\n",
              "      <td>5</td>\n",
              "      <td>2</td>\n",
              "      <td>16</td>\n",
              "      <td>...</td>\n",
              "      <td>0.452675</td>\n",
              "      <td>25.1</td>\n",
              "      <td>0.0</td>\n",
              "      <td>100.000000</td>\n",
              "      <td>0.0</td>\n",
              "      <td>0.0</td>\n",
              "      <td>1.0</td>\n",
              "      <td>0.000000</td>\n",
              "      <td>39604.500</td>\n",
              "      <td>36.0</td>\n",
              "    </tr>\n",
              "    <tr>\n",
              "      <th>17531</th>\n",
              "      <td>N</td>\n",
              "      <td>1</td>\n",
              "      <td>112500.0</td>\n",
              "      <td>314100.0</td>\n",
              "      <td>Working</td>\n",
              "      <td>BAC</td>\n",
              "      <td>30</td>\n",
              "      <td>2</td>\n",
              "      <td>2</td>\n",
              "      <td>13</td>\n",
              "      <td>...</td>\n",
              "      <td>0.456177</td>\n",
              "      <td>14.7</td>\n",
              "      <td>0.0</td>\n",
              "      <td>100.000000</td>\n",
              "      <td>0.0</td>\n",
              "      <td>0.0</td>\n",
              "      <td>0.0</td>\n",
              "      <td>0.000000</td>\n",
              "      <td>16573.500</td>\n",
              "      <td>18.0</td>\n",
              "    </tr>\n",
              "    <tr>\n",
              "      <th>284960</th>\n",
              "      <td>Y</td>\n",
              "      <td>0</td>\n",
              "      <td>135000.0</td>\n",
              "      <td>450000.0</td>\n",
              "      <td>Working</td>\n",
              "      <td>BAC</td>\n",
              "      <td>34</td>\n",
              "      <td>12</td>\n",
              "      <td>2</td>\n",
              "      <td>17</td>\n",
              "      <td>...</td>\n",
              "      <td>0.610150</td>\n",
              "      <td>9.3</td>\n",
              "      <td>0.0</td>\n",
              "      <td>33.333333</td>\n",
              "      <td>0.0</td>\n",
              "      <td>0.0</td>\n",
              "      <td>1.0</td>\n",
              "      <td>0.250000</td>\n",
              "      <td>17933.220</td>\n",
              "      <td>34.0</td>\n",
              "    </tr>\n",
              "    <tr>\n",
              "      <th>291798</th>\n",
              "      <td>Y</td>\n",
              "      <td>0</td>\n",
              "      <td>135000.0</td>\n",
              "      <td>975456.0</td>\n",
              "      <td>Working</td>\n",
              "      <td>BAC</td>\n",
              "      <td>52</td>\n",
              "      <td>2</td>\n",
              "      <td>3</td>\n",
              "      <td>6</td>\n",
              "      <td>...</td>\n",
              "      <td>0.391181</td>\n",
              "      <td>34.9</td>\n",
              "      <td>0.0</td>\n",
              "      <td>37.500000</td>\n",
              "      <td>0.0</td>\n",
              "      <td>0.0</td>\n",
              "      <td>2.0</td>\n",
              "      <td>0.294118</td>\n",
              "      <td>-3575.565</td>\n",
              "      <td>83.0</td>\n",
              "    </tr>\n",
              "  </tbody>\n",
              "</table>\n",
              "<p>79190 rows × 21 columns</p>\n",
              "</div>\n",
              "    <div class=\"colab-df-buttons\">\n",
              "\n",
              "  <div class=\"colab-df-container\">\n",
              "    <button class=\"colab-df-convert\" onclick=\"convertToInteractive('df-2b012890-b154-4a33-a64c-c866c64f7492')\"\n",
              "            title=\"Convert this dataframe to an interactive table.\"\n",
              "            style=\"display:none;\">\n",
              "\n",
              "  <svg xmlns=\"http://www.w3.org/2000/svg\" height=\"24px\" viewBox=\"0 -960 960 960\">\n",
              "    <path d=\"M120-120v-720h720v720H120Zm60-500h600v-160H180v160Zm220 220h160v-160H400v160Zm0 220h160v-160H400v160ZM180-400h160v-160H180v160Zm440 0h160v-160H620v160ZM180-180h160v-160H180v160Zm440 0h160v-160H620v160Z\"/>\n",
              "  </svg>\n",
              "    </button>\n",
              "\n",
              "  <style>\n",
              "    .colab-df-container {\n",
              "      display:flex;\n",
              "      gap: 12px;\n",
              "    }\n",
              "\n",
              "    .colab-df-convert {\n",
              "      background-color: #E8F0FE;\n",
              "      border: none;\n",
              "      border-radius: 50%;\n",
              "      cursor: pointer;\n",
              "      display: none;\n",
              "      fill: #1967D2;\n",
              "      height: 32px;\n",
              "      padding: 0 0 0 0;\n",
              "      width: 32px;\n",
              "    }\n",
              "\n",
              "    .colab-df-convert:hover {\n",
              "      background-color: #E2EBFA;\n",
              "      box-shadow: 0px 1px 2px rgba(60, 64, 67, 0.3), 0px 1px 3px 1px rgba(60, 64, 67, 0.15);\n",
              "      fill: #174EA6;\n",
              "    }\n",
              "\n",
              "    .colab-df-buttons div {\n",
              "      margin-bottom: 4px;\n",
              "    }\n",
              "\n",
              "    [theme=dark] .colab-df-convert {\n",
              "      background-color: #3B4455;\n",
              "      fill: #D2E3FC;\n",
              "    }\n",
              "\n",
              "    [theme=dark] .colab-df-convert:hover {\n",
              "      background-color: #434B5C;\n",
              "      box-shadow: 0px 1px 3px 1px rgba(0, 0, 0, 0.15);\n",
              "      filter: drop-shadow(0px 1px 2px rgba(0, 0, 0, 0.3));\n",
              "      fill: #FFFFFF;\n",
              "    }\n",
              "  </style>\n",
              "\n",
              "    <script>\n",
              "      const buttonEl =\n",
              "        document.querySelector('#df-2b012890-b154-4a33-a64c-c866c64f7492 button.colab-df-convert');\n",
              "      buttonEl.style.display =\n",
              "        google.colab.kernel.accessAllowed ? 'block' : 'none';\n",
              "\n",
              "      async function convertToInteractive(key) {\n",
              "        const element = document.querySelector('#df-2b012890-b154-4a33-a64c-c866c64f7492');\n",
              "        const dataTable =\n",
              "          await google.colab.kernel.invokeFunction('convertToInteractive',\n",
              "                                                    [key], {});\n",
              "        if (!dataTable) return;\n",
              "\n",
              "        const docLinkHtml = 'Like what you see? Visit the ' +\n",
              "          '<a target=\"_blank\" href=https://colab.research.google.com/notebooks/data_table.ipynb>data table notebook</a>'\n",
              "          + ' to learn more about interactive tables.';\n",
              "        element.innerHTML = '';\n",
              "        dataTable['output_type'] = 'display_data';\n",
              "        await google.colab.output.renderOutput(dataTable, element);\n",
              "        const docLink = document.createElement('div');\n",
              "        docLink.innerHTML = docLinkHtml;\n",
              "        element.appendChild(docLink);\n",
              "      }\n",
              "    </script>\n",
              "  </div>\n",
              "\n",
              "\n",
              "<div id=\"df-998a9781-342c-4b6c-9c0f-8a571f5730ba\">\n",
              "  <button class=\"colab-df-quickchart\" onclick=\"quickchart('df-998a9781-342c-4b6c-9c0f-8a571f5730ba')\"\n",
              "            title=\"Suggest charts.\"\n",
              "            style=\"display:none;\">\n",
              "\n",
              "<svg xmlns=\"http://www.w3.org/2000/svg\" height=\"24px\"viewBox=\"0 0 24 24\"\n",
              "     width=\"24px\">\n",
              "    <g>\n",
              "        <path d=\"M19 3H5c-1.1 0-2 .9-2 2v14c0 1.1.9 2 2 2h14c1.1 0 2-.9 2-2V5c0-1.1-.9-2-2-2zM9 17H7v-7h2v7zm4 0h-2V7h2v10zm4 0h-2v-4h2v4z\"/>\n",
              "    </g>\n",
              "</svg>\n",
              "  </button>\n",
              "\n",
              "<style>\n",
              "  .colab-df-quickchart {\n",
              "    background-color: #E8F0FE;\n",
              "    border: none;\n",
              "    border-radius: 50%;\n",
              "    cursor: pointer;\n",
              "    display: none;\n",
              "    fill: #1967D2;\n",
              "    height: 32px;\n",
              "    padding: 0 0 0 0;\n",
              "    width: 32px;\n",
              "  }\n",
              "\n",
              "  .colab-df-quickchart:hover {\n",
              "    background-color: #E2EBFA;\n",
              "    box-shadow: 0px 1px 2px rgba(60, 64, 67, 0.3), 0px 1px 3px 1px rgba(60, 64, 67, 0.15);\n",
              "    fill: #174EA6;\n",
              "  }\n",
              "\n",
              "  [theme=dark] .colab-df-quickchart {\n",
              "    background-color: #3B4455;\n",
              "    fill: #D2E3FC;\n",
              "  }\n",
              "\n",
              "  [theme=dark] .colab-df-quickchart:hover {\n",
              "    background-color: #434B5C;\n",
              "    box-shadow: 0px 1px 3px 1px rgba(0, 0, 0, 0.15);\n",
              "    filter: drop-shadow(0px 1px 2px rgba(0, 0, 0, 0.3));\n",
              "    fill: #FFFFFF;\n",
              "  }\n",
              "</style>\n",
              "\n",
              "  <script>\n",
              "    async function quickchart(key) {\n",
              "      const charts = await google.colab.kernel.invokeFunction(\n",
              "          'suggestCharts', [key], {});\n",
              "    }\n",
              "    (() => {\n",
              "      let quickchartButtonEl =\n",
              "        document.querySelector('#df-998a9781-342c-4b6c-9c0f-8a571f5730ba button');\n",
              "      quickchartButtonEl.style.display =\n",
              "        google.colab.kernel.accessAllowed ? 'block' : 'none';\n",
              "    })();\n",
              "  </script>\n",
              "</div>\n",
              "    </div>\n",
              "  </div>\n"
            ]
          },
          "metadata": {},
          "execution_count": 392
        }
      ],
      "source": [
        "Xtrain"
      ]
    },
    {
      "cell_type": "code",
      "execution_count": 393,
      "metadata": {
        "colab": {
          "base_uri": "https://localhost:8080/",
          "height": 115
        },
        "id": "4Yv3wMuA5-VD",
        "outputId": "b4e8d389-7828-47bb-a947-2f9033ddcd52"
      },
      "outputs": [
        {
          "output_type": "execute_result",
          "data": {
            "text/plain": [
              "ColumnTransformer(remainder='passthrough',\n",
              "                  transformers=[('oneHot', OneHotEncoder(use_cat_names=True),\n",
              "                                 ['PROPRIETAIRE', 'NIVEAU_ETUDE',\n",
              "                                  'OCCUPATION']),\n",
              "                                ('frequency',\n",
              "                                 FunctionTransformer(func=<function frequency_encode at 0x7a0b20c3f010>),\n",
              "                                 ['SECTEUR_ACTIVITE'])])"
            ],
            "text/html": [
              "<style>#sk-container-id-25 {color: black;background-color: white;}#sk-container-id-25 pre{padding: 0;}#sk-container-id-25 div.sk-toggleable {background-color: white;}#sk-container-id-25 label.sk-toggleable__label {cursor: pointer;display: block;width: 100%;margin-bottom: 0;padding: 0.3em;box-sizing: border-box;text-align: center;}#sk-container-id-25 label.sk-toggleable__label-arrow:before {content: \"▸\";float: left;margin-right: 0.25em;color: #696969;}#sk-container-id-25 label.sk-toggleable__label-arrow:hover:before {color: black;}#sk-container-id-25 div.sk-estimator:hover label.sk-toggleable__label-arrow:before {color: black;}#sk-container-id-25 div.sk-toggleable__content {max-height: 0;max-width: 0;overflow: hidden;text-align: left;background-color: #f0f8ff;}#sk-container-id-25 div.sk-toggleable__content pre {margin: 0.2em;color: black;border-radius: 0.25em;background-color: #f0f8ff;}#sk-container-id-25 input.sk-toggleable__control:checked~div.sk-toggleable__content {max-height: 200px;max-width: 100%;overflow: auto;}#sk-container-id-25 input.sk-toggleable__control:checked~label.sk-toggleable__label-arrow:before {content: \"▾\";}#sk-container-id-25 div.sk-estimator input.sk-toggleable__control:checked~label.sk-toggleable__label {background-color: #d4ebff;}#sk-container-id-25 div.sk-label input.sk-toggleable__control:checked~label.sk-toggleable__label {background-color: #d4ebff;}#sk-container-id-25 input.sk-hidden--visually {border: 0;clip: rect(1px 1px 1px 1px);clip: rect(1px, 1px, 1px, 1px);height: 1px;margin: -1px;overflow: hidden;padding: 0;position: absolute;width: 1px;}#sk-container-id-25 div.sk-estimator {font-family: monospace;background-color: #f0f8ff;border: 1px dotted black;border-radius: 0.25em;box-sizing: border-box;margin-bottom: 0.5em;}#sk-container-id-25 div.sk-estimator:hover {background-color: #d4ebff;}#sk-container-id-25 div.sk-parallel-item::after {content: \"\";width: 100%;border-bottom: 1px solid gray;flex-grow: 1;}#sk-container-id-25 div.sk-label:hover label.sk-toggleable__label {background-color: #d4ebff;}#sk-container-id-25 div.sk-serial::before {content: \"\";position: absolute;border-left: 1px solid gray;box-sizing: border-box;top: 0;bottom: 0;left: 50%;z-index: 0;}#sk-container-id-25 div.sk-serial {display: flex;flex-direction: column;align-items: center;background-color: white;padding-right: 0.2em;padding-left: 0.2em;position: relative;}#sk-container-id-25 div.sk-item {position: relative;z-index: 1;}#sk-container-id-25 div.sk-parallel {display: flex;align-items: stretch;justify-content: center;background-color: white;position: relative;}#sk-container-id-25 div.sk-item::before, #sk-container-id-25 div.sk-parallel-item::before {content: \"\";position: absolute;border-left: 1px solid gray;box-sizing: border-box;top: 0;bottom: 0;left: 50%;z-index: -1;}#sk-container-id-25 div.sk-parallel-item {display: flex;flex-direction: column;z-index: 1;position: relative;background-color: white;}#sk-container-id-25 div.sk-parallel-item:first-child::after {align-self: flex-end;width: 50%;}#sk-container-id-25 div.sk-parallel-item:last-child::after {align-self: flex-start;width: 50%;}#sk-container-id-25 div.sk-parallel-item:only-child::after {width: 0;}#sk-container-id-25 div.sk-dashed-wrapped {border: 1px dashed gray;margin: 0 0.4em 0.5em 0.4em;box-sizing: border-box;padding-bottom: 0.4em;background-color: white;}#sk-container-id-25 div.sk-label label {font-family: monospace;font-weight: bold;display: inline-block;line-height: 1.2em;}#sk-container-id-25 div.sk-label-container {text-align: center;}#sk-container-id-25 div.sk-container {/* jupyter's `normalize.less` sets `[hidden] { display: none; }` but bootstrap.min.css set `[hidden] { display: none !important; }` so we also need the `!important` here to be able to override the default hidden behavior on the sphinx rendered scikit-learn.org. See: https://github.com/scikit-learn/scikit-learn/issues/21755 */display: inline-block !important;position: relative;}#sk-container-id-25 div.sk-text-repr-fallback {display: none;}</style><div id=\"sk-container-id-25\" class=\"sk-top-container\"><div class=\"sk-text-repr-fallback\"><pre>ColumnTransformer(remainder=&#x27;passthrough&#x27;,\n",
              "                  transformers=[(&#x27;oneHot&#x27;, OneHotEncoder(use_cat_names=True),\n",
              "                                 [&#x27;PROPRIETAIRE&#x27;, &#x27;NIVEAU_ETUDE&#x27;,\n",
              "                                  &#x27;OCCUPATION&#x27;]),\n",
              "                                (&#x27;frequency&#x27;,\n",
              "                                 FunctionTransformer(func=&lt;function frequency_encode at 0x7a0b20c3f010&gt;),\n",
              "                                 [&#x27;SECTEUR_ACTIVITE&#x27;])])</pre><b>In a Jupyter environment, please rerun this cell to show the HTML representation or trust the notebook. <br />On GitHub, the HTML representation is unable to render, please try loading this page with nbviewer.org.</b></div><div class=\"sk-container\" hidden><div class=\"sk-item sk-dashed-wrapped\"><div class=\"sk-label-container\"><div class=\"sk-label sk-toggleable\"><input class=\"sk-toggleable__control sk-hidden--visually\" id=\"sk-estimator-id-153\" type=\"checkbox\" ><label for=\"sk-estimator-id-153\" class=\"sk-toggleable__label sk-toggleable__label-arrow\">ColumnTransformer</label><div class=\"sk-toggleable__content\"><pre>ColumnTransformer(remainder=&#x27;passthrough&#x27;,\n",
              "                  transformers=[(&#x27;oneHot&#x27;, OneHotEncoder(use_cat_names=True),\n",
              "                                 [&#x27;PROPRIETAIRE&#x27;, &#x27;NIVEAU_ETUDE&#x27;,\n",
              "                                  &#x27;OCCUPATION&#x27;]),\n",
              "                                (&#x27;frequency&#x27;,\n",
              "                                 FunctionTransformer(func=&lt;function frequency_encode at 0x7a0b20c3f010&gt;),\n",
              "                                 [&#x27;SECTEUR_ACTIVITE&#x27;])])</pre></div></div></div><div class=\"sk-parallel\"><div class=\"sk-parallel-item\"><div class=\"sk-item\"><div class=\"sk-label-container\"><div class=\"sk-label sk-toggleable\"><input class=\"sk-toggleable__control sk-hidden--visually\" id=\"sk-estimator-id-154\" type=\"checkbox\" ><label for=\"sk-estimator-id-154\" class=\"sk-toggleable__label sk-toggleable__label-arrow\">oneHot</label><div class=\"sk-toggleable__content\"><pre>[&#x27;PROPRIETAIRE&#x27;, &#x27;NIVEAU_ETUDE&#x27;, &#x27;OCCUPATION&#x27;]</pre></div></div></div><div class=\"sk-serial\"><div class=\"sk-item\"><div class=\"sk-estimator sk-toggleable\"><input class=\"sk-toggleable__control sk-hidden--visually\" id=\"sk-estimator-id-155\" type=\"checkbox\" ><label for=\"sk-estimator-id-155\" class=\"sk-toggleable__label sk-toggleable__label-arrow\">OneHotEncoder</label><div class=\"sk-toggleable__content\"><pre>OneHotEncoder(use_cat_names=True)</pre></div></div></div></div></div></div><div class=\"sk-parallel-item\"><div class=\"sk-item\"><div class=\"sk-label-container\"><div class=\"sk-label sk-toggleable\"><input class=\"sk-toggleable__control sk-hidden--visually\" id=\"sk-estimator-id-156\" type=\"checkbox\" ><label for=\"sk-estimator-id-156\" class=\"sk-toggleable__label sk-toggleable__label-arrow\">frequency</label><div class=\"sk-toggleable__content\"><pre>[&#x27;SECTEUR_ACTIVITE&#x27;]</pre></div></div></div><div class=\"sk-serial\"><div class=\"sk-item\"><div class=\"sk-estimator sk-toggleable\"><input class=\"sk-toggleable__control sk-hidden--visually\" id=\"sk-estimator-id-157\" type=\"checkbox\" ><label for=\"sk-estimator-id-157\" class=\"sk-toggleable__label sk-toggleable__label-arrow\">FunctionTransformer</label><div class=\"sk-toggleable__content\"><pre>FunctionTransformer(func=&lt;function frequency_encode at 0x7a0b20c3f010&gt;)</pre></div></div></div></div></div></div><div class=\"sk-parallel-item\"><div class=\"sk-item\"><div class=\"sk-label-container\"><div class=\"sk-label sk-toggleable\"><input class=\"sk-toggleable__control sk-hidden--visually\" id=\"sk-estimator-id-158\" type=\"checkbox\" ><label for=\"sk-estimator-id-158\" class=\"sk-toggleable__label sk-toggleable__label-arrow\">remainder</label><div class=\"sk-toggleable__content\"><pre>[&#x27;NBRE_ENFANT&#x27;, &#x27;REVENUS_TOT&#x27;, &#x27;MONTANT_CREDIT&#x27;, &#x27;AGE&#x27;, &#x27;ANCIENNETE_EMPLOI&#x27;, &#x27;SCORE_REGION&#x27;, &#x27;HEURE_APP&#x27;, &#x27;SCORE_2_EXT&#x27;, &#x27;RATIO_ENDETT(%)&#x27;, &#x27;CC_NOMBRE_RETRAIT_MOYEN&#x27;, &#x27;POS_PROGRESS_MAX_MIN&#x27;, &#x27;CB_SOMME_DUES_RETARD&#x27;, &#x27;CC_RATIO_CREDIT&#x27;, &#x27;NBRE_CONTRAT_ACTIFS&#x27;, &#x27;NBRE_J_RETARD&#x27;, &#x27;CHARGES_ANNUEL&#x27;, &#x27;ANCIENNETE_CREDIT&#x27;]</pre></div></div></div><div class=\"sk-serial\"><div class=\"sk-item\"><div class=\"sk-estimator sk-toggleable\"><input class=\"sk-toggleable__control sk-hidden--visually\" id=\"sk-estimator-id-159\" type=\"checkbox\" ><label for=\"sk-estimator-id-159\" class=\"sk-toggleable__label sk-toggleable__label-arrow\">passthrough</label><div class=\"sk-toggleable__content\"><pre>passthrough</pre></div></div></div></div></div></div></div></div></div></div>"
            ]
          },
          "metadata": {},
          "execution_count": 393
        }
      ],
      "source": [
        "#Vérification du feature engineering\n",
        "ct = preprocessor.fit(Xtrain,ytrain)\n",
        "ct.set_output(transform=\"pandas\")"
      ]
    },
    {
      "cell_type": "code",
      "execution_count": 394,
      "metadata": {
        "colab": {
          "base_uri": "https://localhost:8080/"
        },
        "id": "x6LrW74FmPA6",
        "outputId": "4d7289d0-136a-4fed-ffc2-6bafc3b690f5"
      },
      "outputs": [
        {
          "output_type": "execute_result",
          "data": {
            "text/plain": [
              "['preprocessing_2.pkl']"
            ]
          },
          "metadata": {},
          "execution_count": 394
        }
      ],
      "source": [
        "import joblib\n",
        "\n",
        "# Importation du pré-traitement.\n",
        "joblib.dump(ct,'preprocessing_2.pkl')"
      ]
    },
    {
      "cell_type": "code",
      "execution_count": 395,
      "metadata": {
        "colab": {
          "base_uri": "https://localhost:8080/",
          "height": 456
        },
        "id": "mUgd9-Sa6PQF",
        "outputId": "3494c505-a67e-4d46-8de6-bf0e31ba3b43"
      },
      "outputs": [
        {
          "output_type": "execute_result",
          "data": {
            "text/plain": [
              "        oneHot__PROPRIETAIRE_Y  oneHot__PROPRIETAIRE_N  \\\n",
              "54982                        1                       0   \n",
              "251613                       1                       0   \n",
              "187344                       0                       1   \n",
              "108134                       1                       0   \n",
              "244680                       1                       0   \n",
              "...                        ...                     ...   \n",
              "70376                        1                       0   \n",
              "225338                       0                       1   \n",
              "17531                        0                       1   \n",
              "284960                       1                       0   \n",
              "291798                       1                       0   \n",
              "\n",
              "        oneHot__NIVEAU_ETUDE_BAC  oneHot__NIVEAU_ETUDE_ENS_SUP  \\\n",
              "54982                          1                             0   \n",
              "251613                         1                             0   \n",
              "187344                         1                             0   \n",
              "108134                         1                             0   \n",
              "244680                         1                             0   \n",
              "...                          ...                           ...   \n",
              "70376                          0                             1   \n",
              "225338                         1                             0   \n",
              "17531                          1                             0   \n",
              "284960                         1                             0   \n",
              "291798                         1                             0   \n",
              "\n",
              "        oneHot__NIVEAU_ETUDE_COLLEGE  oneHot__OCCUPATION_Working  \\\n",
              "54982                              0                           1   \n",
              "251613                             0                           1   \n",
              "187344                             0                           1   \n",
              "108134                             0                           0   \n",
              "244680                             0                           1   \n",
              "...                              ...                         ...   \n",
              "70376                              0                           0   \n",
              "225338                             0                           1   \n",
              "17531                              0                           1   \n",
              "284960                             0                           1   \n",
              "291798                             0                           1   \n",
              "\n",
              "        oneHot__OCCUPATION_Pensioner  oneHot__OCCUPATION_Commercial associate  \\\n",
              "54982                              0                                        0   \n",
              "251613                             0                                        0   \n",
              "187344                             0                                        0   \n",
              "108134                             1                                        0   \n",
              "244680                             0                                        0   \n",
              "...                              ...                                      ...   \n",
              "70376                              0                                        1   \n",
              "225338                             0                                        0   \n",
              "17531                              0                                        0   \n",
              "284960                             0                                        0   \n",
              "291798                             0                                        0   \n",
              "\n",
              "        oneHot__OCCUPATION_State servant  oneHot__OCCUPATION_Maternity leave  \\\n",
              "54982                                  0                                   0   \n",
              "251613                                 0                                   0   \n",
              "187344                                 0                                   0   \n",
              "108134                                 0                                   0   \n",
              "244680                                 0                                   0   \n",
              "...                                  ...                                 ...   \n",
              "70376                                  0                                   0   \n",
              "225338                                 0                                   0   \n",
              "17531                                  0                                   0   \n",
              "284960                                 0                                   0   \n",
              "291798                                 0                                   0   \n",
              "\n",
              "        ...  remainder__SCORE_2_EXT  remainder__RATIO_ENDETT(%)  \\\n",
              "54982   ...                0.260241                        19.8   \n",
              "251613  ...                0.444011                        16.6   \n",
              "187344  ...                0.748822                         0.9   \n",
              "108134  ...                0.374100                        18.6   \n",
              "244680  ...                0.536347                        38.4   \n",
              "...     ...                     ...                         ...   \n",
              "70376   ...                0.761896                        12.1   \n",
              "225338  ...                0.452675                        25.1   \n",
              "17531   ...                0.456177                        14.7   \n",
              "284960  ...                0.610150                         9.3   \n",
              "291798  ...                0.391181                        34.9   \n",
              "\n",
              "        remainder__CC_NOMBRE_RETRAIT_MOYEN  remainder__POS_PROGRESS_MAX_MIN  \\\n",
              "54982                                  0.0                        16.666667   \n",
              "251613                                 0.0                        91.666667   \n",
              "187344                                 0.0                       100.000000   \n",
              "108134                                 0.0                        83.333333   \n",
              "244680                                 0.0                       100.000000   \n",
              "...                                    ...                              ...   \n",
              "70376                                  0.0                        58.333333   \n",
              "225338                                 0.0                       100.000000   \n",
              "17531                                  0.0                       100.000000   \n",
              "284960                                 0.0                        33.333333   \n",
              "291798                                 0.0                        37.500000   \n",
              "\n",
              "        remainder__CB_SOMME_DUES_RETARD  remainder__CC_RATIO_CREDIT  \\\n",
              "54982                               0.0                         0.0   \n",
              "251613                              0.0                         0.0   \n",
              "187344                              0.0                         0.0   \n",
              "108134                              0.0                         0.0   \n",
              "244680                              0.0                         0.0   \n",
              "...                                 ...                         ...   \n",
              "70376                               0.0                         0.0   \n",
              "225338                              0.0                         0.0   \n",
              "17531                               0.0                         0.0   \n",
              "284960                              0.0                         0.0   \n",
              "291798                              0.0                         0.0   \n",
              "\n",
              "        remainder__NBRE_CONTRAT_ACTIFS  remainder__NBRE_J_RETARD  \\\n",
              "54982                              1.0                  0.291667   \n",
              "251613                             3.0                  0.063492   \n",
              "187344                             0.0                  1.142857   \n",
              "108134                             1.0                 10.941620   \n",
              "244680                             3.0                  0.000000   \n",
              "...                                ...                       ...   \n",
              "70376                              1.0                  0.730392   \n",
              "225338                             1.0                  0.000000   \n",
              "17531                              0.0                  0.000000   \n",
              "284960                             1.0                  0.250000   \n",
              "291798                             2.0                  0.294118   \n",
              "\n",
              "        remainder__CHARGES_ANNUEL  remainder__ANCIENNETE_CREDIT  \n",
              "54982                   27403.470                          23.0  \n",
              "251613                  26109.000                          67.0  \n",
              "187344                -445286.790                          20.0  \n",
              "108134                 -77006.880                          85.0  \n",
              "244680                  51795.000                          92.0  \n",
              "...                           ...                           ...  \n",
              "70376                   29970.000                          93.0  \n",
              "225338                  39604.500                          36.0  \n",
              "17531                   16573.500                          18.0  \n",
              "284960                  17933.220                          34.0  \n",
              "291798                  -3575.565                          83.0  \n",
              "\n",
              "[79190 rows x 31 columns]"
            ],
            "text/html": [
              "\n",
              "  <div id=\"df-05ccdc0c-efd5-4e5e-bf6f-daeae49a7ac1\" class=\"colab-df-container\">\n",
              "    <div>\n",
              "<style scoped>\n",
              "    .dataframe tbody tr th:only-of-type {\n",
              "        vertical-align: middle;\n",
              "    }\n",
              "\n",
              "    .dataframe tbody tr th {\n",
              "        vertical-align: top;\n",
              "    }\n",
              "\n",
              "    .dataframe thead th {\n",
              "        text-align: right;\n",
              "    }\n",
              "</style>\n",
              "<table border=\"1\" class=\"dataframe\">\n",
              "  <thead>\n",
              "    <tr style=\"text-align: right;\">\n",
              "      <th></th>\n",
              "      <th>oneHot__PROPRIETAIRE_Y</th>\n",
              "      <th>oneHot__PROPRIETAIRE_N</th>\n",
              "      <th>oneHot__NIVEAU_ETUDE_BAC</th>\n",
              "      <th>oneHot__NIVEAU_ETUDE_ENS_SUP</th>\n",
              "      <th>oneHot__NIVEAU_ETUDE_COLLEGE</th>\n",
              "      <th>oneHot__OCCUPATION_Working</th>\n",
              "      <th>oneHot__OCCUPATION_Pensioner</th>\n",
              "      <th>oneHot__OCCUPATION_Commercial associate</th>\n",
              "      <th>oneHot__OCCUPATION_State servant</th>\n",
              "      <th>oneHot__OCCUPATION_Maternity leave</th>\n",
              "      <th>...</th>\n",
              "      <th>remainder__SCORE_2_EXT</th>\n",
              "      <th>remainder__RATIO_ENDETT(%)</th>\n",
              "      <th>remainder__CC_NOMBRE_RETRAIT_MOYEN</th>\n",
              "      <th>remainder__POS_PROGRESS_MAX_MIN</th>\n",
              "      <th>remainder__CB_SOMME_DUES_RETARD</th>\n",
              "      <th>remainder__CC_RATIO_CREDIT</th>\n",
              "      <th>remainder__NBRE_CONTRAT_ACTIFS</th>\n",
              "      <th>remainder__NBRE_J_RETARD</th>\n",
              "      <th>remainder__CHARGES_ANNUEL</th>\n",
              "      <th>remainder__ANCIENNETE_CREDIT</th>\n",
              "    </tr>\n",
              "  </thead>\n",
              "  <tbody>\n",
              "    <tr>\n",
              "      <th>54982</th>\n",
              "      <td>1</td>\n",
              "      <td>0</td>\n",
              "      <td>1</td>\n",
              "      <td>0</td>\n",
              "      <td>0</td>\n",
              "      <td>1</td>\n",
              "      <td>0</td>\n",
              "      <td>0</td>\n",
              "      <td>0</td>\n",
              "      <td>0</td>\n",
              "      <td>...</td>\n",
              "      <td>0.260241</td>\n",
              "      <td>19.8</td>\n",
              "      <td>0.0</td>\n",
              "      <td>16.666667</td>\n",
              "      <td>0.0</td>\n",
              "      <td>0.0</td>\n",
              "      <td>1.0</td>\n",
              "      <td>0.291667</td>\n",
              "      <td>27403.470</td>\n",
              "      <td>23.0</td>\n",
              "    </tr>\n",
              "    <tr>\n",
              "      <th>251613</th>\n",
              "      <td>1</td>\n",
              "      <td>0</td>\n",
              "      <td>1</td>\n",
              "      <td>0</td>\n",
              "      <td>0</td>\n",
              "      <td>1</td>\n",
              "      <td>0</td>\n",
              "      <td>0</td>\n",
              "      <td>0</td>\n",
              "      <td>0</td>\n",
              "      <td>...</td>\n",
              "      <td>0.444011</td>\n",
              "      <td>16.6</td>\n",
              "      <td>0.0</td>\n",
              "      <td>91.666667</td>\n",
              "      <td>0.0</td>\n",
              "      <td>0.0</td>\n",
              "      <td>3.0</td>\n",
              "      <td>0.063492</td>\n",
              "      <td>26109.000</td>\n",
              "      <td>67.0</td>\n",
              "    </tr>\n",
              "    <tr>\n",
              "      <th>187344</th>\n",
              "      <td>0</td>\n",
              "      <td>1</td>\n",
              "      <td>1</td>\n",
              "      <td>0</td>\n",
              "      <td>0</td>\n",
              "      <td>1</td>\n",
              "      <td>0</td>\n",
              "      <td>0</td>\n",
              "      <td>0</td>\n",
              "      <td>0</td>\n",
              "      <td>...</td>\n",
              "      <td>0.748822</td>\n",
              "      <td>0.9</td>\n",
              "      <td>0.0</td>\n",
              "      <td>100.000000</td>\n",
              "      <td>0.0</td>\n",
              "      <td>0.0</td>\n",
              "      <td>0.0</td>\n",
              "      <td>1.142857</td>\n",
              "      <td>-445286.790</td>\n",
              "      <td>20.0</td>\n",
              "    </tr>\n",
              "    <tr>\n",
              "      <th>108134</th>\n",
              "      <td>1</td>\n",
              "      <td>0</td>\n",
              "      <td>1</td>\n",
              "      <td>0</td>\n",
              "      <td>0</td>\n",
              "      <td>0</td>\n",
              "      <td>1</td>\n",
              "      <td>0</td>\n",
              "      <td>0</td>\n",
              "      <td>0</td>\n",
              "      <td>...</td>\n",
              "      <td>0.374100</td>\n",
              "      <td>18.6</td>\n",
              "      <td>0.0</td>\n",
              "      <td>83.333333</td>\n",
              "      <td>0.0</td>\n",
              "      <td>0.0</td>\n",
              "      <td>1.0</td>\n",
              "      <td>10.941620</td>\n",
              "      <td>-77006.880</td>\n",
              "      <td>85.0</td>\n",
              "    </tr>\n",
              "    <tr>\n",
              "      <th>244680</th>\n",
              "      <td>1</td>\n",
              "      <td>0</td>\n",
              "      <td>1</td>\n",
              "      <td>0</td>\n",
              "      <td>0</td>\n",
              "      <td>1</td>\n",
              "      <td>0</td>\n",
              "      <td>0</td>\n",
              "      <td>0</td>\n",
              "      <td>0</td>\n",
              "      <td>...</td>\n",
              "      <td>0.536347</td>\n",
              "      <td>38.4</td>\n",
              "      <td>0.0</td>\n",
              "      <td>100.000000</td>\n",
              "      <td>0.0</td>\n",
              "      <td>0.0</td>\n",
              "      <td>3.0</td>\n",
              "      <td>0.000000</td>\n",
              "      <td>51795.000</td>\n",
              "      <td>92.0</td>\n",
              "    </tr>\n",
              "    <tr>\n",
              "      <th>...</th>\n",
              "      <td>...</td>\n",
              "      <td>...</td>\n",
              "      <td>...</td>\n",
              "      <td>...</td>\n",
              "      <td>...</td>\n",
              "      <td>...</td>\n",
              "      <td>...</td>\n",
              "      <td>...</td>\n",
              "      <td>...</td>\n",
              "      <td>...</td>\n",
              "      <td>...</td>\n",
              "      <td>...</td>\n",
              "      <td>...</td>\n",
              "      <td>...</td>\n",
              "      <td>...</td>\n",
              "      <td>...</td>\n",
              "      <td>...</td>\n",
              "      <td>...</td>\n",
              "      <td>...</td>\n",
              "      <td>...</td>\n",
              "      <td>...</td>\n",
              "    </tr>\n",
              "    <tr>\n",
              "      <th>70376</th>\n",
              "      <td>1</td>\n",
              "      <td>0</td>\n",
              "      <td>0</td>\n",
              "      <td>1</td>\n",
              "      <td>0</td>\n",
              "      <td>0</td>\n",
              "      <td>0</td>\n",
              "      <td>1</td>\n",
              "      <td>0</td>\n",
              "      <td>0</td>\n",
              "      <td>...</td>\n",
              "      <td>0.761896</td>\n",
              "      <td>12.1</td>\n",
              "      <td>0.0</td>\n",
              "      <td>58.333333</td>\n",
              "      <td>0.0</td>\n",
              "      <td>0.0</td>\n",
              "      <td>1.0</td>\n",
              "      <td>0.730392</td>\n",
              "      <td>29970.000</td>\n",
              "      <td>93.0</td>\n",
              "    </tr>\n",
              "    <tr>\n",
              "      <th>225338</th>\n",
              "      <td>0</td>\n",
              "      <td>1</td>\n",
              "      <td>1</td>\n",
              "      <td>0</td>\n",
              "      <td>0</td>\n",
              "      <td>1</td>\n",
              "      <td>0</td>\n",
              "      <td>0</td>\n",
              "      <td>0</td>\n",
              "      <td>0</td>\n",
              "      <td>...</td>\n",
              "      <td>0.452675</td>\n",
              "      <td>25.1</td>\n",
              "      <td>0.0</td>\n",
              "      <td>100.000000</td>\n",
              "      <td>0.0</td>\n",
              "      <td>0.0</td>\n",
              "      <td>1.0</td>\n",
              "      <td>0.000000</td>\n",
              "      <td>39604.500</td>\n",
              "      <td>36.0</td>\n",
              "    </tr>\n",
              "    <tr>\n",
              "      <th>17531</th>\n",
              "      <td>0</td>\n",
              "      <td>1</td>\n",
              "      <td>1</td>\n",
              "      <td>0</td>\n",
              "      <td>0</td>\n",
              "      <td>1</td>\n",
              "      <td>0</td>\n",
              "      <td>0</td>\n",
              "      <td>0</td>\n",
              "      <td>0</td>\n",
              "      <td>...</td>\n",
              "      <td>0.456177</td>\n",
              "      <td>14.7</td>\n",
              "      <td>0.0</td>\n",
              "      <td>100.000000</td>\n",
              "      <td>0.0</td>\n",
              "      <td>0.0</td>\n",
              "      <td>0.0</td>\n",
              "      <td>0.000000</td>\n",
              "      <td>16573.500</td>\n",
              "      <td>18.0</td>\n",
              "    </tr>\n",
              "    <tr>\n",
              "      <th>284960</th>\n",
              "      <td>1</td>\n",
              "      <td>0</td>\n",
              "      <td>1</td>\n",
              "      <td>0</td>\n",
              "      <td>0</td>\n",
              "      <td>1</td>\n",
              "      <td>0</td>\n",
              "      <td>0</td>\n",
              "      <td>0</td>\n",
              "      <td>0</td>\n",
              "      <td>...</td>\n",
              "      <td>0.610150</td>\n",
              "      <td>9.3</td>\n",
              "      <td>0.0</td>\n",
              "      <td>33.333333</td>\n",
              "      <td>0.0</td>\n",
              "      <td>0.0</td>\n",
              "      <td>1.0</td>\n",
              "      <td>0.250000</td>\n",
              "      <td>17933.220</td>\n",
              "      <td>34.0</td>\n",
              "    </tr>\n",
              "    <tr>\n",
              "      <th>291798</th>\n",
              "      <td>1</td>\n",
              "      <td>0</td>\n",
              "      <td>1</td>\n",
              "      <td>0</td>\n",
              "      <td>0</td>\n",
              "      <td>1</td>\n",
              "      <td>0</td>\n",
              "      <td>0</td>\n",
              "      <td>0</td>\n",
              "      <td>0</td>\n",
              "      <td>...</td>\n",
              "      <td>0.391181</td>\n",
              "      <td>34.9</td>\n",
              "      <td>0.0</td>\n",
              "      <td>37.500000</td>\n",
              "      <td>0.0</td>\n",
              "      <td>0.0</td>\n",
              "      <td>2.0</td>\n",
              "      <td>0.294118</td>\n",
              "      <td>-3575.565</td>\n",
              "      <td>83.0</td>\n",
              "    </tr>\n",
              "  </tbody>\n",
              "</table>\n",
              "<p>79190 rows × 31 columns</p>\n",
              "</div>\n",
              "    <div class=\"colab-df-buttons\">\n",
              "\n",
              "  <div class=\"colab-df-container\">\n",
              "    <button class=\"colab-df-convert\" onclick=\"convertToInteractive('df-05ccdc0c-efd5-4e5e-bf6f-daeae49a7ac1')\"\n",
              "            title=\"Convert this dataframe to an interactive table.\"\n",
              "            style=\"display:none;\">\n",
              "\n",
              "  <svg xmlns=\"http://www.w3.org/2000/svg\" height=\"24px\" viewBox=\"0 -960 960 960\">\n",
              "    <path d=\"M120-120v-720h720v720H120Zm60-500h600v-160H180v160Zm220 220h160v-160H400v160Zm0 220h160v-160H400v160ZM180-400h160v-160H180v160Zm440 0h160v-160H620v160ZM180-180h160v-160H180v160Zm440 0h160v-160H620v160Z\"/>\n",
              "  </svg>\n",
              "    </button>\n",
              "\n",
              "  <style>\n",
              "    .colab-df-container {\n",
              "      display:flex;\n",
              "      gap: 12px;\n",
              "    }\n",
              "\n",
              "    .colab-df-convert {\n",
              "      background-color: #E8F0FE;\n",
              "      border: none;\n",
              "      border-radius: 50%;\n",
              "      cursor: pointer;\n",
              "      display: none;\n",
              "      fill: #1967D2;\n",
              "      height: 32px;\n",
              "      padding: 0 0 0 0;\n",
              "      width: 32px;\n",
              "    }\n",
              "\n",
              "    .colab-df-convert:hover {\n",
              "      background-color: #E2EBFA;\n",
              "      box-shadow: 0px 1px 2px rgba(60, 64, 67, 0.3), 0px 1px 3px 1px rgba(60, 64, 67, 0.15);\n",
              "      fill: #174EA6;\n",
              "    }\n",
              "\n",
              "    .colab-df-buttons div {\n",
              "      margin-bottom: 4px;\n",
              "    }\n",
              "\n",
              "    [theme=dark] .colab-df-convert {\n",
              "      background-color: #3B4455;\n",
              "      fill: #D2E3FC;\n",
              "    }\n",
              "\n",
              "    [theme=dark] .colab-df-convert:hover {\n",
              "      background-color: #434B5C;\n",
              "      box-shadow: 0px 1px 3px 1px rgba(0, 0, 0, 0.15);\n",
              "      filter: drop-shadow(0px 1px 2px rgba(0, 0, 0, 0.3));\n",
              "      fill: #FFFFFF;\n",
              "    }\n",
              "  </style>\n",
              "\n",
              "    <script>\n",
              "      const buttonEl =\n",
              "        document.querySelector('#df-05ccdc0c-efd5-4e5e-bf6f-daeae49a7ac1 button.colab-df-convert');\n",
              "      buttonEl.style.display =\n",
              "        google.colab.kernel.accessAllowed ? 'block' : 'none';\n",
              "\n",
              "      async function convertToInteractive(key) {\n",
              "        const element = document.querySelector('#df-05ccdc0c-efd5-4e5e-bf6f-daeae49a7ac1');\n",
              "        const dataTable =\n",
              "          await google.colab.kernel.invokeFunction('convertToInteractive',\n",
              "                                                    [key], {});\n",
              "        if (!dataTable) return;\n",
              "\n",
              "        const docLinkHtml = 'Like what you see? Visit the ' +\n",
              "          '<a target=\"_blank\" href=https://colab.research.google.com/notebooks/data_table.ipynb>data table notebook</a>'\n",
              "          + ' to learn more about interactive tables.';\n",
              "        element.innerHTML = '';\n",
              "        dataTable['output_type'] = 'display_data';\n",
              "        await google.colab.output.renderOutput(dataTable, element);\n",
              "        const docLink = document.createElement('div');\n",
              "        docLink.innerHTML = docLinkHtml;\n",
              "        element.appendChild(docLink);\n",
              "      }\n",
              "    </script>\n",
              "  </div>\n",
              "\n",
              "\n",
              "<div id=\"df-a739a4ff-e927-43cd-9099-bd7a05936faa\">\n",
              "  <button class=\"colab-df-quickchart\" onclick=\"quickchart('df-a739a4ff-e927-43cd-9099-bd7a05936faa')\"\n",
              "            title=\"Suggest charts.\"\n",
              "            style=\"display:none;\">\n",
              "\n",
              "<svg xmlns=\"http://www.w3.org/2000/svg\" height=\"24px\"viewBox=\"0 0 24 24\"\n",
              "     width=\"24px\">\n",
              "    <g>\n",
              "        <path d=\"M19 3H5c-1.1 0-2 .9-2 2v14c0 1.1.9 2 2 2h14c1.1 0 2-.9 2-2V5c0-1.1-.9-2-2-2zM9 17H7v-7h2v7zm4 0h-2V7h2v10zm4 0h-2v-4h2v4z\"/>\n",
              "    </g>\n",
              "</svg>\n",
              "  </button>\n",
              "\n",
              "<style>\n",
              "  .colab-df-quickchart {\n",
              "    background-color: #E8F0FE;\n",
              "    border: none;\n",
              "    border-radius: 50%;\n",
              "    cursor: pointer;\n",
              "    display: none;\n",
              "    fill: #1967D2;\n",
              "    height: 32px;\n",
              "    padding: 0 0 0 0;\n",
              "    width: 32px;\n",
              "  }\n",
              "\n",
              "  .colab-df-quickchart:hover {\n",
              "    background-color: #E2EBFA;\n",
              "    box-shadow: 0px 1px 2px rgba(60, 64, 67, 0.3), 0px 1px 3px 1px rgba(60, 64, 67, 0.15);\n",
              "    fill: #174EA6;\n",
              "  }\n",
              "\n",
              "  [theme=dark] .colab-df-quickchart {\n",
              "    background-color: #3B4455;\n",
              "    fill: #D2E3FC;\n",
              "  }\n",
              "\n",
              "  [theme=dark] .colab-df-quickchart:hover {\n",
              "    background-color: #434B5C;\n",
              "    box-shadow: 0px 1px 3px 1px rgba(0, 0, 0, 0.15);\n",
              "    filter: drop-shadow(0px 1px 2px rgba(0, 0, 0, 0.3));\n",
              "    fill: #FFFFFF;\n",
              "  }\n",
              "</style>\n",
              "\n",
              "  <script>\n",
              "    async function quickchart(key) {\n",
              "      const charts = await google.colab.kernel.invokeFunction(\n",
              "          'suggestCharts', [key], {});\n",
              "    }\n",
              "    (() => {\n",
              "      let quickchartButtonEl =\n",
              "        document.querySelector('#df-a739a4ff-e927-43cd-9099-bd7a05936faa button');\n",
              "      quickchartButtonEl.style.display =\n",
              "        google.colab.kernel.accessAllowed ? 'block' : 'none';\n",
              "    })();\n",
              "  </script>\n",
              "</div>\n",
              "    </div>\n",
              "  </div>\n"
            ]
          },
          "metadata": {},
          "execution_count": 395
        }
      ],
      "source": [
        "X_new_transformed = preprocessor.transform(Xtrain)\n",
        "X_new_transformed"
      ]
    },
    {
      "cell_type": "markdown",
      "metadata": {
        "id": "KGDnaV8sYJtZ"
      },
      "source": [
        "# <a name=\"C3\"> 3. Entraînement du modèle et score métier </a>"
      ]
    },
    {
      "cell_type": "code",
      "execution_count": 396,
      "metadata": {
        "id": "bTW8WJL8ahpW"
      },
      "outputs": [],
      "source": [
        "from sklearn.metrics import make_scorer, precision_score, recall_score, roc_auc_score\n",
        "from sklearn.metrics import confusion_matrix\n",
        "\n",
        "def recall_seuil(y_true, y_prob):\n",
        "    y_pred = ((y_prob >= threshold).astype(int)).astype(str)\n",
        "    return recall_score(y_true, y_pred,  pos_label = '1')\n",
        "\n",
        "def precision_seuil(y_true, y_prob):\n",
        "    y_pred = ((y_prob >= threshold).astype(int)).astype(str)\n",
        "    return precision_score(y_true, y_pred,  pos_label = '1')\n",
        "\n",
        "def fonction_cout(y_true, y_prob):\n",
        "    y_pred = ((y_prob >= threshold).astype(int)).astype(str)\n",
        "    cm = confusion_matrix(y_true, y_pred)\n",
        "    fn = cm[1, 0]  # Faux négatifs\n",
        "    fp = cm[0, 1]  # Faux positifs\n",
        "    cost = 10*fn + fp\n",
        "    return cost\n"
      ]
    },
    {
      "cell_type": "code",
      "execution_count": 397,
      "metadata": {
        "colab": {
          "base_uri": "https://localhost:8080/"
        },
        "id": "0IxHbmGmm5-G",
        "outputId": "2af4df1b-0417-4129-a7d5-455b27ae4b78"
      },
      "outputs": [
        {
          "name": "stdout",
          "output_type": "stream",
          "text": [
            "Entrer le seuil de classification à tester :  0.5\n"
          ]
        }
      ],
      "source": [
        "threshold = float(input(\"Entrer le seuil de classification à tester :  \"))"
      ]
    },
    {
      "cell_type": "code",
      "execution_count": 398,
      "metadata": {
        "id": "GTnyN7l_zpS2"
      },
      "outputs": [],
      "source": [
        "from imblearn.pipeline import make_pipeline\n",
        "cv = 10\n",
        "\n",
        "#threshold = 0.4 # 0.4, 0.42, 0.43, 0.2\n",
        "\n",
        "score = {'accuracy': 'accuracy',\n",
        "         #'precision': metrics.make_scorer(precision_score, pos_label='1'),\n",
        "         #'recall' : metrics.make_scorer(recall_score, pos_label='1'),\n",
        "         'roc_auc' : metrics.make_scorer(roc_auc_score, needs_proba=True),\n",
        "         'recall': metrics.make_scorer(recall_seuil, needs_proba=True),\n",
        "         'precision': metrics.make_scorer(precision_seuil, needs_proba=True),\n",
        "         'score_metier': metrics.make_scorer(fonction_cout, greater_is_better=False, needs_proba=True),\n",
        "         }\n",
        "\n",
        "param_grid = models_dict[model][2]\n",
        "estimator = models_dict[model][0]\n",
        "\n",
        "if option == 2:\n",
        "  Pipe_smote = make_pipeline(\n",
        "      smote,\n",
        "      models_dict[model][0])\n",
        "  id_model = str(models_dict[model][0]).split('(')[0].lower()\n",
        "  param_grid_bis= {\n",
        "        id_model+'__' + k: v for k, v in param_grid.items()\n",
        "    }\n",
        "  Pipe_0 = make_pipeline(\n",
        "        preprocessor,\n",
        "        smote,\n",
        "        model_selection.GridSearchCV(\n",
        "            estimator=Pipe_smote,\n",
        "            param_grid=param_grid_bis,\n",
        "            cv=cv,\n",
        "            scoring=score,\n",
        "            refit='score_metier',\n",
        "            error_score='raise',\n",
        "            n_jobs=-1\n",
        "        ))\n",
        "else :\n",
        "  Pipe_0 = Pipeline([\n",
        "    ('preprocessor', preprocessor),\n",
        "    ('grid_search_'+model, model_selection.GridSearchCV(estimator=estimator,\n",
        "                                        param_grid=param_grid,\n",
        "                                        cv=cv,\n",
        "                                        scoring=score,\n",
        "                                        refit='score_metier',\n",
        "                                        error_score='raise',\n",
        "                                        n_jobs=-1))])"
      ]
    },
    {
      "cell_type": "code",
      "execution_count": 399,
      "metadata": {
        "colab": {
          "base_uri": "https://localhost:8080/"
        },
        "id": "Q8e0DnwUY3wR",
        "outputId": "ba2b9e21-d696-4260-a8f6-90138ad4bf9f"
      },
      "outputs": [
        {
          "output_type": "stream",
          "name": "stdout",
          "text": [
            "{'learning_rate': [0.4, 0.5, 0.6], 'max_depth': [3], 'n_estimators': [140, 150, 160], 'random_state': [42], 'class_weight': [{'0': 1.0877662121185254, '1': 12.393906332080656}]}\n"
          ]
        }
      ],
      "source": [
        "if option == 2: #vérification\n",
        "  print(param_grid_bis)\n",
        "else :\n",
        "  print(param_grid)"
      ]
    },
    {
      "cell_type": "code",
      "source": [
        "id_model"
      ],
      "metadata": {
        "colab": {
          "base_uri": "https://localhost:8080/",
          "height": 35
        },
        "id": "WX_g0V4vpUlG",
        "outputId": "a6857a0a-3aec-4823-df79-a3de77d9675a"
      },
      "execution_count": 400,
      "outputs": [
        {
          "output_type": "execute_result",
          "data": {
            "text/plain": [
              "'lgbmclassifier'"
            ],
            "application/vnd.google.colaboratory.intrinsic+json": {
              "type": "string"
            }
          },
          "metadata": {},
          "execution_count": 400
        }
      ]
    },
    {
      "cell_type": "code",
      "execution_count": 401,
      "metadata": {
        "colab": {
          "base_uri": "https://localhost:8080/"
        },
        "id": "OIBYjlzGyCRP",
        "outputId": "d14946dd-a09a-4e5a-942c-64ad7b8ed23c"
      },
      "outputs": [
        {
          "output_type": "stream",
          "name": "stdout",
          "text": [
            "Starting model training...\n",
            "[LightGBM] [Warning] Found whitespace in feature_names, replace with underlines\n",
            "[LightGBM] [Info] Number of positive: 19798, number of negative: 59392\n",
            "[LightGBM] [Warning] Auto-choosing row-wise multi-threading, the overhead of testing was 0.013855 seconds.\n",
            "You can set `force_row_wise=true` to remove the overhead.\n",
            "And if memory is not enough, you can set `force_col_wise=true`.\n",
            "[LightGBM] [Info] Total Bins 2670\n",
            "[LightGBM] [Info] Number of data points in the train set: 79190, number of used features: 27\n",
            "[LightGBM] [Info] [binary:BoostFromScore]: pavg=0.791584 -> initscore=1.334500\n",
            "[LightGBM] [Info] Start training from score 1.334500\n",
            "[LightGBM] [Warning] No further splits with positive gain, best gain: -inf\n",
            "[LightGBM] [Warning] No further splits with positive gain, best gain: -inf\n",
            "[LightGBM] [Warning] No further splits with positive gain, best gain: -inf\n",
            "[LightGBM] [Warning] No further splits with positive gain, best gain: -inf\n",
            "[LightGBM] [Warning] No further splits with positive gain, best gain: -inf\n",
            "[LightGBM] [Warning] No further splits with positive gain, best gain: -inf\n",
            "[LightGBM] [Warning] No further splits with positive gain, best gain: -inf\n",
            "[LightGBM] [Warning] No further splits with positive gain, best gain: -inf\n",
            "[LightGBM] [Warning] No further splits with positive gain, best gain: -inf\n",
            "[LightGBM] [Warning] No further splits with positive gain, best gain: -inf\n",
            "[LightGBM] [Warning] No further splits with positive gain, best gain: -inf\n",
            "[LightGBM] [Warning] No further splits with positive gain, best gain: -inf\n",
            "[LightGBM] [Warning] No further splits with positive gain, best gain: -inf\n",
            "[LightGBM] [Warning] No further splits with positive gain, best gain: -inf\n",
            "[LightGBM] [Warning] No further splits with positive gain, best gain: -inf\n",
            "[LightGBM] [Warning] No further splits with positive gain, best gain: -inf\n",
            "[LightGBM] [Warning] No further splits with positive gain, best gain: -inf\n",
            "[LightGBM] [Warning] No further splits with positive gain, best gain: -inf\n",
            "[LightGBM] [Warning] No further splits with positive gain, best gain: -inf\n",
            "[LightGBM] [Warning] No further splits with positive gain, best gain: -inf\n",
            "Model training completed in 139.62 seconds.\n"
          ]
        }
      ],
      "source": [
        "import mlflow\n",
        "import mlflow.sklearn\n",
        "import time\n",
        "\n",
        "# Set the experiment name for MLflow\n",
        "experiment_name = 'Classification_'+model.split()[0]\n",
        "\n",
        "# Start the MLflow experiment\n",
        "\n",
        "mlflow.set_experiment(experiment_name)\n",
        "mlflow.start_run()\n",
        "\n",
        "ls_features = X_new_transformed.columns.tolist()\n",
        "ls_features_string = ', '.join(ls_features)\n",
        "mlflow.log_text(ls_features_string, \"features_list.txt\")\n",
        "\n",
        "print(\"Starting model training...\")\n",
        "start_time = time.time()  # Record the start time\n",
        "\n",
        "# Fit the pipeline with GridSearchCV\n",
        "Pipe_0.fit(Xtrain, ytrain)\n",
        "\n",
        "end_time = time.time()  # Record the end time\n",
        "print(\"Model training completed in {:.2f} seconds.\".format(end_time - start_time))\n"
      ]
    },
    {
      "cell_type": "code",
      "execution_count": 402,
      "metadata": {
        "id": "l6zJYWyeJzib",
        "colab": {
          "base_uri": "https://localhost:8080/",
          "height": 252
        },
        "outputId": "c16dde43-639e-455b-b9cf-43142272ae2f"
      },
      "outputs": [
        {
          "output_type": "execute_result",
          "data": {
            "text/plain": [
              "Pipeline(steps=[('preprocessor',\n",
              "                 ColumnTransformer(remainder='passthrough',\n",
              "                                   transformers=[('oneHot',\n",
              "                                                  OneHotEncoder(use_cat_names=True),\n",
              "                                                  ['PROPRIETAIRE',\n",
              "                                                   'NIVEAU_ETUDE',\n",
              "                                                   'OCCUPATION']),\n",
              "                                                 ('frequency',\n",
              "                                                  FunctionTransformer(func=<function frequency_encode at 0x7a0b20c3f010>),\n",
              "                                                  ['SECTEUR_ACTIVITE'])])),\n",
              "                ('grid_search_LightGBM',\n",
              "                 GridSearchCV(cv=10, error_score='raise',\n",
              "                              es...\n",
              "                                          'n_estimators': [140, 150, 160],\n",
              "                                          'random_state': [42]},\n",
              "                              refit='score_metier',\n",
              "                              scoring={'accuracy': 'accuracy',\n",
              "                                       'precision': make_scorer(precision_seuil, needs_proba=True),\n",
              "                                       'recall': make_scorer(recall_seuil, needs_proba=True),\n",
              "                                       'roc_auc': make_scorer(roc_auc_score, needs_proba=True),\n",
              "                                       'score_metier': make_scorer(fonction_cout, greater_is_better=False, needs_proba=True)}))])"
            ],
            "text/html": [
              "<style>#sk-container-id-26 {color: black;background-color: white;}#sk-container-id-26 pre{padding: 0;}#sk-container-id-26 div.sk-toggleable {background-color: white;}#sk-container-id-26 label.sk-toggleable__label {cursor: pointer;display: block;width: 100%;margin-bottom: 0;padding: 0.3em;box-sizing: border-box;text-align: center;}#sk-container-id-26 label.sk-toggleable__label-arrow:before {content: \"▸\";float: left;margin-right: 0.25em;color: #696969;}#sk-container-id-26 label.sk-toggleable__label-arrow:hover:before {color: black;}#sk-container-id-26 div.sk-estimator:hover label.sk-toggleable__label-arrow:before {color: black;}#sk-container-id-26 div.sk-toggleable__content {max-height: 0;max-width: 0;overflow: hidden;text-align: left;background-color: #f0f8ff;}#sk-container-id-26 div.sk-toggleable__content pre {margin: 0.2em;color: black;border-radius: 0.25em;background-color: #f0f8ff;}#sk-container-id-26 input.sk-toggleable__control:checked~div.sk-toggleable__content {max-height: 200px;max-width: 100%;overflow: auto;}#sk-container-id-26 input.sk-toggleable__control:checked~label.sk-toggleable__label-arrow:before {content: \"▾\";}#sk-container-id-26 div.sk-estimator input.sk-toggleable__control:checked~label.sk-toggleable__label {background-color: #d4ebff;}#sk-container-id-26 div.sk-label input.sk-toggleable__control:checked~label.sk-toggleable__label {background-color: #d4ebff;}#sk-container-id-26 input.sk-hidden--visually {border: 0;clip: rect(1px 1px 1px 1px);clip: rect(1px, 1px, 1px, 1px);height: 1px;margin: -1px;overflow: hidden;padding: 0;position: absolute;width: 1px;}#sk-container-id-26 div.sk-estimator {font-family: monospace;background-color: #f0f8ff;border: 1px dotted black;border-radius: 0.25em;box-sizing: border-box;margin-bottom: 0.5em;}#sk-container-id-26 div.sk-estimator:hover {background-color: #d4ebff;}#sk-container-id-26 div.sk-parallel-item::after {content: \"\";width: 100%;border-bottom: 1px solid gray;flex-grow: 1;}#sk-container-id-26 div.sk-label:hover label.sk-toggleable__label {background-color: #d4ebff;}#sk-container-id-26 div.sk-serial::before {content: \"\";position: absolute;border-left: 1px solid gray;box-sizing: border-box;top: 0;bottom: 0;left: 50%;z-index: 0;}#sk-container-id-26 div.sk-serial {display: flex;flex-direction: column;align-items: center;background-color: white;padding-right: 0.2em;padding-left: 0.2em;position: relative;}#sk-container-id-26 div.sk-item {position: relative;z-index: 1;}#sk-container-id-26 div.sk-parallel {display: flex;align-items: stretch;justify-content: center;background-color: white;position: relative;}#sk-container-id-26 div.sk-item::before, #sk-container-id-26 div.sk-parallel-item::before {content: \"\";position: absolute;border-left: 1px solid gray;box-sizing: border-box;top: 0;bottom: 0;left: 50%;z-index: -1;}#sk-container-id-26 div.sk-parallel-item {display: flex;flex-direction: column;z-index: 1;position: relative;background-color: white;}#sk-container-id-26 div.sk-parallel-item:first-child::after {align-self: flex-end;width: 50%;}#sk-container-id-26 div.sk-parallel-item:last-child::after {align-self: flex-start;width: 50%;}#sk-container-id-26 div.sk-parallel-item:only-child::after {width: 0;}#sk-container-id-26 div.sk-dashed-wrapped {border: 1px dashed gray;margin: 0 0.4em 0.5em 0.4em;box-sizing: border-box;padding-bottom: 0.4em;background-color: white;}#sk-container-id-26 div.sk-label label {font-family: monospace;font-weight: bold;display: inline-block;line-height: 1.2em;}#sk-container-id-26 div.sk-label-container {text-align: center;}#sk-container-id-26 div.sk-container {/* jupyter's `normalize.less` sets `[hidden] { display: none; }` but bootstrap.min.css set `[hidden] { display: none !important; }` so we also need the `!important` here to be able to override the default hidden behavior on the sphinx rendered scikit-learn.org. See: https://github.com/scikit-learn/scikit-learn/issues/21755 */display: inline-block !important;position: relative;}#sk-container-id-26 div.sk-text-repr-fallback {display: none;}</style><div id=\"sk-container-id-26\" class=\"sk-top-container\"><div class=\"sk-text-repr-fallback\"><pre>Pipeline(steps=[(&#x27;preprocessor&#x27;,\n",
              "                 ColumnTransformer(remainder=&#x27;passthrough&#x27;,\n",
              "                                   transformers=[(&#x27;oneHot&#x27;,\n",
              "                                                  OneHotEncoder(use_cat_names=True),\n",
              "                                                  [&#x27;PROPRIETAIRE&#x27;,\n",
              "                                                   &#x27;NIVEAU_ETUDE&#x27;,\n",
              "                                                   &#x27;OCCUPATION&#x27;]),\n",
              "                                                 (&#x27;frequency&#x27;,\n",
              "                                                  FunctionTransformer(func=&lt;function frequency_encode at 0x7a0b20c3f010&gt;),\n",
              "                                                  [&#x27;SECTEUR_ACTIVITE&#x27;])])),\n",
              "                (&#x27;grid_search_LightGBM&#x27;,\n",
              "                 GridSearchCV(cv=10, error_score=&#x27;raise&#x27;,\n",
              "                              es...\n",
              "                                          &#x27;n_estimators&#x27;: [140, 150, 160],\n",
              "                                          &#x27;random_state&#x27;: [42]},\n",
              "                              refit=&#x27;score_metier&#x27;,\n",
              "                              scoring={&#x27;accuracy&#x27;: &#x27;accuracy&#x27;,\n",
              "                                       &#x27;precision&#x27;: make_scorer(precision_seuil, needs_proba=True),\n",
              "                                       &#x27;recall&#x27;: make_scorer(recall_seuil, needs_proba=True),\n",
              "                                       &#x27;roc_auc&#x27;: make_scorer(roc_auc_score, needs_proba=True),\n",
              "                                       &#x27;score_metier&#x27;: make_scorer(fonction_cout, greater_is_better=False, needs_proba=True)}))])</pre><b>In a Jupyter environment, please rerun this cell to show the HTML representation or trust the notebook. <br />On GitHub, the HTML representation is unable to render, please try loading this page with nbviewer.org.</b></div><div class=\"sk-container\" hidden><div class=\"sk-item sk-dashed-wrapped\"><div class=\"sk-label-container\"><div class=\"sk-label sk-toggleable\"><input class=\"sk-toggleable__control sk-hidden--visually\" id=\"sk-estimator-id-160\" type=\"checkbox\" ><label for=\"sk-estimator-id-160\" class=\"sk-toggleable__label sk-toggleable__label-arrow\">Pipeline</label><div class=\"sk-toggleable__content\"><pre>Pipeline(steps=[(&#x27;preprocessor&#x27;,\n",
              "                 ColumnTransformer(remainder=&#x27;passthrough&#x27;,\n",
              "                                   transformers=[(&#x27;oneHot&#x27;,\n",
              "                                                  OneHotEncoder(use_cat_names=True),\n",
              "                                                  [&#x27;PROPRIETAIRE&#x27;,\n",
              "                                                   &#x27;NIVEAU_ETUDE&#x27;,\n",
              "                                                   &#x27;OCCUPATION&#x27;]),\n",
              "                                                 (&#x27;frequency&#x27;,\n",
              "                                                  FunctionTransformer(func=&lt;function frequency_encode at 0x7a0b20c3f010&gt;),\n",
              "                                                  [&#x27;SECTEUR_ACTIVITE&#x27;])])),\n",
              "                (&#x27;grid_search_LightGBM&#x27;,\n",
              "                 GridSearchCV(cv=10, error_score=&#x27;raise&#x27;,\n",
              "                              es...\n",
              "                                          &#x27;n_estimators&#x27;: [140, 150, 160],\n",
              "                                          &#x27;random_state&#x27;: [42]},\n",
              "                              refit=&#x27;score_metier&#x27;,\n",
              "                              scoring={&#x27;accuracy&#x27;: &#x27;accuracy&#x27;,\n",
              "                                       &#x27;precision&#x27;: make_scorer(precision_seuil, needs_proba=True),\n",
              "                                       &#x27;recall&#x27;: make_scorer(recall_seuil, needs_proba=True),\n",
              "                                       &#x27;roc_auc&#x27;: make_scorer(roc_auc_score, needs_proba=True),\n",
              "                                       &#x27;score_metier&#x27;: make_scorer(fonction_cout, greater_is_better=False, needs_proba=True)}))])</pre></div></div></div><div class=\"sk-serial\"><div class=\"sk-item sk-dashed-wrapped\"><div class=\"sk-label-container\"><div class=\"sk-label sk-toggleable\"><input class=\"sk-toggleable__control sk-hidden--visually\" id=\"sk-estimator-id-161\" type=\"checkbox\" ><label for=\"sk-estimator-id-161\" class=\"sk-toggleable__label sk-toggleable__label-arrow\">preprocessor: ColumnTransformer</label><div class=\"sk-toggleable__content\"><pre>ColumnTransformer(remainder=&#x27;passthrough&#x27;,\n",
              "                  transformers=[(&#x27;oneHot&#x27;, OneHotEncoder(use_cat_names=True),\n",
              "                                 [&#x27;PROPRIETAIRE&#x27;, &#x27;NIVEAU_ETUDE&#x27;,\n",
              "                                  &#x27;OCCUPATION&#x27;]),\n",
              "                                (&#x27;frequency&#x27;,\n",
              "                                 FunctionTransformer(func=&lt;function frequency_encode at 0x7a0b20c3f010&gt;),\n",
              "                                 [&#x27;SECTEUR_ACTIVITE&#x27;])])</pre></div></div></div><div class=\"sk-parallel\"><div class=\"sk-parallel-item\"><div class=\"sk-item\"><div class=\"sk-label-container\"><div class=\"sk-label sk-toggleable\"><input class=\"sk-toggleable__control sk-hidden--visually\" id=\"sk-estimator-id-162\" type=\"checkbox\" ><label for=\"sk-estimator-id-162\" class=\"sk-toggleable__label sk-toggleable__label-arrow\">oneHot</label><div class=\"sk-toggleable__content\"><pre>[&#x27;PROPRIETAIRE&#x27;, &#x27;NIVEAU_ETUDE&#x27;, &#x27;OCCUPATION&#x27;]</pre></div></div></div><div class=\"sk-serial\"><div class=\"sk-item\"><div class=\"sk-estimator sk-toggleable\"><input class=\"sk-toggleable__control sk-hidden--visually\" id=\"sk-estimator-id-163\" type=\"checkbox\" ><label for=\"sk-estimator-id-163\" class=\"sk-toggleable__label sk-toggleable__label-arrow\">OneHotEncoder</label><div class=\"sk-toggleable__content\"><pre>OneHotEncoder(use_cat_names=True)</pre></div></div></div></div></div></div><div class=\"sk-parallel-item\"><div class=\"sk-item\"><div class=\"sk-label-container\"><div class=\"sk-label sk-toggleable\"><input class=\"sk-toggleable__control sk-hidden--visually\" id=\"sk-estimator-id-164\" type=\"checkbox\" ><label for=\"sk-estimator-id-164\" class=\"sk-toggleable__label sk-toggleable__label-arrow\">frequency</label><div class=\"sk-toggleable__content\"><pre>[&#x27;SECTEUR_ACTIVITE&#x27;]</pre></div></div></div><div class=\"sk-serial\"><div class=\"sk-item\"><div class=\"sk-estimator sk-toggleable\"><input class=\"sk-toggleable__control sk-hidden--visually\" id=\"sk-estimator-id-165\" type=\"checkbox\" ><label for=\"sk-estimator-id-165\" class=\"sk-toggleable__label sk-toggleable__label-arrow\">FunctionTransformer</label><div class=\"sk-toggleable__content\"><pre>FunctionTransformer(func=&lt;function frequency_encode at 0x7a0b20c3f010&gt;)</pre></div></div></div></div></div></div><div class=\"sk-parallel-item\"><div class=\"sk-item\"><div class=\"sk-label-container\"><div class=\"sk-label sk-toggleable\"><input class=\"sk-toggleable__control sk-hidden--visually\" id=\"sk-estimator-id-166\" type=\"checkbox\" ><label for=\"sk-estimator-id-166\" class=\"sk-toggleable__label sk-toggleable__label-arrow\">remainder</label><div class=\"sk-toggleable__content\"><pre>[&#x27;NBRE_ENFANT&#x27;, &#x27;REVENUS_TOT&#x27;, &#x27;MONTANT_CREDIT&#x27;, &#x27;AGE&#x27;, &#x27;ANCIENNETE_EMPLOI&#x27;, &#x27;SCORE_REGION&#x27;, &#x27;HEURE_APP&#x27;, &#x27;SCORE_2_EXT&#x27;, &#x27;RATIO_ENDETT(%)&#x27;, &#x27;CC_NOMBRE_RETRAIT_MOYEN&#x27;, &#x27;POS_PROGRESS_MAX_MIN&#x27;, &#x27;CB_SOMME_DUES_RETARD&#x27;, &#x27;CC_RATIO_CREDIT&#x27;, &#x27;NBRE_CONTRAT_ACTIFS&#x27;, &#x27;NBRE_J_RETARD&#x27;, &#x27;CHARGES_ANNUEL&#x27;, &#x27;ANCIENNETE_CREDIT&#x27;]</pre></div></div></div><div class=\"sk-serial\"><div class=\"sk-item\"><div class=\"sk-estimator sk-toggleable\"><input class=\"sk-toggleable__control sk-hidden--visually\" id=\"sk-estimator-id-167\" type=\"checkbox\" ><label for=\"sk-estimator-id-167\" class=\"sk-toggleable__label sk-toggleable__label-arrow\">passthrough</label><div class=\"sk-toggleable__content\"><pre>passthrough</pre></div></div></div></div></div></div></div></div><div class=\"sk-item sk-dashed-wrapped\"><div class=\"sk-label-container\"><div class=\"sk-label sk-toggleable\"><input class=\"sk-toggleable__control sk-hidden--visually\" id=\"sk-estimator-id-168\" type=\"checkbox\" ><label for=\"sk-estimator-id-168\" class=\"sk-toggleable__label sk-toggleable__label-arrow\">grid_search_LightGBM: GridSearchCV</label><div class=\"sk-toggleable__content\"><pre>GridSearchCV(cv=10, error_score=&#x27;raise&#x27;,\n",
              "             estimator=LGBMClassifier(metric=&#x27;binary_logloss&#x27;,\n",
              "                                      objective=&#x27;binary&#x27;),\n",
              "             n_jobs=-1,\n",
              "             param_grid={&#x27;class_weight&#x27;: [{&#x27;0&#x27;: 1.0877662121185254,\n",
              "                                           &#x27;1&#x27;: 12.393906332080656}],\n",
              "                         &#x27;learning_rate&#x27;: [0.4, 0.5, 0.6], &#x27;max_depth&#x27;: [3],\n",
              "                         &#x27;n_estimators&#x27;: [140, 150, 160],\n",
              "                         &#x27;random_state&#x27;: [42]},\n",
              "             refit=&#x27;score_metier&#x27;,\n",
              "             scoring={&#x27;accuracy&#x27;: &#x27;accuracy&#x27;,\n",
              "                      &#x27;precision&#x27;: make_scorer(precision_seuil, needs_proba=True),\n",
              "                      &#x27;recall&#x27;: make_scorer(recall_seuil, needs_proba=True),\n",
              "                      &#x27;roc_auc&#x27;: make_scorer(roc_auc_score, needs_proba=True),\n",
              "                      &#x27;score_metier&#x27;: make_scorer(fonction_cout, greater_is_better=False, needs_proba=True)})</pre></div></div></div><div class=\"sk-parallel\"><div class=\"sk-parallel-item\"><div class=\"sk-item\"><div class=\"sk-label-container\"><div class=\"sk-label sk-toggleable\"><input class=\"sk-toggleable__control sk-hidden--visually\" id=\"sk-estimator-id-169\" type=\"checkbox\" ><label for=\"sk-estimator-id-169\" class=\"sk-toggleable__label sk-toggleable__label-arrow\">estimator: LGBMClassifier</label><div class=\"sk-toggleable__content\"><pre>LGBMClassifier(metric=&#x27;binary_logloss&#x27;, objective=&#x27;binary&#x27;)</pre></div></div></div><div class=\"sk-serial\"><div class=\"sk-item\"><div class=\"sk-estimator sk-toggleable\"><input class=\"sk-toggleable__control sk-hidden--visually\" id=\"sk-estimator-id-170\" type=\"checkbox\" ><label for=\"sk-estimator-id-170\" class=\"sk-toggleable__label sk-toggleable__label-arrow\">LGBMClassifier</label><div class=\"sk-toggleable__content\"><pre>LGBMClassifier(metric=&#x27;binary_logloss&#x27;, objective=&#x27;binary&#x27;)</pre></div></div></div></div></div></div></div></div></div></div></div></div>"
            ]
          },
          "metadata": {},
          "execution_count": 402
        }
      ],
      "source": [
        "Pipe_0"
      ]
    },
    {
      "cell_type": "code",
      "execution_count": 403,
      "metadata": {
        "id": "BExHh-sHKEQD"
      },
      "outputs": [],
      "source": [
        "#TRACKING\n",
        "if option !=2 :\n",
        "  mlflow.log_params(Pipe_0['grid_search_' + model].best_params_)\n",
        "  best_index = Pipe_0['grid_search_' + model].best_index_\n",
        "  cv_results = Pipe_0['grid_search_' + model].cv_results_\n",
        "  metrics_to_log = {key: value[best_index] for key, value in cv_results.items() if key.startswith('mean_test_')}\n",
        "  metrics_to_log['data_sampling'] = option\n",
        "  metrics_to_log['threshold'] = threshold\n",
        "  mlflow.log_metrics(metrics_to_log)\n",
        "else :\n",
        "  mlflow.log_params(Pipe_0['gridsearchcv'].best_params_)\n",
        "  best_index = Pipe_0['gridsearchcv'].best_index_\n",
        "  cv_results = Pipe_0['gridsearchcv'].cv_results_\n",
        "  metrics_to_log = {key: value[best_index] for key, value in cv_results.items() if key.startswith('mean_test_')}\n",
        "  metrics_to_log['threshold'] = threshold\n",
        "  metrics_to_log['data_sampling'] = option\n",
        "  mlflow.log_metrics(metrics_to_log)"
      ]
    },
    {
      "cell_type": "code",
      "execution_count": 404,
      "metadata": {
        "id": "Vkm1c677L9me",
        "colab": {
          "base_uri": "https://localhost:8080/"
        },
        "outputId": "9b4bd808-6d5b-48df-8b47-ad6a915b657a"
      },
      "outputs": [
        {
          "output_type": "execute_result",
          "data": {
            "text/plain": [
              "{'mean_test_accuracy': 0.3606894809950752,\n",
              " 'mean_test_roc_auc': 0.7214686189451933,\n",
              " 'mean_test_recall': 0.9595416775128752,\n",
              " 'mean_test_precision': 0.27603086372958774,\n",
              " 'mean_test_score_metier': -5783.6,\n",
              " 'data_sampling': 3,\n",
              " 'threshold': 0.5}"
            ]
          },
          "metadata": {},
          "execution_count": 404
        }
      ],
      "source": [
        "metrics_to_log"
      ]
    },
    {
      "cell_type": "code",
      "execution_count": 405,
      "metadata": {
        "id": "jrLn2pRW2x5E",
        "colab": {
          "base_uri": "https://localhost:8080/"
        },
        "outputId": "b426a6fc-38db-46de-86f6-c0afe6a7cc6e"
      },
      "outputs": [
        {
          "output_type": "execute_result",
          "data": {
            "text/plain": [
              "{'mean_fit_time': array([2.38113537, 2.36693535, 2.44139688, 2.23087091, 2.39102192,\n",
              "        2.48643842, 2.25611699, 2.34370365, 2.44734573]),\n",
              " 'std_fit_time': array([0.3986819 , 0.45845342, 0.667173  , 0.64523313, 0.66531832,\n",
              "        0.7763537 , 0.57701172, 0.58175307, 0.50360478]),\n",
              " 'mean_score_time': array([0.61702375, 0.57866864, 0.58345947, 0.57068982, 0.56178844,\n",
              "        0.56084652, 0.59631577, 0.59264743, 0.61572509]),\n",
              " 'std_score_time': array([0.19619244, 0.1493164 , 0.13726712, 0.12236739, 0.11158641,\n",
              "        0.12560884, 0.20178695, 0.16954997, 0.18091068]),\n",
              " 'param_class_weight': masked_array(data=[{'0': 1.0877662121185254, '1': 12.393906332080656},\n",
              "                    {'0': 1.0877662121185254, '1': 12.393906332080656},\n",
              "                    {'0': 1.0877662121185254, '1': 12.393906332080656},\n",
              "                    {'0': 1.0877662121185254, '1': 12.393906332080656},\n",
              "                    {'0': 1.0877662121185254, '1': 12.393906332080656},\n",
              "                    {'0': 1.0877662121185254, '1': 12.393906332080656},\n",
              "                    {'0': 1.0877662121185254, '1': 12.393906332080656},\n",
              "                    {'0': 1.0877662121185254, '1': 12.393906332080656},\n",
              "                    {'0': 1.0877662121185254, '1': 12.393906332080656}],\n",
              "              mask=[False, False, False, False, False, False, False, False,\n",
              "                    False],\n",
              "        fill_value='?',\n",
              "             dtype=object),\n",
              " 'param_learning_rate': masked_array(data=[0.4, 0.4, 0.4, 0.5, 0.5, 0.5, 0.6, 0.6, 0.6],\n",
              "              mask=[False, False, False, False, False, False, False, False,\n",
              "                    False],\n",
              "        fill_value='?',\n",
              "             dtype=object),\n",
              " 'param_max_depth': masked_array(data=[3, 3, 3, 3, 3, 3, 3, 3, 3],\n",
              "              mask=[False, False, False, False, False, False, False, False,\n",
              "                    False],\n",
              "        fill_value='?',\n",
              "             dtype=object),\n",
              " 'param_n_estimators': masked_array(data=[140, 150, 160, 140, 150, 160, 140, 150, 160],\n",
              "              mask=[False, False, False, False, False, False, False, False,\n",
              "                    False],\n",
              "        fill_value='?',\n",
              "             dtype=object),\n",
              " 'param_random_state': masked_array(data=[42, 42, 42, 42, 42, 42, 42, 42, 42],\n",
              "              mask=[False, False, False, False, False, False, False, False,\n",
              "                    False],\n",
              "        fill_value='?',\n",
              "             dtype=object),\n",
              " 'params': [{'class_weight': {'0': 1.0877662121185254,\n",
              "    '1': 12.393906332080656},\n",
              "   'learning_rate': 0.4,\n",
              "   'max_depth': 3,\n",
              "   'n_estimators': 140,\n",
              "   'random_state': 42},\n",
              "  {'class_weight': {'0': 1.0877662121185254, '1': 12.393906332080656},\n",
              "   'learning_rate': 0.4,\n",
              "   'max_depth': 3,\n",
              "   'n_estimators': 150,\n",
              "   'random_state': 42},\n",
              "  {'class_weight': {'0': 1.0877662121185254, '1': 12.393906332080656},\n",
              "   'learning_rate': 0.4,\n",
              "   'max_depth': 3,\n",
              "   'n_estimators': 160,\n",
              "   'random_state': 42},\n",
              "  {'class_weight': {'0': 1.0877662121185254, '1': 12.393906332080656},\n",
              "   'learning_rate': 0.5,\n",
              "   'max_depth': 3,\n",
              "   'n_estimators': 140,\n",
              "   'random_state': 42},\n",
              "  {'class_weight': {'0': 1.0877662121185254, '1': 12.393906332080656},\n",
              "   'learning_rate': 0.5,\n",
              "   'max_depth': 3,\n",
              "   'n_estimators': 150,\n",
              "   'random_state': 42},\n",
              "  {'class_weight': {'0': 1.0877662121185254, '1': 12.393906332080656},\n",
              "   'learning_rate': 0.5,\n",
              "   'max_depth': 3,\n",
              "   'n_estimators': 160,\n",
              "   'random_state': 42},\n",
              "  {'class_weight': {'0': 1.0877662121185254, '1': 12.393906332080656},\n",
              "   'learning_rate': 0.6,\n",
              "   'max_depth': 3,\n",
              "   'n_estimators': 140,\n",
              "   'random_state': 42},\n",
              "  {'class_weight': {'0': 1.0877662121185254, '1': 12.393906332080656},\n",
              "   'learning_rate': 0.6,\n",
              "   'max_depth': 3,\n",
              "   'n_estimators': 150,\n",
              "   'random_state': 42},\n",
              "  {'class_weight': {'0': 1.0877662121185254, '1': 12.393906332080656},\n",
              "   'learning_rate': 0.6,\n",
              "   'max_depth': 3,\n",
              "   'n_estimators': 160,\n",
              "   'random_state': 42}],\n",
              " 'split0_test_accuracy': array([0.36191438, 0.36380856, 0.36507135, 0.36279833, 0.36481879,\n",
              "        0.36481879, 0.37252178, 0.37631014, 0.3776992 ]),\n",
              " 'split1_test_accuracy': array([0.35976765, 0.36128299, 0.36368228, 0.3741634 , 0.37807804,\n",
              "        0.37908827, 0.37567875, 0.37668898, 0.38035105]),\n",
              " 'split2_test_accuracy': array([0.35572673, 0.35736835, 0.35951509, 0.36860715, 0.36974365,\n",
              "        0.3723955 , 0.37441596, 0.37631014, 0.37668898]),\n",
              " 'split3_test_accuracy': array([0.36570274, 0.36810203, 0.36923854, 0.37466852, 0.37732037,\n",
              "        0.37706781, 0.37845688, 0.381235  , 0.38439197]),\n",
              " 'split4_test_accuracy': array([0.3688597 , 0.36898598, 0.3723955 , 0.37466852, 0.37643642,\n",
              "        0.3776992 , 0.38552848, 0.38565475, 0.38792777]),\n",
              " 'split5_test_accuracy': array([0.35964137, 0.36153555, 0.36822831, 0.37555247, 0.37858315,\n",
              "        0.38035105, 0.38275035, 0.38578103, 0.38906428]),\n",
              " 'split6_test_accuracy': array([0.3600202 , 0.35951509, 0.36191438, 0.36103043, 0.36380856,\n",
              "        0.36658669, 0.37290062, 0.37378457, 0.37668898]),\n",
              " 'split7_test_accuracy': array([0.35850486, 0.36077788, 0.36191438, 0.36646041, 0.37024877,\n",
              "        0.37353201, 0.38161384, 0.3830029 , 0.38615987]),\n",
              " 'split8_test_accuracy': array([0.36052532, 0.36204066, 0.363556  , 0.37340573, 0.37542619,\n",
              "        0.37605758, 0.381235  , 0.3830029 , 0.38615987]),\n",
              " 'split9_test_accuracy': array([0.35623185, 0.36014648, 0.36115671, 0.36898598, 0.37163783,\n",
              "        0.3723955 , 0.37176411, 0.3759313 , 0.3783306 ]),\n",
              " 'mean_test_accuracy': array([0.36068948, 0.36235636, 0.36466726, 0.3700341 , 0.37261018,\n",
              "        0.37399924, 0.37768658, 0.37977017, 0.38234626]),\n",
              " 'std_test_accuracy': array([0.00380895, 0.00348321, 0.00386907, 0.00501154, 0.00513072,\n",
              "        0.00488032, 0.00463821, 0.00421672, 0.0046397 ]),\n",
              " 'rank_test_accuracy': array([9, 8, 7, 6, 5, 4, 3, 2, 1], dtype=int32),\n",
              " 'split0_test_roc_auc': array([0.71469426, 0.71356468, 0.71359733, 0.70811474, 0.70787595,\n",
              "        0.70713865, 0.70545904, 0.70416057, 0.70400146]),\n",
              " 'split1_test_roc_auc': array([0.73736574, 0.73632103, 0.73658193, 0.72985547, 0.72894869,\n",
              "        0.72926053, 0.72567747, 0.72434898, 0.72510388]),\n",
              " 'split2_test_roc_auc': array([0.70827572, 0.70762151, 0.70880211, 0.70971587, 0.70961926,\n",
              "        0.70867728, 0.70168013, 0.7014177 , 0.70246904]),\n",
              " 'split3_test_roc_auc': array([0.72688376, 0.72617818, 0.72604229, 0.72462918, 0.72260073,\n",
              "        0.72207315, 0.71725259, 0.71664745, 0.71708234]),\n",
              " 'split4_test_roc_auc': array([0.72095938, 0.72064975, 0.72098592, 0.7217625 , 0.72077272,\n",
              "        0.72045841, 0.71499513, 0.71508697, 0.71488645]),\n",
              " 'split5_test_roc_auc': array([0.72684948, 0.72581149, 0.72646519, 0.72242929, 0.72148323,\n",
              "        0.72085691, 0.72083582, 0.7199674 , 0.72008424]),\n",
              " 'split6_test_roc_auc': array([0.72207094, 0.72207094, 0.72219612, 0.72073751, 0.71977682,\n",
              "        0.71909336, 0.71934992, 0.71950708, 0.71898051]),\n",
              " 'split7_test_roc_auc': array([0.72371501, 0.72328556, 0.72360089, 0.7187481 , 0.71898485,\n",
              "        0.7191471 , 0.7170195 , 0.71667908, 0.71613627]),\n",
              " 'split8_test_roc_auc': array([0.71985256, 0.7195532 , 0.71974929, 0.72136142, 0.72010657,\n",
              "        0.71992946, 0.71790951, 0.71798888, 0.71724547]),\n",
              " 'split9_test_roc_auc': array([0.71401934, 0.71332629, 0.71314135, 0.71514097, 0.7141552 ,\n",
              "        0.71399586, 0.70496152, 0.70617528, 0.70604768]),\n",
              " 'mean_test_roc_auc': array([0.72146862, 0.72083826, 0.72111624, 0.7192495 , 0.7184324 ,\n",
              "        0.71806307, 0.71451406, 0.71419794, 0.71420373]),\n",
              " 'std_test_roc_auc': array([0.00771176, 0.00765622, 0.00757008, 0.00629708, 0.00595879,\n",
              "        0.00620246, 0.00742606, 0.00721305, 0.0071152 ]),\n",
              " 'rank_test_roc_auc': array([1, 3, 2, 4, 5, 6, 7, 9, 8], dtype=int32),\n",
              " 'split0_test_recall': array([0.95454545, 0.95353535, 0.95505051, 0.94848485, 0.9489899 ,\n",
              "        0.9489899 , 0.93838384, 0.93888889, 0.93535354]),\n",
              " 'split1_test_recall': array([0.96515152, 0.96565657, 0.96565657, 0.96111111, 0.96161616,\n",
              "        0.95959596, 0.94848485, 0.9479798 , 0.94646465]),\n",
              " 'split2_test_recall': array([0.95707071, 0.95707071, 0.9540404 , 0.95050505, 0.9469697 ,\n",
              "        0.94494949, 0.94444444, 0.94040404, 0.93838384]),\n",
              " 'split3_test_recall': array([0.95808081, 0.95555556, 0.95252525, 0.95757576, 0.9520202 ,\n",
              "        0.9489899 , 0.9459596 , 0.94343434, 0.94191919]),\n",
              " 'split4_test_recall': array([0.95858586, 0.95909091, 0.95909091, 0.95808081, 0.95707071,\n",
              "        0.95353535, 0.94848485, 0.94949495, 0.9469697 ]),\n",
              " 'split5_test_recall': array([0.95505051, 0.95050505, 0.9520202 , 0.95050505, 0.95050505,\n",
              "        0.94747475, 0.9469697 , 0.94242424, 0.94292929]),\n",
              " 'split6_test_recall': array([0.96515152, 0.96161616, 0.96363636, 0.95606061, 0.95505051,\n",
              "        0.95505051, 0.95050505, 0.9479798 , 0.9479798 ]),\n",
              " 'split7_test_recall': array([0.95656566, 0.95757576, 0.95505051, 0.94747475, 0.9479798 ,\n",
              "        0.94292929, 0.94646465, 0.94646465, 0.94545455]),\n",
              " 'split8_test_recall': array([0.96766043, 0.96513391, 0.96260738, 0.95957554, 0.95805963,\n",
              "        0.9560384 , 0.94997473, 0.9469429 , 0.94593229]),\n",
              " 'split9_test_recall': array([0.95755432, 0.9560384 , 0.95452249, 0.95957554, 0.95704901,\n",
              "        0.95805963, 0.94441637, 0.94290045, 0.94138454]),\n",
              " 'mean_test_recall': array([0.95954168, 0.95817784, 0.95742006, 0.95489491, 0.95353107,\n",
              "        0.95156132, 0.94640881, 0.94469141, 0.94327714]),\n",
              " 'std_test_recall': array([0.00442659, 0.00458738, 0.00469412, 0.00485637, 0.00467996,\n",
              "        0.00539492, 0.00332961, 0.00338959, 0.00387267]),\n",
              " 'rank_test_recall': array([1, 2, 3, 4, 5, 6, 7, 8, 9], dtype=int32),\n",
              " 'split0_test_precision': array([0.27579162, 0.27626573, 0.27686676, 0.27528584, 0.27599882,\n",
              "        0.27599882, 0.27710664, 0.27841845, 0.27841251]),\n",
              " 'split1_test_precision': array([0.27647569, 0.27702115, 0.27778585, 0.28059569, 0.28194876,\n",
              "        0.28202464, 0.27946429, 0.27973174, 0.28074906]),\n",
              " 'split2_test_precision': array([0.27416088, 0.27467749, 0.27496361, 0.27741745, 0.27732584,\n",
              "        0.27792632, 0.27852249, 0.27861739, 0.27847722]),\n",
              " 'split3_test_precision': array([0.27746087, 0.27790834, 0.27788419, 0.28030751, 0.28046422,\n",
              "        0.27998808, 0.28005383, 0.28064904, 0.28150943]),\n",
              " 'split4_test_precision': array([0.27854417, 0.27865004, 0.2797584 , 0.28037245, 0.28082395,\n",
              "        0.28078525, 0.28274616, 0.28291949, 0.28336104]),\n",
              " 'split5_test_precision': array([0.27513458, 0.2751462 , 0.27749154, 0.27968495, 0.28068606,\n",
              "        0.28088037, 0.2816161 , 0.28204353, 0.28322209]),\n",
              " 'split6_test_precision': array([0.27655572, 0.27594203, 0.27696327, 0.27570638, 0.27646199,\n",
              "        0.27735406, 0.27881481, 0.27877618, 0.27973174]),\n",
              " 'split7_test_precision': array([0.27497096, 0.27582194, 0.27585704, 0.27632936, 0.27762165,\n",
              "        0.27803425, 0.28117029, 0.28163511, 0.28256604]),\n",
              " 'split8_test_precision': array([0.2769342 , 0.2770927 , 0.27725222, 0.28004719, 0.28051487,\n",
              "        0.2804625 , 0.281395  , 0.28159279, 0.28252339]),\n",
              " 'split9_test_precision': array([0.27427992, 0.27532014, 0.27544474, 0.27860915, 0.27914517,\n",
              "        0.27952234, 0.27754678, 0.27871546, 0.27931034]),\n",
              " 'mean_test_precision': array([0.27603086, 0.27638458, 0.27702676, 0.2784356 , 0.27909913,\n",
              "        0.27929766, 0.27984364, 0.28030992, 0.28098629]),\n",
              " 'std_test_precision': array([0.00134898, 0.00120284, 0.00131139, 0.00197363, 0.00198438,\n",
              "        0.00179374, 0.00177459, 0.00158125, 0.00182014]),\n",
              " 'rank_test_precision': array([9, 8, 7, 6, 5, 4, 3, 2, 1], dtype=int32),\n",
              " 'split0_test_score_metier': array([-5863., -5866., -5829., -5964., -5939., -5939., -6067., -6028.,\n",
              "        -6080.]),\n",
              " 'split1_test_score_metier': array([-5691., -5670., -5651., -5649., -5609., -5637., -5862., -5863.,\n",
              "        -5861.]),\n",
              " 'split2_test_score_metier': array([-5867., -5854., -5891., -5882., -5936., -5951., -5944., -6001.,\n",
              "        -6034.]),\n",
              " 'split3_test_score_metier': array([-5770., -5796., -5841., -5708., -5786., -5842., -5885., -5908.,\n",
              "        -5910.]),\n",
              " 'split4_test_score_metier': array([-5736., -5726., -5699., -5699., -5703., -5756., -5784., -5765.,\n",
              "        -5792.]),\n",
              " 'split5_test_score_metier': array([-5872., -5938., -5858., -5827., -5803., -5843., -5833., -5890.,\n",
              "        -5855.]),\n",
              " 'split6_test_score_metier': array([-5689., -5756., -5701., -5843., -5839., -5817., -5848., -5886.,\n",
              "        -5863.]),\n",
              " 'split7_test_score_metier': array([-5854., -5818., -5854., -5953., -5914., -5978., -5851., -5840.,\n",
              "        -5833.]),\n",
              " 'split8_test_score_metier': array([-5640., -5673., -5706., -5682., -5693., -5724., -5791., -5831.,\n",
              "        -5824.]),\n",
              " 'split9_test_score_metier': array([-5854., -5850., -5869., -5717., -5741., -5717., -5965., -5959.,\n",
              "        -5967.]),\n",
              " 'mean_test_score_metier': array([-5783.6, -5794.7, -5789.9, -5792.4, -5796.3, -5820.4, -5883. ,\n",
              "        -5897.1, -5901.9]),\n",
              " 'std_test_score_metier': array([ 84.60638274,  83.25629105,  84.7719883 , 110.14009261,\n",
              "        106.4058739 , 107.10574214,  82.31646251,  76.35240664,\n",
              "         90.41731029]),\n",
              " 'rank_test_score_metier': array([1, 4, 2, 3, 5, 6, 7, 8, 9], dtype=int32)}"
            ]
          },
          "metadata": {},
          "execution_count": 405
        }
      ],
      "source": [
        "cv_results"
      ]
    },
    {
      "cell_type": "code",
      "execution_count": 406,
      "metadata": {
        "id": "wUWR7msz4V_F"
      },
      "outputs": [],
      "source": [
        "if option != 2:\n",
        "  best_model = Pipe_0['grid_search_' + model].best_estimator_\n",
        "else :\n",
        "  best_model = Pipe_0['gridsearchcv'].best_estimator_\n"
      ]
    },
    {
      "cell_type": "code",
      "execution_count": 407,
      "metadata": {
        "id": "iuV3dca7qUiX"
      },
      "outputs": [],
      "source": [
        "if option !=2:\n",
        "  mlflow.sklearn.log_model(best_model, 'model_classification_credit')\n",
        "else :\n",
        "  mlflow.sklearn.log_model(best_model[id_model], 'model_classification_credit')"
      ]
    },
    {
      "cell_type": "markdown",
      "metadata": {
        "id": "EjDAjciTqrRQ"
      },
      "source": [
        "\n",
        "OU\n",
        "```\n",
        "if option != 2:\n",
        "  best_model = Pipe_0['grid_search_' + model].best_estimator_\n",
        "else :\n",
        "  best_model = Pipe_0['gridsearchcv'].best_estimator_\n",
        "\n",
        "model_path = \"/content/P7_NC/best_model.pkl\"\n",
        "joblib.dump(best_model, model_path)\n",
        "\n",
        "mlflow.log_artifact(model_path, artifact_path=\"my_model\")\n",
        "```\n",
        "\n"
      ]
    },
    {
      "cell_type": "markdown",
      "metadata": {
        "id": "V_rAViA9YVgF"
      },
      "source": [
        "# <a name=\"C4\"> 4. Score sur le jeu test </a>"
      ]
    },
    {
      "cell_type": "markdown",
      "metadata": {
        "id": "DbUPo79_fjj7"
      },
      "source": [
        "## <a name=\"C41\"> 4.1 Matrice de confusion et rapport de classification <a>"
      ]
    },
    {
      "cell_type": "code",
      "execution_count": 408,
      "metadata": {
        "id": "JfMcQxZPpxiS"
      },
      "outputs": [],
      "source": [
        "y_pred_proba = Pipe_0.predict_proba(Xtest)\n",
        "y_pred = ((y_pred_proba[:,1] >= threshold).astype(int)).astype(str)"
      ]
    },
    {
      "cell_type": "code",
      "execution_count": 409,
      "metadata": {
        "id": "e9aKw28I5uN9",
        "colab": {
          "base_uri": "https://localhost:8080/",
          "height": 412
        },
        "outputId": "aa796186-cf00-420a-b5bc-cb1b1bfc65f5"
      },
      "outputs": [
        {
          "output_type": "display_data",
          "data": {
            "text/plain": [
              "<Figure size 600x400 with 2 Axes>"
            ],
            "image/png": "[encoded data removed]"
          },
          "metadata": {}
        }
      ],
      "source": [
        "# Assuming 'ytest' is the true target labels and 'y_pred' are the predicted labels\n",
        "cf = confusion_matrix(ytest, y_pred)\n",
        "df_cm = pd.DataFrame(cf, index = [label for label in ['Sans risque', 'Risqué']],\n",
        "                  columns = [i for i in \"01\"])\n",
        "\n",
        "\n",
        "def format_confusion_matrix(value):\n",
        "    return str(int(np.round(value)))\n",
        "df_annot = df_cm.applymap(format_confusion_matrix)\n",
        "\n",
        "plt.figure(figsize = (6,4))\n",
        "sns.heatmap(df_cm, cmap='coolwarm', annot=df_annot, fmt='', linewidth=1)\n",
        "plt.title('Matrice de confusion \\n modèle '+str(option)+'_'+model.split()[0])\n",
        "plt.savefig('/content/P7_NC/CF_Option'+str(option)+'_'+model.split()[0]+'_itération'+str(it)+'.png',  bbox_inches = 'tight')\n",
        "mlflow.log_artifact('/content/P7_NC/CF_Option'+str(option)+'_'+model.split()[0]+'_itération'+str(it)+'.png')\n"
      ]
    },
    {
      "cell_type": "code",
      "execution_count": 410,
      "metadata": {
        "id": "pFFqnv5D6Bx0",
        "colab": {
          "base_uri": "https://localhost:8080/"
        },
        "outputId": "9b595425-9f17-4a08-ba6a-b18da36d0d9f"
      },
      "outputs": [
        {
          "output_type": "stream",
          "name": "stdout",
          "text": [
            "Classification Report:\n",
            "              precision    recall  f1-score   support\n",
            "\n",
            "           0       0.93      0.15      0.26     14849\n",
            "           1       0.27      0.96      0.43      4949\n",
            "\n",
            "    accuracy                           0.36     19798\n",
            "   macro avg       0.60      0.56      0.35     19798\n",
            "weighted avg       0.76      0.36      0.30     19798\n",
            "\n"
          ]
        }
      ],
      "source": [
        "class_report = metrics.classification_report(ytest, y_pred)\n",
        "\n",
        "print(\"Classification Report:\")\n",
        "print(class_report)\n",
        "mlflow.log_text(class_report, \"classification_report.txt\")\n",
        "mlflow.log_metrics({'score_metier' : fonction_cout(ytest, y_pred_proba[:,1])})"
      ]
    },
    {
      "cell_type": "markdown",
      "metadata": {
        "id": "nXeizqiQfwnN"
      },
      "source": [
        "## <a name=\"C42\"> 4.2 Courbe ROC <a>"
      ]
    },
    {
      "cell_type": "code",
      "execution_count": 411,
      "metadata": {
        "id": "FOt6syWg5nBR",
        "colab": {
          "base_uri": "https://localhost:8080/"
        },
        "outputId": "8dab1275-31cd-48db-8b14-7c829fdd939b"
      },
      "outputs": [
        {
          "output_type": "execute_result",
          "data": {
            "text/plain": [
              "array([0.7371245 , 0.86693634, 0.958866  , ..., 0.79569581, 0.96473406,\n",
              "       0.95035799])"
            ]
          },
          "metadata": {},
          "execution_count": 411
        }
      ],
      "source": [
        "y_pred_proba[:, 1] #Pour chaque individus testés, la probabilités d'appartenir à la classe 1"
      ]
    },
    {
      "cell_type": "code",
      "execution_count": 412,
      "metadata": {
        "id": "Wil9C-XTeWsg",
        "colab": {
          "base_uri": "https://localhost:8080/",
          "height": 586
        },
        "outputId": "ad1b8d55-fa80-46da-86e3-e07f34b62240"
      },
      "outputs": [
        {
          "output_type": "display_data",
          "data": {
            "text/plain": [
              "<Figure size 800x600 with 1 Axes>"
            ],
            "image/png": "[encoded data removed]"
          },
          "metadata": {}
        }
      ],
      "source": [
        "# Calcul de la  ROC curve\n",
        "fpr, tpr, thresholds = metrics.roc_curve(ytest,y_pred_proba[:, 1], pos_label = '1')\n",
        "\n",
        "# AUC\n",
        "auc = metrics.roc_auc_score(ytest, y_pred_proba[:, 1])\n",
        "mlflow.log_metrics({'AUC' : auc})\n",
        "\n",
        "#ROC CURVE\n",
        "fig, ax = plt.subplots(figsize=(8, 6))\n",
        "sns.lineplot(x=fpr, y=tpr, lw=2, label=f'ROC Curve (AUC = {auc:.2f})')\n",
        "sns.lineplot(x=[0, 1], y=[0, 1], color='gray', linestyle='--')\n",
        "ax.set_xlabel('False Positive Rate (FPR)')\n",
        "ax.set_ylabel('True Positive Rate (TPR)')\n",
        "plt.title('Receiver Operating Characteristic (ROC) Curve \\n modèle '+str(option)+'_'+model.split()[0])\n",
        "plt.legend(loc='lower right')\n",
        "plt.savefig('/content/P7_NC/P7_NC_ROC_CURVE'+str(option)+'_'+model.split()[0]+'.png')\n",
        "mlflow.log_artifact('/content/P7_NC/P7_NC_ROC_CURVE'+str(option)+'_'+model.split()[0]+'.png')"
      ]
    },
    {
      "cell_type": "code",
      "execution_count": 413,
      "metadata": {
        "id": "3p844b4XqJ7n"
      },
      "outputs": [],
      "source": [
        "mlflow.log_artifact('/content/P7_NC/P7_NC_ROC_CURVE'+str(option)+'_'+model.split()[0]+'.png')"
      ]
    },
    {
      "cell_type": "markdown",
      "metadata": {
        "id": "arB_d8Vcmtvv"
      },
      "source": [
        "la courbe ROC semble désigné un seuil optimal de classification à 0.42."
      ]
    },
    {
      "cell_type": "markdown",
      "metadata": {
        "id": "b-X7SMD2PhbM"
      },
      "source": [
        "Dans notre cas les faux positif pour la classe 0 coûtent cher. Les prêts qu'on accorde alors qu'ils ne seront pas remboursé. On veut que la précision de la classe 1 soit la plus élevé possible."
      ]
    },
    {
      "cell_type": "markdown",
      "metadata": {
        "id": "ocnB5PyPgQAA"
      },
      "source": [
        "Dans le cas du sous-échantillonage (option 1) : j'aimerais vérifier la performance du modèle validé sur les individus mis de côté. (Tous TARGET 0)"
      ]
    },
    {
      "cell_type": "code",
      "execution_count": 414,
      "metadata": {
        "id": "2WzuoR8ce6ny"
      },
      "outputs": [],
      "source": [
        "if (option == 1) | (option ==2):\n",
        "  ind_restant = df.index.difference(ind_tot)\n",
        "  #Vérification\n",
        "  print(len(ind_restant) +len(ind_tot) == len(df))\n",
        "  y_pred_proba_opt1 = Pipe_0.predict_proba(df.loc[ind_restant])\n",
        "  y_pred_opt1 = ((y_pred_proba_opt1[:,1] >= threshold).astype(int)).astype(str)\n",
        "  # Matrice de confusion\n",
        "  ytest_opt1 = y_['TARGET'].loc[ind_restant]\n",
        "  cf = confusion_matrix(ytest_opt1, y_pred_opt1)\n",
        "  df_cm = pd.DataFrame(cf, index = [label for label in ['Sans risque', 'Risqué']],\n",
        "                  columns = [i for i in \"01\"])\n",
        "  df_annot = df_cm.applymap(format_confusion_matrix)\n",
        "  plt.figure(figsize = (6,4))\n",
        "  sns.heatmap(df_cm, cmap='coolwarm', annot=df_annot, fmt='', linewidth=1)\n",
        "  plt.title('Matrice de confusion \\n modèle '+str(option)+'_'+model.split()[0]+',dataset restant')\n",
        "  plt.savefig('/content/P7_NC/CF_Option'+str(option)+'_'+model.split()[0]+'_itération'+str(it)+'data_restant.png',  bbox_inches = 'tight')\n",
        "  mlflow.log_artifact('/content/P7_NC/CF_Option'+str(option)+'_'+model.split()[0]+'_itération'+str(it)+'data_restant.png')"
      ]
    },
    {
      "cell_type": "code",
      "execution_count": 415,
      "metadata": {
        "id": "GR8KsUKJe_T-"
      },
      "outputs": [],
      "source": [
        "if (option == 1) | (option ==2):\n",
        "  class_report = metrics.classification_report(ytest_opt1, y_pred_opt1)\n",
        "  print(\"Classification Report:\")\n",
        "  print(class_report)\n",
        "  fonction_cout(ytest_opt1, y_pred_proba_opt1[:,1])\n",
        "  mlflow.log_text(class_report, \"classification_report_dataset_restant.txt\")\n",
        "  mlflow.log_metrics({'score_metier_dataset_restant' : fonction_cout(ytest, y_pred_proba[:,1])})"
      ]
    },
    {
      "cell_type": "markdown",
      "metadata": {
        "id": "BTPwkhq0o46I"
      },
      "source": [
        "# <a name=\"C5\"> 5. Feature importance </a>"
      ]
    },
    {
      "cell_type": "code",
      "execution_count": 416,
      "metadata": {
        "id": "7imTK1WR_2nQ"
      },
      "outputs": [],
      "source": [
        "import shap"
      ]
    },
    {
      "cell_type": "code",
      "execution_count": 417,
      "metadata": {
        "id": "tYh_8sCF_Hv4"
      },
      "outputs": [],
      "source": [
        "models_dict[model][3]\n",
        "if models_dict[model][3] == 'coeff':\n",
        "  if option !=2:\n",
        "    weight_feat = Pipe_0['grid_search_' + model].best_estimator_.coef_\n",
        "    weight_feat\n",
        "  else :\n",
        "    best_estimator = Pipe_0['gridsearchcv'].best_estimator_\n",
        "    weight_feat = best_estimator[id_model].coef_\n",
        "    weight_feat\n",
        "  new_col = X_new_transformed.columns\n",
        "  feat_imp = pd.DataFrame(columns =new_col,\n",
        "                        data = weight_feat)\n",
        "  feat_imp.index = [model.split()[0]+'_option'+str(option)]\n",
        "  feat_imp\n",
        "  fig, ax = plt.subplots(figsize = (10,8))\n",
        "  sns.set()\n",
        "  sns.barplot(data = feat_imp, orient= 'h')\n",
        "  ax.set_xlabel('\\u03b8 (vecteur poids)')  # Unicode representation for theta symbol\n",
        "  ax.set_ylabel('Variables')\n",
        "  plt.title('Étude de feature importance pour le modèle: \\n'+'Option'+str(option)+'_'+model.split()[0]+'_itération'+str(it) )\n",
        "  plt.tight_layout()  # Adjust the layout to prevent label overlapping\n",
        "  plt.savefig('/content/P7_NC/Feat_Option'+str(option)+'_'+model.split()[0]+'_itération'+str(it)+'.png', bbox_inches = 'tight')\n",
        "  mlflow.log_artifact('/content/P7_NC/Feat_Option'+str(option)+'_'+model.split()[0]+'_itération'+str(it)+'.png')"
      ]
    },
    {
      "cell_type": "code",
      "execution_count": 418,
      "metadata": {
        "id": "3HBruqAU_NHW",
        "colab": {
          "base_uri": "https://localhost:8080/",
          "height": 54
        },
        "outputId": "6c512961-ae66-4faa-cd57-37c91b576699"
      },
      "outputs": [
        {
          "output_type": "display_data",
          "data": {
            "text/plain": [
              "<Figure size 800x550 with 2 Axes>"
            ],
            "image/png": "[encoded data removed]"
          },
          "metadata": {}
        }
      ],
      "source": [
        "if models_dict[model][3] == 'shap':\n",
        "  Xtest_transformed = preprocessor.transform(Xtest)\n",
        "  if models_dict[model][4] == 'tree':\n",
        "    if option == 2:\n",
        "      explainer = shap.TreeExplainer(best_model[id_model])\n",
        "    else :\n",
        "      explainer = shap.TreeExplainer(best_model)\n",
        "    shap_values = explainer(Xtest_transformed)\n",
        "    shap.summary_plot(shap_values[:, :, 1],  max_display=10, show = False)\n",
        "    plt.title('Analyse de feature importance \\n modèle '+model)\n",
        "    plt.savefig('/content/P7_NC/Feat_Option'+str(option)+'_'+model.split()[0]+'_itération'+str(it)+'.png', bbox_inches = 'tight')\n",
        "\n",
        "  else :\n",
        "    explainer = shap.Explainer(best_model)\n",
        "    shap_values = explainer.shap_values(Xtest_transformed)\n",
        "    shap.plots.bar(shap_values[1], max_display=10, show = False)\n",
        "    plt.title('Analyse de feature importance \\n modèle '+model)\n",
        "    plt.savefig('/content/P7_NC/Feat_Option'+str(option)+'_'+model.split()[0]+'_itération'+str(it)+'.png', bbox_inches='tight')\n",
        "\n",
        "\n",
        "mlflow.log_artifact('/content/P7_NC/Feat_Option'+str(option)+'_'+model.split()[0]+'_itération'+str(it)+'.png')\n"
      ]
    },
    {
      "cell_type": "code",
      "source": [
        "if models_dict[model][3] == 'shap':\n",
        "  Xtest_transformed = preprocessor.transform(Xtest)\n",
        "  if models_dict[model][4] == 'tree':\n",
        "    if option == 2:\n",
        "      explainer = shap.TreeExplainer(best_model[id_model])\n",
        "    else :\n",
        "      explainer = shap.TreeExplainer(best_model)\n",
        "    shap_values = explainer(Xtest_transformed)\n",
        "    shap.plots.bar(shap_values[:, :, 1],  max_display=34, show = False)\n",
        "    plt.title('Analyse de feature importance \\n modèle '+model)\n",
        "    plt.savefig('/content/P7_NC/Feat_Option'+str(option)+'_'+model.split()[0]+'_itération'+str(it)+'_bar.png', bbox_inches = 'tight')\n",
        "\n",
        "  else :\n",
        "    explainer = shap.Explainer(best_model)\n",
        "    shap_values = explainer.shap_values(Xtest_transformed)\n",
        "    shap.plots.bar(shap_values[1], max_display=10, show = False)\n",
        "    plt.title('Analyse de feature importance \\n modèle '+model)\n",
        "    plt.savefig('/content/P7_NC/Feat_Option'+str(option)+'_'+model.split()[0]+'_itération'+str(it)+'_bar.png', bbox_inches='tight')\n",
        "\n",
        "\n",
        "mlflow.log_artifact('/content/P7_NC/Feat_Option'+str(option)+'_'+model.split()[0]+'_itération'+str(it)+'_bar.png')"
      ],
      "metadata": {
        "id": "stOLFA0az5bN",
        "colab": {
          "base_uri": "https://localhost:8080/",
          "height": 54
        },
        "outputId": "726a45b6-ffca-45f3-a99d-a4f239299aa9"
      },
      "execution_count": 419,
      "outputs": [
        {
          "output_type": "display_data",
          "data": {
            "text/plain": [
              "<Figure size 800x1700 with 1 Axes>"
            ],
            "image/png": "[encoded data removed]"
          },
          "metadata": {}
        }
      ]
    },
    {
      "cell_type": "markdown",
      "metadata": {
        "id": "5vatOUG_IPfE"
      },
      "source": [
        "**Itération 1** :\n",
        "\n",
        "Je choisie d'éliminer les features : REMB_ANNUEL, Je garde le one-hot encoding sur le NAME_INCOME_TYPE mais je supprimerait les features inutile : 'working', 'commercial associate'.\n",
        "\n",
        "\n",
        "---\n",
        "\n",
        "**Itération 2** :\n",
        "*   Pour la logistic regression : les features les plus pertinentes sont les RATIO_ENDETT(%), NOMBRE_CONTRAT_ACTIFS, CC NOMBRE RETRAIT MOYENCB_SOMMES_DUES_RETARD, CHARGES_ANNUELLES, CC_RATIO_CREDIT.\n",
        "\n",
        "À envisager : la suppression des features : Working, Commercial Associate.\n",
        "HEURE_APP, NBRE_ENFANT, GENRE.\n",
        "\n",
        "\n"
      ]
    },
    {
      "cell_type": "code",
      "execution_count": 420,
      "metadata": {
        "id": "r7yUTqTLIhkB"
      },
      "outputs": [],
      "source": [
        "mlflow.end_run()"
      ]
    },
    {
      "cell_type": "markdown",
      "metadata": {
        "id": "MgblHDsFpWnW"
      },
      "source": [
        "# <a name=\"C6\"> 6. Traitement pour MLFlow ui  </a>"
      ]
    },
    {
      "cell_type": "markdown",
      "metadata": {
        "id": "h_hvZ7scQ8Fq"
      },
      "source": [
        " - ## Téléchargement du meilleur modèle : LightGBM"
      ]
    },
    {
      "cell_type": "code",
      "execution_count": 107,
      "metadata": {
        "id": "UZjUfqmRYhD9"
      },
      "outputs": [],
      "source": [
        "import joblib\n",
        "\n",
        "if option !=2 :\n",
        "  joblib.dump(best_model, 'LightGBM_bestmodel.pkl')\n",
        "else :\n",
        "  joblib.dump(best_model[id_model], 'LightGBM_bestmodel.pkl')\n",
        "\n"
      ]
    },
    {
      "cell_type": "markdown",
      "metadata": {
        "id": "gauWCmS-pF1g"
      },
      "source": [
        "## Modifier les fichiers meta.yaml (chemin des artifacts à modifier)"
      ]
    },
    {
      "cell_type": "code",
      "execution_count": 421,
      "metadata": {
        "id": "bRt3VpfFpR91"
      },
      "outputs": [],
      "source": [
        "import os\n",
        "import yaml\n",
        "import shutil\n",
        "\n",
        "\n",
        "# Mon chemin en local\n",
        "local_folder_path = \"/Users/JoycyRobert/Documents/JUPYTER/OPC/PROJET_7/P7/\"\n",
        "\n",
        "# Le chemin du dossier mlruns sur google colab\n",
        "mlruns_path_on_drive = \"/content/mlruns\"\n",
        "\n",
        "# Modification des chemins au sein des fichiers meta.yaml\n",
        "for root, dirs, files in os.walk(mlruns_path_on_drive):\n",
        "    for file in files:\n",
        "        if file == \"meta.yaml\":\n",
        "            meta_yaml_path = os.path.join(root, file)\n",
        "            with open(meta_yaml_path, \"r\") as f:\n",
        "                meta_yaml_content = yaml.safe_load(f)\n",
        "\n",
        "            # Update 'artifact_location' if present\n",
        "            if 'artifact_location' in meta_yaml_content:\n",
        "                artifact_location = meta_yaml_content['artifact_location']\n",
        "                # Extract the partial path from the artifact_location\n",
        "                partial_path = artifact_location.split(\"/content/\")[-1]\n",
        "                # Combine with the local_folder_path to get the new artifact_location\n",
        "                new_artifact_location = os.path.join(local_folder_path, partial_path)\n",
        "                meta_yaml_content['artifact_location'] = new_artifact_location\n",
        "\n",
        "            # Update 'artifact_uri' if present\n",
        "            if 'artifact_uri' in meta_yaml_content:\n",
        "                artifact_uri = meta_yaml_content['artifact_uri']\n",
        "                # Extract the partial path from the artifact_uri\n",
        "                partial_path = artifact_uri.split(\"/content/\")[-1]\n",
        "                # Combine with the local_folder_path to get the new artifact_uri\n",
        "                new_artifact_uri = os.path.join(local_folder_path, partial_path)\n",
        "                meta_yaml_content['artifact_uri'] = new_artifact_uri\n",
        "\n",
        "            with open(meta_yaml_path, \"w\") as f:\n",
        "                yaml.dump(meta_yaml_content, f)\n"
      ]
    },
    {
      "cell_type": "markdown",
      "metadata": {
        "id": "Kj74Q3CXoklO"
      },
      "source": [
        "## Téléchargement du dossier"
      ]
    },
    {
      "cell_type": "code",
      "execution_count": 422,
      "metadata": {
        "colab": {
          "base_uri": "https://localhost:8080/",
          "height": 37
        },
        "id": "sFw5ESyYz_KF",
        "outputId": "ac0ae34b-ef9c-4d20-a2e8-3056c5c4c694"
      },
      "outputs": [
        {
          "output_type": "display_data",
          "data": {
            "text/plain": [
              "<IPython.core.display.Javascript object>"
            ],
            "application/javascript": [
              "\n",
              "    async function download(id, filename, size) {\n",
              "      if (!google.colab.kernel.accessAllowed) {\n",
              "        return;\n",
              "      }\n",
              "      const div = document.createElement('div');\n",
              "      const label = document.createElement('label');\n",
              "      label.textContent = `Downloading \"${filename}\": `;\n",
              "      div.appendChild(label);\n",
              "      const progress = document.createElement('progress');\n",
              "      progress.max = size;\n",
              "      div.appendChild(progress);\n",
              "      document.body.appendChild(div);\n",
              "\n",
              "      const buffers = [];\n",
              "      let downloaded = 0;\n",
              "\n",
              "      const channel = await google.colab.kernel.comms.open(id);\n",
              "      // Send a message to notify the kernel that we're ready.\n",
              "      channel.send({})\n",
              "\n",
              "      for await (const message of channel.messages) {\n",
              "        // Send a message to notify the kernel that we're ready.\n",
              "        channel.send({})\n",
              "        if (message.buffers) {\n",
              "          for (const buffer of message.buffers) {\n",
              "            buffers.push(buffer);\n",
              "            downloaded += buffer.byteLength;\n",
              "            progress.value = downloaded;\n",
              "          }\n",
              "        }\n",
              "      }\n",
              "      const blob = new Blob(buffers, {type: 'application/binary'});\n",
              "      const a = document.createElement('a');\n",
              "      a.href = window.URL.createObjectURL(blob);\n",
              "      a.download = filename;\n",
              "      div.appendChild(a);\n",
              "      a.click();\n",
              "      div.remove();\n",
              "    }\n",
              "  "
            ]
          },
          "metadata": {}
        },
        {
          "output_type": "display_data",
          "data": {
            "text/plain": [
              "<IPython.core.display.Javascript object>"
            ],
            "application/javascript": [
              "download(\"download_c993ef44-5f50-440e-9862-5a99730523af\", \"mlruns.zip\", 2828836)"
            ]
          },
          "metadata": {}
        }
      ],
      "source": [
        "import shutil\n",
        "\n",
        "# Replace 'folder_name' with the name of the folder you want to zip\n",
        "folder_name = 'mlruns'\n",
        "\n",
        "# Zip the folder\n",
        "shutil.make_archive(folder_name, 'zip', folder_name)\n",
        "\n",
        "# Download the zipped folder\n",
        "from google.colab import files\n",
        "files.download(f'{folder_name}.zip')"
      ]
    },
    {
      "cell_type": "markdown",
      "metadata": {
        "id": "4X6RDkg0om89"
      },
      "source": [
        "## Suppression du dossier mlruns"
      ]
    },
    {
      "cell_type": "code",
      "execution_count": null,
      "metadata": {
        "colab": {
          "base_uri": "https://localhost:8080/"
        },
        "id": "XHDEb_TLU5Mu",
        "outputId": "bb48dbd0-2a0d-4f01-9cb6-aa0b7f001f20"
      },
      "outputs": [
        {
          "output_type": "stream",
          "name": "stdout",
          "text": [
            "/content\n"
          ]
        }
      ],
      "source": [
        "import shutil\n",
        "import os\n",
        "print(os.getcwd())\n",
        "# Specify the path to the 'mlruns' directory\n",
        "mlruns_directory = './mlruns'\n",
        "\n",
        "# Delete the 'mlruns' directory and its contents\n",
        "shutil.rmtree(mlruns_directory, ignore_errors=True)\n",
        "\n",
        "#os.rmdir('/content/mlruns')"
      ]
    }
  ],
  "metadata": {
    "colab": {
      "collapsed_sections": [
        "6BsOmVS7EoCh",
        "MgblHDsFpWnW",
        "gauWCmS-pF1g",
        "Kj74Q3CXoklO",
        "4X6RDkg0om89"
      ],
      "provenance": []
    },
    "kernelspec": {
      "display_name": "Python 3",
      "name": "python3"
    },
    "language_info": {
      "name": "python"
    }
  },
  "nbformat": 4,
  "nbformat_minor": 0
}