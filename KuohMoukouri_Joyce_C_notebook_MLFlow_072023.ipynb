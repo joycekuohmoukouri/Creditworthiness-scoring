{
  "cells": [
    {
      "cell_type": "markdown",
      "metadata": {
        "id": "view-in-github",
        "colab_type": "text"
      },
      "source": [
        "<a href=\"https://colab.research.google.com/github/joycekuohmoukouri/creditworthiness-scoring/blob/main/KuohMoukouri_Joyce_C_notebook_MLFlow_072023.ipynb\" target=\"_parent\"><img src=\"https://colab.research.google.com/assets/colab-badge.svg\" alt=\"Open In Colab\"/></a>"
      ]
    },
    {
      "cell_type": "markdown",
      "metadata": {
        "id": "0ARWyPSdW7qO"
      },
      "source": [
        "# Projet 7 : Implémentez un modèle de scoring\n",
        "\n",
        "## NB C : Essais de classification binaire et tracking via MLFlow\n",
        "\n",
        "\n",
        "\n",
        "- <a href=\"#C1\"> 1. Importation des données</a>\n",
        "\n",
        "- <a href=\"#C2\"> 2. Pre-processing </a>\n",
        "\n",
        "- <a href=\"#C3\"> 3. Entraînement du modèle et score métier </a>\n",
        "\n",
        "- <a href=\"#C4\"> 4. Score sur le jeu test </a>\n",
        "  -  <a href=\"#C41\"> 4.1 Matrice de confusion et rapport de classification <a>\n",
        "  -  <a href=\"#C42\"> 4.2 Courbe ROC <a>\n",
        "\n",
        "- <a href=\"#C5\"> 5. Feature importance </a>\n",
        "\n",
        "- <a href=\"#C6\"> 6. Téléchargement des expériences MLFlow </a>\n",
        "\n"
      ]
    },
    {
      "cell_type": "code",
      "execution_count": null,
      "metadata": {
        "id": "WwqB0Ay7PLV5"
      },
      "outputs": [],
      "source": [
        "import pandas as pd\n",
        "import numpy as np\n",
        "import scipy.stats as stats\n",
        "import matplotlib.pyplot as plt\n",
        "import re\n",
        "import seaborn as sns\n",
        "import missingno as msno\n",
        "import clean #mon module de fontions qui me permettent de nettoyer un dataframe\n",
        "import plot_\n",
        "import joblib\n",
        "import os\n",
        "\n",
        "# Filter warnings\n",
        "import warnings\n",
        "warnings.filterwarnings('ignore')\n",
        "\n",
        "!pip install category_encoders --quiet\n",
        "!pip install mlflow --quiet\n",
        "!pip install imbalanced-learn --quiet\n",
        "!pip install lightgbm --quiet\n",
        "!pip install shap --quiet\n",
        "!pip install xgboost --quiet"
      ]
    },
    {
      "cell_type": "code",
      "execution_count": null,
      "metadata": {
        "id": "sUVRulJDEnhT"
      },
      "outputs": [],
      "source": [
        "from imblearn.over_sampling import SMOTE\n",
        "import sklearn\n",
        "from sklearn import model_selection\n",
        "from sklearn import metrics\n",
        "from sklearn import preprocessing\n",
        "from sklearn import linear_model\n",
        "from sklearn.pipeline import Pipeline\n",
        "from sklearn.preprocessing import MinMaxScaler, OrdinalEncoder, RobustScaler,  StandardScaler, FunctionTransformer\n",
        "from sklearn.preprocessing import StandardScaler\n",
        "from sklearn.compose import ColumnTransformer, TransformedTargetRegressor\n",
        "from sklearn import set_config\n",
        "from category_encoders import *\n",
        "set_config(display=\"diagram\")\n",
        "from sklearn.linear_model import LogisticRegression\n",
        "from sklearn.tree import DecisionTreeClassifier\n",
        "from sklearn.ensemble import RandomForestClassifier, GradientBoostingClassifier, AdaBoostClassifier, ExtraTreesClassifier\n",
        "from sklearn.svm import SVC\n",
        "from sklearn.neighbors import KNeighborsClassifier\n",
        "from sklearn.naive_bayes import GaussianNB\n",
        "from sklearn.discriminant_analysis import LinearDiscriminantAnalysis\n",
        "from sklearn.dummy import DummyClassifier\n",
        "from lightgbm import LGBMClassifier\n",
        "from xgboost import XGBClassifier"
      ]
    },
    {
      "cell_type": "markdown",
      "metadata": {
        "id": "6BsOmVS7EoCh"
      },
      "source": [
        "# <a name=\"C1\"> 1. Importation des données</a>"
      ]
    },
    {
      "cell_type": "code",
      "execution_count": null,
      "metadata": {
        "colab": {
          "base_uri": "https://localhost:8080/",
          "height": 358
        },
        "id": "Rnhvl3aSEmIo",
        "outputId": "971ef536-b608-4f87-8898-46bc24942191"
      },
      "outputs": [
        {
          "output_type": "execute_result",
          "data": {
            "text/plain": [
              "  PROPRIETAIRE  NBRE_ENFANT  ANCIENNETE_CREDIT  CHARGES_ANNUEL  REVENUS_TOT  \\\n",
              "0            Y            0               47.0         24700.5     202500.0   \n",
              "1            N            0               77.0         35698.5     270000.0   \n",
              "2            Y            0               27.0          6750.0      67500.0   \n",
              "3            Y            0               19.0         29686.5     135000.0   \n",
              "4            Y            0               77.0         21865.5     121500.0   \n",
              "\n",
              "   MONTANT_CREDIT     OCCUPATION  CC_RATIO_CREDIT NIVEAU_ETUDE  AGE  ...  \\\n",
              "0        406597.5        Working              0.0          BAC   26  ...   \n",
              "1       1293502.5  State servant              0.0      ENS_SUP   47  ...   \n",
              "2        135000.0        Working              0.0          BAC   53  ...   \n",
              "3        312682.5        Working              0.0          BAC   53  ...   \n",
              "4        513000.0        Working              0.0          BAC   55  ...   \n",
              "\n",
              "   SCORE_REGION  HEURE_APP                SECTEUR_ACTIVITE SCORE_2_EXT  \\\n",
              "0             2         10                 Business Entity    0.262949   \n",
              "1             1         11                       Education    0.622246   \n",
              "2             2          9  Government and Public Services    0.555912   \n",
              "3             2         17                 Business Entity    0.650442   \n",
              "4             2         11                Other Categories    0.322738   \n",
              "\n",
              "   RATIO_ENDETT(%)  NBRE_CONTRAT_ACTIFS  NBRE_J_RETARD  POS_PROGRESS_MAX_MIN  \\\n",
              "0             12.2                  3.0            0.0             75.000000   \n",
              "1             13.2                  1.0            0.0             91.666667   \n",
              "2             10.0                  0.0            0.0            100.000000   \n",
              "3             22.0                  2.0            0.0             75.000000   \n",
              "4             18.0                  2.0            1.0             45.833333   \n",
              "\n",
              "   CC_NOMBRE_RETRAIT_MOYEN  CB_SOMME_DUES_RETARD  \n",
              "0                      0.0                   0.0  \n",
              "1                      0.0                   0.0  \n",
              "2                      0.0                   0.0  \n",
              "3                      0.0                   0.0  \n",
              "4                      0.0                   0.0  \n",
              "\n",
              "[5 rows x 21 columns]"
            ],
            "text/html": [
              "\n",
              "\n",
              "  <div id=\"df-2ca20cd3-6b4d-4c2c-aff7-ae3cd29b8830\">\n",
              "    <div class=\"colab-df-container\">\n",
              "      <div>\n",
              "<style scoped>\n",
              "    .dataframe tbody tr th:only-of-type {\n",
              "        vertical-align: middle;\n",
              "    }\n",
              "\n",
              "    .dataframe tbody tr th {\n",
              "        vertical-align: top;\n",
              "    }\n",
              "\n",
              "    .dataframe thead th {\n",
              "        text-align: right;\n",
              "    }\n",
              "</style>\n",
              "<table border=\"1\" class=\"dataframe\">\n",
              "  <thead>\n",
              "    <tr style=\"text-align: right;\">\n",
              "      <th></th>\n",
              "      <th>PROPRIETAIRE</th>\n",
              "      <th>NBRE_ENFANT</th>\n",
              "      <th>ANCIENNETE_CREDIT</th>\n",
              "      <th>CHARGES_ANNUEL</th>\n",
              "      <th>REVENUS_TOT</th>\n",
              "      <th>MONTANT_CREDIT</th>\n",
              "      <th>OCCUPATION</th>\n",
              "      <th>CC_RATIO_CREDIT</th>\n",
              "      <th>NIVEAU_ETUDE</th>\n",
              "      <th>AGE</th>\n",
              "      <th>...</th>\n",
              "      <th>SCORE_REGION</th>\n",
              "      <th>HEURE_APP</th>\n",
              "      <th>SECTEUR_ACTIVITE</th>\n",
              "      <th>SCORE_2_EXT</th>\n",
              "      <th>RATIO_ENDETT(%)</th>\n",
              "      <th>NBRE_CONTRAT_ACTIFS</th>\n",
              "      <th>NBRE_J_RETARD</th>\n",
              "      <th>POS_PROGRESS_MAX_MIN</th>\n",
              "      <th>CC_NOMBRE_RETRAIT_MOYEN</th>\n",
              "      <th>CB_SOMME_DUES_RETARD</th>\n",
              "    </tr>\n",
              "  </thead>\n",
              "  <tbody>\n",
              "    <tr>\n",
              "      <th>0</th>\n",
              "      <td>Y</td>\n",
              "      <td>0</td>\n",
              "      <td>47.0</td>\n",
              "      <td>24700.5</td>\n",
              "      <td>202500.0</td>\n",
              "      <td>406597.5</td>\n",
              "      <td>Working</td>\n",
              "      <td>0.0</td>\n",
              "      <td>BAC</td>\n",
              "      <td>26</td>\n",
              "      <td>...</td>\n",
              "      <td>2</td>\n",
              "      <td>10</td>\n",
              "      <td>Business Entity</td>\n",
              "      <td>0.262949</td>\n",
              "      <td>12.2</td>\n",
              "      <td>3.0</td>\n",
              "      <td>0.0</td>\n",
              "      <td>75.000000</td>\n",
              "      <td>0.0</td>\n",
              "      <td>0.0</td>\n",
              "    </tr>\n",
              "    <tr>\n",
              "      <th>1</th>\n",
              "      <td>N</td>\n",
              "      <td>0</td>\n",
              "      <td>77.0</td>\n",
              "      <td>35698.5</td>\n",
              "      <td>270000.0</td>\n",
              "      <td>1293502.5</td>\n",
              "      <td>State servant</td>\n",
              "      <td>0.0</td>\n",
              "      <td>ENS_SUP</td>\n",
              "      <td>47</td>\n",
              "      <td>...</td>\n",
              "      <td>1</td>\n",
              "      <td>11</td>\n",
              "      <td>Education</td>\n",
              "      <td>0.622246</td>\n",
              "      <td>13.2</td>\n",
              "      <td>1.0</td>\n",
              "      <td>0.0</td>\n",
              "      <td>91.666667</td>\n",
              "      <td>0.0</td>\n",
              "      <td>0.0</td>\n",
              "    </tr>\n",
              "    <tr>\n",
              "      <th>2</th>\n",
              "      <td>Y</td>\n",
              "      <td>0</td>\n",
              "      <td>27.0</td>\n",
              "      <td>6750.0</td>\n",
              "      <td>67500.0</td>\n",
              "      <td>135000.0</td>\n",
              "      <td>Working</td>\n",
              "      <td>0.0</td>\n",
              "      <td>BAC</td>\n",
              "      <td>53</td>\n",
              "      <td>...</td>\n",
              "      <td>2</td>\n",
              "      <td>9</td>\n",
              "      <td>Government and Public Services</td>\n",
              "      <td>0.555912</td>\n",
              "      <td>10.0</td>\n",
              "      <td>0.0</td>\n",
              "      <td>0.0</td>\n",
              "      <td>100.000000</td>\n",
              "      <td>0.0</td>\n",
              "      <td>0.0</td>\n",
              "    </tr>\n",
              "    <tr>\n",
              "      <th>3</th>\n",
              "      <td>Y</td>\n",
              "      <td>0</td>\n",
              "      <td>19.0</td>\n",
              "      <td>29686.5</td>\n",
              "      <td>135000.0</td>\n",
              "      <td>312682.5</td>\n",
              "      <td>Working</td>\n",
              "      <td>0.0</td>\n",
              "      <td>BAC</td>\n",
              "      <td>53</td>\n",
              "      <td>...</td>\n",
              "      <td>2</td>\n",
              "      <td>17</td>\n",
              "      <td>Business Entity</td>\n",
              "      <td>0.650442</td>\n",
              "      <td>22.0</td>\n",
              "      <td>2.0</td>\n",
              "      <td>0.0</td>\n",
              "      <td>75.000000</td>\n",
              "      <td>0.0</td>\n",
              "      <td>0.0</td>\n",
              "    </tr>\n",
              "    <tr>\n",
              "      <th>4</th>\n",
              "      <td>Y</td>\n",
              "      <td>0</td>\n",
              "      <td>77.0</td>\n",
              "      <td>21865.5</td>\n",
              "      <td>121500.0</td>\n",
              "      <td>513000.0</td>\n",
              "      <td>Working</td>\n",
              "      <td>0.0</td>\n",
              "      <td>BAC</td>\n",
              "      <td>55</td>\n",
              "      <td>...</td>\n",
              "      <td>2</td>\n",
              "      <td>11</td>\n",
              "      <td>Other Categories</td>\n",
              "      <td>0.322738</td>\n",
              "      <td>18.0</td>\n",
              "      <td>2.0</td>\n",
              "      <td>1.0</td>\n",
              "      <td>45.833333</td>\n",
              "      <td>0.0</td>\n",
              "      <td>0.0</td>\n",
              "    </tr>\n",
              "  </tbody>\n",
              "</table>\n",
              "<p>5 rows × 21 columns</p>\n",
              "</div>\n",
              "      <button class=\"colab-df-convert\" onclick=\"convertToInteractive('df-2ca20cd3-6b4d-4c2c-aff7-ae3cd29b8830')\"\n",
              "              title=\"Convert this dataframe to an interactive table.\"\n",
              "              style=\"display:none;\">\n",
              "\n",
              "  <svg xmlns=\"http://www.w3.org/2000/svg\" height=\"24px\"viewBox=\"0 0 24 24\"\n",
              "       width=\"24px\">\n",
              "    <path d=\"M0 0h24v24H0V0z\" fill=\"none\"/>\n",
              "    <path d=\"M18.56 5.44l.94 2.06.94-2.06 2.06-.94-2.06-.94-.94-2.06-.94 2.06-2.06.94zm-11 1L8.5 8.5l.94-2.06 2.06-.94-2.06-.94L8.5 2.5l-.94 2.06-2.06.94zm10 10l.94 2.06.94-2.06 2.06-.94-2.06-.94-.94-2.06-.94 2.06-2.06.94z\"/><path d=\"M17.41 7.96l-1.37-1.37c-.4-.4-.92-.59-1.43-.59-.52 0-1.04.2-1.43.59L10.3 9.45l-7.72 7.72c-.78.78-.78 2.05 0 2.83L4 21.41c.39.39.9.59 1.41.59.51 0 1.02-.2 1.41-.59l7.78-7.78 2.81-2.81c.8-.78.8-2.07 0-2.86zM5.41 20L4 18.59l7.72-7.72 1.47 1.35L5.41 20z\"/>\n",
              "  </svg>\n",
              "      </button>\n",
              "\n",
              "\n",
              "\n",
              "    <div id=\"df-69bad761-d4f8-4b45-a591-4774abc353fa\">\n",
              "      <button class=\"colab-df-quickchart\" onclick=\"quickchart('df-69bad761-d4f8-4b45-a591-4774abc353fa')\"\n",
              "              title=\"Suggest charts.\"\n",
              "              style=\"display:none;\">\n",
              "\n",
              "<svg xmlns=\"http://www.w3.org/2000/svg\" height=\"24px\"viewBox=\"0 0 24 24\"\n",
              "     width=\"24px\">\n",
              "    <g>\n",
              "        <path d=\"M19 3H5c-1.1 0-2 .9-2 2v14c0 1.1.9 2 2 2h14c1.1 0 2-.9 2-2V5c0-1.1-.9-2-2-2zM9 17H7v-7h2v7zm4 0h-2V7h2v10zm4 0h-2v-4h2v4z\"/>\n",
              "    </g>\n",
              "</svg>\n",
              "      </button>\n",
              "    </div>\n",
              "\n",
              "<style>\n",
              "  .colab-df-quickchart {\n",
              "    background-color: #E8F0FE;\n",
              "    border: none;\n",
              "    border-radius: 50%;\n",
              "    cursor: pointer;\n",
              "    display: none;\n",
              "    fill: #1967D2;\n",
              "    height: 32px;\n",
              "    padding: 0 0 0 0;\n",
              "    width: 32px;\n",
              "  }\n",
              "\n",
              "  .colab-df-quickchart:hover {\n",
              "    background-color: #E2EBFA;\n",
              "    box-shadow: 0px 1px 2px rgba(60, 64, 67, 0.3), 0px 1px 3px 1px rgba(60, 64, 67, 0.15);\n",
              "    fill: #174EA6;\n",
              "  }\n",
              "\n",
              "  [theme=dark] .colab-df-quickchart {\n",
              "    background-color: #3B4455;\n",
              "    fill: #D2E3FC;\n",
              "  }\n",
              "\n",
              "  [theme=dark] .colab-df-quickchart:hover {\n",
              "    background-color: #434B5C;\n",
              "    box-shadow: 0px 1px 3px 1px rgba(0, 0, 0, 0.15);\n",
              "    filter: drop-shadow(0px 1px 2px rgba(0, 0, 0, 0.3));\n",
              "    fill: #FFFFFF;\n",
              "  }\n",
              "</style>\n",
              "\n",
              "    <script>\n",
              "      async function quickchart(key) {\n",
              "        const containerElement = document.querySelector('#' + key);\n",
              "        const charts = await google.colab.kernel.invokeFunction(\n",
              "            'suggestCharts', [key], {});\n",
              "      }\n",
              "    </script>\n",
              "\n",
              "      <script>\n",
              "\n",
              "function displayQuickchartButton(domScope) {\n",
              "  let quickchartButtonEl =\n",
              "    domScope.querySelector('#df-69bad761-d4f8-4b45-a591-4774abc353fa button.colab-df-quickchart');\n",
              "  quickchartButtonEl.style.display =\n",
              "    google.colab.kernel.accessAllowed ? 'block' : 'none';\n",
              "}\n",
              "\n",
              "        displayQuickchartButton(document);\n",
              "      </script>\n",
              "      <style>\n",
              "    .colab-df-container {\n",
              "      display:flex;\n",
              "      flex-wrap:wrap;\n",
              "      gap: 12px;\n",
              "    }\n",
              "\n",
              "    .colab-df-convert {\n",
              "      background-color: #E8F0FE;\n",
              "      border: none;\n",
              "      border-radius: 50%;\n",
              "      cursor: pointer;\n",
              "      display: none;\n",
              "      fill: #1967D2;\n",
              "      height: 32px;\n",
              "      padding: 0 0 0 0;\n",
              "      width: 32px;\n",
              "    }\n",
              "\n",
              "    .colab-df-convert:hover {\n",
              "      background-color: #E2EBFA;\n",
              "      box-shadow: 0px 1px 2px rgba(60, 64, 67, 0.3), 0px 1px 3px 1px rgba(60, 64, 67, 0.15);\n",
              "      fill: #174EA6;\n",
              "    }\n",
              "\n",
              "    [theme=dark] .colab-df-convert {\n",
              "      background-color: #3B4455;\n",
              "      fill: #D2E3FC;\n",
              "    }\n",
              "\n",
              "    [theme=dark] .colab-df-convert:hover {\n",
              "      background-color: #434B5C;\n",
              "      box-shadow: 0px 1px 3px 1px rgba(0, 0, 0, 0.15);\n",
              "      filter: drop-shadow(0px 1px 2px rgba(0, 0, 0, 0.3));\n",
              "      fill: #FFFFFF;\n",
              "    }\n",
              "  </style>\n",
              "\n",
              "      <script>\n",
              "        const buttonEl =\n",
              "          document.querySelector('#df-2ca20cd3-6b4d-4c2c-aff7-ae3cd29b8830 button.colab-df-convert');\n",
              "        buttonEl.style.display =\n",
              "          google.colab.kernel.accessAllowed ? 'block' : 'none';\n",
              "\n",
              "        async function convertToInteractive(key) {\n",
              "          const element = document.querySelector('#df-2ca20cd3-6b4d-4c2c-aff7-ae3cd29b8830');\n",
              "          const dataTable =\n",
              "            await google.colab.kernel.invokeFunction('convertToInteractive',\n",
              "                                                     [key], {});\n",
              "          if (!dataTable) return;\n",
              "\n",
              "          const docLinkHtml = 'Like what you see? Visit the ' +\n",
              "            '<a target=\"_blank\" href=https://colab.research.google.com/notebooks/data_table.ipynb>data table notebook</a>'\n",
              "            + ' to learn more about interactive tables.';\n",
              "          element.innerHTML = '';\n",
              "          dataTable['output_type'] = 'display_data';\n",
              "          await google.colab.output.renderOutput(dataTable, element);\n",
              "          const docLink = document.createElement('div');\n",
              "          docLink.innerHTML = docLinkHtml;\n",
              "          element.appendChild(docLink);\n",
              "        }\n",
              "      </script>\n",
              "    </div>\n",
              "  </div>\n"
            ]
          },
          "metadata": {},
          "execution_count": 3
        }
      ],
      "source": [
        "it = 2 # 1, 2 première itération pour le choix des features\n",
        "selected_features = [#'GENRE',\n",
        "                     'PROPRIETAIRE', 'NBRE_ENFANT',\n",
        "       'ANCIENNETE_CREDIT', 'CHARGES_ANNUEL', 'REVENUS_TOT', 'MONTANT_CREDIT',\n",
        "       'OCCUPATION', 'CC_RATIO_CREDIT', 'NIVEAU_ETUDE', 'AGE',\n",
        "       'ANCIENNETE_EMPLOI', 'SCORE_REGION', 'HEURE_APP', 'SECTEUR_ACTIVITE',\n",
        "       'SCORE_2_EXT', 'RATIO_ENDETT(%)', 'NBRE_CONTRAT_ACTIFS',\n",
        "       'NBRE_J_RETARD', 'POS_PROGRESS_MAX_MIN', 'CC_NOMBRE_RETRAIT_MOYEN',\n",
        "       'CB_SOMME_DUES_RETARD']\n",
        "df = pd.read_csv('/content/df_it_1.csv',\n",
        "                 usecols = selected_features,\n",
        "                 dtype={'GENRE': 'object'\n",
        "                      })\n",
        "id_clients = pd.read_csv('/content/df_it_1.csv',\n",
        "                 usecols = ['SK_ID_CURR'],\n",
        "                 dtype={'SK_ID_CURR' : 'object',\n",
        "                      })\n",
        "y_ = pd.read_csv('/content/df_it_1.csv',\n",
        "                 usecols = ['TARGET'],\n",
        "                dtype={'TARGET' :  'object'\n",
        "                      })\n",
        "df.head()"
      ]
    },
    {
      "cell_type": "code",
      "execution_count": null,
      "metadata": {
        "colab": {
          "base_uri": "https://localhost:8080/",
          "height": 312
        },
        "id": "U9qxoPmX6lfb",
        "outputId": "67ce28d4-a75a-459b-e662-8665b29b53ac"
      },
      "outputs": [
        {
          "output_type": "execute_result",
          "data": {
            "text/plain": [
              "  TARGET\n",
              "0      1\n",
              "1      0\n",
              "2      0\n",
              "3      0\n",
              "4      0"
            ],
            "text/html": [
              "\n",
              "\n",
              "  <div id=\"df-818e5950-ba86-4f0e-973f-e16e05511b82\">\n",
              "    <div class=\"colab-df-container\">\n",
              "      <div>\n",
              "<style scoped>\n",
              "    .dataframe tbody tr th:only-of-type {\n",
              "        vertical-align: middle;\n",
              "    }\n",
              "\n",
              "    .dataframe tbody tr th {\n",
              "        vertical-align: top;\n",
              "    }\n",
              "\n",
              "    .dataframe thead th {\n",
              "        text-align: right;\n",
              "    }\n",
              "</style>\n",
              "<table border=\"1\" class=\"dataframe\">\n",
              "  <thead>\n",
              "    <tr style=\"text-align: right;\">\n",
              "      <th></th>\n",
              "      <th>TARGET</th>\n",
              "    </tr>\n",
              "  </thead>\n",
              "  <tbody>\n",
              "    <tr>\n",
              "      <th>0</th>\n",
              "      <td>1</td>\n",
              "    </tr>\n",
              "    <tr>\n",
              "      <th>1</th>\n",
              "      <td>0</td>\n",
              "    </tr>\n",
              "    <tr>\n",
              "      <th>2</th>\n",
              "      <td>0</td>\n",
              "    </tr>\n",
              "    <tr>\n",
              "      <th>3</th>\n",
              "      <td>0</td>\n",
              "    </tr>\n",
              "    <tr>\n",
              "      <th>4</th>\n",
              "      <td>0</td>\n",
              "    </tr>\n",
              "  </tbody>\n",
              "</table>\n",
              "</div>\n",
              "      <button class=\"colab-df-convert\" onclick=\"convertToInteractive('df-818e5950-ba86-4f0e-973f-e16e05511b82')\"\n",
              "              title=\"Convert this dataframe to an interactive table.\"\n",
              "              style=\"display:none;\">\n",
              "\n",
              "  <svg xmlns=\"http://www.w3.org/2000/svg\" height=\"24px\"viewBox=\"0 0 24 24\"\n",
              "       width=\"24px\">\n",
              "    <path d=\"M0 0h24v24H0V0z\" fill=\"none\"/>\n",
              "    <path d=\"M18.56 5.44l.94 2.06.94-2.06 2.06-.94-2.06-.94-.94-2.06-.94 2.06-2.06.94zm-11 1L8.5 8.5l.94-2.06 2.06-.94-2.06-.94L8.5 2.5l-.94 2.06-2.06.94zm10 10l.94 2.06.94-2.06 2.06-.94-2.06-.94-.94-2.06-.94 2.06-2.06.94z\"/><path d=\"M17.41 7.96l-1.37-1.37c-.4-.4-.92-.59-1.43-.59-.52 0-1.04.2-1.43.59L10.3 9.45l-7.72 7.72c-.78.78-.78 2.05 0 2.83L4 21.41c.39.39.9.59 1.41.59.51 0 1.02-.2 1.41-.59l7.78-7.78 2.81-2.81c.8-.78.8-2.07 0-2.86zM5.41 20L4 18.59l7.72-7.72 1.47 1.35L5.41 20z\"/>\n",
              "  </svg>\n",
              "      </button>\n",
              "\n",
              "\n",
              "\n",
              "    <div id=\"df-e7d20117-ad19-46e9-acca-c4e7408823a1\">\n",
              "      <button class=\"colab-df-quickchart\" onclick=\"quickchart('df-e7d20117-ad19-46e9-acca-c4e7408823a1')\"\n",
              "              title=\"Suggest charts.\"\n",
              "              style=\"display:none;\">\n",
              "\n",
              "<svg xmlns=\"http://www.w3.org/2000/svg\" height=\"24px\"viewBox=\"0 0 24 24\"\n",
              "     width=\"24px\">\n",
              "    <g>\n",
              "        <path d=\"M19 3H5c-1.1 0-2 .9-2 2v14c0 1.1.9 2 2 2h14c1.1 0 2-.9 2-2V5c0-1.1-.9-2-2-2zM9 17H7v-7h2v7zm4 0h-2V7h2v10zm4 0h-2v-4h2v4z\"/>\n",
              "    </g>\n",
              "</svg>\n",
              "      </button>\n",
              "    </div>\n",
              "\n",
              "<style>\n",
              "  .colab-df-quickchart {\n",
              "    background-color: #E8F0FE;\n",
              "    border: none;\n",
              "    border-radius: 50%;\n",
              "    cursor: pointer;\n",
              "    display: none;\n",
              "    fill: #1967D2;\n",
              "    height: 32px;\n",
              "    padding: 0 0 0 0;\n",
              "    width: 32px;\n",
              "  }\n",
              "\n",
              "  .colab-df-quickchart:hover {\n",
              "    background-color: #E2EBFA;\n",
              "    box-shadow: 0px 1px 2px rgba(60, 64, 67, 0.3), 0px 1px 3px 1px rgba(60, 64, 67, 0.15);\n",
              "    fill: #174EA6;\n",
              "  }\n",
              "\n",
              "  [theme=dark] .colab-df-quickchart {\n",
              "    background-color: #3B4455;\n",
              "    fill: #D2E3FC;\n",
              "  }\n",
              "\n",
              "  [theme=dark] .colab-df-quickchart:hover {\n",
              "    background-color: #434B5C;\n",
              "    box-shadow: 0px 1px 3px 1px rgba(0, 0, 0, 0.15);\n",
              "    filter: drop-shadow(0px 1px 2px rgba(0, 0, 0, 0.3));\n",
              "    fill: #FFFFFF;\n",
              "  }\n",
              "</style>\n",
              "\n",
              "    <script>\n",
              "      async function quickchart(key) {\n",
              "        const containerElement = document.querySelector('#' + key);\n",
              "        const charts = await google.colab.kernel.invokeFunction(\n",
              "            'suggestCharts', [key], {});\n",
              "      }\n",
              "    </script>\n",
              "\n",
              "      <script>\n",
              "\n",
              "function displayQuickchartButton(domScope) {\n",
              "  let quickchartButtonEl =\n",
              "    domScope.querySelector('#df-e7d20117-ad19-46e9-acca-c4e7408823a1 button.colab-df-quickchart');\n",
              "  quickchartButtonEl.style.display =\n",
              "    google.colab.kernel.accessAllowed ? 'block' : 'none';\n",
              "}\n",
              "\n",
              "        displayQuickchartButton(document);\n",
              "      </script>\n",
              "      <style>\n",
              "    .colab-df-container {\n",
              "      display:flex;\n",
              "      flex-wrap:wrap;\n",
              "      gap: 12px;\n",
              "    }\n",
              "\n",
              "    .colab-df-convert {\n",
              "      background-color: #E8F0FE;\n",
              "      border: none;\n",
              "      border-radius: 50%;\n",
              "      cursor: pointer;\n",
              "      display: none;\n",
              "      fill: #1967D2;\n",
              "      height: 32px;\n",
              "      padding: 0 0 0 0;\n",
              "      width: 32px;\n",
              "    }\n",
              "\n",
              "    .colab-df-convert:hover {\n",
              "      background-color: #E2EBFA;\n",
              "      box-shadow: 0px 1px 2px rgba(60, 64, 67, 0.3), 0px 1px 3px 1px rgba(60, 64, 67, 0.15);\n",
              "      fill: #174EA6;\n",
              "    }\n",
              "\n",
              "    [theme=dark] .colab-df-convert {\n",
              "      background-color: #3B4455;\n",
              "      fill: #D2E3FC;\n",
              "    }\n",
              "\n",
              "    [theme=dark] .colab-df-convert:hover {\n",
              "      background-color: #434B5C;\n",
              "      box-shadow: 0px 1px 3px 1px rgba(0, 0, 0, 0.15);\n",
              "      filter: drop-shadow(0px 1px 2px rgba(0, 0, 0, 0.3));\n",
              "      fill: #FFFFFF;\n",
              "    }\n",
              "  </style>\n",
              "\n",
              "      <script>\n",
              "        const buttonEl =\n",
              "          document.querySelector('#df-818e5950-ba86-4f0e-973f-e16e05511b82 button.colab-df-convert');\n",
              "        buttonEl.style.display =\n",
              "          google.colab.kernel.accessAllowed ? 'block' : 'none';\n",
              "\n",
              "        async function convertToInteractive(key) {\n",
              "          const element = document.querySelector('#df-818e5950-ba86-4f0e-973f-e16e05511b82');\n",
              "          const dataTable =\n",
              "            await google.colab.kernel.invokeFunction('convertToInteractive',\n",
              "                                                     [key], {});\n",
              "          if (!dataTable) return;\n",
              "\n",
              "          const docLinkHtml = 'Like what you see? Visit the ' +\n",
              "            '<a target=\"_blank\" href=https://colab.research.google.com/notebooks/data_table.ipynb>data table notebook</a>'\n",
              "            + ' to learn more about interactive tables.';\n",
              "          element.innerHTML = '';\n",
              "          dataTable['output_type'] = 'display_data';\n",
              "          await google.colab.output.renderOutput(dataTable, element);\n",
              "          const docLink = document.createElement('div');\n",
              "          docLink.innerHTML = docLinkHtml;\n",
              "          element.appendChild(docLink);\n",
              "        }\n",
              "      </script>\n",
              "    </div>\n",
              "  </div>\n"
            ]
          },
          "metadata": {},
          "execution_count": 4
        }
      ],
      "source": [
        "y_.head()"
      ]
    },
    {
      "cell_type": "code",
      "execution_count": null,
      "metadata": {
        "colab": {
          "base_uri": "https://localhost:8080/"
        },
        "id": "GoH6xhvhQWFY",
        "outputId": "5989c932-9e20-4bd7-ff03-3526377b1d01"
      },
      "outputs": [
        {
          "output_type": "execute_result",
          "data": {
            "text/plain": [
              "array(['1', '0'], dtype=object)"
            ]
          },
          "metadata": {},
          "execution_count": 5
        }
      ],
      "source": [
        "y_['TARGET'].unique()"
      ]
    },
    {
      "cell_type": "markdown",
      "metadata": {
        "id": "zz6RO8m1KijP"
      },
      "source": [
        "# <a name=\"C1\"> 2. Pre-processing </a>\n",
        "\n"
      ]
    },
    {
      "cell_type": "markdown",
      "metadata": {
        "id": "8a_9hXctX2Rd"
      },
      "source": [
        "Quatre options :\n",
        "\n",
        "\n",
        "0.   Je garde le datasets tel qu'il est\n",
        "1.   Sous-échantillonnage\n",
        "2.   Sur-échantillonnage (SMOTE)\n",
        "3.   Class-weighting (fais dans le cas 0)\n"
      ]
    },
    {
      "cell_type": "code",
      "execution_count": null,
      "metadata": {
        "colab": {
          "base_uri": "https://localhost:8080/"
        },
        "id": "fJbBOAXU5kOa",
        "outputId": "8d31d24d-8331-4fa5-d9a7-aa2592771f0c"
      },
      "outputs": [
        {
          "output_type": "stream",
          "name": "stdout",
          "text": [
            "Entrer l'option d'échantillonnage 'option': \n",
            " 0 pour le class-weighting, 1 pour un sous-échantillonage et 2 pour la méthode SMOTE 2\n",
            "Entrer le modèle à tester: ex : Logistic Regression, LDA,  LightGBM\n",
            "Option: 2\n",
            "Model: LightGBM\n"
          ]
        }
      ],
      "source": [
        "option = int(input(\"Entrer l'option d'échantillonnage 'option': \\n 0 pour le class-weighting, 1 pour un sous-échantillonage et 2 pour la méthode SMOTE \"))\n",
        "model = input(\"Entrer le modèle à tester: ex : Logistic Regression, LDA,  \")\n",
        "\n",
        "print(\"Option:\", int(option))\n",
        "print(\"Model:\", model)\n"
      ]
    },
    {
      "cell_type": "code",
      "execution_count": null,
      "metadata": {
        "colab": {
          "base_uri": "https://localhost:8080/"
        },
        "id": "1K1Lu0pympgi",
        "outputId": "03ecac00-d12c-43dd-e40f-007d65e77224"
      },
      "outputs": [
        {
          "output_type": "execute_result",
          "data": {
            "text/plain": [
              "Index(['PROPRIETAIRE', 'NBRE_ENFANT', 'ANCIENNETE_CREDIT', 'CHARGES_ANNUEL',\n",
              "       'REVENUS_TOT', 'MONTANT_CREDIT', 'OCCUPATION', 'CC_RATIO_CREDIT',\n",
              "       'NIVEAU_ETUDE', 'AGE', 'ANCIENNETE_EMPLOI', 'SCORE_REGION', 'HEURE_APP',\n",
              "       'SECTEUR_ACTIVITE', 'SCORE_2_EXT', 'RATIO_ENDETT(%)',\n",
              "       'NBRE_CONTRAT_ACTIFS', 'NBRE_J_RETARD', 'POS_PROGRESS_MAX_MIN',\n",
              "       'CC_NOMBRE_RETRAIT_MOYEN', 'CB_SOMME_DUES_RETARD'],\n",
              "      dtype='object')"
            ]
          },
          "metadata": {},
          "execution_count": 7
        }
      ],
      "source": [
        "df.columns"
      ]
    },
    {
      "cell_type": "code",
      "execution_count": null,
      "metadata": {
        "id": "KAtFBcH_pXY3"
      },
      "outputs": [],
      "source": [
        "y = y_['TARGET']"
      ]
    },
    {
      "cell_type": "code",
      "execution_count": null,
      "metadata": {
        "colab": {
          "base_uri": "https://localhost:8080/"
        },
        "id": "a1a5oJRhHIQL",
        "outputId": "5c723b11-29f4-45db-fd00-2d394205fd1d"
      },
      "outputs": [
        {
          "output_type": "execute_result",
          "data": {
            "text/plain": [
              "array(['1', '0'], dtype=object)"
            ]
          },
          "metadata": {},
          "execution_count": 9
        }
      ],
      "source": [
        "y.unique()"
      ]
    },
    {
      "cell_type": "code",
      "execution_count": null,
      "metadata": {
        "colab": {
          "base_uri": "https://localhost:8080/"
        },
        "id": "Q9WEt1c-SGNJ",
        "outputId": "c7197752-c1d9-464f-ec6e-a06da39cb5ab"
      },
      "outputs": [
        {
          "output_type": "execute_result",
          "data": {
            "text/plain": [
              "24811"
            ]
          },
          "metadata": {},
          "execution_count": 10
        }
      ],
      "source": [
        "len(y[y == '1'])"
      ]
    },
    {
      "cell_type": "code",
      "execution_count": null,
      "metadata": {
        "colab": {
          "base_uri": "https://localhost:8080/"
        },
        "id": "1quOOMXX7kCC",
        "outputId": "6a319d72-8814-4232-f312-bd91bd911217"
      },
      "outputs": [
        {
          "output_type": "execute_result",
          "data": {
            "text/plain": [
              "0         1\n",
              "26        1\n",
              "40        1\n",
              "42        1\n",
              "81        1\n",
              "         ..\n",
              "307176    1\n",
              "307203    1\n",
              "307209    1\n",
              "307217    1\n",
              "307237    1\n",
              "Name: TARGET, Length: 24811, dtype: object"
            ]
          },
          "metadata": {},
          "execution_count": 11
        }
      ],
      "source": [
        "y[y == '1']"
      ]
    },
    {
      "cell_type": "code",
      "execution_count": null,
      "metadata": {
        "id": "k2xcI7CcoVCH"
      },
      "outputs": [],
      "source": [
        "if option == 0:\n",
        "    # Option 0: Une séparation de dataset standard avec stratification\n",
        "    Xtrain, Xtest, ytrain, ytest = model_selection.train_test_split(df, y, train_size=0.8, random_state=42, stratify = y)\n",
        "elif option == 1:\n",
        "    # Option 1 :  Sous-échantillonnage, Je récupère tous les '1' et je choisie un échantillon d'individu '0' de la même taille pour former un nouevau\n",
        "    # dataset concaténé.\n",
        "    len_target = len(y[y == '1'])\n",
        "    y_1 = y[y == '1']\n",
        "    ind_y1 = y[y == '1'].index\n",
        "    y_0 = y[y == '0'].sample(len_target, random_state=42)\n",
        "    ind_y0 = y_0.index\n",
        "    y_resampled = pd.concat([y_1, y_0])\n",
        "    ind_tot= y_resampled.index\n",
        "    Xtrain, Xtest, ytrain, ytest = model_selection.train_test_split(df.loc[ind_tot], y_resampled, train_size=0.8, random_state=42,\n",
        "                                                                    stratify =y_resampled)\n",
        "elif option == 2:\n",
        "    # Option 2 : Méthode mixte de sur-échantillonage de type smote et de sous-échantillonage, la méthode smote\n",
        "    # sera appliqué dans la recherche de grille durant la valisation croisée pour éviter le data leakage\n",
        "    len_target = len(y[y == '1'])\n",
        "    y_1 = y[y == '1']\n",
        "    ind_y1 = y[y == '1'].index\n",
        "    y_0 = y[y == '0'].sample(int(1.5*len_target), random_state=42)\n",
        "    ind_y0 = y_0.index\n",
        "    y_resampled = pd.concat([y_1, y_0])\n",
        "    ind_tot= y_resampled.index\n",
        "    Xtrain, Xtest, ytrain, ytest = model_selection.train_test_split(df.loc[ind_tot], y_resampled,\n",
        "                                                                    train_size=0.8, random_state=42, stratify =y_resampled)\n",
        "    smote = SMOTE(sampling_strategy='auto', random_state=42)"
      ]
    },
    {
      "cell_type": "code",
      "execution_count": null,
      "metadata": {
        "id": "f9TAs1JZo9uH"
      },
      "outputs": [],
      "source": [
        "# Ma liste de modèle\n",
        "models_dict = {'Dummy': [DummyClassifier(), 'non',\n",
        "                         {'strategy': ['stratified', 'uniform'],\n",
        "                          'random_state': [42],\n",
        "                         }, None], #Le troisième élément représente l'option de feat importance\n",
        "               'Logistic Regression': [LogisticRegression(), 'oui', #Oui car dans le calcul de la fonction d'hypothèse la fonction logistique est\n",
        "                            #foncton de la combinaison linaire des ppoids et du vecteur x de l'individu. Si toutes les composantes de x ne sont pas mis\n",
        "                            #à la même échelle certaines features auront d'avantage de poids que d'autre.\n",
        "                             {'solver' : ['lbfgs', 'liblinear', 'newton-cg', 'newton-cholesky', 'sag', 'saga'],\n",
        "                              'class_weight' : ['balanced', None],'penalty' : ['l2']\n",
        "                              } , 'coeff'],\n",
        "               'LDA' :  [LinearDiscriminantAnalysis(), 'oui',\n",
        "                {'solver' : ['svd','lsqr'],#'eigen'],\n",
        "                 'n_components' : [1]\n",
        "                 } , 'coeff'],\n",
        "               'Naive Bayes': [GaussianNB(), 'non',\n",
        "                {'var_smoothing': [1e-09, 1e-08, 1e-07, 1e-06, 1e-05]}, 'shap', 'other'],\n",
        "               'LightGBM': [LGBMClassifier(objective='binary', metric='binary_logloss'), 'non',\n",
        "                 {'learning_rate': [0.4, 0.5, 0.6],#0.7, 0.3, 0.1, 0.08,0.01, 0.001],\n",
        "                  'max_depth': [3], #2, 4, 5, 7, 10, 20\n",
        "                  'n_estimators': [140,150,160],#[10, 50, 70,100, 200, 250\n",
        "                  'random_state': [42]\n",
        "                 }, 'shap', 'tree'],\n",
        "               'Decision Trees': [DecisionTreeClassifier(), 'non',\n",
        "                       {'criterion': ['gini', 'entropy'],\n",
        "                        'max_depth': [None, 3, 4, 5], #autre valeurs testé 100, 50, 20, 10\n",
        "                        #'max_features': ['auto', 'sqrt', 'log2', None],\n",
        "                        'class_weight': [None, 'balanced'],\n",
        "                        'splitter': ['best', 'random'],\n",
        "                        'random_state': [42]\n",
        "                       }, 'shap', 'tree'],\n",
        "\n",
        "}\n"
      ]
    },
    {
      "cell_type": "code",
      "execution_count": null,
      "metadata": {
        "colab": {
          "base_uri": "https://localhost:8080/"
        },
        "id": "KUFEqGvzrwT2",
        "outputId": "ed188900-e5b8-4d0d-945e-590f88e5a514"
      },
      "outputs": [
        {
          "output_type": "execute_result",
          "data": {
            "text/plain": [
              "{'learning_rate': [0.4, 0.5, 0.6],\n",
              " 'max_depth': [3],\n",
              " 'n_estimators': [140, 150, 160],\n",
              " 'random_state': [42]}"
            ]
          },
          "metadata": {},
          "execution_count": 14
        }
      ],
      "source": [
        "models_dict[model][2]"
      ]
    },
    {
      "cell_type": "code",
      "execution_count": null,
      "metadata": {
        "colab": {
          "base_uri": "https://localhost:8080/"
        },
        "id": "Wqr53fUCquX8",
        "outputId": "b839e80e-3d78-457f-cfbf-b9fff1813052"
      },
      "outputs": [
        {
          "output_type": "execute_result",
          "data": {
            "text/plain": [
              "307239"
            ]
          },
          "metadata": {},
          "execution_count": 15
        }
      ],
      "source": [
        "len(df)"
      ]
    },
    {
      "cell_type": "code",
      "execution_count": null,
      "metadata": {
        "id": "nurZ1sE_EdTR"
      },
      "outputs": [],
      "source": [
        "#### Fonctions ----------------------------\n",
        "\n",
        "from sklearn.preprocessing import FunctionTransformer\n",
        "def log_transform(x):\n",
        "    return np.log1p(x)\n",
        "\n",
        "# Calculate the frequency of each category in 'ORGANIZATION_TYPE'\n",
        "freq_by_org_type = df['SECTEUR_ACTIVITE'].value_counts(normalize=True).to_dict()\n",
        "# Define the function for Frequency Encoding\n",
        "def frequency_encode(x):\n",
        "    return x.replace(freq_by_org_type)\n",
        "\n",
        "# Create the custom FunctionTransformer for Frequency Encoding\n",
        "freq_encoder = FunctionTransformer(frequency_encode)\n",
        "\n",
        "\n",
        "#Création de mon pipeline\n",
        "cat_features = df.dtypes[df.dtypes == 'object'].index.tolist()\n",
        "cat_features = [feature for feature in cat_features if feature not in ['SK_ID_CURR', 'TARGET']]\n",
        "num_features = df.dtypes[df.dtypes != 'object'].index.tolist()\n",
        "\n",
        "\n",
        "####--------- Les transformations\n",
        "OneHot_transformer = OneHotEncoder(use_cat_names= True)\n",
        "#target_transformer = TargetEncoder(smoothing=0.2) data leakage et résultat imprévisible\n",
        "\n",
        "if models_dict[model][1] == 'oui':\n",
        "    # Scale features and handle skewed distributions\n",
        "    numeric_transformer = MinMaxScaler()\n",
        "    preprocessor = ColumnTransformer(transformers=[\n",
        "        ('oneHot', OneHot_transformer, [#'GENRE',\n",
        "                                        'PROPRIETAIRE', 'NIVEAU_ETUDE' ,'NBRE_J_RETARD', 'OCCUPATION']),\n",
        "        #('target', target_transformer, cat_features[2]),\n",
        "        ('frequency', freq_encoder, ['SECTEUR_ACTIVITE']),  # Add the Frequency Encoder here\n",
        "        ('numeric', numeric_transformer, num_features),\n",
        "        #('log_transform', FunctionTransformer(log_transform, validate=False), log_feature)\n",
        "    ], remainder='passthrough')\n",
        "else:\n",
        "    # Do not apply MinMaxScaler but still include the log transformation\n",
        "    preprocessor = ColumnTransformer(transformers=[\n",
        "        ('oneHot', OneHot_transformer, [#'GENRE',\n",
        "                                        'PROPRIETAIRE', 'NIVEAU_ETUDE' ,'NBRE_J_RETARD', 'OCCUPATION']),\n",
        "        #('target', target_transformer, cat_features[2]),\n",
        "        ('frequency', freq_encoder, ['SECTEUR_ACTIVITE']),  # Add the Frequency Encoder here\n",
        "    ], remainder='passthrough')"
      ]
    },
    {
      "cell_type": "code",
      "execution_count": null,
      "metadata": {
        "colab": {
          "base_uri": "https://localhost:8080/"
        },
        "id": "83XdnrrtEvcE",
        "outputId": "b6c07b7a-43a6-4760-9d52-46e9d90c7b12"
      },
      "outputs": [
        {
          "output_type": "execute_result",
          "data": {
            "text/plain": [
              "{'Business Entity': 0.2747535306390139,\n",
              " 'Inactive': 0.1801952226117127,\n",
              " 'Self-Employed and Professional Services': 0.12719739356006235,\n",
              " 'Other Categories': 0.11870888786905308,\n",
              " 'Industry and Trade': 0.0930806310396792,\n",
              " 'Government and Public Services': 0.07583672645725315,\n",
              " 'Education': 0.055650487080090745,\n",
              " 'Healthcare and Medicine': 0.03640813828973535,\n",
              " 'Utilities and Services': 0.016469263342218925,\n",
              " 'Hospitality and Entertainment': 0.011658676144630077,\n",
              " 'Financial and Insurance': 0.01004104296655047}"
            ]
          },
          "metadata": {},
          "execution_count": 17
        }
      ],
      "source": [
        "freq_by_org_type"
      ]
    },
    {
      "cell_type": "code",
      "execution_count": null,
      "metadata": {
        "colab": {
          "base_uri": "https://localhost:8080/",
          "height": 74
        },
        "id": "IeIZ8NM7E0p3",
        "outputId": "3db19dcb-d33d-49eb-d4ec-b6b8cada9f4b"
      },
      "outputs": [
        {
          "output_type": "execute_result",
          "data": {
            "text/plain": [
              "LGBMClassifier(metric='binary_logloss', objective='binary')"
            ],
            "text/html": [
              "<style>#sk-container-id-1 {color: black;background-color: white;}#sk-container-id-1 pre{padding: 0;}#sk-container-id-1 div.sk-toggleable {background-color: white;}#sk-container-id-1 label.sk-toggleable__label {cursor: pointer;display: block;width: 100%;margin-bottom: 0;padding: 0.3em;box-sizing: border-box;text-align: center;}#sk-container-id-1 label.sk-toggleable__label-arrow:before {content: \"▸\";float: left;margin-right: 0.25em;color: #696969;}#sk-container-id-1 label.sk-toggleable__label-arrow:hover:before {color: black;}#sk-container-id-1 div.sk-estimator:hover label.sk-toggleable__label-arrow:before {color: black;}#sk-container-id-1 div.sk-toggleable__content {max-height: 0;max-width: 0;overflow: hidden;text-align: left;background-color: #f0f8ff;}#sk-container-id-1 div.sk-toggleable__content pre {margin: 0.2em;color: black;border-radius: 0.25em;background-color: #f0f8ff;}#sk-container-id-1 input.sk-toggleable__control:checked~div.sk-toggleable__content {max-height: 200px;max-width: 100%;overflow: auto;}#sk-container-id-1 input.sk-toggleable__control:checked~label.sk-toggleable__label-arrow:before {content: \"▾\";}#sk-container-id-1 div.sk-estimator input.sk-toggleable__control:checked~label.sk-toggleable__label {background-color: #d4ebff;}#sk-container-id-1 div.sk-label input.sk-toggleable__control:checked~label.sk-toggleable__label {background-color: #d4ebff;}#sk-container-id-1 input.sk-hidden--visually {border: 0;clip: rect(1px 1px 1px 1px);clip: rect(1px, 1px, 1px, 1px);height: 1px;margin: -1px;overflow: hidden;padding: 0;position: absolute;width: 1px;}#sk-container-id-1 div.sk-estimator {font-family: monospace;background-color: #f0f8ff;border: 1px dotted black;border-radius: 0.25em;box-sizing: border-box;margin-bottom: 0.5em;}#sk-container-id-1 div.sk-estimator:hover {background-color: #d4ebff;}#sk-container-id-1 div.sk-parallel-item::after {content: \"\";width: 100%;border-bottom: 1px solid gray;flex-grow: 1;}#sk-container-id-1 div.sk-label:hover label.sk-toggleable__label {background-color: #d4ebff;}#sk-container-id-1 div.sk-serial::before {content: \"\";position: absolute;border-left: 1px solid gray;box-sizing: border-box;top: 0;bottom: 0;left: 50%;z-index: 0;}#sk-container-id-1 div.sk-serial {display: flex;flex-direction: column;align-items: center;background-color: white;padding-right: 0.2em;padding-left: 0.2em;position: relative;}#sk-container-id-1 div.sk-item {position: relative;z-index: 1;}#sk-container-id-1 div.sk-parallel {display: flex;align-items: stretch;justify-content: center;background-color: white;position: relative;}#sk-container-id-1 div.sk-item::before, #sk-container-id-1 div.sk-parallel-item::before {content: \"\";position: absolute;border-left: 1px solid gray;box-sizing: border-box;top: 0;bottom: 0;left: 50%;z-index: -1;}#sk-container-id-1 div.sk-parallel-item {display: flex;flex-direction: column;z-index: 1;position: relative;background-color: white;}#sk-container-id-1 div.sk-parallel-item:first-child::after {align-self: flex-end;width: 50%;}#sk-container-id-1 div.sk-parallel-item:last-child::after {align-self: flex-start;width: 50%;}#sk-container-id-1 div.sk-parallel-item:only-child::after {width: 0;}#sk-container-id-1 div.sk-dashed-wrapped {border: 1px dashed gray;margin: 0 0.4em 0.5em 0.4em;box-sizing: border-box;padding-bottom: 0.4em;background-color: white;}#sk-container-id-1 div.sk-label label {font-family: monospace;font-weight: bold;display: inline-block;line-height: 1.2em;}#sk-container-id-1 div.sk-label-container {text-align: center;}#sk-container-id-1 div.sk-container {/* jupyter's `normalize.less` sets `[hidden] { display: none; }` but bootstrap.min.css set `[hidden] { display: none !important; }` so we also need the `!important` here to be able to override the default hidden behavior on the sphinx rendered scikit-learn.org. See: https://github.com/scikit-learn/scikit-learn/issues/21755 */display: inline-block !important;position: relative;}#sk-container-id-1 div.sk-text-repr-fallback {display: none;}</style><div id=\"sk-container-id-1\" class=\"sk-top-container\"><div class=\"sk-text-repr-fallback\"><pre>LGBMClassifier(metric=&#x27;binary_logloss&#x27;, objective=&#x27;binary&#x27;)</pre><b>In a Jupyter environment, please rerun this cell to show the HTML representation or trust the notebook. <br />On GitHub, the HTML representation is unable to render, please try loading this page with nbviewer.org.</b></div><div class=\"sk-container\" hidden><div class=\"sk-item\"><div class=\"sk-estimator sk-toggleable\"><input class=\"sk-toggleable__control sk-hidden--visually\" id=\"sk-estimator-id-1\" type=\"checkbox\" checked><label for=\"sk-estimator-id-1\" class=\"sk-toggleable__label sk-toggleable__label-arrow\">LGBMClassifier</label><div class=\"sk-toggleable__content\"><pre>LGBMClassifier(metric=&#x27;binary_logloss&#x27;, objective=&#x27;binary&#x27;)</pre></div></div></div></div></div>"
            ]
          },
          "metadata": {},
          "execution_count": 18
        }
      ],
      "source": [
        "models_dict[model][0]"
      ]
    },
    {
      "cell_type": "code",
      "execution_count": null,
      "metadata": {
        "colab": {
          "base_uri": "https://localhost:8080/",
          "height": 568
        },
        "id": "UQMjjELf5Uiw",
        "outputId": "e0bf230c-f18e-45fa-ee86-4bd99d357475"
      },
      "outputs": [
        {
          "output_type": "execute_result",
          "data": {
            "text/plain": [
              "       PROPRIETAIRE  NBRE_ENFANT  ANCIENNETE_CREDIT  CHARGES_ANNUEL  \\\n",
              "15052             N            0               11.0   -25205.130000   \n",
              "18524             Y            0                3.0    21375.000000   \n",
              "107905            N            0               96.0    17937.000000   \n",
              "217713            Y            0               18.0  -612814.995000   \n",
              "268811            Y            0               74.0     7686.000000   \n",
              "...             ...          ...                ...             ...   \n",
              "258563            N            0               48.0    40410.000000   \n",
              "104018            Y            0               96.0    29884.500000   \n",
              "100555            Y            0               40.0    88749.000000   \n",
              "242921            Y            1               34.0    61665.165000   \n",
              "131518            Y            1               96.0    49801.858105   \n",
              "\n",
              "        REVENUS_TOT  MONTANT_CREDIT            OCCUPATION  CC_RATIO_CREDIT  \\\n",
              "15052      180000.0        180000.0               Working             0.00   \n",
              "18524      126000.0        314055.0               Working             0.00   \n",
              "107905     180000.0        675000.0               Working             0.00   \n",
              "217713     225000.0        670500.0         State servant             0.00   \n",
              "268811     162000.0         76410.0               Working             0.00   \n",
              "...             ...             ...                   ...              ...   \n",
              "258563     225000.0       1125000.0  Commercial associate             0.00   \n",
              "104018     202500.0       1109655.0               Working             0.00   \n",
              "100555     193500.0        427500.0  Commercial associate             0.00   \n",
              "242921     112500.0        258709.5               Working            20.01   \n",
              "131518     180000.0        882000.0               Working            47.64   \n",
              "\n",
              "       NIVEAU_ETUDE  AGE  ...  SCORE_REGION  HEURE_APP  \\\n",
              "15052       ENS_SUP   26  ...             2         17   \n",
              "18524           BAC   39  ...             2          7   \n",
              "107905          BAC   50  ...             2         12   \n",
              "217713          BAC   52  ...             2         11   \n",
              "268811          BAC   42  ...             2         11   \n",
              "...             ...  ...  ...           ...        ...   \n",
              "258563      ENS_SUP   35  ...             2         19   \n",
              "104018          BAC   45  ...             2         11   \n",
              "100555      ENS_SUP   32  ...             1         13   \n",
              "242921          BAC   41  ...             3          8   \n",
              "131518          BAC   45  ...             2         15   \n",
              "\n",
              "                               SECTEUR_ACTIVITE SCORE_2_EXT  RATIO_ENDETT(%)  \\\n",
              "15052                           Business Entity    0.285621              5.0   \n",
              "18524                           Business Entity    0.039302             17.0   \n",
              "107905  Self-Employed and Professional Services    0.603289             10.0   \n",
              "217713                                Education    0.607155              7.9   \n",
              "268811           Government and Public Services    0.083132              4.7   \n",
              "...                                         ...         ...              ...   \n",
              "258563                       Industry and Trade    0.623294             18.0   \n",
              "104018                       Industry and Trade    0.458592             14.8   \n",
              "100555                          Business Entity    0.810070              6.4   \n",
              "242921                       Industry and Trade    0.054464             22.9   \n",
              "131518                         Other Categories    0.333046             14.4   \n",
              "\n",
              "        NBRE_CONTRAT_ACTIFS  NBRE_J_RETARD  POS_PROGRESS_MAX_MIN  \\\n",
              "15052                   1.0       0.090909             41.666667   \n",
              "18524                   1.0       0.666667             33.333333   \n",
              "107905                  0.0       0.533333            100.000000   \n",
              "217713                  1.0       0.000000             16.666667   \n",
              "268811                  1.0       0.000000             83.333333   \n",
              "...                     ...            ...                   ...   \n",
              "258563                  3.0       0.000000             58.333333   \n",
              "104018                  0.0       0.000000            100.000000   \n",
              "100555                  2.0       0.000000            100.000000   \n",
              "242921                  1.0       0.103448            100.000000   \n",
              "131518                  1.0       0.111111             87.500000   \n",
              "\n",
              "        CC_NOMBRE_RETRAIT_MOYEN  CB_SOMME_DUES_RETARD  \n",
              "15052                  0.000000                   0.0  \n",
              "18524                  0.000000                   0.0  \n",
              "107905                 0.000000                   0.0  \n",
              "217713                 0.000000                   0.0  \n",
              "268811                 0.000000                   0.0  \n",
              "...                         ...                   ...  \n",
              "258563                 0.000000                   0.0  \n",
              "104018                 0.000000                   0.0  \n",
              "100555                 0.000000                   0.0  \n",
              "242921                 1.350000                   0.0  \n",
              "131518                 0.115789                   0.0  \n",
              "\n",
              "[49621 rows x 21 columns]"
            ],
            "text/html": [
              "\n",
              "\n",
              "  <div id=\"df-b7a11711-f9c3-490c-82a7-8952c56a5600\">\n",
              "    <div class=\"colab-df-container\">\n",
              "      <div>\n",
              "<style scoped>\n",
              "    .dataframe tbody tr th:only-of-type {\n",
              "        vertical-align: middle;\n",
              "    }\n",
              "\n",
              "    .dataframe tbody tr th {\n",
              "        vertical-align: top;\n",
              "    }\n",
              "\n",
              "    .dataframe thead th {\n",
              "        text-align: right;\n",
              "    }\n",
              "</style>\n",
              "<table border=\"1\" class=\"dataframe\">\n",
              "  <thead>\n",
              "    <tr style=\"text-align: right;\">\n",
              "      <th></th>\n",
              "      <th>PROPRIETAIRE</th>\n",
              "      <th>NBRE_ENFANT</th>\n",
              "      <th>ANCIENNETE_CREDIT</th>\n",
              "      <th>CHARGES_ANNUEL</th>\n",
              "      <th>REVENUS_TOT</th>\n",
              "      <th>MONTANT_CREDIT</th>\n",
              "      <th>OCCUPATION</th>\n",
              "      <th>CC_RATIO_CREDIT</th>\n",
              "      <th>NIVEAU_ETUDE</th>\n",
              "      <th>AGE</th>\n",
              "      <th>...</th>\n",
              "      <th>SCORE_REGION</th>\n",
              "      <th>HEURE_APP</th>\n",
              "      <th>SECTEUR_ACTIVITE</th>\n",
              "      <th>SCORE_2_EXT</th>\n",
              "      <th>RATIO_ENDETT(%)</th>\n",
              "      <th>NBRE_CONTRAT_ACTIFS</th>\n",
              "      <th>NBRE_J_RETARD</th>\n",
              "      <th>POS_PROGRESS_MAX_MIN</th>\n",
              "      <th>CC_NOMBRE_RETRAIT_MOYEN</th>\n",
              "      <th>CB_SOMME_DUES_RETARD</th>\n",
              "    </tr>\n",
              "  </thead>\n",
              "  <tbody>\n",
              "    <tr>\n",
              "      <th>15052</th>\n",
              "      <td>N</td>\n",
              "      <td>0</td>\n",
              "      <td>11.0</td>\n",
              "      <td>-25205.130000</td>\n",
              "      <td>180000.0</td>\n",
              "      <td>180000.0</td>\n",
              "      <td>Working</td>\n",
              "      <td>0.00</td>\n",
              "      <td>ENS_SUP</td>\n",
              "      <td>26</td>\n",
              "      <td>...</td>\n",
              "      <td>2</td>\n",
              "      <td>17</td>\n",
              "      <td>Business Entity</td>\n",
              "      <td>0.285621</td>\n",
              "      <td>5.0</td>\n",
              "      <td>1.0</td>\n",
              "      <td>0.090909</td>\n",
              "      <td>41.666667</td>\n",
              "      <td>0.000000</td>\n",
              "      <td>0.0</td>\n",
              "    </tr>\n",
              "    <tr>\n",
              "      <th>18524</th>\n",
              "      <td>Y</td>\n",
              "      <td>0</td>\n",
              "      <td>3.0</td>\n",
              "      <td>21375.000000</td>\n",
              "      <td>126000.0</td>\n",
              "      <td>314055.0</td>\n",
              "      <td>Working</td>\n",
              "      <td>0.00</td>\n",
              "      <td>BAC</td>\n",
              "      <td>39</td>\n",
              "      <td>...</td>\n",
              "      <td>2</td>\n",
              "      <td>7</td>\n",
              "      <td>Business Entity</td>\n",
              "      <td>0.039302</td>\n",
              "      <td>17.0</td>\n",
              "      <td>1.0</td>\n",
              "      <td>0.666667</td>\n",
              "      <td>33.333333</td>\n",
              "      <td>0.000000</td>\n",
              "      <td>0.0</td>\n",
              "    </tr>\n",
              "    <tr>\n",
              "      <th>107905</th>\n",
              "      <td>N</td>\n",
              "      <td>0</td>\n",
              "      <td>96.0</td>\n",
              "      <td>17937.000000</td>\n",
              "      <td>180000.0</td>\n",
              "      <td>675000.0</td>\n",
              "      <td>Working</td>\n",
              "      <td>0.00</td>\n",
              "      <td>BAC</td>\n",
              "      <td>50</td>\n",
              "      <td>...</td>\n",
              "      <td>2</td>\n",
              "      <td>12</td>\n",
              "      <td>Self-Employed and Professional Services</td>\n",
              "      <td>0.603289</td>\n",
              "      <td>10.0</td>\n",
              "      <td>0.0</td>\n",
              "      <td>0.533333</td>\n",
              "      <td>100.000000</td>\n",
              "      <td>0.000000</td>\n",
              "      <td>0.0</td>\n",
              "    </tr>\n",
              "    <tr>\n",
              "      <th>217713</th>\n",
              "      <td>Y</td>\n",
              "      <td>0</td>\n",
              "      <td>18.0</td>\n",
              "      <td>-612814.995000</td>\n",
              "      <td>225000.0</td>\n",
              "      <td>670500.0</td>\n",
              "      <td>State servant</td>\n",
              "      <td>0.00</td>\n",
              "      <td>BAC</td>\n",
              "      <td>52</td>\n",
              "      <td>...</td>\n",
              "      <td>2</td>\n",
              "      <td>11</td>\n",
              "      <td>Education</td>\n",
              "      <td>0.607155</td>\n",
              "      <td>7.9</td>\n",
              "      <td>1.0</td>\n",
              "      <td>0.000000</td>\n",
              "      <td>16.666667</td>\n",
              "      <td>0.000000</td>\n",
              "      <td>0.0</td>\n",
              "    </tr>\n",
              "    <tr>\n",
              "      <th>268811</th>\n",
              "      <td>Y</td>\n",
              "      <td>0</td>\n",
              "      <td>74.0</td>\n",
              "      <td>7686.000000</td>\n",
              "      <td>162000.0</td>\n",
              "      <td>76410.0</td>\n",
              "      <td>Working</td>\n",
              "      <td>0.00</td>\n",
              "      <td>BAC</td>\n",
              "      <td>42</td>\n",
              "      <td>...</td>\n",
              "      <td>2</td>\n",
              "      <td>11</td>\n",
              "      <td>Government and Public Services</td>\n",
              "      <td>0.083132</td>\n",
              "      <td>4.7</td>\n",
              "      <td>1.0</td>\n",
              "      <td>0.000000</td>\n",
              "      <td>83.333333</td>\n",
              "      <td>0.000000</td>\n",
              "      <td>0.0</td>\n",
              "    </tr>\n",
              "    <tr>\n",
              "      <th>...</th>\n",
              "      <td>...</td>\n",
              "      <td>...</td>\n",
              "      <td>...</td>\n",
              "      <td>...</td>\n",
              "      <td>...</td>\n",
              "      <td>...</td>\n",
              "      <td>...</td>\n",
              "      <td>...</td>\n",
              "      <td>...</td>\n",
              "      <td>...</td>\n",
              "      <td>...</td>\n",
              "      <td>...</td>\n",
              "      <td>...</td>\n",
              "      <td>...</td>\n",
              "      <td>...</td>\n",
              "      <td>...</td>\n",
              "      <td>...</td>\n",
              "      <td>...</td>\n",
              "      <td>...</td>\n",
              "      <td>...</td>\n",
              "      <td>...</td>\n",
              "    </tr>\n",
              "    <tr>\n",
              "      <th>258563</th>\n",
              "      <td>N</td>\n",
              "      <td>0</td>\n",
              "      <td>48.0</td>\n",
              "      <td>40410.000000</td>\n",
              "      <td>225000.0</td>\n",
              "      <td>1125000.0</td>\n",
              "      <td>Commercial associate</td>\n",
              "      <td>0.00</td>\n",
              "      <td>ENS_SUP</td>\n",
              "      <td>35</td>\n",
              "      <td>...</td>\n",
              "      <td>2</td>\n",
              "      <td>19</td>\n",
              "      <td>Industry and Trade</td>\n",
              "      <td>0.623294</td>\n",
              "      <td>18.0</td>\n",
              "      <td>3.0</td>\n",
              "      <td>0.000000</td>\n",
              "      <td>58.333333</td>\n",
              "      <td>0.000000</td>\n",
              "      <td>0.0</td>\n",
              "    </tr>\n",
              "    <tr>\n",
              "      <th>104018</th>\n",
              "      <td>Y</td>\n",
              "      <td>0</td>\n",
              "      <td>96.0</td>\n",
              "      <td>29884.500000</td>\n",
              "      <td>202500.0</td>\n",
              "      <td>1109655.0</td>\n",
              "      <td>Working</td>\n",
              "      <td>0.00</td>\n",
              "      <td>BAC</td>\n",
              "      <td>45</td>\n",
              "      <td>...</td>\n",
              "      <td>2</td>\n",
              "      <td>11</td>\n",
              "      <td>Industry and Trade</td>\n",
              "      <td>0.458592</td>\n",
              "      <td>14.8</td>\n",
              "      <td>0.0</td>\n",
              "      <td>0.000000</td>\n",
              "      <td>100.000000</td>\n",
              "      <td>0.000000</td>\n",
              "      <td>0.0</td>\n",
              "    </tr>\n",
              "    <tr>\n",
              "      <th>100555</th>\n",
              "      <td>Y</td>\n",
              "      <td>0</td>\n",
              "      <td>40.0</td>\n",
              "      <td>88749.000000</td>\n",
              "      <td>193500.0</td>\n",
              "      <td>427500.0</td>\n",
              "      <td>Commercial associate</td>\n",
              "      <td>0.00</td>\n",
              "      <td>ENS_SUP</td>\n",
              "      <td>32</td>\n",
              "      <td>...</td>\n",
              "      <td>1</td>\n",
              "      <td>13</td>\n",
              "      <td>Business Entity</td>\n",
              "      <td>0.810070</td>\n",
              "      <td>6.4</td>\n",
              "      <td>2.0</td>\n",
              "      <td>0.000000</td>\n",
              "      <td>100.000000</td>\n",
              "      <td>0.000000</td>\n",
              "      <td>0.0</td>\n",
              "    </tr>\n",
              "    <tr>\n",
              "      <th>242921</th>\n",
              "      <td>Y</td>\n",
              "      <td>1</td>\n",
              "      <td>34.0</td>\n",
              "      <td>61665.165000</td>\n",
              "      <td>112500.0</td>\n",
              "      <td>258709.5</td>\n",
              "      <td>Working</td>\n",
              "      <td>20.01</td>\n",
              "      <td>BAC</td>\n",
              "      <td>41</td>\n",
              "      <td>...</td>\n",
              "      <td>3</td>\n",
              "      <td>8</td>\n",
              "      <td>Industry and Trade</td>\n",
              "      <td>0.054464</td>\n",
              "      <td>22.9</td>\n",
              "      <td>1.0</td>\n",
              "      <td>0.103448</td>\n",
              "      <td>100.000000</td>\n",
              "      <td>1.350000</td>\n",
              "      <td>0.0</td>\n",
              "    </tr>\n",
              "    <tr>\n",
              "      <th>131518</th>\n",
              "      <td>Y</td>\n",
              "      <td>1</td>\n",
              "      <td>96.0</td>\n",
              "      <td>49801.858105</td>\n",
              "      <td>180000.0</td>\n",
              "      <td>882000.0</td>\n",
              "      <td>Working</td>\n",
              "      <td>47.64</td>\n",
              "      <td>BAC</td>\n",
              "      <td>45</td>\n",
              "      <td>...</td>\n",
              "      <td>2</td>\n",
              "      <td>15</td>\n",
              "      <td>Other Categories</td>\n",
              "      <td>0.333046</td>\n",
              "      <td>14.4</td>\n",
              "      <td>1.0</td>\n",
              "      <td>0.111111</td>\n",
              "      <td>87.500000</td>\n",
              "      <td>0.115789</td>\n",
              "      <td>0.0</td>\n",
              "    </tr>\n",
              "  </tbody>\n",
              "</table>\n",
              "<p>49621 rows × 21 columns</p>\n",
              "</div>\n",
              "      <button class=\"colab-df-convert\" onclick=\"convertToInteractive('df-b7a11711-f9c3-490c-82a7-8952c56a5600')\"\n",
              "              title=\"Convert this dataframe to an interactive table.\"\n",
              "              style=\"display:none;\">\n",
              "\n",
              "  <svg xmlns=\"http://www.w3.org/2000/svg\" height=\"24px\"viewBox=\"0 0 24 24\"\n",
              "       width=\"24px\">\n",
              "    <path d=\"M0 0h24v24H0V0z\" fill=\"none\"/>\n",
              "    <path d=\"M18.56 5.44l.94 2.06.94-2.06 2.06-.94-2.06-.94-.94-2.06-.94 2.06-2.06.94zm-11 1L8.5 8.5l.94-2.06 2.06-.94-2.06-.94L8.5 2.5l-.94 2.06-2.06.94zm10 10l.94 2.06.94-2.06 2.06-.94-2.06-.94-.94-2.06-.94 2.06-2.06.94z\"/><path d=\"M17.41 7.96l-1.37-1.37c-.4-.4-.92-.59-1.43-.59-.52 0-1.04.2-1.43.59L10.3 9.45l-7.72 7.72c-.78.78-.78 2.05 0 2.83L4 21.41c.39.39.9.59 1.41.59.51 0 1.02-.2 1.41-.59l7.78-7.78 2.81-2.81c.8-.78.8-2.07 0-2.86zM5.41 20L4 18.59l7.72-7.72 1.47 1.35L5.41 20z\"/>\n",
              "  </svg>\n",
              "      </button>\n",
              "\n",
              "\n",
              "\n",
              "    <div id=\"df-14e82c5a-e8a9-401b-afd5-34044dac2d4d\">\n",
              "      <button class=\"colab-df-quickchart\" onclick=\"quickchart('df-14e82c5a-e8a9-401b-afd5-34044dac2d4d')\"\n",
              "              title=\"Suggest charts.\"\n",
              "              style=\"display:none;\">\n",
              "\n",
              "<svg xmlns=\"http://www.w3.org/2000/svg\" height=\"24px\"viewBox=\"0 0 24 24\"\n",
              "     width=\"24px\">\n",
              "    <g>\n",
              "        <path d=\"M19 3H5c-1.1 0-2 .9-2 2v14c0 1.1.9 2 2 2h14c1.1 0 2-.9 2-2V5c0-1.1-.9-2-2-2zM9 17H7v-7h2v7zm4 0h-2V7h2v10zm4 0h-2v-4h2v4z\"/>\n",
              "    </g>\n",
              "</svg>\n",
              "      </button>\n",
              "    </div>\n",
              "\n",
              "<style>\n",
              "  .colab-df-quickchart {\n",
              "    background-color: #E8F0FE;\n",
              "    border: none;\n",
              "    border-radius: 50%;\n",
              "    cursor: pointer;\n",
              "    display: none;\n",
              "    fill: #1967D2;\n",
              "    height: 32px;\n",
              "    padding: 0 0 0 0;\n",
              "    width: 32px;\n",
              "  }\n",
              "\n",
              "  .colab-df-quickchart:hover {\n",
              "    background-color: #E2EBFA;\n",
              "    box-shadow: 0px 1px 2px rgba(60, 64, 67, 0.3), 0px 1px 3px 1px rgba(60, 64, 67, 0.15);\n",
              "    fill: #174EA6;\n",
              "  }\n",
              "\n",
              "  [theme=dark] .colab-df-quickchart {\n",
              "    background-color: #3B4455;\n",
              "    fill: #D2E3FC;\n",
              "  }\n",
              "\n",
              "  [theme=dark] .colab-df-quickchart:hover {\n",
              "    background-color: #434B5C;\n",
              "    box-shadow: 0px 1px 3px 1px rgba(0, 0, 0, 0.15);\n",
              "    filter: drop-shadow(0px 1px 2px rgba(0, 0, 0, 0.3));\n",
              "    fill: #FFFFFF;\n",
              "  }\n",
              "</style>\n",
              "\n",
              "    <script>\n",
              "      async function quickchart(key) {\n",
              "        const containerElement = document.querySelector('#' + key);\n",
              "        const charts = await google.colab.kernel.invokeFunction(\n",
              "            'suggestCharts', [key], {});\n",
              "      }\n",
              "    </script>\n",
              "\n",
              "      <script>\n",
              "\n",
              "function displayQuickchartButton(domScope) {\n",
              "  let quickchartButtonEl =\n",
              "    domScope.querySelector('#df-14e82c5a-e8a9-401b-afd5-34044dac2d4d button.colab-df-quickchart');\n",
              "  quickchartButtonEl.style.display =\n",
              "    google.colab.kernel.accessAllowed ? 'block' : 'none';\n",
              "}\n",
              "\n",
              "        displayQuickchartButton(document);\n",
              "      </script>\n",
              "      <style>\n",
              "    .colab-df-container {\n",
              "      display:flex;\n",
              "      flex-wrap:wrap;\n",
              "      gap: 12px;\n",
              "    }\n",
              "\n",
              "    .colab-df-convert {\n",
              "      background-color: #E8F0FE;\n",
              "      border: none;\n",
              "      border-radius: 50%;\n",
              "      cursor: pointer;\n",
              "      display: none;\n",
              "      fill: #1967D2;\n",
              "      height: 32px;\n",
              "      padding: 0 0 0 0;\n",
              "      width: 32px;\n",
              "    }\n",
              "\n",
              "    .colab-df-convert:hover {\n",
              "      background-color: #E2EBFA;\n",
              "      box-shadow: 0px 1px 2px rgba(60, 64, 67, 0.3), 0px 1px 3px 1px rgba(60, 64, 67, 0.15);\n",
              "      fill: #174EA6;\n",
              "    }\n",
              "\n",
              "    [theme=dark] .colab-df-convert {\n",
              "      background-color: #3B4455;\n",
              "      fill: #D2E3FC;\n",
              "    }\n",
              "\n",
              "    [theme=dark] .colab-df-convert:hover {\n",
              "      background-color: #434B5C;\n",
              "      box-shadow: 0px 1px 3px 1px rgba(0, 0, 0, 0.15);\n",
              "      filter: drop-shadow(0px 1px 2px rgba(0, 0, 0, 0.3));\n",
              "      fill: #FFFFFF;\n",
              "    }\n",
              "  </style>\n",
              "\n",
              "      <script>\n",
              "        const buttonEl =\n",
              "          document.querySelector('#df-b7a11711-f9c3-490c-82a7-8952c56a5600 button.colab-df-convert');\n",
              "        buttonEl.style.display =\n",
              "          google.colab.kernel.accessAllowed ? 'block' : 'none';\n",
              "\n",
              "        async function convertToInteractive(key) {\n",
              "          const element = document.querySelector('#df-b7a11711-f9c3-490c-82a7-8952c56a5600');\n",
              "          const dataTable =\n",
              "            await google.colab.kernel.invokeFunction('convertToInteractive',\n",
              "                                                     [key], {});\n",
              "          if (!dataTable) return;\n",
              "\n",
              "          const docLinkHtml = 'Like what you see? Visit the ' +\n",
              "            '<a target=\"_blank\" href=https://colab.research.google.com/notebooks/data_table.ipynb>data table notebook</a>'\n",
              "            + ' to learn more about interactive tables.';\n",
              "          element.innerHTML = '';\n",
              "          dataTable['output_type'] = 'display_data';\n",
              "          await google.colab.output.renderOutput(dataTable, element);\n",
              "          const docLink = document.createElement('div');\n",
              "          docLink.innerHTML = docLinkHtml;\n",
              "          element.appendChild(docLink);\n",
              "        }\n",
              "      </script>\n",
              "    </div>\n",
              "  </div>\n"
            ]
          },
          "metadata": {},
          "execution_count": 19
        }
      ],
      "source": [
        "Xtrain"
      ]
    },
    {
      "cell_type": "code",
      "execution_count": null,
      "metadata": {
        "colab": {
          "base_uri": "https://localhost:8080/",
          "height": 115
        },
        "id": "4Yv3wMuA5-VD",
        "outputId": "e81b7ecb-3cb3-4178-e97e-47627e8c09b0"
      },
      "outputs": [
        {
          "output_type": "execute_result",
          "data": {
            "text/plain": [
              "ColumnTransformer(remainder='passthrough',\n",
              "                  transformers=[('oneHot', OneHotEncoder(use_cat_names=True),\n",
              "                                 ['PROPRIETAIRE', 'NIVEAU_ETUDE',\n",
              "                                  'NBRE_J_RETARD', 'OCCUPATION']),\n",
              "                                ('frequency',\n",
              "                                 FunctionTransformer(func=<function frequency_encode at 0x7cf5dbed4b80>),\n",
              "                                 ['SECTEUR_ACTIVITE'])])"
            ],
            "text/html": [
              "<style>#sk-container-id-2 {color: black;background-color: white;}#sk-container-id-2 pre{padding: 0;}#sk-container-id-2 div.sk-toggleable {background-color: white;}#sk-container-id-2 label.sk-toggleable__label {cursor: pointer;display: block;width: 100%;margin-bottom: 0;padding: 0.3em;box-sizing: border-box;text-align: center;}#sk-container-id-2 label.sk-toggleable__label-arrow:before {content: \"▸\";float: left;margin-right: 0.25em;color: #696969;}#sk-container-id-2 label.sk-toggleable__label-arrow:hover:before {color: black;}#sk-container-id-2 div.sk-estimator:hover label.sk-toggleable__label-arrow:before {color: black;}#sk-container-id-2 div.sk-toggleable__content {max-height: 0;max-width: 0;overflow: hidden;text-align: left;background-color: #f0f8ff;}#sk-container-id-2 div.sk-toggleable__content pre {margin: 0.2em;color: black;border-radius: 0.25em;background-color: #f0f8ff;}#sk-container-id-2 input.sk-toggleable__control:checked~div.sk-toggleable__content {max-height: 200px;max-width: 100%;overflow: auto;}#sk-container-id-2 input.sk-toggleable__control:checked~label.sk-toggleable__label-arrow:before {content: \"▾\";}#sk-container-id-2 div.sk-estimator input.sk-toggleable__control:checked~label.sk-toggleable__label {background-color: #d4ebff;}#sk-container-id-2 div.sk-label input.sk-toggleable__control:checked~label.sk-toggleable__label {background-color: #d4ebff;}#sk-container-id-2 input.sk-hidden--visually {border: 0;clip: rect(1px 1px 1px 1px);clip: rect(1px, 1px, 1px, 1px);height: 1px;margin: -1px;overflow: hidden;padding: 0;position: absolute;width: 1px;}#sk-container-id-2 div.sk-estimator {font-family: monospace;background-color: #f0f8ff;border: 1px dotted black;border-radius: 0.25em;box-sizing: border-box;margin-bottom: 0.5em;}#sk-container-id-2 div.sk-estimator:hover {background-color: #d4ebff;}#sk-container-id-2 div.sk-parallel-item::after {content: \"\";width: 100%;border-bottom: 1px solid gray;flex-grow: 1;}#sk-container-id-2 div.sk-label:hover label.sk-toggleable__label {background-color: #d4ebff;}#sk-container-id-2 div.sk-serial::before {content: \"\";position: absolute;border-left: 1px solid gray;box-sizing: border-box;top: 0;bottom: 0;left: 50%;z-index: 0;}#sk-container-id-2 div.sk-serial {display: flex;flex-direction: column;align-items: center;background-color: white;padding-right: 0.2em;padding-left: 0.2em;position: relative;}#sk-container-id-2 div.sk-item {position: relative;z-index: 1;}#sk-container-id-2 div.sk-parallel {display: flex;align-items: stretch;justify-content: center;background-color: white;position: relative;}#sk-container-id-2 div.sk-item::before, #sk-container-id-2 div.sk-parallel-item::before {content: \"\";position: absolute;border-left: 1px solid gray;box-sizing: border-box;top: 0;bottom: 0;left: 50%;z-index: -1;}#sk-container-id-2 div.sk-parallel-item {display: flex;flex-direction: column;z-index: 1;position: relative;background-color: white;}#sk-container-id-2 div.sk-parallel-item:first-child::after {align-self: flex-end;width: 50%;}#sk-container-id-2 div.sk-parallel-item:last-child::after {align-self: flex-start;width: 50%;}#sk-container-id-2 div.sk-parallel-item:only-child::after {width: 0;}#sk-container-id-2 div.sk-dashed-wrapped {border: 1px dashed gray;margin: 0 0.4em 0.5em 0.4em;box-sizing: border-box;padding-bottom: 0.4em;background-color: white;}#sk-container-id-2 div.sk-label label {font-family: monospace;font-weight: bold;display: inline-block;line-height: 1.2em;}#sk-container-id-2 div.sk-label-container {text-align: center;}#sk-container-id-2 div.sk-container {/* jupyter's `normalize.less` sets `[hidden] { display: none; }` but bootstrap.min.css set `[hidden] { display: none !important; }` so we also need the `!important` here to be able to override the default hidden behavior on the sphinx rendered scikit-learn.org. See: https://github.com/scikit-learn/scikit-learn/issues/21755 */display: inline-block !important;position: relative;}#sk-container-id-2 div.sk-text-repr-fallback {display: none;}</style><div id=\"sk-container-id-2\" class=\"sk-top-container\"><div class=\"sk-text-repr-fallback\"><pre>ColumnTransformer(remainder=&#x27;passthrough&#x27;,\n",
              "                  transformers=[(&#x27;oneHot&#x27;, OneHotEncoder(use_cat_names=True),\n",
              "                                 [&#x27;PROPRIETAIRE&#x27;, &#x27;NIVEAU_ETUDE&#x27;,\n",
              "                                  &#x27;NBRE_J_RETARD&#x27;, &#x27;OCCUPATION&#x27;]),\n",
              "                                (&#x27;frequency&#x27;,\n",
              "                                 FunctionTransformer(func=&lt;function frequency_encode at 0x7cf5dbed4b80&gt;),\n",
              "                                 [&#x27;SECTEUR_ACTIVITE&#x27;])])</pre><b>In a Jupyter environment, please rerun this cell to show the HTML representation or trust the notebook. <br />On GitHub, the HTML representation is unable to render, please try loading this page with nbviewer.org.</b></div><div class=\"sk-container\" hidden><div class=\"sk-item sk-dashed-wrapped\"><div class=\"sk-label-container\"><div class=\"sk-label sk-toggleable\"><input class=\"sk-toggleable__control sk-hidden--visually\" id=\"sk-estimator-id-2\" type=\"checkbox\" ><label for=\"sk-estimator-id-2\" class=\"sk-toggleable__label sk-toggleable__label-arrow\">ColumnTransformer</label><div class=\"sk-toggleable__content\"><pre>ColumnTransformer(remainder=&#x27;passthrough&#x27;,\n",
              "                  transformers=[(&#x27;oneHot&#x27;, OneHotEncoder(use_cat_names=True),\n",
              "                                 [&#x27;PROPRIETAIRE&#x27;, &#x27;NIVEAU_ETUDE&#x27;,\n",
              "                                  &#x27;NBRE_J_RETARD&#x27;, &#x27;OCCUPATION&#x27;]),\n",
              "                                (&#x27;frequency&#x27;,\n",
              "                                 FunctionTransformer(func=&lt;function frequency_encode at 0x7cf5dbed4b80&gt;),\n",
              "                                 [&#x27;SECTEUR_ACTIVITE&#x27;])])</pre></div></div></div><div class=\"sk-parallel\"><div class=\"sk-parallel-item\"><div class=\"sk-item\"><div class=\"sk-label-container\"><div class=\"sk-label sk-toggleable\"><input class=\"sk-toggleable__control sk-hidden--visually\" id=\"sk-estimator-id-3\" type=\"checkbox\" ><label for=\"sk-estimator-id-3\" class=\"sk-toggleable__label sk-toggleable__label-arrow\">oneHot</label><div class=\"sk-toggleable__content\"><pre>[&#x27;PROPRIETAIRE&#x27;, &#x27;NIVEAU_ETUDE&#x27;, &#x27;NBRE_J_RETARD&#x27;, &#x27;OCCUPATION&#x27;]</pre></div></div></div><div class=\"sk-serial\"><div class=\"sk-item\"><div class=\"sk-estimator sk-toggleable\"><input class=\"sk-toggleable__control sk-hidden--visually\" id=\"sk-estimator-id-4\" type=\"checkbox\" ><label for=\"sk-estimator-id-4\" class=\"sk-toggleable__label sk-toggleable__label-arrow\">OneHotEncoder</label><div class=\"sk-toggleable__content\"><pre>OneHotEncoder(use_cat_names=True)</pre></div></div></div></div></div></div><div class=\"sk-parallel-item\"><div class=\"sk-item\"><div class=\"sk-label-container\"><div class=\"sk-label sk-toggleable\"><input class=\"sk-toggleable__control sk-hidden--visually\" id=\"sk-estimator-id-5\" type=\"checkbox\" ><label for=\"sk-estimator-id-5\" class=\"sk-toggleable__label sk-toggleable__label-arrow\">frequency</label><div class=\"sk-toggleable__content\"><pre>[&#x27;SECTEUR_ACTIVITE&#x27;]</pre></div></div></div><div class=\"sk-serial\"><div class=\"sk-item\"><div class=\"sk-estimator sk-toggleable\"><input class=\"sk-toggleable__control sk-hidden--visually\" id=\"sk-estimator-id-6\" type=\"checkbox\" ><label for=\"sk-estimator-id-6\" class=\"sk-toggleable__label sk-toggleable__label-arrow\">FunctionTransformer</label><div class=\"sk-toggleable__content\"><pre>FunctionTransformer(func=&lt;function frequency_encode at 0x7cf5dbed4b80&gt;)</pre></div></div></div></div></div></div><div class=\"sk-parallel-item\"><div class=\"sk-item\"><div class=\"sk-label-container\"><div class=\"sk-label sk-toggleable\"><input class=\"sk-toggleable__control sk-hidden--visually\" id=\"sk-estimator-id-7\" type=\"checkbox\" ><label for=\"sk-estimator-id-7\" class=\"sk-toggleable__label sk-toggleable__label-arrow\">remainder</label><div class=\"sk-toggleable__content\"><pre>[&#x27;NBRE_ENFANT&#x27;, &#x27;ANCIENNETE_CREDIT&#x27;, &#x27;CHARGES_ANNUEL&#x27;, &#x27;REVENUS_TOT&#x27;, &#x27;MONTANT_CREDIT&#x27;, &#x27;CC_RATIO_CREDIT&#x27;, &#x27;AGE&#x27;, &#x27;ANCIENNETE_EMPLOI&#x27;, &#x27;SCORE_REGION&#x27;, &#x27;HEURE_APP&#x27;, &#x27;SCORE_2_EXT&#x27;, &#x27;RATIO_ENDETT(%)&#x27;, &#x27;NBRE_CONTRAT_ACTIFS&#x27;, &#x27;POS_PROGRESS_MAX_MIN&#x27;, &#x27;CC_NOMBRE_RETRAIT_MOYEN&#x27;, &#x27;CB_SOMME_DUES_RETARD&#x27;]</pre></div></div></div><div class=\"sk-serial\"><div class=\"sk-item\"><div class=\"sk-estimator sk-toggleable\"><input class=\"sk-toggleable__control sk-hidden--visually\" id=\"sk-estimator-id-8\" type=\"checkbox\" ><label for=\"sk-estimator-id-8\" class=\"sk-toggleable__label sk-toggleable__label-arrow\">passthrough</label><div class=\"sk-toggleable__content\"><pre>passthrough</pre></div></div></div></div></div></div></div></div></div></div>"
            ]
          },
          "metadata": {},
          "execution_count": 20
        }
      ],
      "source": [
        "#Vérification du feature engineering\n",
        "ct = preprocessor.fit(Xtrain,ytrain)\n",
        "ct.set_output(transform=\"pandas\")"
      ]
    },
    {
      "cell_type": "code",
      "execution_count": null,
      "metadata": {
        "colab": {
          "base_uri": "https://localhost:8080/"
        },
        "id": "x6LrW74FmPA6",
        "outputId": "12a26fb3-f59f-4f42-c27a-aa821a621ec0"
      },
      "outputs": [
        {
          "output_type": "execute_result",
          "data": {
            "text/plain": [
              "['preprocessing_2.pkl']"
            ]
          },
          "metadata": {},
          "execution_count": 21
        }
      ],
      "source": [
        "import joblib\n",
        "\n",
        "# Importation du pré-traitement.\n",
        "joblib.dump(ct,'preprocessing_2.pkl')"
      ]
    },
    {
      "cell_type": "code",
      "execution_count": null,
      "metadata": {
        "colab": {
          "base_uri": "https://localhost:8080/",
          "height": 500
        },
        "id": "mUgd9-Sa6PQF",
        "outputId": "3b120063-36e5-4903-e102-6c5a37d3d665"
      },
      "outputs": [
        {
          "output_type": "execute_result",
          "data": {
            "text/plain": [
              "        oneHot__PROPRIETAIRE_N  oneHot__PROPRIETAIRE_Y  \\\n",
              "15052                        1                       0   \n",
              "18524                        0                       1   \n",
              "107905                       1                       0   \n",
              "217713                       0                       1   \n",
              "268811                       0                       1   \n",
              "...                        ...                     ...   \n",
              "258563                       1                       0   \n",
              "104018                       0                       1   \n",
              "100555                       0                       1   \n",
              "242921                       0                       1   \n",
              "131518                       0                       1   \n",
              "\n",
              "        oneHot__NIVEAU_ETUDE_ENS_SUP  oneHot__NIVEAU_ETUDE_BAC  \\\n",
              "15052                              1                         0   \n",
              "18524                              0                         1   \n",
              "107905                             0                         1   \n",
              "217713                             0                         1   \n",
              "268811                             0                         1   \n",
              "...                              ...                       ...   \n",
              "258563                             1                         0   \n",
              "104018                             0                         1   \n",
              "100555                             1                         0   \n",
              "242921                             0                         1   \n",
              "131518                             0                         1   \n",
              "\n",
              "        oneHot__NIVEAU_ETUDE_COLLEGE  oneHot__NBRE_J_RETARD  \\\n",
              "15052                              0               0.090909   \n",
              "18524                              0               0.666667   \n",
              "107905                             0               0.533333   \n",
              "217713                             0               0.000000   \n",
              "268811                             0               0.000000   \n",
              "...                              ...                    ...   \n",
              "258563                             0               0.000000   \n",
              "104018                             0               0.000000   \n",
              "100555                             0               0.000000   \n",
              "242921                             0               0.103448   \n",
              "131518                             0               0.111111   \n",
              "\n",
              "        oneHot__OCCUPATION_Working  oneHot__OCCUPATION_State servant  \\\n",
              "15052                            1                                 0   \n",
              "18524                            1                                 0   \n",
              "107905                           1                                 0   \n",
              "217713                           0                                 1   \n",
              "268811                           1                                 0   \n",
              "...                            ...                               ...   \n",
              "258563                           0                                 0   \n",
              "104018                           1                                 0   \n",
              "100555                           0                                 0   \n",
              "242921                           1                                 0   \n",
              "131518                           1                                 0   \n",
              "\n",
              "        oneHot__OCCUPATION_Commercial associate  oneHot__OCCUPATION_Pensioner  \\\n",
              "15052                                         0                             0   \n",
              "18524                                         0                             0   \n",
              "107905                                        0                             0   \n",
              "217713                                        0                             0   \n",
              "268811                                        0                             0   \n",
              "...                                         ...                           ...   \n",
              "258563                                        1                             0   \n",
              "104018                                        0                             0   \n",
              "100555                                        1                             0   \n",
              "242921                                        0                             0   \n",
              "131518                                        0                             0   \n",
              "\n",
              "        ...  remainder__AGE  remainder__ANCIENNETE_EMPLOI  \\\n",
              "15052   ...              26                             2   \n",
              "18524   ...              39                             1   \n",
              "107905  ...              50                             7   \n",
              "217713  ...              52                             6   \n",
              "268811  ...              42                             8   \n",
              "...     ...             ...                           ...   \n",
              "258563  ...              35                             2   \n",
              "104018  ...              45                             7   \n",
              "100555  ...              32                             4   \n",
              "242921  ...              41                             1   \n",
              "131518  ...              45                            18   \n",
              "\n",
              "        remainder__SCORE_REGION  remainder__HEURE_APP  remainder__SCORE_2_EXT  \\\n",
              "15052                         2                    17                0.285621   \n",
              "18524                         2                     7                0.039302   \n",
              "107905                        2                    12                0.603289   \n",
              "217713                        2                    11                0.607155   \n",
              "268811                        2                    11                0.083132   \n",
              "...                         ...                   ...                     ...   \n",
              "258563                        2                    19                0.623294   \n",
              "104018                        2                    11                0.458592   \n",
              "100555                        1                    13                0.810070   \n",
              "242921                        3                     8                0.054464   \n",
              "131518                        2                    15                0.333046   \n",
              "\n",
              "        remainder__RATIO_ENDETT(%)  remainder__NBRE_CONTRAT_ACTIFS  \\\n",
              "15052                          5.0                             1.0   \n",
              "18524                         17.0                             1.0   \n",
              "107905                        10.0                             0.0   \n",
              "217713                         7.9                             1.0   \n",
              "268811                         4.7                             1.0   \n",
              "...                            ...                             ...   \n",
              "258563                        18.0                             3.0   \n",
              "104018                        14.8                             0.0   \n",
              "100555                         6.4                             2.0   \n",
              "242921                        22.9                             1.0   \n",
              "131518                        14.4                             1.0   \n",
              "\n",
              "        remainder__POS_PROGRESS_MAX_MIN  remainder__CC_NOMBRE_RETRAIT_MOYEN  \\\n",
              "15052                         41.666667                            0.000000   \n",
              "18524                         33.333333                            0.000000   \n",
              "107905                       100.000000                            0.000000   \n",
              "217713                        16.666667                            0.000000   \n",
              "268811                        83.333333                            0.000000   \n",
              "...                                 ...                                 ...   \n",
              "258563                        58.333333                            0.000000   \n",
              "104018                       100.000000                            0.000000   \n",
              "100555                       100.000000                            0.000000   \n",
              "242921                       100.000000                            1.350000   \n",
              "131518                        87.500000                            0.115789   \n",
              "\n",
              "        remainder__CB_SOMME_DUES_RETARD  \n",
              "15052                               0.0  \n",
              "18524                               0.0  \n",
              "107905                              0.0  \n",
              "217713                              0.0  \n",
              "268811                              0.0  \n",
              "...                                 ...  \n",
              "258563                              0.0  \n",
              "104018                              0.0  \n",
              "100555                              0.0  \n",
              "242921                              0.0  \n",
              "131518                              0.0  \n",
              "\n",
              "[49621 rows x 31 columns]"
            ],
            "text/html": [
              "\n",
              "\n",
              "  <div id=\"df-792f920e-46d2-43bd-8d1b-1d41b1e76b95\">\n",
              "    <div class=\"colab-df-container\">\n",
              "      <div>\n",
              "<style scoped>\n",
              "    .dataframe tbody tr th:only-of-type {\n",
              "        vertical-align: middle;\n",
              "    }\n",
              "\n",
              "    .dataframe tbody tr th {\n",
              "        vertical-align: top;\n",
              "    }\n",
              "\n",
              "    .dataframe thead th {\n",
              "        text-align: right;\n",
              "    }\n",
              "</style>\n",
              "<table border=\"1\" class=\"dataframe\">\n",
              "  <thead>\n",
              "    <tr style=\"text-align: right;\">\n",
              "      <th></th>\n",
              "      <th>oneHot__PROPRIETAIRE_N</th>\n",
              "      <th>oneHot__PROPRIETAIRE_Y</th>\n",
              "      <th>oneHot__NIVEAU_ETUDE_ENS_SUP</th>\n",
              "      <th>oneHot__NIVEAU_ETUDE_BAC</th>\n",
              "      <th>oneHot__NIVEAU_ETUDE_COLLEGE</th>\n",
              "      <th>oneHot__NBRE_J_RETARD</th>\n",
              "      <th>oneHot__OCCUPATION_Working</th>\n",
              "      <th>oneHot__OCCUPATION_State servant</th>\n",
              "      <th>oneHot__OCCUPATION_Commercial associate</th>\n",
              "      <th>oneHot__OCCUPATION_Pensioner</th>\n",
              "      <th>...</th>\n",
              "      <th>remainder__AGE</th>\n",
              "      <th>remainder__ANCIENNETE_EMPLOI</th>\n",
              "      <th>remainder__SCORE_REGION</th>\n",
              "      <th>remainder__HEURE_APP</th>\n",
              "      <th>remainder__SCORE_2_EXT</th>\n",
              "      <th>remainder__RATIO_ENDETT(%)</th>\n",
              "      <th>remainder__NBRE_CONTRAT_ACTIFS</th>\n",
              "      <th>remainder__POS_PROGRESS_MAX_MIN</th>\n",
              "      <th>remainder__CC_NOMBRE_RETRAIT_MOYEN</th>\n",
              "      <th>remainder__CB_SOMME_DUES_RETARD</th>\n",
              "    </tr>\n",
              "  </thead>\n",
              "  <tbody>\n",
              "    <tr>\n",
              "      <th>15052</th>\n",
              "      <td>1</td>\n",
              "      <td>0</td>\n",
              "      <td>1</td>\n",
              "      <td>0</td>\n",
              "      <td>0</td>\n",
              "      <td>0.090909</td>\n",
              "      <td>1</td>\n",
              "      <td>0</td>\n",
              "      <td>0</td>\n",
              "      <td>0</td>\n",
              "      <td>...</td>\n",
              "      <td>26</td>\n",
              "      <td>2</td>\n",
              "      <td>2</td>\n",
              "      <td>17</td>\n",
              "      <td>0.285621</td>\n",
              "      <td>5.0</td>\n",
              "      <td>1.0</td>\n",
              "      <td>41.666667</td>\n",
              "      <td>0.000000</td>\n",
              "      <td>0.0</td>\n",
              "    </tr>\n",
              "    <tr>\n",
              "      <th>18524</th>\n",
              "      <td>0</td>\n",
              "      <td>1</td>\n",
              "      <td>0</td>\n",
              "      <td>1</td>\n",
              "      <td>0</td>\n",
              "      <td>0.666667</td>\n",
              "      <td>1</td>\n",
              "      <td>0</td>\n",
              "      <td>0</td>\n",
              "      <td>0</td>\n",
              "      <td>...</td>\n",
              "      <td>39</td>\n",
              "      <td>1</td>\n",
              "      <td>2</td>\n",
              "      <td>7</td>\n",
              "      <td>0.039302</td>\n",
              "      <td>17.0</td>\n",
              "      <td>1.0</td>\n",
              "      <td>33.333333</td>\n",
              "      <td>0.000000</td>\n",
              "      <td>0.0</td>\n",
              "    </tr>\n",
              "    <tr>\n",
              "      <th>107905</th>\n",
              "      <td>1</td>\n",
              "      <td>0</td>\n",
              "      <td>0</td>\n",
              "      <td>1</td>\n",
              "      <td>0</td>\n",
              "      <td>0.533333</td>\n",
              "      <td>1</td>\n",
              "      <td>0</td>\n",
              "      <td>0</td>\n",
              "      <td>0</td>\n",
              "      <td>...</td>\n",
              "      <td>50</td>\n",
              "      <td>7</td>\n",
              "      <td>2</td>\n",
              "      <td>12</td>\n",
              "      <td>0.603289</td>\n",
              "      <td>10.0</td>\n",
              "      <td>0.0</td>\n",
              "      <td>100.000000</td>\n",
              "      <td>0.000000</td>\n",
              "      <td>0.0</td>\n",
              "    </tr>\n",
              "    <tr>\n",
              "      <th>217713</th>\n",
              "      <td>0</td>\n",
              "      <td>1</td>\n",
              "      <td>0</td>\n",
              "      <td>1</td>\n",
              "      <td>0</td>\n",
              "      <td>0.000000</td>\n",
              "      <td>0</td>\n",
              "      <td>1</td>\n",
              "      <td>0</td>\n",
              "      <td>0</td>\n",
              "      <td>...</td>\n",
              "      <td>52</td>\n",
              "      <td>6</td>\n",
              "      <td>2</td>\n",
              "      <td>11</td>\n",
              "      <td>0.607155</td>\n",
              "      <td>7.9</td>\n",
              "      <td>1.0</td>\n",
              "      <td>16.666667</td>\n",
              "      <td>0.000000</td>\n",
              "      <td>0.0</td>\n",
              "    </tr>\n",
              "    <tr>\n",
              "      <th>268811</th>\n",
              "      <td>0</td>\n",
              "      <td>1</td>\n",
              "      <td>0</td>\n",
              "      <td>1</td>\n",
              "      <td>0</td>\n",
              "      <td>0.000000</td>\n",
              "      <td>1</td>\n",
              "      <td>0</td>\n",
              "      <td>0</td>\n",
              "      <td>0</td>\n",
              "      <td>...</td>\n",
              "      <td>42</td>\n",
              "      <td>8</td>\n",
              "      <td>2</td>\n",
              "      <td>11</td>\n",
              "      <td>0.083132</td>\n",
              "      <td>4.7</td>\n",
              "      <td>1.0</td>\n",
              "      <td>83.333333</td>\n",
              "      <td>0.000000</td>\n",
              "      <td>0.0</td>\n",
              "    </tr>\n",
              "    <tr>\n",
              "      <th>...</th>\n",
              "      <td>...</td>\n",
              "      <td>...</td>\n",
              "      <td>...</td>\n",
              "      <td>...</td>\n",
              "      <td>...</td>\n",
              "      <td>...</td>\n",
              "      <td>...</td>\n",
              "      <td>...</td>\n",
              "      <td>...</td>\n",
              "      <td>...</td>\n",
              "      <td>...</td>\n",
              "      <td>...</td>\n",
              "      <td>...</td>\n",
              "      <td>...</td>\n",
              "      <td>...</td>\n",
              "      <td>...</td>\n",
              "      <td>...</td>\n",
              "      <td>...</td>\n",
              "      <td>...</td>\n",
              "      <td>...</td>\n",
              "      <td>...</td>\n",
              "    </tr>\n",
              "    <tr>\n",
              "      <th>258563</th>\n",
              "      <td>1</td>\n",
              "      <td>0</td>\n",
              "      <td>1</td>\n",
              "      <td>0</td>\n",
              "      <td>0</td>\n",
              "      <td>0.000000</td>\n",
              "      <td>0</td>\n",
              "      <td>0</td>\n",
              "      <td>1</td>\n",
              "      <td>0</td>\n",
              "      <td>...</td>\n",
              "      <td>35</td>\n",
              "      <td>2</td>\n",
              "      <td>2</td>\n",
              "      <td>19</td>\n",
              "      <td>0.623294</td>\n",
              "      <td>18.0</td>\n",
              "      <td>3.0</td>\n",
              "      <td>58.333333</td>\n",
              "      <td>0.000000</td>\n",
              "      <td>0.0</td>\n",
              "    </tr>\n",
              "    <tr>\n",
              "      <th>104018</th>\n",
              "      <td>0</td>\n",
              "      <td>1</td>\n",
              "      <td>0</td>\n",
              "      <td>1</td>\n",
              "      <td>0</td>\n",
              "      <td>0.000000</td>\n",
              "      <td>1</td>\n",
              "      <td>0</td>\n",
              "      <td>0</td>\n",
              "      <td>0</td>\n",
              "      <td>...</td>\n",
              "      <td>45</td>\n",
              "      <td>7</td>\n",
              "      <td>2</td>\n",
              "      <td>11</td>\n",
              "      <td>0.458592</td>\n",
              "      <td>14.8</td>\n",
              "      <td>0.0</td>\n",
              "      <td>100.000000</td>\n",
              "      <td>0.000000</td>\n",
              "      <td>0.0</td>\n",
              "    </tr>\n",
              "    <tr>\n",
              "      <th>100555</th>\n",
              "      <td>0</td>\n",
              "      <td>1</td>\n",
              "      <td>1</td>\n",
              "      <td>0</td>\n",
              "      <td>0</td>\n",
              "      <td>0.000000</td>\n",
              "      <td>0</td>\n",
              "      <td>0</td>\n",
              "      <td>1</td>\n",
              "      <td>0</td>\n",
              "      <td>...</td>\n",
              "      <td>32</td>\n",
              "      <td>4</td>\n",
              "      <td>1</td>\n",
              "      <td>13</td>\n",
              "      <td>0.810070</td>\n",
              "      <td>6.4</td>\n",
              "      <td>2.0</td>\n",
              "      <td>100.000000</td>\n",
              "      <td>0.000000</td>\n",
              "      <td>0.0</td>\n",
              "    </tr>\n",
              "    <tr>\n",
              "      <th>242921</th>\n",
              "      <td>0</td>\n",
              "      <td>1</td>\n",
              "      <td>0</td>\n",
              "      <td>1</td>\n",
              "      <td>0</td>\n",
              "      <td>0.103448</td>\n",
              "      <td>1</td>\n",
              "      <td>0</td>\n",
              "      <td>0</td>\n",
              "      <td>0</td>\n",
              "      <td>...</td>\n",
              "      <td>41</td>\n",
              "      <td>1</td>\n",
              "      <td>3</td>\n",
              "      <td>8</td>\n",
              "      <td>0.054464</td>\n",
              "      <td>22.9</td>\n",
              "      <td>1.0</td>\n",
              "      <td>100.000000</td>\n",
              "      <td>1.350000</td>\n",
              "      <td>0.0</td>\n",
              "    </tr>\n",
              "    <tr>\n",
              "      <th>131518</th>\n",
              "      <td>0</td>\n",
              "      <td>1</td>\n",
              "      <td>0</td>\n",
              "      <td>1</td>\n",
              "      <td>0</td>\n",
              "      <td>0.111111</td>\n",
              "      <td>1</td>\n",
              "      <td>0</td>\n",
              "      <td>0</td>\n",
              "      <td>0</td>\n",
              "      <td>...</td>\n",
              "      <td>45</td>\n",
              "      <td>18</td>\n",
              "      <td>2</td>\n",
              "      <td>15</td>\n",
              "      <td>0.333046</td>\n",
              "      <td>14.4</td>\n",
              "      <td>1.0</td>\n",
              "      <td>87.500000</td>\n",
              "      <td>0.115789</td>\n",
              "      <td>0.0</td>\n",
              "    </tr>\n",
              "  </tbody>\n",
              "</table>\n",
              "<p>49621 rows × 31 columns</p>\n",
              "</div>\n",
              "      <button class=\"colab-df-convert\" onclick=\"convertToInteractive('df-792f920e-46d2-43bd-8d1b-1d41b1e76b95')\"\n",
              "              title=\"Convert this dataframe to an interactive table.\"\n",
              "              style=\"display:none;\">\n",
              "\n",
              "  <svg xmlns=\"http://www.w3.org/2000/svg\" height=\"24px\"viewBox=\"0 0 24 24\"\n",
              "       width=\"24px\">\n",
              "    <path d=\"M0 0h24v24H0V0z\" fill=\"none\"/>\n",
              "    <path d=\"M18.56 5.44l.94 2.06.94-2.06 2.06-.94-2.06-.94-.94-2.06-.94 2.06-2.06.94zm-11 1L8.5 8.5l.94-2.06 2.06-.94-2.06-.94L8.5 2.5l-.94 2.06-2.06.94zm10 10l.94 2.06.94-2.06 2.06-.94-2.06-.94-.94-2.06-.94 2.06-2.06.94z\"/><path d=\"M17.41 7.96l-1.37-1.37c-.4-.4-.92-.59-1.43-.59-.52 0-1.04.2-1.43.59L10.3 9.45l-7.72 7.72c-.78.78-.78 2.05 0 2.83L4 21.41c.39.39.9.59 1.41.59.51 0 1.02-.2 1.41-.59l7.78-7.78 2.81-2.81c.8-.78.8-2.07 0-2.86zM5.41 20L4 18.59l7.72-7.72 1.47 1.35L5.41 20z\"/>\n",
              "  </svg>\n",
              "      </button>\n",
              "\n",
              "\n",
              "\n",
              "    <div id=\"df-da292cc2-1050-4857-9ae4-2db1e0c4b550\">\n",
              "      <button class=\"colab-df-quickchart\" onclick=\"quickchart('df-da292cc2-1050-4857-9ae4-2db1e0c4b550')\"\n",
              "              title=\"Suggest charts.\"\n",
              "              style=\"display:none;\">\n",
              "\n",
              "<svg xmlns=\"http://www.w3.org/2000/svg\" height=\"24px\"viewBox=\"0 0 24 24\"\n",
              "     width=\"24px\">\n",
              "    <g>\n",
              "        <path d=\"M19 3H5c-1.1 0-2 .9-2 2v14c0 1.1.9 2 2 2h14c1.1 0 2-.9 2-2V5c0-1.1-.9-2-2-2zM9 17H7v-7h2v7zm4 0h-2V7h2v10zm4 0h-2v-4h2v4z\"/>\n",
              "    </g>\n",
              "</svg>\n",
              "      </button>\n",
              "    </div>\n",
              "\n",
              "<style>\n",
              "  .colab-df-quickchart {\n",
              "    background-color: #E8F0FE;\n",
              "    border: none;\n",
              "    border-radius: 50%;\n",
              "    cursor: pointer;\n",
              "    display: none;\n",
              "    fill: #1967D2;\n",
              "    height: 32px;\n",
              "    padding: 0 0 0 0;\n",
              "    width: 32px;\n",
              "  }\n",
              "\n",
              "  .colab-df-quickchart:hover {\n",
              "    background-color: #E2EBFA;\n",
              "    box-shadow: 0px 1px 2px rgba(60, 64, 67, 0.3), 0px 1px 3px 1px rgba(60, 64, 67, 0.15);\n",
              "    fill: #174EA6;\n",
              "  }\n",
              "\n",
              "  [theme=dark] .colab-df-quickchart {\n",
              "    background-color: #3B4455;\n",
              "    fill: #D2E3FC;\n",
              "  }\n",
              "\n",
              "  [theme=dark] .colab-df-quickchart:hover {\n",
              "    background-color: #434B5C;\n",
              "    box-shadow: 0px 1px 3px 1px rgba(0, 0, 0, 0.15);\n",
              "    filter: drop-shadow(0px 1px 2px rgba(0, 0, 0, 0.3));\n",
              "    fill: #FFFFFF;\n",
              "  }\n",
              "</style>\n",
              "\n",
              "    <script>\n",
              "      async function quickchart(key) {\n",
              "        const containerElement = document.querySelector('#' + key);\n",
              "        const charts = await google.colab.kernel.invokeFunction(\n",
              "            'suggestCharts', [key], {});\n",
              "      }\n",
              "    </script>\n",
              "\n",
              "      <script>\n",
              "\n",
              "function displayQuickchartButton(domScope) {\n",
              "  let quickchartButtonEl =\n",
              "    domScope.querySelector('#df-da292cc2-1050-4857-9ae4-2db1e0c4b550 button.colab-df-quickchart');\n",
              "  quickchartButtonEl.style.display =\n",
              "    google.colab.kernel.accessAllowed ? 'block' : 'none';\n",
              "}\n",
              "\n",
              "        displayQuickchartButton(document);\n",
              "      </script>\n",
              "      <style>\n",
              "    .colab-df-container {\n",
              "      display:flex;\n",
              "      flex-wrap:wrap;\n",
              "      gap: 12px;\n",
              "    }\n",
              "\n",
              "    .colab-df-convert {\n",
              "      background-color: #E8F0FE;\n",
              "      border: none;\n",
              "      border-radius: 50%;\n",
              "      cursor: pointer;\n",
              "      display: none;\n",
              "      fill: #1967D2;\n",
              "      height: 32px;\n",
              "      padding: 0 0 0 0;\n",
              "      width: 32px;\n",
              "    }\n",
              "\n",
              "    .colab-df-convert:hover {\n",
              "      background-color: #E2EBFA;\n",
              "      box-shadow: 0px 1px 2px rgba(60, 64, 67, 0.3), 0px 1px 3px 1px rgba(60, 64, 67, 0.15);\n",
              "      fill: #174EA6;\n",
              "    }\n",
              "\n",
              "    [theme=dark] .colab-df-convert {\n",
              "      background-color: #3B4455;\n",
              "      fill: #D2E3FC;\n",
              "    }\n",
              "\n",
              "    [theme=dark] .colab-df-convert:hover {\n",
              "      background-color: #434B5C;\n",
              "      box-shadow: 0px 1px 3px 1px rgba(0, 0, 0, 0.15);\n",
              "      filter: drop-shadow(0px 1px 2px rgba(0, 0, 0, 0.3));\n",
              "      fill: #FFFFFF;\n",
              "    }\n",
              "  </style>\n",
              "\n",
              "      <script>\n",
              "        const buttonEl =\n",
              "          document.querySelector('#df-792f920e-46d2-43bd-8d1b-1d41b1e76b95 button.colab-df-convert');\n",
              "        buttonEl.style.display =\n",
              "          google.colab.kernel.accessAllowed ? 'block' : 'none';\n",
              "\n",
              "        async function convertToInteractive(key) {\n",
              "          const element = document.querySelector('#df-792f920e-46d2-43bd-8d1b-1d41b1e76b95');\n",
              "          const dataTable =\n",
              "            await google.colab.kernel.invokeFunction('convertToInteractive',\n",
              "                                                     [key], {});\n",
              "          if (!dataTable) return;\n",
              "\n",
              "          const docLinkHtml = 'Like what you see? Visit the ' +\n",
              "            '<a target=\"_blank\" href=https://colab.research.google.com/notebooks/data_table.ipynb>data table notebook</a>'\n",
              "            + ' to learn more about interactive tables.';\n",
              "          element.innerHTML = '';\n",
              "          dataTable['output_type'] = 'display_data';\n",
              "          await google.colab.output.renderOutput(dataTable, element);\n",
              "          const docLink = document.createElement('div');\n",
              "          docLink.innerHTML = docLinkHtml;\n",
              "          element.appendChild(docLink);\n",
              "        }\n",
              "      </script>\n",
              "    </div>\n",
              "  </div>\n"
            ]
          },
          "metadata": {},
          "execution_count": 22
        }
      ],
      "source": [
        "X_new_transformed = preprocessor.transform(Xtrain)\n",
        "X_new_transformed"
      ]
    },
    {
      "cell_type": "markdown",
      "metadata": {
        "id": "KGDnaV8sYJtZ"
      },
      "source": [
        "# <a name=\"C3\"> 3. Entraînement du modèle et score métier </a>"
      ]
    },
    {
      "cell_type": "code",
      "execution_count": null,
      "metadata": {
        "id": "bTW8WJL8ahpW"
      },
      "outputs": [],
      "source": [
        "from sklearn.metrics import make_scorer, precision_score, recall_score, roc_auc_score\n",
        "from sklearn.metrics import confusion_matrix\n",
        "\n",
        "def recall_seuil(y_true, y_prob):\n",
        "    y_pred = ((y_prob >= threshold).astype(int)).astype(str)\n",
        "    return recall_score(y_true, y_pred,  pos_label = '1')\n",
        "\n",
        "def precision_seuil(y_true, y_prob):\n",
        "    y_pred = ((y_prob >= threshold).astype(int)).astype(str)\n",
        "    return precision_score(y_true, y_pred,  pos_label = '1')\n",
        "\n",
        "def fonction_cout(y_true, y_prob):\n",
        "    y_pred = ((y_prob >= threshold).astype(int)).astype(str)\n",
        "    cm = confusion_matrix(y_true, y_pred)\n",
        "    fn = cm[1, 0]  # Faux négatifs\n",
        "    fp = cm[0, 1]  # Faux positifs\n",
        "    cost = 10*fn + fp\n",
        "    return cost\n"
      ]
    },
    {
      "cell_type": "code",
      "execution_count": null,
      "metadata": {
        "colab": {
          "base_uri": "https://localhost:8080/"
        },
        "id": "0IxHbmGmm5-G",
        "outputId": "e6eb32ae-d7ec-4ae2-df9e-a38cb4d8adfb"
      },
      "outputs": [
        {
          "name": "stdout",
          "output_type": "stream",
          "text": [
            "Entrer le seuil de classification à tester :  0.4\n"
          ]
        }
      ],
      "source": [
        "threshold = float(input(\"Entrer le seuil de classification à tester :  \"))"
      ]
    },
    {
      "cell_type": "code",
      "execution_count": null,
      "metadata": {
        "id": "GTnyN7l_zpS2"
      },
      "outputs": [],
      "source": [
        "from imblearn.pipeline import make_pipeline\n",
        "cv = 10\n",
        "\n",
        "#threshold = 0.4 # 0.4, 0.42, 0.43, 0.2\n",
        "\n",
        "score = {'accuracy': 'accuracy',\n",
        "         #'precision': metrics.make_scorer(precision_score, pos_label='1'),\n",
        "         #'recall' : metrics.make_scorer(recall_score, pos_label='1'),\n",
        "         'roc_auc' : metrics.make_scorer(roc_auc_score, needs_proba=True),\n",
        "         'recall': metrics.make_scorer(recall_seuil, needs_proba=True),\n",
        "         'precision': metrics.make_scorer(precision_seuil, needs_proba=True),\n",
        "         'score_metier': metrics.make_scorer(fonction_cout, greater_is_better=False, needs_proba=True),\n",
        "         }\n",
        "\n",
        "param_grid = models_dict[model][2]\n",
        "estimator = models_dict[model][0]\n",
        "\n",
        "if option == 2:\n",
        "  Pipe_smote = make_pipeline(\n",
        "      smote,\n",
        "      models_dict[model][0])\n",
        "  id_model = str(models_dict[model][0]).split('(')[0].lower()\n",
        "  param_grid_bis= {\n",
        "        id_model+'__' + k: v for k, v in param_grid.items()\n",
        "    }\n",
        "  Pipe_0 = make_pipeline(\n",
        "        preprocessor,\n",
        "        smote,\n",
        "        model_selection.GridSearchCV(\n",
        "            estimator=Pipe_smote,\n",
        "            param_grid=param_grid_bis,\n",
        "            cv=cv,\n",
        "            scoring=score,\n",
        "            refit='score_metier',\n",
        "            error_score='raise',\n",
        "            n_jobs=-1\n",
        "        ))\n",
        "else :\n",
        "  Pipe_0 = Pipeline([\n",
        "    ('preprocessor', preprocessor),\n",
        "    ('grid_search_'+model, model_selection.GridSearchCV(estimator=estimator,\n",
        "                                        param_grid=param_grid,\n",
        "                                        cv=cv,\n",
        "                                        scoring=score,\n",
        "                                        refit='score_metier',\n",
        "                                        error_score='raise',\n",
        "                                        n_jobs=-1))])"
      ]
    },
    {
      "cell_type": "code",
      "execution_count": null,
      "metadata": {
        "colab": {
          "base_uri": "https://localhost:8080/"
        },
        "id": "Q8e0DnwUY3wR",
        "outputId": "49ab3693-ac8f-426b-8b3b-23308174fae1"
      },
      "outputs": [
        {
          "output_type": "stream",
          "name": "stdout",
          "text": [
            "{'lgbmclassifier__learning_rate': [0.4, 0.5, 0.6], 'lgbmclassifier__max_depth': [3], 'lgbmclassifier__n_estimators': [140, 150, 160], 'lgbmclassifier__random_state': [42]}\n"
          ]
        }
      ],
      "source": [
        "if option == 2: #vérification\n",
        "  print(param_grid_bis)\n",
        "else :\n",
        "  print(param_grid)"
      ]
    },
    {
      "cell_type": "code",
      "source": [
        "id_model"
      ],
      "metadata": {
        "colab": {
          "base_uri": "https://localhost:8080/",
          "height": 35
        },
        "id": "WX_g0V4vpUlG",
        "outputId": "49049442-5a1f-40fe-def8-0fd0c9d7c266"
      },
      "execution_count": null,
      "outputs": [
        {
          "output_type": "execute_result",
          "data": {
            "text/plain": [
              "'lgbmclassifier'"
            ],
            "application/vnd.google.colaboratory.intrinsic+json": {
              "type": "string"
            }
          },
          "metadata": {},
          "execution_count": 27
        }
      ]
    },
    {
      "cell_type": "code",
      "execution_count": null,
      "metadata": {
        "colab": {
          "base_uri": "https://localhost:8080/"
        },
        "id": "OIBYjlzGyCRP",
        "outputId": "b5dfae67-ae50-4786-a105-bda4e30f10b7"
      },
      "outputs": [
        {
          "output_type": "stream",
          "name": "stderr",
          "text": [
            "2023/08/11 15:01:56 INFO mlflow.tracking.fluent: Experiment with name 'Classification_LightGBM' does not exist. Creating a new experiment.\n"
          ]
        },
        {
          "output_type": "stream",
          "name": "stdout",
          "text": [
            "Starting model training...\n",
            "Model training completed in 315.03 seconds.\n"
          ]
        }
      ],
      "source": [
        "import mlflow\n",
        "import mlflow.sklearn\n",
        "import time\n",
        "\n",
        "# Set the experiment name for MLflow\n",
        "experiment_name = 'Classification_'+model.split()[0]\n",
        "\n",
        "# Start the MLflow experiment\n",
        "\n",
        "mlflow.set_experiment(experiment_name)\n",
        "mlflow.start_run()\n",
        "\n",
        "ls_features = X_new_transformed.columns.tolist()\n",
        "ls_features_string = ', '.join(ls_features)\n",
        "mlflow.log_text(ls_features_string, \"features_list.txt\")\n",
        "\n",
        "print(\"Starting model training...\")\n",
        "start_time = time.time()  # Record the start time\n",
        "\n",
        "# Fit the pipeline with GridSearchCV\n",
        "Pipe_0.fit(Xtrain, ytrain)\n",
        "\n",
        "end_time = time.time()  # Record the end time\n",
        "print(\"Model training completed in {:.2f} seconds.\".format(end_time - start_time))\n"
      ]
    },
    {
      "cell_type": "code",
      "execution_count": null,
      "metadata": {
        "id": "l6zJYWyeJzib",
        "colab": {
          "base_uri": "https://localhost:8080/",
          "height": 320
        },
        "outputId": "d9354d30-2259-42cc-e26a-100bf1a6735e"
      },
      "outputs": [
        {
          "output_type": "execute_result",
          "data": {
            "text/plain": [
              "Pipeline(steps=[('columntransformer',\n",
              "                 ColumnTransformer(remainder='passthrough',\n",
              "                                   transformers=[('oneHot',\n",
              "                                                  OneHotEncoder(use_cat_names=True),\n",
              "                                                  ['PROPRIETAIRE',\n",
              "                                                   'NIVEAU_ETUDE',\n",
              "                                                   'NBRE_J_RETARD',\n",
              "                                                   'OCCUPATION']),\n",
              "                                                 ('frequency',\n",
              "                                                  FunctionTransformer(func=<function frequency_encode at 0x7cf5dbed4b80>),\n",
              "                                                  ['SECTEUR_ACTIVITE'])])),\n",
              "                ('smote', SMOTE(random_state=42)),\n",
              "                ('gridsearc...\n",
              "                                          'lgbmclassifier__n_estimators': [140,\n",
              "                                                                           150,\n",
              "                                                                           160],\n",
              "                                          'lgbmclassifier__random_state': [42]},\n",
              "                              refit='score_metier',\n",
              "                              scoring={'accuracy': 'accuracy',\n",
              "                                       'precision': make_scorer(precision_seuil, needs_proba=True),\n",
              "                                       'recall': make_scorer(recall_seuil, needs_proba=True),\n",
              "                                       'roc_auc': make_scorer(roc_auc_score, needs_proba=True),\n",
              "                                       'score_metier': make_scorer(fonction_cout, greater_is_better=False, needs_proba=True)}))])"
            ],
            "text/html": [
              "<style>#sk-container-id-3 {color: black;background-color: white;}#sk-container-id-3 pre{padding: 0;}#sk-container-id-3 div.sk-toggleable {background-color: white;}#sk-container-id-3 label.sk-toggleable__label {cursor: pointer;display: block;width: 100%;margin-bottom: 0;padding: 0.3em;box-sizing: border-box;text-align: center;}#sk-container-id-3 label.sk-toggleable__label-arrow:before {content: \"▸\";float: left;margin-right: 0.25em;color: #696969;}#sk-container-id-3 label.sk-toggleable__label-arrow:hover:before {color: black;}#sk-container-id-3 div.sk-estimator:hover label.sk-toggleable__label-arrow:before {color: black;}#sk-container-id-3 div.sk-toggleable__content {max-height: 0;max-width: 0;overflow: hidden;text-align: left;background-color: #f0f8ff;}#sk-container-id-3 div.sk-toggleable__content pre {margin: 0.2em;color: black;border-radius: 0.25em;background-color: #f0f8ff;}#sk-container-id-3 input.sk-toggleable__control:checked~div.sk-toggleable__content {max-height: 200px;max-width: 100%;overflow: auto;}#sk-container-id-3 input.sk-toggleable__control:checked~label.sk-toggleable__label-arrow:before {content: \"▾\";}#sk-container-id-3 div.sk-estimator input.sk-toggleable__control:checked~label.sk-toggleable__label {background-color: #d4ebff;}#sk-container-id-3 div.sk-label input.sk-toggleable__control:checked~label.sk-toggleable__label {background-color: #d4ebff;}#sk-container-id-3 input.sk-hidden--visually {border: 0;clip: rect(1px 1px 1px 1px);clip: rect(1px, 1px, 1px, 1px);height: 1px;margin: -1px;overflow: hidden;padding: 0;position: absolute;width: 1px;}#sk-container-id-3 div.sk-estimator {font-family: monospace;background-color: #f0f8ff;border: 1px dotted black;border-radius: 0.25em;box-sizing: border-box;margin-bottom: 0.5em;}#sk-container-id-3 div.sk-estimator:hover {background-color: #d4ebff;}#sk-container-id-3 div.sk-parallel-item::after {content: \"\";width: 100%;border-bottom: 1px solid gray;flex-grow: 1;}#sk-container-id-3 div.sk-label:hover label.sk-toggleable__label {background-color: #d4ebff;}#sk-container-id-3 div.sk-serial::before {content: \"\";position: absolute;border-left: 1px solid gray;box-sizing: border-box;top: 0;bottom: 0;left: 50%;z-index: 0;}#sk-container-id-3 div.sk-serial {display: flex;flex-direction: column;align-items: center;background-color: white;padding-right: 0.2em;padding-left: 0.2em;position: relative;}#sk-container-id-3 div.sk-item {position: relative;z-index: 1;}#sk-container-id-3 div.sk-parallel {display: flex;align-items: stretch;justify-content: center;background-color: white;position: relative;}#sk-container-id-3 div.sk-item::before, #sk-container-id-3 div.sk-parallel-item::before {content: \"\";position: absolute;border-left: 1px solid gray;box-sizing: border-box;top: 0;bottom: 0;left: 50%;z-index: -1;}#sk-container-id-3 div.sk-parallel-item {display: flex;flex-direction: column;z-index: 1;position: relative;background-color: white;}#sk-container-id-3 div.sk-parallel-item:first-child::after {align-self: flex-end;width: 50%;}#sk-container-id-3 div.sk-parallel-item:last-child::after {align-self: flex-start;width: 50%;}#sk-container-id-3 div.sk-parallel-item:only-child::after {width: 0;}#sk-container-id-3 div.sk-dashed-wrapped {border: 1px dashed gray;margin: 0 0.4em 0.5em 0.4em;box-sizing: border-box;padding-bottom: 0.4em;background-color: white;}#sk-container-id-3 div.sk-label label {font-family: monospace;font-weight: bold;display: inline-block;line-height: 1.2em;}#sk-container-id-3 div.sk-label-container {text-align: center;}#sk-container-id-3 div.sk-container {/* jupyter's `normalize.less` sets `[hidden] { display: none; }` but bootstrap.min.css set `[hidden] { display: none !important; }` so we also need the `!important` here to be able to override the default hidden behavior on the sphinx rendered scikit-learn.org. See: https://github.com/scikit-learn/scikit-learn/issues/21755 */display: inline-block !important;position: relative;}#sk-container-id-3 div.sk-text-repr-fallback {display: none;}</style><div id=\"sk-container-id-3\" class=\"sk-top-container\"><div class=\"sk-text-repr-fallback\"><pre>Pipeline(steps=[(&#x27;columntransformer&#x27;,\n",
              "                 ColumnTransformer(remainder=&#x27;passthrough&#x27;,\n",
              "                                   transformers=[(&#x27;oneHot&#x27;,\n",
              "                                                  OneHotEncoder(use_cat_names=True),\n",
              "                                                  [&#x27;PROPRIETAIRE&#x27;,\n",
              "                                                   &#x27;NIVEAU_ETUDE&#x27;,\n",
              "                                                   &#x27;NBRE_J_RETARD&#x27;,\n",
              "                                                   &#x27;OCCUPATION&#x27;]),\n",
              "                                                 (&#x27;frequency&#x27;,\n",
              "                                                  FunctionTransformer(func=&lt;function frequency_encode at 0x7cf5dbed4b80&gt;),\n",
              "                                                  [&#x27;SECTEUR_ACTIVITE&#x27;])])),\n",
              "                (&#x27;smote&#x27;, SMOTE(random_state=42)),\n",
              "                (&#x27;gridsearc...\n",
              "                                          &#x27;lgbmclassifier__n_estimators&#x27;: [140,\n",
              "                                                                           150,\n",
              "                                                                           160],\n",
              "                                          &#x27;lgbmclassifier__random_state&#x27;: [42]},\n",
              "                              refit=&#x27;score_metier&#x27;,\n",
              "                              scoring={&#x27;accuracy&#x27;: &#x27;accuracy&#x27;,\n",
              "                                       &#x27;precision&#x27;: make_scorer(precision_seuil, needs_proba=True),\n",
              "                                       &#x27;recall&#x27;: make_scorer(recall_seuil, needs_proba=True),\n",
              "                                       &#x27;roc_auc&#x27;: make_scorer(roc_auc_score, needs_proba=True),\n",
              "                                       &#x27;score_metier&#x27;: make_scorer(fonction_cout, greater_is_better=False, needs_proba=True)}))])</pre><b>In a Jupyter environment, please rerun this cell to show the HTML representation or trust the notebook. <br />On GitHub, the HTML representation is unable to render, please try loading this page with nbviewer.org.</b></div><div class=\"sk-container\" hidden><div class=\"sk-item sk-dashed-wrapped\"><div class=\"sk-label-container\"><div class=\"sk-label sk-toggleable\"><input class=\"sk-toggleable__control sk-hidden--visually\" id=\"sk-estimator-id-9\" type=\"checkbox\" ><label for=\"sk-estimator-id-9\" class=\"sk-toggleable__label sk-toggleable__label-arrow\">Pipeline</label><div class=\"sk-toggleable__content\"><pre>Pipeline(steps=[(&#x27;columntransformer&#x27;,\n",
              "                 ColumnTransformer(remainder=&#x27;passthrough&#x27;,\n",
              "                                   transformers=[(&#x27;oneHot&#x27;,\n",
              "                                                  OneHotEncoder(use_cat_names=True),\n",
              "                                                  [&#x27;PROPRIETAIRE&#x27;,\n",
              "                                                   &#x27;NIVEAU_ETUDE&#x27;,\n",
              "                                                   &#x27;NBRE_J_RETARD&#x27;,\n",
              "                                                   &#x27;OCCUPATION&#x27;]),\n",
              "                                                 (&#x27;frequency&#x27;,\n",
              "                                                  FunctionTransformer(func=&lt;function frequency_encode at 0x7cf5dbed4b80&gt;),\n",
              "                                                  [&#x27;SECTEUR_ACTIVITE&#x27;])])),\n",
              "                (&#x27;smote&#x27;, SMOTE(random_state=42)),\n",
              "                (&#x27;gridsearc...\n",
              "                                          &#x27;lgbmclassifier__n_estimators&#x27;: [140,\n",
              "                                                                           150,\n",
              "                                                                           160],\n",
              "                                          &#x27;lgbmclassifier__random_state&#x27;: [42]},\n",
              "                              refit=&#x27;score_metier&#x27;,\n",
              "                              scoring={&#x27;accuracy&#x27;: &#x27;accuracy&#x27;,\n",
              "                                       &#x27;precision&#x27;: make_scorer(precision_seuil, needs_proba=True),\n",
              "                                       &#x27;recall&#x27;: make_scorer(recall_seuil, needs_proba=True),\n",
              "                                       &#x27;roc_auc&#x27;: make_scorer(roc_auc_score, needs_proba=True),\n",
              "                                       &#x27;score_metier&#x27;: make_scorer(fonction_cout, greater_is_better=False, needs_proba=True)}))])</pre></div></div></div><div class=\"sk-serial\"><div class=\"sk-item sk-dashed-wrapped\"><div class=\"sk-label-container\"><div class=\"sk-label sk-toggleable\"><input class=\"sk-toggleable__control sk-hidden--visually\" id=\"sk-estimator-id-10\" type=\"checkbox\" ><label for=\"sk-estimator-id-10\" class=\"sk-toggleable__label sk-toggleable__label-arrow\">columntransformer: ColumnTransformer</label><div class=\"sk-toggleable__content\"><pre>ColumnTransformer(remainder=&#x27;passthrough&#x27;,\n",
              "                  transformers=[(&#x27;oneHot&#x27;, OneHotEncoder(use_cat_names=True),\n",
              "                                 [&#x27;PROPRIETAIRE&#x27;, &#x27;NIVEAU_ETUDE&#x27;,\n",
              "                                  &#x27;NBRE_J_RETARD&#x27;, &#x27;OCCUPATION&#x27;]),\n",
              "                                (&#x27;frequency&#x27;,\n",
              "                                 FunctionTransformer(func=&lt;function frequency_encode at 0x7cf5dbed4b80&gt;),\n",
              "                                 [&#x27;SECTEUR_ACTIVITE&#x27;])])</pre></div></div></div><div class=\"sk-parallel\"><div class=\"sk-parallel-item\"><div class=\"sk-item\"><div class=\"sk-label-container\"><div class=\"sk-label sk-toggleable\"><input class=\"sk-toggleable__control sk-hidden--visually\" id=\"sk-estimator-id-11\" type=\"checkbox\" ><label for=\"sk-estimator-id-11\" class=\"sk-toggleable__label sk-toggleable__label-arrow\">oneHot</label><div class=\"sk-toggleable__content\"><pre>[&#x27;PROPRIETAIRE&#x27;, &#x27;NIVEAU_ETUDE&#x27;, &#x27;NBRE_J_RETARD&#x27;, &#x27;OCCUPATION&#x27;]</pre></div></div></div><div class=\"sk-serial\"><div class=\"sk-item\"><div class=\"sk-estimator sk-toggleable\"><input class=\"sk-toggleable__control sk-hidden--visually\" id=\"sk-estimator-id-12\" type=\"checkbox\" ><label for=\"sk-estimator-id-12\" class=\"sk-toggleable__label sk-toggleable__label-arrow\">OneHotEncoder</label><div class=\"sk-toggleable__content\"><pre>OneHotEncoder(use_cat_names=True)</pre></div></div></div></div></div></div><div class=\"sk-parallel-item\"><div class=\"sk-item\"><div class=\"sk-label-container\"><div class=\"sk-label sk-toggleable\"><input class=\"sk-toggleable__control sk-hidden--visually\" id=\"sk-estimator-id-13\" type=\"checkbox\" ><label for=\"sk-estimator-id-13\" class=\"sk-toggleable__label sk-toggleable__label-arrow\">frequency</label><div class=\"sk-toggleable__content\"><pre>[&#x27;SECTEUR_ACTIVITE&#x27;]</pre></div></div></div><div class=\"sk-serial\"><div class=\"sk-item\"><div class=\"sk-estimator sk-toggleable\"><input class=\"sk-toggleable__control sk-hidden--visually\" id=\"sk-estimator-id-14\" type=\"checkbox\" ><label for=\"sk-estimator-id-14\" class=\"sk-toggleable__label sk-toggleable__label-arrow\">FunctionTransformer</label><div class=\"sk-toggleable__content\"><pre>FunctionTransformer(func=&lt;function frequency_encode at 0x7cf5dbed4b80&gt;)</pre></div></div></div></div></div></div><div class=\"sk-parallel-item\"><div class=\"sk-item\"><div class=\"sk-label-container\"><div class=\"sk-label sk-toggleable\"><input class=\"sk-toggleable__control sk-hidden--visually\" id=\"sk-estimator-id-15\" type=\"checkbox\" ><label for=\"sk-estimator-id-15\" class=\"sk-toggleable__label sk-toggleable__label-arrow\">remainder</label><div class=\"sk-toggleable__content\"><pre>[&#x27;NBRE_ENFANT&#x27;, &#x27;ANCIENNETE_CREDIT&#x27;, &#x27;CHARGES_ANNUEL&#x27;, &#x27;REVENUS_TOT&#x27;, &#x27;MONTANT_CREDIT&#x27;, &#x27;CC_RATIO_CREDIT&#x27;, &#x27;AGE&#x27;, &#x27;ANCIENNETE_EMPLOI&#x27;, &#x27;SCORE_REGION&#x27;, &#x27;HEURE_APP&#x27;, &#x27;SCORE_2_EXT&#x27;, &#x27;RATIO_ENDETT(%)&#x27;, &#x27;NBRE_CONTRAT_ACTIFS&#x27;, &#x27;POS_PROGRESS_MAX_MIN&#x27;, &#x27;CC_NOMBRE_RETRAIT_MOYEN&#x27;, &#x27;CB_SOMME_DUES_RETARD&#x27;]</pre></div></div></div><div class=\"sk-serial\"><div class=\"sk-item\"><div class=\"sk-estimator sk-toggleable\"><input class=\"sk-toggleable__control sk-hidden--visually\" id=\"sk-estimator-id-16\" type=\"checkbox\" ><label for=\"sk-estimator-id-16\" class=\"sk-toggleable__label sk-toggleable__label-arrow\">passthrough</label><div class=\"sk-toggleable__content\"><pre>passthrough</pre></div></div></div></div></div></div></div></div><div class=\"sk-item\"><div class=\"sk-estimator sk-toggleable\"><input class=\"sk-toggleable__control sk-hidden--visually\" id=\"sk-estimator-id-17\" type=\"checkbox\" ><label for=\"sk-estimator-id-17\" class=\"sk-toggleable__label sk-toggleable__label-arrow\">SMOTE</label><div class=\"sk-toggleable__content\"><pre>SMOTE(random_state=42)</pre></div></div></div><div class=\"sk-item sk-dashed-wrapped\"><div class=\"sk-label-container\"><div class=\"sk-label sk-toggleable\"><input class=\"sk-toggleable__control sk-hidden--visually\" id=\"sk-estimator-id-18\" type=\"checkbox\" ><label for=\"sk-estimator-id-18\" class=\"sk-toggleable__label sk-toggleable__label-arrow\">gridsearchcv: GridSearchCV</label><div class=\"sk-toggleable__content\"><pre>GridSearchCV(cv=10, error_score=&#x27;raise&#x27;,\n",
              "             estimator=Pipeline(steps=[(&#x27;smote&#x27;, SMOTE(random_state=42)),\n",
              "                                       (&#x27;lgbmclassifier&#x27;,\n",
              "                                        LGBMClassifier(metric=&#x27;binary_logloss&#x27;,\n",
              "                                                       objective=&#x27;binary&#x27;))]),\n",
              "             n_jobs=-1,\n",
              "             param_grid={&#x27;lgbmclassifier__learning_rate&#x27;: [0.4, 0.5, 0.6],\n",
              "                         &#x27;lgbmclassifier__max_depth&#x27;: [3],\n",
              "                         &#x27;lgbmclassifier__n_estimators&#x27;: [140, 150, 160],\n",
              "                         &#x27;lgbmclassifier__random_state&#x27;: [42]},\n",
              "             refit=&#x27;score_metier&#x27;,\n",
              "             scoring={&#x27;accuracy&#x27;: &#x27;accuracy&#x27;,\n",
              "                      &#x27;precision&#x27;: make_scorer(precision_seuil, needs_proba=True),\n",
              "                      &#x27;recall&#x27;: make_scorer(recall_seuil, needs_proba=True),\n",
              "                      &#x27;roc_auc&#x27;: make_scorer(roc_auc_score, needs_proba=True),\n",
              "                      &#x27;score_metier&#x27;: make_scorer(fonction_cout, greater_is_better=False, needs_proba=True)})</pre></div></div></div><div class=\"sk-parallel\"><div class=\"sk-parallel-item\"><div class=\"sk-item\"><div class=\"sk-label-container\"><div class=\"sk-label sk-toggleable\"><input class=\"sk-toggleable__control sk-hidden--visually\" id=\"sk-estimator-id-19\" type=\"checkbox\" ><label for=\"sk-estimator-id-19\" class=\"sk-toggleable__label sk-toggleable__label-arrow\">estimator: Pipeline</label><div class=\"sk-toggleable__content\"><pre>Pipeline(steps=[(&#x27;smote&#x27;, SMOTE(random_state=42)),\n",
              "                (&#x27;lgbmclassifier&#x27;,\n",
              "                 LGBMClassifier(metric=&#x27;binary_logloss&#x27;, objective=&#x27;binary&#x27;))])</pre></div></div></div><div class=\"sk-serial\"><div class=\"sk-item\"><div class=\"sk-serial\"><div class=\"sk-item\"><div class=\"sk-estimator sk-toggleable\"><input class=\"sk-toggleable__control sk-hidden--visually\" id=\"sk-estimator-id-20\" type=\"checkbox\" ><label for=\"sk-estimator-id-20\" class=\"sk-toggleable__label sk-toggleable__label-arrow\">SMOTE</label><div class=\"sk-toggleable__content\"><pre>SMOTE(random_state=42)</pre></div></div></div><div class=\"sk-item\"><div class=\"sk-estimator sk-toggleable\"><input class=\"sk-toggleable__control sk-hidden--visually\" id=\"sk-estimator-id-21\" type=\"checkbox\" ><label for=\"sk-estimator-id-21\" class=\"sk-toggleable__label sk-toggleable__label-arrow\">LGBMClassifier</label><div class=\"sk-toggleable__content\"><pre>LGBMClassifier(metric=&#x27;binary_logloss&#x27;, objective=&#x27;binary&#x27;)</pre></div></div></div></div></div></div></div></div></div></div></div></div></div></div>"
            ]
          },
          "metadata": {},
          "execution_count": 29
        }
      ],
      "source": [
        "Pipe_0"
      ]
    },
    {
      "cell_type": "code",
      "execution_count": null,
      "metadata": {
        "id": "BExHh-sHKEQD"
      },
      "outputs": [],
      "source": [
        "#TRACKING\n",
        "if option !=2 :\n",
        "  mlflow.log_params(Pipe_0['grid_search_' + model].best_params_)\n",
        "  best_index = Pipe_0['grid_search_' + model].best_index_\n",
        "  cv_results = Pipe_0['grid_search_' + model].cv_results_\n",
        "  metrics_to_log = {key: value[best_index] for key, value in cv_results.items() if key.startswith('mean_test_')}\n",
        "  metrics_to_log['data_sampling'] = option\n",
        "  metrics_to_log['threshold'] = threshold\n",
        "  mlflow.log_metrics(metrics_to_log)\n",
        "else :\n",
        "  mlflow.log_params(Pipe_0['gridsearchcv'].best_params_)\n",
        "  best_index = Pipe_0['gridsearchcv'].best_index_\n",
        "  cv_results = Pipe_0['gridsearchcv'].cv_results_\n",
        "  metrics_to_log = {key: value[best_index] for key, value in cv_results.items() if key.startswith('mean_test_')}\n",
        "  metrics_to_log['threshold'] = threshold\n",
        "  metrics_to_log['data_sampling'] = option\n",
        "  mlflow.log_metrics(metrics_to_log)"
      ]
    },
    {
      "cell_type": "code",
      "execution_count": null,
      "metadata": {
        "id": "Vkm1c677L9me",
        "colab": {
          "base_uri": "https://localhost:8080/"
        },
        "outputId": "940f2b93-bbad-4387-a3d0-cd36d8105c0a"
      },
      "outputs": [
        {
          "output_type": "execute_result",
          "data": {
            "text/plain": [
              "{'mean_test_accuracy': 0.7216398658960229,\n",
              " 'mean_test_roc_auc': 0.8086049137724578,\n",
              " 'mean_test_recall': 0.7607227269374134,\n",
              " 'mean_test_precision': 0.6821384463839311,\n",
              " 'mean_test_score_metier': -8159.2,\n",
              " 'threshold': 0.4,\n",
              " 'data_sampling': 2}"
            ]
          },
          "metadata": {},
          "execution_count": 31
        }
      ],
      "source": [
        "metrics_to_log"
      ]
    },
    {
      "cell_type": "code",
      "source": [
        "Pipe_0['gridsearchcv'].best_params_"
      ],
      "metadata": {
        "colab": {
          "base_uri": "https://localhost:8080/"
        },
        "id": "I7oODdZWY1mj",
        "outputId": "167fce1d-653b-4788-9d7a-16bcc9c81eb0"
      },
      "execution_count": null,
      "outputs": [
        {
          "output_type": "execute_result",
          "data": {
            "text/plain": [
              "{'lgbmclassifier__learning_rate': 0.4,\n",
              " 'lgbmclassifier__max_depth': 3,\n",
              " 'lgbmclassifier__n_estimators': 140,\n",
              " 'lgbmclassifier__random_state': 42}"
            ]
          },
          "metadata": {},
          "execution_count": 55
        }
      ]
    },
    {
      "cell_type": "code",
      "execution_count": null,
      "metadata": {
        "id": "jrLn2pRW2x5E",
        "colab": {
          "base_uri": "https://localhost:8080/"
        },
        "outputId": "067c372d-667e-4e89-999f-f93c9f00c830"
      },
      "outputs": [
        {
          "output_type": "execute_result",
          "data": {
            "text/plain": [
              "{'mean_fit_time': array([7.0113095 , 5.88599489, 6.26454527, 6.18071826, 6.27383876,\n",
              "        6.11286445, 6.0830332 , 6.30282931, 6.09014561]),\n",
              " 'std_fit_time': array([5.78495469, 4.20466473, 5.1290136 , 5.20345071, 4.69645984,\n",
              "        4.5329028 , 5.15495866, 5.05965615, 4.5498171 ]),\n",
              " 'mean_score_time': array([0.47588923, 0.5605166 , 0.44169619, 0.459378  , 0.45731673,\n",
              "        0.51964605, 0.40169091, 0.48613102, 0.51738913]),\n",
              " 'std_score_time': array([0.1681153 , 0.20266917, 0.0539823 , 0.13841559, 0.12337819,\n",
              "        0.15172584, 0.02548858, 0.14206359, 0.20254706]),\n",
              " 'param_lgbmclassifier__learning_rate': masked_array(data=[0.4, 0.4, 0.4, 0.5, 0.5, 0.5, 0.6, 0.6, 0.6],\n",
              "              mask=[False, False, False, False, False, False, False, False,\n",
              "                    False],\n",
              "        fill_value='?',\n",
              "             dtype=object),\n",
              " 'param_lgbmclassifier__max_depth': masked_array(data=[3, 3, 3, 3, 3, 3, 3, 3, 3],\n",
              "              mask=[False, False, False, False, False, False, False, False,\n",
              "                    False],\n",
              "        fill_value='?',\n",
              "             dtype=object),\n",
              " 'param_lgbmclassifier__n_estimators': masked_array(data=[140, 150, 160, 140, 150, 160, 140, 150, 160],\n",
              "              mask=[False, False, False, False, False, False, False, False,\n",
              "                    False],\n",
              "        fill_value='?',\n",
              "             dtype=object),\n",
              " 'param_lgbmclassifier__random_state': masked_array(data=[42, 42, 42, 42, 42, 42, 42, 42, 42],\n",
              "              mask=[False, False, False, False, False, False, False, False,\n",
              "                    False],\n",
              "        fill_value='?',\n",
              "             dtype=object),\n",
              " 'params': [{'lgbmclassifier__learning_rate': 0.4,\n",
              "   'lgbmclassifier__max_depth': 3,\n",
              "   'lgbmclassifier__n_estimators': 140,\n",
              "   'lgbmclassifier__random_state': 42},\n",
              "  {'lgbmclassifier__learning_rate': 0.4,\n",
              "   'lgbmclassifier__max_depth': 3,\n",
              "   'lgbmclassifier__n_estimators': 150,\n",
              "   'lgbmclassifier__random_state': 42},\n",
              "  {'lgbmclassifier__learning_rate': 0.4,\n",
              "   'lgbmclassifier__max_depth': 3,\n",
              "   'lgbmclassifier__n_estimators': 160,\n",
              "   'lgbmclassifier__random_state': 42},\n",
              "  {'lgbmclassifier__learning_rate': 0.5,\n",
              "   'lgbmclassifier__max_depth': 3,\n",
              "   'lgbmclassifier__n_estimators': 140,\n",
              "   'lgbmclassifier__random_state': 42},\n",
              "  {'lgbmclassifier__learning_rate': 0.5,\n",
              "   'lgbmclassifier__max_depth': 3,\n",
              "   'lgbmclassifier__n_estimators': 150,\n",
              "   'lgbmclassifier__random_state': 42},\n",
              "  {'lgbmclassifier__learning_rate': 0.5,\n",
              "   'lgbmclassifier__max_depth': 3,\n",
              "   'lgbmclassifier__n_estimators': 160,\n",
              "   'lgbmclassifier__random_state': 42},\n",
              "  {'lgbmclassifier__learning_rate': 0.6,\n",
              "   'lgbmclassifier__max_depth': 3,\n",
              "   'lgbmclassifier__n_estimators': 140,\n",
              "   'lgbmclassifier__random_state': 42},\n",
              "  {'lgbmclassifier__learning_rate': 0.6,\n",
              "   'lgbmclassifier__max_depth': 3,\n",
              "   'lgbmclassifier__n_estimators': 150,\n",
              "   'lgbmclassifier__random_state': 42},\n",
              "  {'lgbmclassifier__learning_rate': 0.6,\n",
              "   'lgbmclassifier__max_depth': 3,\n",
              "   'lgbmclassifier__n_estimators': 160,\n",
              "   'lgbmclassifier__random_state': 42}],\n",
              " 'split0_test_accuracy': array([0.64819479, 0.6488665 , 0.65020991, 0.64634761, 0.64651553,\n",
              "        0.64903442, 0.64013434, 0.64097397, 0.6379513 ]),\n",
              " 'split1_test_accuracy': array([0.63442485, 0.63274559, 0.63274559, 0.63375315, 0.63291352,\n",
              "        0.63492863, 0.62720403, 0.62418136, 0.62468514]),\n",
              " 'split2_test_accuracy': array([0.63627204, 0.63476071, 0.63593619, 0.64231738, 0.64450042,\n",
              "        0.64399664, 0.63879093, 0.63761545, 0.63778338]),\n",
              " 'split3_test_accuracy': array([0.64349286, 0.64248531, 0.64248531, 0.64685139, 0.64601175,\n",
              "        0.64819479, 0.64315701, 0.64466835, 0.64534005]),\n",
              " 'split4_test_accuracy': array([0.64024185, 0.63873027, 0.63738663, 0.63923413, 0.64208935,\n",
              "        0.64242526, 0.64427276, 0.64561639, 0.64376889]),\n",
              " 'split5_test_accuracy': array([0.65267047, 0.65199866, 0.65401411, 0.65384615, 0.65199866,\n",
              "        0.6496473 , 0.64880752, 0.64729594, 0.64729594]),\n",
              " 'split6_test_accuracy': array([0.72455492, 0.72791401, 0.72824992, 0.72321129, 0.72321129,\n",
              "        0.72438697, 0.72102788, 0.72186765, 0.72304333]),\n",
              " 'split7_test_accuracy': array([0.87604971, 0.87705744, 0.87840107, 0.87151495, 0.87117904,\n",
              "        0.87185086, 0.87151495, 0.87285858, 0.87185086]),\n",
              " 'split8_test_accuracy': array([0.87840107, 0.88108834, 0.88024857, 0.87789721, 0.87823312,\n",
              "        0.87957676, 0.87722539, 0.87655358, 0.87722539]),\n",
              " 'split9_test_accuracy': array([0.88209607, 0.88209607, 0.88108834, 0.88108834, 0.88041653,\n",
              "        0.8794088 , 0.88176016, 0.88092039, 0.88293584]),\n",
              " 'mean_test_accuracy': array([0.72163987, 0.72177429, 0.72207656, 0.72160616, 0.72170692,\n",
              "        0.72234504, 0.7193895 , 0.71925517, 0.71918801]),\n",
              " 'std_test_accuracy': array([0.10580588, 0.10681728, 0.10652852, 0.10438881, 0.10414422,\n",
              "        0.10395765, 0.1058927 , 0.10605436, 0.10657247]),\n",
              " 'rank_test_accuracy': array([5, 3, 2, 6, 4, 1, 7, 8, 9], dtype=int32),\n",
              " 'split0_test_roc_auc': array([0.7189584 , 0.71927852, 0.71909263, 0.71444574, 0.71483342,\n",
              "        0.71498513, 0.71267235, 0.7124833 , 0.71188593]),\n",
              " 'split1_test_roc_auc': array([0.70975543, 0.70932736, 0.70908338, 0.70813364, 0.7080355 ,\n",
              "        0.70791537, 0.70359842, 0.70275786, 0.70232675]),\n",
              " 'split2_test_roc_auc': array([0.71781667, 0.71813995, 0.71782107, 0.71534902, 0.71511778,\n",
              "        0.71576479, 0.71511925, 0.7141633 , 0.71430745]),\n",
              " 'split3_test_roc_auc': array([0.71508237, 0.71474251, 0.71444382, 0.71238088, 0.71198801,\n",
              "        0.7116803 , 0.70938545, 0.70901492, 0.70800911]),\n",
              " 'split4_test_roc_auc': array([0.71440364, 0.71335925, 0.71334706, 0.71226971, 0.71309679,\n",
              "        0.71296308, 0.71281572, 0.71258306, 0.71235987]),\n",
              " 'split5_test_roc_auc': array([0.72457106, 0.72518702, 0.72515069, 0.72290618, 0.72353366,\n",
              "        0.72287639, 0.71905074, 0.71924763, 0.71904679]),\n",
              " 'split6_test_roc_auc': array([0.80747335, 0.80774822, 0.80682591, 0.80342451, 0.80349706,\n",
              "        0.80368267, 0.80506275, 0.80550698, 0.8050948 ]),\n",
              " 'split7_test_roc_auc': array([0.99280014, 0.99294671, 0.99329999, 0.9916991 , 0.99161887,\n",
              "        0.99157013, 0.99260516, 0.99299071, 0.99294355]),\n",
              " 'split8_test_roc_auc': array([0.99170338, 0.99156347, 0.99208601, 0.99197204, 0.99194846,\n",
              "        0.99234   , 0.99179783, 0.99238942, 0.99230423]),\n",
              " 'split9_test_roc_auc': array([0.9934847 , 0.9933493 , 0.9934847 , 0.9935075 , 0.99342242,\n",
              "        0.9932464 , 0.99355906, 0.99332098, 0.99335156]),\n",
              " 'mean_test_roc_auc': array([0.80860491, 0.80856423, 0.80846353, 0.80660883, 0.8067092 ,\n",
              "        0.80670243, 0.80556667, 0.80544582, 0.805163  ]),\n",
              " 'std_test_roc_auc': array([0.12343703, 0.12346923, 0.12370317, 0.1244443 , 0.12433725,\n",
              "        0.12439004, 0.12552013, 0.12581334, 0.1259747 ]),\n",
              " 'rank_test_roc_auc': array([1, 2, 3, 6, 4, 5, 7, 8, 9], dtype=int32),\n",
              " 'split0_test_recall': array([0.64494458, 0.6459523 , 0.64360094, 0.64024185, 0.63621095,\n",
              "        0.63889822, 0.64494458, 0.64326503, 0.6419214 ]),\n",
              " 'split1_test_recall': array([0.62075915, 0.6187437 , 0.61639234, 0.62210279, 0.62008734,\n",
              "        0.62411824, 0.62143097, 0.6224387 , 0.61941552]),\n",
              " 'split2_test_recall': array([0.63801209, 0.63599731, 0.63901948, 0.64069846, 0.63633311,\n",
              "        0.63969107, 0.63901948, 0.63834788, 0.63767629]),\n",
              " 'split3_test_recall': array([0.64640698, 0.6453996 , 0.64237743, 0.63096038, 0.63028878,\n",
              "        0.6292814 , 0.6373405 , 0.63666891, 0.63834788]),\n",
              " 'split4_test_recall': array([0.6536782 , 0.65502183, 0.65502183, 0.64225731, 0.64158549,\n",
              "        0.6382264 , 0.63587504, 0.6382264 , 0.63486732]),\n",
              " 'split5_test_recall': array([0.64158549, 0.64326503, 0.64225731, 0.63889822, 0.63923413,\n",
              "        0.63755459, 0.63654686, 0.63385959, 0.63150823]),\n",
              " 'split6_test_recall': array([0.7742694 , 0.77393349, 0.7742694 , 0.7705744 , 0.7705744 ,\n",
              "        0.76990259, 0.77091031, 0.77225395, 0.77258986]),\n",
              " 'split7_test_recall': array([0.99630501, 0.99630501, 0.99630501, 0.99563319, 0.99563319,\n",
              "        0.99529728, 0.99697682, 0.99664091, 0.99664091]),\n",
              " 'split8_test_recall': array([0.99462546, 0.99496137, 0.99529728, 0.99328183, 0.99361774,\n",
              "        0.99428955, 0.99529728, 0.99529728, 0.99563319]),\n",
              " 'split9_test_recall': array([0.99664091, 0.9959691 , 0.9959691 , 0.99697682, 0.99697682,\n",
              "        0.99697682, 0.99664091, 0.99664091, 0.99630501]),\n",
              " 'mean_test_recall': array([0.76072273, 0.76055487, 0.76005101, 0.75716252, 0.75605419,\n",
              "        0.75642362, 0.75749827, 0.75736396, 0.75649056]),\n",
              " 'std_test_recall': array([0.15900408, 0.15907136, 0.15956719, 0.16090477, 0.16181426,\n",
              "        0.16152317, 0.16135261, 0.16147554, 0.16218339]),\n",
              " 'rank_test_recall': array([1, 2, 3, 6, 9, 8, 4, 5, 7], dtype=int32),\n",
              " 'split0_test_precision': array([0.6634416 , 0.66585873, 0.66504686, 0.66088766, 0.65924121,\n",
              "        0.66202576, 0.66574202, 0.66423864, 0.66608574]),\n",
              " 'split1_test_precision': array([0.66165414, 0.65926986, 0.65770609, 0.65884027, 0.65834522,\n",
              "        0.65793201, 0.65906662, 0.65849325, 0.65998568]),\n",
              " 'split2_test_precision': array([0.65995137, 0.65947075, 0.66007631, 0.6574776 , 0.65844336,\n",
              "        0.66122874, 0.66376003, 0.66329379, 0.66144201]),\n",
              " 'split3_test_precision': array([0.65992458, 0.66139023, 0.66011042, 0.66068917, 0.66068286,\n",
              "        0.65962689, 0.66063348, 0.6622424 , 0.66121739]),\n",
              " 'split4_test_precision': array([0.66575436, 0.66621114, 0.66712282, 0.6599931 , 0.66227462,\n",
              "        0.66109951, 0.66258313, 0.66109951, 0.66130161]),\n",
              " 'split5_test_precision': array([0.66947073, 0.67287421, 0.67111267, 0.66713434, 0.66983457,\n",
              "        0.66854526, 0.66514567, 0.66772824, 0.66761364]),\n",
              " 'split6_test_precision': array([0.6860119 , 0.68796656, 0.68539994, 0.68600478, 0.68785607,\n",
              "        0.68953069, 0.68      , 0.68422619, 0.68350669]),\n",
              " 'split7_test_precision': array([0.71332371, 0.7146988 , 0.71607919, 0.7192429 , 0.71767554,\n",
              "        0.71725974, 0.71656205, 0.71840194, 0.7159749 ]),\n",
              " 'split8_test_precision': array([0.72449229, 0.72402835, 0.72427279, 0.72564417, 0.72588957,\n",
              "        0.72638037, 0.72980296, 0.73034262, 0.73004926]),\n",
              " 'split9_test_precision': array([0.71735977, 0.71757018, 0.71983491, 0.71968962, 0.71794872,\n",
              "        0.72056324, 0.72596036, 0.72383508, 0.72341463]),\n",
              " 'mean_test_precision': array([0.68213845, 0.68293388, 0.6826762 , 0.68156036, 0.68181917,\n",
              "        0.68241922, 0.68292563, 0.68339017, 0.68305916]),\n",
              " 'std_test_precision': array([0.02491129, 0.0248391 , 0.02562053, 0.02733012, 0.02673808,\n",
              "        0.02698712, 0.02765533, 0.02765275, 0.02719758]),\n",
              " 'rank_test_precision': array([7, 3, 5, 9, 8, 6, 4, 1, 2], dtype=int32),\n",
              " 'split0_test_score_metier': array([-11544., -11505., -11575., -11688., -11809., -11721., -11534.,\n",
              "        -11588., -11618.]),\n",
              " 'split1_test_score_metier': array([-12235., -12302., -12375., -12209., -12268., -12156., -12227.,\n",
              "        -12201., -12280.]),\n",
              " 'split2_test_score_metier': array([-11759., -11818., -11730., -11694., -11813., -11706., -11714.,\n",
              "        -11735., -11762.]),\n",
              " 'split3_test_score_metier': array([-11522., -11544., -11635., -11955., -11974., -12007., -11775.,\n",
              "        -11787., -11744.]),\n",
              " 'split4_test_score_metier': array([-11287., -11247., -11243., -11635., -11644., -11744., -11804.,\n",
              "        -11744., -11838.]),\n",
              " 'split5_test_score_metier': array([-11613., -11551., -11587., -11699., -11678., -11731., -11774.,\n",
              "        -11839., -11906.]),\n",
              " 'split6_test_score_metier': array([-7775., -7775., -7778., -7880., -7871., -7882., -7900., -7841.,\n",
              "        -7835.]),\n",
              " 'split7_test_score_metier': array([-1302., -1294., -1286., -1287., -1296., -1308., -1264., -1263.,\n",
              "        -1277.]),\n",
              " 'split8_test_score_metier': array([-1286., -1279., -1268., -1318., -1307., -1285., -1237., -1234.,\n",
              "        -1226.]),\n",
              " 'split9_test_score_metier': array([-1269., -1287., -1274., -1246., -1256., -1241., -1220., -1232.,\n",
              "        -1244.]),\n",
              " 'mean_test_score_metier': array([-8159.2, -8160.2, -8175.1, -8261.1, -8291.6, -8278.1, -8244.9,\n",
              "        -8246.4, -8273. ]),\n",
              " 'std_test_score_metier': array([4646.85273707, 4648.46780778, 4667.01588705, 4713.41902338,\n",
              "        4735.50532045, 4729.11468353, 4728.69012413, 4732.43168361,\n",
              "        4749.49323613]),\n",
              " 'rank_test_score_metier': array([1, 2, 3, 6, 9, 8, 4, 5, 7], dtype=int32)}"
            ]
          },
          "metadata": {},
          "execution_count": 56
        }
      ],
      "source": [
        "cv_results"
      ]
    },
    {
      "cell_type": "code",
      "execution_count": null,
      "metadata": {
        "id": "wUWR7msz4V_F"
      },
      "outputs": [],
      "source": [
        "if option != 2:\n",
        "  best_model = Pipe_0['grid_search_' + model].best_estimator_\n",
        "else :\n",
        "  best_model = Pipe_0['gridsearchcv'].best_estimator_\n"
      ]
    },
    {
      "cell_type": "code",
      "execution_count": null,
      "metadata": {
        "id": "iuV3dca7qUiX",
        "colab": {
          "base_uri": "https://localhost:8080/",
          "height": 351
        },
        "outputId": "5d08b4e5-d230-4d08-80ff-cfc3a2461b55"
      },
      "outputs": [
        {
          "output_type": "error",
          "ename": "Exception",
          "evalue": "ignored",
          "traceback": [
            "\u001b[0;31m---------------------------------------------------------------------------\u001b[0m",
            "\u001b[0;31mException\u001b[0m                                 Traceback (most recent call last)",
            "\u001b[0;32m<ipython-input-54-99b8175723a3>\u001b[0m in \u001b[0;36m<cell line: 1>\u001b[0;34m()\u001b[0m\n\u001b[1;32m      2\u001b[0m   \u001b[0mmlflow\u001b[0m\u001b[0;34m.\u001b[0m\u001b[0msklearn\u001b[0m\u001b[0;34m.\u001b[0m\u001b[0mlog_model\u001b[0m\u001b[0;34m(\u001b[0m\u001b[0mbest_model\u001b[0m\u001b[0;34m,\u001b[0m \u001b[0;34m'model_classification_credit'\u001b[0m\u001b[0;34m)\u001b[0m\u001b[0;34m\u001b[0m\u001b[0;34m\u001b[0m\u001b[0m\n\u001b[1;32m      3\u001b[0m \u001b[0;32melse\u001b[0m \u001b[0;34m:\u001b[0m\u001b[0;34m\u001b[0m\u001b[0;34m\u001b[0m\u001b[0m\n\u001b[0;32m----> 4\u001b[0;31m   \u001b[0mmlflow\u001b[0m\u001b[0;34m.\u001b[0m\u001b[0msklearn\u001b[0m\u001b[0;34m.\u001b[0m\u001b[0mlog_model\u001b[0m\u001b[0;34m(\u001b[0m\u001b[0mbest_model\u001b[0m\u001b[0;34m[\u001b[0m\u001b[0mid_model\u001b[0m\u001b[0;34m]\u001b[0m\u001b[0;34m,\u001b[0m \u001b[0;34m'model_classification_credit'\u001b[0m\u001b[0;34m)\u001b[0m\u001b[0;34m\u001b[0m\u001b[0;34m\u001b[0m\u001b[0m\n\u001b[0m",
            "\u001b[0;32m/usr/local/lib/python3.10/dist-packages/mlflow/sklearn/__init__.py\u001b[0m in \u001b[0;36mlog_model\u001b[0;34m(sk_model, artifact_path, conda_env, code_paths, serialization_format, registered_model_name, signature, input_example, await_registration_for, pip_requirements, extra_pip_requirements, pyfunc_predict_fn, metadata)\u001b[0m\n\u001b[1;32m    405\u001b[0m \u001b[0;34m\u001b[0m\u001b[0m\n\u001b[1;32m    406\u001b[0m     \"\"\"\n\u001b[0;32m--> 407\u001b[0;31m     return Model.log(\n\u001b[0m\u001b[1;32m    408\u001b[0m         \u001b[0martifact_path\u001b[0m\u001b[0;34m=\u001b[0m\u001b[0martifact_path\u001b[0m\u001b[0;34m,\u001b[0m\u001b[0;34m\u001b[0m\u001b[0;34m\u001b[0m\u001b[0m\n\u001b[1;32m    409\u001b[0m         \u001b[0mflavor\u001b[0m\u001b[0;34m=\u001b[0m\u001b[0mmlflow\u001b[0m\u001b[0;34m.\u001b[0m\u001b[0msklearn\u001b[0m\u001b[0;34m,\u001b[0m\u001b[0;34m\u001b[0m\u001b[0;34m\u001b[0m\u001b[0m\n",
            "\u001b[0;32m/usr/local/lib/python3.10/dist-packages/mlflow/models/model.py\u001b[0m in \u001b[0;36mlog\u001b[0;34m(cls, artifact_path, flavor, registered_model_name, await_registration_for, metadata, **kwargs)\u001b[0m\n\u001b[1;32m    561\u001b[0m         \u001b[0;32mwith\u001b[0m \u001b[0mTempDir\u001b[0m\u001b[0;34m(\u001b[0m\u001b[0;34m)\u001b[0m \u001b[0;32mas\u001b[0m \u001b[0mtmp\u001b[0m\u001b[0;34m:\u001b[0m\u001b[0;34m\u001b[0m\u001b[0;34m\u001b[0m\u001b[0m\n\u001b[1;32m    562\u001b[0m             \u001b[0mlocal_path\u001b[0m \u001b[0;34m=\u001b[0m \u001b[0mtmp\u001b[0m\u001b[0;34m.\u001b[0m\u001b[0mpath\u001b[0m\u001b[0;34m(\u001b[0m\u001b[0;34m\"model\"\u001b[0m\u001b[0;34m)\u001b[0m\u001b[0;34m\u001b[0m\u001b[0;34m\u001b[0m\u001b[0m\n\u001b[0;32m--> 563\u001b[0;31m             \u001b[0mrun_id\u001b[0m \u001b[0;34m=\u001b[0m \u001b[0mmlflow\u001b[0m\u001b[0;34m.\u001b[0m\u001b[0mtracking\u001b[0m\u001b[0;34m.\u001b[0m\u001b[0mfluent\u001b[0m\u001b[0;34m.\u001b[0m\u001b[0m_get_or_start_run\u001b[0m\u001b[0;34m(\u001b[0m\u001b[0;34m)\u001b[0m\u001b[0;34m.\u001b[0m\u001b[0minfo\u001b[0m\u001b[0;34m.\u001b[0m\u001b[0mrun_id\u001b[0m\u001b[0;34m\u001b[0m\u001b[0;34m\u001b[0m\u001b[0m\n\u001b[0m\u001b[1;32m    564\u001b[0m             \u001b[0mmlflow_model\u001b[0m \u001b[0;34m=\u001b[0m \u001b[0mcls\u001b[0m\u001b[0;34m(\u001b[0m\u001b[0martifact_path\u001b[0m\u001b[0;34m=\u001b[0m\u001b[0martifact_path\u001b[0m\u001b[0;34m,\u001b[0m \u001b[0mrun_id\u001b[0m\u001b[0;34m=\u001b[0m\u001b[0mrun_id\u001b[0m\u001b[0;34m,\u001b[0m \u001b[0mmetadata\u001b[0m\u001b[0;34m=\u001b[0m\u001b[0mmetadata\u001b[0m\u001b[0;34m)\u001b[0m\u001b[0;34m\u001b[0m\u001b[0;34m\u001b[0m\u001b[0m\n\u001b[1;32m    565\u001b[0m             \u001b[0mtracking_uri\u001b[0m \u001b[0;34m=\u001b[0m \u001b[0m_resolve_tracking_uri\u001b[0m\u001b[0;34m(\u001b[0m\u001b[0;34m)\u001b[0m\u001b[0;34m\u001b[0m\u001b[0;34m\u001b[0m\u001b[0m\n",
            "\u001b[0;32m/usr/local/lib/python3.10/dist-packages/mlflow/tracking/fluent.py\u001b[0m in \u001b[0;36m_get_or_start_run\u001b[0;34m()\u001b[0m\n\u001b[1;32m   1766\u001b[0m     \u001b[0;32mif\u001b[0m \u001b[0mlen\u001b[0m\u001b[0;34m(\u001b[0m\u001b[0m_active_run_stack\u001b[0m\u001b[0;34m)\u001b[0m \u001b[0;34m>\u001b[0m \u001b[0;36m0\u001b[0m\u001b[0;34m:\u001b[0m\u001b[0;34m\u001b[0m\u001b[0;34m\u001b[0m\u001b[0m\n\u001b[1;32m   1767\u001b[0m         \u001b[0;32mreturn\u001b[0m \u001b[0m_active_run_stack\u001b[0m\u001b[0;34m[\u001b[0m\u001b[0;34m-\u001b[0m\u001b[0;36m1\u001b[0m\u001b[0;34m]\u001b[0m\u001b[0;34m\u001b[0m\u001b[0;34m\u001b[0m\u001b[0m\n\u001b[0;32m-> 1768\u001b[0;31m     \u001b[0;32mreturn\u001b[0m \u001b[0mstart_run\u001b[0m\u001b[0;34m(\u001b[0m\u001b[0;34m)\u001b[0m\u001b[0;34m\u001b[0m\u001b[0;34m\u001b[0m\u001b[0m\n\u001b[0m\u001b[1;32m   1769\u001b[0m \u001b[0;34m\u001b[0m\u001b[0m\n\u001b[1;32m   1770\u001b[0m \u001b[0;34m\u001b[0m\u001b[0m\n",
            "\u001b[0;32m/usr/local/lib/python3.10/dist-packages/mlflow/tracking/fluent.py\u001b[0m in \u001b[0;36mstart_run\u001b[0;34m(run_id, experiment_id, run_name, nested, tags, description)\u001b[0m\n\u001b[1;32m    364\u001b[0m         \u001b[0mresolved_tags\u001b[0m \u001b[0;34m=\u001b[0m \u001b[0mcontext_registry\u001b[0m\u001b[0;34m.\u001b[0m\u001b[0mresolve_tags\u001b[0m\u001b[0;34m(\u001b[0m\u001b[0muser_specified_tags\u001b[0m\u001b[0;34m)\u001b[0m\u001b[0;34m\u001b[0m\u001b[0;34m\u001b[0m\u001b[0m\n\u001b[1;32m    365\u001b[0m \u001b[0;34m\u001b[0m\u001b[0m\n\u001b[0;32m--> 366\u001b[0;31m         active_run_obj = client.create_run(\n\u001b[0m\u001b[1;32m    367\u001b[0m             \u001b[0mexperiment_id\u001b[0m\u001b[0;34m=\u001b[0m\u001b[0mexp_id_for_run\u001b[0m\u001b[0;34m,\u001b[0m \u001b[0mtags\u001b[0m\u001b[0;34m=\u001b[0m\u001b[0mresolved_tags\u001b[0m\u001b[0;34m,\u001b[0m \u001b[0mrun_name\u001b[0m\u001b[0;34m=\u001b[0m\u001b[0mrun_name\u001b[0m\u001b[0;34m\u001b[0m\u001b[0;34m\u001b[0m\u001b[0m\n\u001b[1;32m    368\u001b[0m         )\n",
            "\u001b[0;32m/usr/local/lib/python3.10/dist-packages/mlflow/tracking/client.py\u001b[0m in \u001b[0;36mcreate_run\u001b[0;34m(self, experiment_id, start_time, tags, run_name)\u001b[0m\n\u001b[1;32m    324\u001b[0m             \u001b[0mstatus\u001b[0m\u001b[0;34m:\u001b[0m \u001b[0mRUNNING\u001b[0m\u001b[0;34m\u001b[0m\u001b[0;34m\u001b[0m\u001b[0m\n\u001b[1;32m    325\u001b[0m         \"\"\"\n\u001b[0;32m--> 326\u001b[0;31m         \u001b[0;32mreturn\u001b[0m \u001b[0mself\u001b[0m\u001b[0;34m.\u001b[0m\u001b[0m_tracking_client\u001b[0m\u001b[0;34m.\u001b[0m\u001b[0mcreate_run\u001b[0m\u001b[0;34m(\u001b[0m\u001b[0mexperiment_id\u001b[0m\u001b[0;34m,\u001b[0m \u001b[0mstart_time\u001b[0m\u001b[0;34m,\u001b[0m \u001b[0mtags\u001b[0m\u001b[0;34m,\u001b[0m \u001b[0mrun_name\u001b[0m\u001b[0;34m)\u001b[0m\u001b[0;34m\u001b[0m\u001b[0;34m\u001b[0m\u001b[0m\n\u001b[0m\u001b[1;32m    327\u001b[0m \u001b[0;34m\u001b[0m\u001b[0m\n\u001b[1;32m    328\u001b[0m     def search_experiments(\n",
            "\u001b[0;32m/usr/local/lib/python3.10/dist-packages/mlflow/tracking/_tracking_service/client.py\u001b[0m in \u001b[0;36mcreate_run\u001b[0;34m(self, experiment_id, start_time, tags, run_name)\u001b[0m\n\u001b[1;32m    131\u001b[0m         \u001b[0muser_id\u001b[0m \u001b[0;34m=\u001b[0m \u001b[0mtags\u001b[0m\u001b[0;34m.\u001b[0m\u001b[0mget\u001b[0m\u001b[0;34m(\u001b[0m\u001b[0mMLFLOW_USER\u001b[0m\u001b[0;34m,\u001b[0m \u001b[0;34m\"unknown\"\u001b[0m\u001b[0;34m)\u001b[0m\u001b[0;34m\u001b[0m\u001b[0;34m\u001b[0m\u001b[0m\n\u001b[1;32m    132\u001b[0m \u001b[0;34m\u001b[0m\u001b[0m\n\u001b[0;32m--> 133\u001b[0;31m         return self.store.create_run(\n\u001b[0m\u001b[1;32m    134\u001b[0m             \u001b[0mexperiment_id\u001b[0m\u001b[0;34m=\u001b[0m\u001b[0mexperiment_id\u001b[0m\u001b[0;34m,\u001b[0m\u001b[0;34m\u001b[0m\u001b[0;34m\u001b[0m\u001b[0m\n\u001b[1;32m    135\u001b[0m             \u001b[0muser_id\u001b[0m\u001b[0;34m=\u001b[0m\u001b[0muser_id\u001b[0m\u001b[0;34m,\u001b[0m\u001b[0;34m\u001b[0m\u001b[0;34m\u001b[0m\u001b[0m\n",
            "\u001b[0;32m/usr/local/lib/python3.10/dist-packages/mlflow/store/tracking/file_store.py\u001b[0m in \u001b[0;36mcreate_run\u001b[0;34m(self, experiment_id, user_id, start_time, tags, run_name)\u001b[0m\n\u001b[1;32m    604\u001b[0m         \"\"\"\n\u001b[1;32m    605\u001b[0m         \u001b[0mexperiment_id\u001b[0m \u001b[0;34m=\u001b[0m \u001b[0mFileStore\u001b[0m\u001b[0;34m.\u001b[0m\u001b[0mDEFAULT_EXPERIMENT_ID\u001b[0m \u001b[0;32mif\u001b[0m \u001b[0mexperiment_id\u001b[0m \u001b[0;32mis\u001b[0m \u001b[0;32mNone\u001b[0m \u001b[0;32melse\u001b[0m \u001b[0mexperiment_id\u001b[0m\u001b[0;34m\u001b[0m\u001b[0;34m\u001b[0m\u001b[0m\n\u001b[0;32m--> 606\u001b[0;31m         \u001b[0mexperiment\u001b[0m \u001b[0;34m=\u001b[0m \u001b[0mself\u001b[0m\u001b[0;34m.\u001b[0m\u001b[0mget_experiment\u001b[0m\u001b[0;34m(\u001b[0m\u001b[0mexperiment_id\u001b[0m\u001b[0;34m)\u001b[0m\u001b[0;34m\u001b[0m\u001b[0;34m\u001b[0m\u001b[0m\n\u001b[0m\u001b[1;32m    607\u001b[0m         \u001b[0;32mif\u001b[0m \u001b[0mexperiment\u001b[0m \u001b[0;32mis\u001b[0m \u001b[0;32mNone\u001b[0m\u001b[0;34m:\u001b[0m\u001b[0;34m\u001b[0m\u001b[0;34m\u001b[0m\u001b[0m\n\u001b[1;32m    608\u001b[0m             raise MlflowException(\n",
            "\u001b[0;32m/usr/local/lib/python3.10/dist-packages/mlflow/store/tracking/file_store.py\u001b[0m in \u001b[0;36mget_experiment\u001b[0;34m(self, experiment_id)\u001b[0m\n\u001b[1;32m    418\u001b[0m         \"\"\"\n\u001b[1;32m    419\u001b[0m         \u001b[0mexperiment_id\u001b[0m \u001b[0;34m=\u001b[0m \u001b[0mFileStore\u001b[0m\u001b[0;34m.\u001b[0m\u001b[0mDEFAULT_EXPERIMENT_ID\u001b[0m \u001b[0;32mif\u001b[0m \u001b[0mexperiment_id\u001b[0m \u001b[0;32mis\u001b[0m \u001b[0;32mNone\u001b[0m \u001b[0;32melse\u001b[0m \u001b[0mexperiment_id\u001b[0m\u001b[0;34m\u001b[0m\u001b[0;34m\u001b[0m\u001b[0m\n\u001b[0;32m--> 420\u001b[0;31m         \u001b[0mexperiment\u001b[0m \u001b[0;34m=\u001b[0m \u001b[0mself\u001b[0m\u001b[0;34m.\u001b[0m\u001b[0m_get_experiment\u001b[0m\u001b[0;34m(\u001b[0m\u001b[0mexperiment_id\u001b[0m\u001b[0;34m)\u001b[0m\u001b[0;34m\u001b[0m\u001b[0;34m\u001b[0m\u001b[0m\n\u001b[0m\u001b[1;32m    421\u001b[0m         \u001b[0;32mif\u001b[0m \u001b[0mexperiment\u001b[0m \u001b[0;32mis\u001b[0m \u001b[0;32mNone\u001b[0m\u001b[0;34m:\u001b[0m\u001b[0;34m\u001b[0m\u001b[0;34m\u001b[0m\u001b[0m\n\u001b[1;32m    422\u001b[0m             raise MlflowException(\n",
            "\u001b[0;32m/usr/local/lib/python3.10/dist-packages/mlflow/store/tracking/file_store.py\u001b[0m in \u001b[0;36m_get_experiment\u001b[0;34m(self, experiment_id, view_type)\u001b[0m\n\u001b[1;32m    387\u001b[0m \u001b[0;34m\u001b[0m\u001b[0m\n\u001b[1;32m    388\u001b[0m     \u001b[0;32mdef\u001b[0m \u001b[0m_get_experiment\u001b[0m\u001b[0;34m(\u001b[0m\u001b[0mself\u001b[0m\u001b[0;34m,\u001b[0m \u001b[0mexperiment_id\u001b[0m\u001b[0;34m,\u001b[0m \u001b[0mview_type\u001b[0m\u001b[0;34m=\u001b[0m\u001b[0mViewType\u001b[0m\u001b[0;34m.\u001b[0m\u001b[0mALL\u001b[0m\u001b[0;34m)\u001b[0m\u001b[0;34m:\u001b[0m\u001b[0;34m\u001b[0m\u001b[0;34m\u001b[0m\u001b[0m\n\u001b[0;32m--> 389\u001b[0;31m         \u001b[0mself\u001b[0m\u001b[0;34m.\u001b[0m\u001b[0m_check_root_dir\u001b[0m\u001b[0;34m(\u001b[0m\u001b[0;34m)\u001b[0m\u001b[0;34m\u001b[0m\u001b[0;34m\u001b[0m\u001b[0m\n\u001b[0m\u001b[1;32m    390\u001b[0m         \u001b[0m_validate_experiment_id\u001b[0m\u001b[0;34m(\u001b[0m\u001b[0mexperiment_id\u001b[0m\u001b[0;34m)\u001b[0m\u001b[0;34m\u001b[0m\u001b[0;34m\u001b[0m\u001b[0m\n\u001b[1;32m    391\u001b[0m         \u001b[0mexperiment_dir\u001b[0m \u001b[0;34m=\u001b[0m \u001b[0mself\u001b[0m\u001b[0;34m.\u001b[0m\u001b[0m_get_experiment_path\u001b[0m\u001b[0;34m(\u001b[0m\u001b[0mexperiment_id\u001b[0m\u001b[0;34m,\u001b[0m \u001b[0mview_type\u001b[0m\u001b[0;34m)\u001b[0m\u001b[0;34m\u001b[0m\u001b[0;34m\u001b[0m\u001b[0m\n",
            "\u001b[0;32m/usr/local/lib/python3.10/dist-packages/mlflow/store/tracking/file_store.py\u001b[0m in \u001b[0;36m_check_root_dir\u001b[0;34m(self)\u001b[0m\n\u001b[1;32m    191\u001b[0m         \"\"\"\n\u001b[1;32m    192\u001b[0m         \u001b[0;32mif\u001b[0m \u001b[0;32mnot\u001b[0m \u001b[0mexists\u001b[0m\u001b[0;34m(\u001b[0m\u001b[0mself\u001b[0m\u001b[0;34m.\u001b[0m\u001b[0mroot_directory\u001b[0m\u001b[0;34m)\u001b[0m\u001b[0;34m:\u001b[0m\u001b[0;34m\u001b[0m\u001b[0;34m\u001b[0m\u001b[0m\n\u001b[0;32m--> 193\u001b[0;31m             \u001b[0;32mraise\u001b[0m \u001b[0mException\u001b[0m\u001b[0;34m(\u001b[0m\u001b[0;34m\"'%s' does not exist.\"\u001b[0m \u001b[0;34m%\u001b[0m \u001b[0mself\u001b[0m\u001b[0;34m.\u001b[0m\u001b[0mroot_directory\u001b[0m\u001b[0;34m)\u001b[0m\u001b[0;34m\u001b[0m\u001b[0;34m\u001b[0m\u001b[0m\n\u001b[0m\u001b[1;32m    194\u001b[0m         \u001b[0;32mif\u001b[0m \u001b[0;32mnot\u001b[0m \u001b[0mis_directory\u001b[0m\u001b[0;34m(\u001b[0m\u001b[0mself\u001b[0m\u001b[0;34m.\u001b[0m\u001b[0mroot_directory\u001b[0m\u001b[0;34m)\u001b[0m\u001b[0;34m:\u001b[0m\u001b[0;34m\u001b[0m\u001b[0;34m\u001b[0m\u001b[0m\n\u001b[1;32m    195\u001b[0m             \u001b[0;32mraise\u001b[0m \u001b[0mException\u001b[0m\u001b[0;34m(\u001b[0m\u001b[0;34m\"'%s' is not a directory.\"\u001b[0m \u001b[0;34m%\u001b[0m \u001b[0mself\u001b[0m\u001b[0;34m.\u001b[0m\u001b[0mroot_directory\u001b[0m\u001b[0;34m)\u001b[0m\u001b[0;34m\u001b[0m\u001b[0;34m\u001b[0m\u001b[0m\n",
            "\u001b[0;31mException\u001b[0m: '/content/mlruns' does not exist."
          ]
        }
      ],
      "source": [
        "if option !=2:\n",
        "  mlflow.sklearn.log_model(best_model, 'model_classification_credit')\n",
        "else :\n",
        "  mlflow.sklearn.log_model(best_model[id_model], 'model_classification_credit')"
      ]
    },
    {
      "cell_type": "markdown",
      "metadata": {
        "id": "EjDAjciTqrRQ"
      },
      "source": [
        "\n",
        "OU\n",
        "```\n",
        "if option != 2:\n",
        "  best_model = Pipe_0['grid_search_' + model].best_estimator_\n",
        "else :\n",
        "  best_model = Pipe_0['gridsearchcv'].best_estimator_\n",
        "\n",
        "model_path = \"/content/P7_NC/best_model.pkl\"\n",
        "joblib.dump(best_model, model_path)\n",
        "\n",
        "mlflow.log_artifact(model_path, artifact_path=\"my_model\")\n",
        "```\n",
        "\n"
      ]
    },
    {
      "cell_type": "markdown",
      "metadata": {
        "id": "V_rAViA9YVgF"
      },
      "source": [
        "# <a name=\"C4\"> 4. Score sur le jeu test </a>"
      ]
    },
    {
      "cell_type": "markdown",
      "metadata": {
        "id": "DbUPo79_fjj7"
      },
      "source": [
        "## <a name=\"C41\"> 4.1 Matrice de confusion et rapport de classification <a>"
      ]
    },
    {
      "cell_type": "code",
      "execution_count": null,
      "metadata": {
        "id": "JfMcQxZPpxiS"
      },
      "outputs": [],
      "source": [
        "y_pred_proba = Pipe_0.predict_proba(Xtest)\n",
        "y_pred = ((y_pred_proba[:,1] >= threshold).astype(int)).astype(str)"
      ]
    },
    {
      "cell_type": "code",
      "execution_count": null,
      "metadata": {
        "id": "e9aKw28I5uN9",
        "colab": {
          "base_uri": "https://localhost:8080/",
          "height": 412
        },
        "outputId": "81530301-4db3-444d-fd8a-715dd4400d07"
      },
      "outputs": [
        {
          "output_type": "display_data",
          "data": {
            "text/plain": [
              "<Figure size 600x400 with 2 Axes>"
            ],
            "image/png": "[encoded data removed]"
          },
          "metadata": {}
        }
      ],
      "source": [
        "# Assuming 'ytest' is the true target labels and 'y_pred' are the predicted labels\n",
        "cf = confusion_matrix(ytest, y_pred)\n",
        "df_cm = pd.DataFrame(cf, index = [label for label in ['Sans risque', 'Risqué']],\n",
        "                  columns = [i for i in \"01\"])\n",
        "\n",
        "\n",
        "def format_confusion_matrix(value):\n",
        "    return str(int(np.round(value)))\n",
        "df_annot = df_cm.applymap(format_confusion_matrix)\n",
        "\n",
        "plt.figure(figsize = (6,4))\n",
        "sns.heatmap(df_cm, cmap='coolwarm', annot=df_annot, fmt='', linewidth=1)\n",
        "plt.title('Matrice de confusion \\n modèle '+str(option)+'_'+model.split()[0])\n",
        "plt.savefig('/content/P7_NC/CF_Option'+str(option)+'_'+model.split()[0]+'_itération'+str(it)+'.png',  bbox_inches = 'tight')\n",
        "mlflow.log_artifact('/content/P7_NC/CF_Option'+str(option)+'_'+model.split()[0]+'_itération'+str(it)+'.png')\n"
      ]
    },
    {
      "cell_type": "code",
      "execution_count": null,
      "metadata": {
        "id": "pFFqnv5D6Bx0",
        "colab": {
          "base_uri": "https://localhost:8080/"
        },
        "outputId": "bde2098b-f8fd-4aa1-a3e1-f3c33f19a460"
      },
      "outputs": [
        {
          "output_type": "stream",
          "name": "stdout",
          "text": [
            "Classification Report:\n",
            "              precision    recall  f1-score   support\n",
            "\n",
            "           0       0.74      0.66      0.70      7444\n",
            "           1       0.56      0.65      0.60      4962\n",
            "\n",
            "    accuracy                           0.66     12406\n",
            "   macro avg       0.65      0.66      0.65     12406\n",
            "weighted avg       0.67      0.66      0.66     12406\n",
            "\n"
          ]
        }
      ],
      "source": [
        "class_report = metrics.classification_report(ytest, y_pred)\n",
        "\n",
        "print(\"Classification Report:\")\n",
        "print(class_report)\n",
        "mlflow.log_text(class_report, \"classification_report.txt\")\n",
        "mlflow.log_metrics({'score_metier' : fonction_cout(ytest, y_pred_proba[:,1])})"
      ]
    },
    {
      "cell_type": "markdown",
      "metadata": {
        "id": "nXeizqiQfwnN"
      },
      "source": [
        "## <a name=\"C42\"> 4.2 Courbe ROC <a>"
      ]
    },
    {
      "cell_type": "code",
      "execution_count": null,
      "metadata": {
        "id": "FOt6syWg5nBR",
        "colab": {
          "base_uri": "https://localhost:8080/"
        },
        "outputId": "e23ad9d8-e6b1-47e7-de23-745535e29ab1"
      },
      "outputs": [
        {
          "output_type": "execute_result",
          "data": {
            "text/plain": [
              "array([0.15689385, 0.56452551, 0.22772297, ..., 0.25937893, 0.70219927,\n",
              "       0.33875314])"
            ]
          },
          "metadata": {},
          "execution_count": 38
        }
      ],
      "source": [
        "y_pred_proba[:, 1] #Pour chaque individus testés, la probabilités d'appartenir à la classe 1"
      ]
    },
    {
      "cell_type": "code",
      "execution_count": null,
      "metadata": {
        "id": "Wil9C-XTeWsg",
        "colab": {
          "base_uri": "https://localhost:8080/",
          "height": 586
        },
        "outputId": "067d2a93-def6-420a-f011-8bd2c5de417f"
      },
      "outputs": [
        {
          "output_type": "display_data",
          "data": {
            "text/plain": [
              "<Figure size 800x600 with 1 Axes>"
            ],
            "image/png": "[encoded data removed]"
          },
          "metadata": {}
        }
      ],
      "source": [
        "# Calcul de la  ROC curve\n",
        "fpr, tpr, thresholds = metrics.roc_curve(ytest,y_pred_proba[:, 1], pos_label = '1')\n",
        "\n",
        "# AUC\n",
        "auc = metrics.roc_auc_score(ytest, y_pred_proba[:, 1])\n",
        "mlflow.log_metrics({'AUC' : auc})\n",
        "\n",
        "#ROC CURVE\n",
        "fig, ax = plt.subplots(figsize=(8, 6))\n",
        "sns.lineplot(x=fpr, y=tpr, lw=2, label=f'ROC Curve (AUC = {auc:.2f})')\n",
        "sns.lineplot(x=[0, 1], y=[0, 1], color='gray', linestyle='--')\n",
        "ax.set_xlabel('False Positive Rate (FPR)')\n",
        "ax.set_ylabel('True Positive Rate (TPR)')\n",
        "plt.title('Receiver Operating Characteristic (ROC) Curve \\n modèle '+str(option)+'_'+model.split()[0])\n",
        "plt.legend(loc='lower right')\n",
        "plt.savefig('/content/P7_NC/P7_NC_ROC_CURVE'+str(option)+'_'+model.split()[0]+'.png')\n",
        "mlflow.log_artifact('/content/P7_NC/P7_NC_ROC_CURVE'+str(option)+'_'+model.split()[0]+'.png')"
      ]
    },
    {
      "cell_type": "code",
      "execution_count": null,
      "metadata": {
        "id": "3p844b4XqJ7n"
      },
      "outputs": [],
      "source": [
        "mlflow.log_artifact('/content/P7_NC/P7_NC_ROC_CURVE'+str(option)+'_'+model.split()[0]+'.png')"
      ]
    },
    {
      "cell_type": "markdown",
      "metadata": {
        "id": "arB_d8Vcmtvv"
      },
      "source": [
        "la courbe ROC semble désigné un seuil optimal de classification à 0.42."
      ]
    },
    {
      "cell_type": "markdown",
      "metadata": {
        "id": "b-X7SMD2PhbM"
      },
      "source": [
        "Dans notre cas les faux positif pour la classe 0 coûtent cher. Les prêts qu'on accorde alors qu'ils ne seront pas remboursé. On veut que la précision de la classe 1 soit la plus élevé possible."
      ]
    },
    {
      "cell_type": "markdown",
      "metadata": {
        "id": "ocnB5PyPgQAA"
      },
      "source": [
        "Dans le cas du sous-échantillonage (option 1) : j'aimerais vérifier la performance du modèle validé sur les individus mis de côté. (Tous TARGET 0)"
      ]
    },
    {
      "cell_type": "code",
      "execution_count": null,
      "metadata": {
        "id": "2WzuoR8ce6ny",
        "colab": {
          "base_uri": "https://localhost:8080/",
          "height": 429
        },
        "outputId": "08b055e9-ec28-4ef8-f274-2d3c18332bd5"
      },
      "outputs": [
        {
          "output_type": "stream",
          "name": "stdout",
          "text": [
            "True\n"
          ]
        },
        {
          "output_type": "display_data",
          "data": {
            "text/plain": [
              "<Figure size 600x400 with 2 Axes>"
            ],
            "image/png": "[encoded data removed]"
          },
          "metadata": {}
        }
      ],
      "source": [
        "if (option == 1) | (option ==2):\n",
        "  ind_restant = df.index.difference(ind_tot)\n",
        "  #Vérification\n",
        "  print(len(ind_restant) +len(ind_tot) == len(df))\n",
        "  y_pred_proba_opt1 = Pipe_0.predict_proba(df.loc[ind_restant])\n",
        "  y_pred_opt1 = ((y_pred_proba_opt1[:,1] >= threshold).astype(int)).astype(str)\n",
        "  # Matrice de confusion\n",
        "  ytest_opt1 = y_['TARGET'].loc[ind_restant]\n",
        "  cf = confusion_matrix(ytest_opt1, y_pred_opt1)\n",
        "  df_cm = pd.DataFrame(cf, index = [label for label in ['Sans risque', 'Risqué']],\n",
        "                  columns = [i for i in \"01\"])\n",
        "  df_annot = df_cm.applymap(format_confusion_matrix)\n",
        "  plt.figure(figsize = (6,4))\n",
        "  sns.heatmap(df_cm, cmap='coolwarm', annot=df_annot, fmt='', linewidth=1)\n",
        "  plt.title('Matrice de confusion \\n modèle '+str(option)+'_'+model.split()[0]+',dataset restant')\n",
        "  plt.savefig('/content/P7_NC/CF_Option'+str(option)+'_'+model.split()[0]+'_itération'+str(it)+'data_restant.png',  bbox_inches = 'tight')\n",
        "  mlflow.log_artifact('/content/P7_NC/CF_Option'+str(option)+'_'+model.split()[0]+'_itération'+str(it)+'data_restant.png')"
      ]
    },
    {
      "cell_type": "code",
      "execution_count": null,
      "metadata": {
        "id": "GR8KsUKJe_T-",
        "colab": {
          "base_uri": "https://localhost:8080/"
        },
        "outputId": "d2d3b2f5-91b7-4ab3-cfd8-f5e60060cf8f"
      },
      "outputs": [
        {
          "output_type": "stream",
          "name": "stdout",
          "text": [
            "Classification Report:\n",
            "              precision    recall  f1-score   support\n",
            "\n",
            "           0       1.00      0.66      0.80    245212\n",
            "           1       0.00      0.00      0.00         0\n",
            "\n",
            "    accuracy                           0.66    245212\n",
            "   macro avg       0.50      0.33      0.40    245212\n",
            "weighted avg       1.00      0.66      0.80    245212\n",
            "\n"
          ]
        }
      ],
      "source": [
        "if (option == 1) | (option ==2):\n",
        "  class_report = metrics.classification_report(ytest_opt1, y_pred_opt1)\n",
        "  print(\"Classification Report:\")\n",
        "  print(class_report)\n",
        "  fonction_cout(ytest_opt1, y_pred_proba_opt1[:,1])\n",
        "  mlflow.log_text(class_report, \"classification_report_dataset_restant.txt\")\n",
        "  mlflow.log_metrics({'score_metier_dataset_restant' : fonction_cout(ytest, y_pred_proba[:,1])})"
      ]
    },
    {
      "cell_type": "markdown",
      "metadata": {
        "id": "BTPwkhq0o46I"
      },
      "source": [
        "# <a name=\"C5\"> 5. Feature importance </a>"
      ]
    },
    {
      "cell_type": "code",
      "execution_count": null,
      "metadata": {
        "id": "7imTK1WR_2nQ"
      },
      "outputs": [],
      "source": [
        "import shap"
      ]
    },
    {
      "cell_type": "code",
      "execution_count": null,
      "metadata": {
        "id": "tYh_8sCF_Hv4"
      },
      "outputs": [],
      "source": [
        "models_dict[model][3]\n",
        "if models_dict[model][3] == 'coeff':\n",
        "  if option !=2:\n",
        "    weight_feat = Pipe_0['grid_search_' + model].best_estimator_.coef_\n",
        "    weight_feat\n",
        "  else :\n",
        "    best_estimator = Pipe_0['gridsearchcv'].best_estimator_\n",
        "    weight_feat = best_estimator[id_model].coef_\n",
        "    weight_feat\n",
        "  new_col = X_new_transformed.columns\n",
        "  feat_imp = pd.DataFrame(columns =new_col,\n",
        "                        data = weight_feat)\n",
        "  feat_imp.index = [model.split()[0]+'_option'+str(option)]\n",
        "  feat_imp\n",
        "  fig, ax = plt.subplots(figsize = (10,8))\n",
        "  sns.set()\n",
        "  sns.barplot(data = feat_imp, orient= 'h')\n",
        "  ax.set_xlabel('\\u03b8 (vecteur poids)')  # Unicode representation for theta symbol\n",
        "  ax.set_ylabel('Variables')\n",
        "  plt.title('Étude de feature importance pour le modèle: \\n'+'Option'+str(option)+'_'+model.split()[0]+'_itération'+str(it) )\n",
        "  plt.tight_layout()  # Adjust the layout to prevent label overlapping\n",
        "  plt.savefig('/content/P7_NC/Feat_Option'+str(option)+'_'+model.split()[0]+'_itération'+str(it)+'.png', bbox_inches = 'tight')\n",
        "  mlflow.log_artifact('/content/P7_NC/Feat_Option'+str(option)+'_'+model.split()[0]+'_itération'+str(it)+'.png')"
      ]
    },
    {
      "cell_type": "code",
      "execution_count": null,
      "metadata": {
        "id": "3HBruqAU_NHW",
        "colab": {
          "base_uri": "https://localhost:8080/",
          "height": 594
        },
        "outputId": "c2425b35-abaf-48d1-a6c9-15a09a774a94"
      },
      "outputs": [
        {
          "output_type": "display_data",
          "data": {
            "text/plain": [
              "<Figure size 800x550 with 2 Axes>"
            ],
            "image/png": "[encoded data removed]"
          },
          "metadata": {}
        }
      ],
      "source": [
        "if models_dict[model][3] == 'shap':\n",
        "  Xtest_transformed = preprocessor.transform(Xtest)\n",
        "  if models_dict[model][4] == 'tree':\n",
        "    if option == 2:\n",
        "      explainer = shap.TreeExplainer(best_model[id_model])\n",
        "    else :\n",
        "      explainer = shap.TreeExplainer(best_model)\n",
        "    shap_values = explainer(Xtest_transformed)\n",
        "    shap.summary_plot(shap_values[:, :, 1],  max_display=10, show = False)\n",
        "    plt.title('Analyse de feature importance \\n modèle '+model)\n",
        "    plt.savefig('/content/P7_NC/Feat_Option'+str(option)+'_'+model.split()[0]+'_itération'+str(it)+'.png', bbox_inches = 'tight')\n",
        "\n",
        "  else :\n",
        "    explainer = shap.Explainer(best_model)\n",
        "    shap_values = explainer.shap_values(Xtest_transformed)\n",
        "    shap.plots.bar(shap_values[1], max_display=10, show = False)\n",
        "    plt.title('Analyse de feature importance \\n modèle '+model)\n",
        "    plt.savefig('/content/P7_NC/Feat_Option'+str(option)+'_'+model.split()[0]+'_itération'+str(it)+'.png', bbox_inches='tight')\n",
        "\n",
        "\n",
        "mlflow.log_artifact('/content/P7_NC/Feat_Option'+str(option)+'_'+model.split()[0]+'_itération'+str(it)+'.png')\n"
      ]
    },
    {
      "cell_type": "code",
      "source": [
        "if models_dict[model][3] == 'shap':\n",
        "  Xtest_transformed = preprocessor.transform(Xtest)\n",
        "  if models_dict[model][4] == 'tree':\n",
        "    if option == 2:\n",
        "      explainer = shap.TreeExplainer(best_model[id_model])\n",
        "    else :\n",
        "      explainer = shap.TreeExplainer(best_model)\n",
        "    shap_values = explainer(Xtest_transformed)\n",
        "    shap.plots.bar(shap_values[:, :, 1],  max_display=34, show = False)\n",
        "    plt.title('Analyse de feature importance \\n modèle '+model)\n",
        "    plt.savefig('/content/P7_NC/Feat_Option'+str(option)+'_'+model.split()[0]+'_itération'+str(it)+'_bar.png', bbox_inches = 'tight')\n",
        "\n",
        "  else :\n",
        "    explainer = shap.Explainer(best_model)\n",
        "    shap_values = explainer.shap_values(Xtest_transformed)\n",
        "    shap.plots.bar(shap_values[1], max_display=10, show = False)\n",
        "    plt.title('Analyse de feature importance \\n modèle '+model)\n",
        "    plt.savefig('/content/P7_NC/Feat_Option'+str(option)+'_'+model.split()[0]+'_itération'+str(it)+'_bar.png', bbox_inches='tight')\n",
        "\n",
        "\n",
        "mlflow.log_artifact('/content/P7_NC/Feat_Option'+str(option)+'_'+model.split()[0]+'_itération'+str(it)+'_bar.png')"
      ],
      "metadata": {
        "id": "stOLFA0az5bN",
        "colab": {
          "base_uri": "https://localhost:8080/",
          "height": 1000
        },
        "outputId": "26a79c6d-5c64-45d5-8fe0-967f2a6093ba"
      },
      "execution_count": null,
      "outputs": [
        {
          "output_type": "display_data",
          "data": {
            "text/plain": [
              "<Figure size 800x1700 with 1 Axes>"
            ],
            "image/png": "[encoded data removed]"
          },
          "metadata": {}
        }
      ]
    },
    {
      "cell_type": "markdown",
      "metadata": {
        "id": "5vatOUG_IPfE"
      },
      "source": [
        "**Itération 1** :\n",
        "\n",
        "Je choisie d'éliminer les features : REMB_ANNUEL, Je garde le one-hot encoding sur le NAME_INCOME_TYPE mais je supprimerait les features inutile : 'working', 'commercial associate'.\n",
        "\n",
        "\n",
        "---\n",
        "\n",
        "**Itération 2** :\n",
        "*   Pour la logistic regression : les features les plus pertinentes sont les RATIO_ENDETT(%), NOMBRE_CONTRAT_ACTIFS, CC NOMBRE RETRAIT MOYENCB_SOMMES_DUES_RETARD, CHARGES_ANNUELLES, CC_RATIO_CREDIT.\n",
        "\n",
        "À envisager : la suppression des features : Working, Commercial Associate.\n",
        "HEURE_APP, NBRE_ENFANT, GENRE.\n",
        "\n",
        "\n"
      ]
    },
    {
      "cell_type": "code",
      "execution_count": null,
      "metadata": {
        "id": "r7yUTqTLIhkB"
      },
      "outputs": [],
      "source": [
        "mlflow.end_run()"
      ]
    },
    {
      "cell_type": "markdown",
      "metadata": {
        "id": "MgblHDsFpWnW"
      },
      "source": [
        "# <a name=\"C6\"> 6. Traitement pour MLFlow ui  </a>"
      ]
    },
    {
      "cell_type": "markdown",
      "metadata": {
        "id": "h_hvZ7scQ8Fq"
      },
      "source": [
        " - ## Téléchargement du meilleur modèle : LightGBM"
      ]
    },
    {
      "cell_type": "code",
      "execution_count": null,
      "metadata": {
        "id": "UZjUfqmRYhD9"
      },
      "outputs": [],
      "source": [
        "import joblib\n",
        "\n",
        "if option !=2 :\n",
        "  joblib.dump(best_model, 'LightGBM_bestmodel.pkl')\n",
        "else :\n",
        "  joblib.dump(best_model[id_model], 'LightGBM_bestmodel.pkl')\n",
        "\n"
      ]
    },
    {
      "cell_type": "markdown",
      "metadata": {
        "id": "gauWCmS-pF1g"
      },
      "source": [
        "## Modifier les fichiers meta.yaml (chemin des artifacts à modifier)"
      ]
    },
    {
      "cell_type": "code",
      "execution_count": null,
      "metadata": {
        "id": "bRt3VpfFpR91"
      },
      "outputs": [],
      "source": [
        "import os\n",
        "import yaml\n",
        "import shutil\n",
        "\n",
        "\n",
        "# Mon chemin en local\n",
        "local_folder_path = \"/Users/JoycyRobert/Documents/JUPYTER/OPC/PROJET_7/P7/\"\n",
        "\n",
        "# Le chemin du dossier mlruns sur google colab\n",
        "mlruns_path_on_drive = \"/content/mlruns\"\n",
        "\n",
        "# Modification des chemins au sein des fichiers meta.yaml\n",
        "for root, dirs, files in os.walk(mlruns_path_on_drive):\n",
        "    for file in files:\n",
        "        if file == \"meta.yaml\":\n",
        "            meta_yaml_path = os.path.join(root, file)\n",
        "            with open(meta_yaml_path, \"r\") as f:\n",
        "                meta_yaml_content = yaml.safe_load(f)\n",
        "\n",
        "            # Update 'artifact_location' if present\n",
        "            if 'artifact_location' in meta_yaml_content:\n",
        "                artifact_location = meta_yaml_content['artifact_location']\n",
        "                # Extract the partial path from the artifact_location\n",
        "                partial_path = artifact_location.split(\"/content/\")[-1]\n",
        "                # Combine with the local_folder_path to get the new artifact_location\n",
        "                new_artifact_location = os.path.join(local_folder_path, partial_path)\n",
        "                meta_yaml_content['artifact_location'] = new_artifact_location\n",
        "\n",
        "            # Update 'artifact_uri' if present\n",
        "            if 'artifact_uri' in meta_yaml_content:\n",
        "                artifact_uri = meta_yaml_content['artifact_uri']\n",
        "                # Extract the partial path from the artifact_uri\n",
        "                partial_path = artifact_uri.split(\"/content/\")[-1]\n",
        "                # Combine with the local_folder_path to get the new artifact_uri\n",
        "                new_artifact_uri = os.path.join(local_folder_path, partial_path)\n",
        "                meta_yaml_content['artifact_uri'] = new_artifact_uri\n",
        "\n",
        "            with open(meta_yaml_path, \"w\") as f:\n",
        "                yaml.dump(meta_yaml_content, f)\n"
      ]
    },
    {
      "cell_type": "markdown",
      "metadata": {
        "id": "Kj74Q3CXoklO"
      },
      "source": [
        "## Téléchargement du dossier"
      ]
    },
    {
      "cell_type": "code",
      "execution_count": null,
      "metadata": {
        "colab": {
          "base_uri": "https://localhost:8080/",
          "height": 37
        },
        "id": "sFw5ESyYz_KF",
        "outputId": "cd88168e-6501-4cd9-f5ae-1dd8780abf07"
      },
      "outputs": [
        {
          "output_type": "display_data",
          "data": {
            "text/plain": [
              "<IPython.core.display.Javascript object>"
            ],
            "application/javascript": [
              "\n",
              "    async function download(id, filename, size) {\n",
              "      if (!google.colab.kernel.accessAllowed) {\n",
              "        return;\n",
              "      }\n",
              "      const div = document.createElement('div');\n",
              "      const label = document.createElement('label');\n",
              "      label.textContent = `Downloading \"${filename}\": `;\n",
              "      div.appendChild(label);\n",
              "      const progress = document.createElement('progress');\n",
              "      progress.max = size;\n",
              "      div.appendChild(progress);\n",
              "      document.body.appendChild(div);\n",
              "\n",
              "      const buffers = [];\n",
              "      let downloaded = 0;\n",
              "\n",
              "      const channel = await google.colab.kernel.comms.open(id);\n",
              "      // Send a message to notify the kernel that we're ready.\n",
              "      channel.send({})\n",
              "\n",
              "      for await (const message of channel.messages) {\n",
              "        // Send a message to notify the kernel that we're ready.\n",
              "        channel.send({})\n",
              "        if (message.buffers) {\n",
              "          for (const buffer of message.buffers) {\n",
              "            buffers.push(buffer);\n",
              "            downloaded += buffer.byteLength;\n",
              "            progress.value = downloaded;\n",
              "          }\n",
              "        }\n",
              "      }\n",
              "      const blob = new Blob(buffers, {type: 'application/binary'});\n",
              "      const a = document.createElement('a');\n",
              "      a.href = window.URL.createObjectURL(blob);\n",
              "      a.download = filename;\n",
              "      div.appendChild(a);\n",
              "      a.click();\n",
              "      div.remove();\n",
              "    }\n",
              "  "
            ]
          },
          "metadata": {}
        },
        {
          "output_type": "display_data",
          "data": {
            "text/plain": [
              "<IPython.core.display.Javascript object>"
            ],
            "application/javascript": [
              "download(\"download_2fce560e-a717-4258-b6d6-536a8170af34\", \"mlruns.zip\", 396705)"
            ]
          },
          "metadata": {}
        }
      ],
      "source": [
        "import shutil\n",
        "\n",
        "# Replace 'folder_name' with the name of the folder you want to zip\n",
        "folder_name = 'mlruns'\n",
        "\n",
        "# Zip the folder\n",
        "shutil.make_archive(folder_name, 'zip', folder_name)\n",
        "\n",
        "# Download the zipped folder\n",
        "from google.colab import files\n",
        "files.download(f'{folder_name}.zip')"
      ]
    },
    {
      "cell_type": "markdown",
      "metadata": {
        "id": "4X6RDkg0om89"
      },
      "source": [
        "## Suppression du dossier mlruns"
      ]
    },
    {
      "cell_type": "code",
      "execution_count": null,
      "metadata": {
        "colab": {
          "base_uri": "https://localhost:8080/"
        },
        "id": "XHDEb_TLU5Mu",
        "outputId": "bb48dbd0-2a0d-4f01-9cb6-aa0b7f001f20"
      },
      "outputs": [
        {
          "output_type": "stream",
          "name": "stdout",
          "text": [
            "/content\n"
          ]
        }
      ],
      "source": [
        "import shutil\n",
        "import os\n",
        "print(os.getcwd())\n",
        "# Specify the path to the 'mlruns' directory\n",
        "mlruns_directory = './mlruns'\n",
        "\n",
        "# Delete the 'mlruns' directory and its contents\n",
        "shutil.rmtree(mlruns_directory, ignore_errors=True)\n",
        "\n",
        "#os.rmdir('/content/mlruns')"
      ]
    }
  ],
  "metadata": {
    "colab": {
      "collapsed_sections": [
        "0ARWyPSdW7qO",
        "6BsOmVS7EoCh",
        "zz6RO8m1KijP",
        "V_rAViA9YVgF",
        "DbUPo79_fjj7",
        "MgblHDsFpWnW",
        "gauWCmS-pF1g",
        "Kj74Q3CXoklO",
        "4X6RDkg0om89"
      ],
      "provenance": [],
      "authorship_tag": "ABX9TyOb8eoFz7mo1zAQH9Q4nVnq",
      "include_colab_link": true
    },
    "kernelspec": {
      "display_name": "Python 3",
      "name": "python3"
    },
    "language_info": {
      "name": "python"
    }
  },
  "nbformat": 4,
  "nbformat_minor": 0
}